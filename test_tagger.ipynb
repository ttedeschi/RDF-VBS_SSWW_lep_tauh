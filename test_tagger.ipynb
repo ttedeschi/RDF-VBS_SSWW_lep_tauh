{
 "cells": [
  {
   "cell_type": "code",
   "execution_count": 1,
   "id": "f4e5e9b3-e823-401c-8c2a-1f9c55fceb88",
   "metadata": {},
   "outputs": [
    {
     "name": "stderr",
     "output_type": "stream",
     "text": [
      "Error in <TExMap::Add>: key 139685251483648 is not unique\n",
      "Error in <TExMap::Add>: key 139685252000272 is not unique\n",
      "TClassTable::Add:0: RuntimeWarning: class timespec already in TClassTable\n",
      "TClassTable::Add:0: RuntimeWarning: class reverse_iterator<__gnu_cxx::__normal_iterator<TString*,vector<TString> > > already in TClassTable\n",
      "TClassTable::Add:0: RuntimeWarning: class reverse_iterator<__gnu_cxx::__normal_iterator<int*,vector<int> > > already in TClassTable\n",
      "TClassTable::Add:0: RuntimeWarning: class reverse_iterator<__gnu_cxx::__normal_iterator<string*,vector<string> > > already in TClassTable\n",
      "TClassTable::Add:0: RuntimeWarning: class __gnu_cxx::__normal_iterator<char*,string> already in TClassTable\n",
      "TClassTable::Add:0: RuntimeWarning: class __gnu_cxx::__normal_iterator<const char*,string> already in TClassTable\n",
      "TClassTable::Add:0: RuntimeWarning: class __gnu_cxx::__normal_iterator<TString*,vector<TString> > already in TClassTable\n",
      "TClassTable::Add:0: RuntimeWarning: class __gnu_cxx::__normal_iterator<const TString*,vector<TString> > already in TClassTable\n",
      "TClassTable::Add:0: RuntimeWarning: class __gnu_cxx::__normal_iterator<const int*,vector<int> > already in TClassTable\n",
      "TClassTable::Add:0: RuntimeWarning: class __gnu_cxx::__normal_iterator<int*,vector<int> > already in TClassTable\n",
      "TClassTable::Add:0: RuntimeWarning: class __gnu_cxx::__normal_iterator<const string*,vector<string> > already in TClassTable\n",
      "TClassTable::Add:0: RuntimeWarning: class __gnu_cxx::__normal_iterator<string*,vector<string> > already in TClassTable\n",
      "TClassTable::Add:0: RuntimeWarning: class TVirtualIsAProxy already in TClassTable\n",
      "TClassTable::Add:0: RuntimeWarning: class TIsAProxy already in TClassTable\n",
      "TClassTable::Add:0: RuntimeWarning: class TStorage already in TClassTable\n",
      "TClassTable::Add:0: RuntimeWarning: class TObject already in TClassTable\n",
      "TClassTable::Add:0: RuntimeWarning: class TIterator already in TClassTable\n",
      "TClassTable::Add:0: RuntimeWarning: class TSubString already in TClassTable\n",
      "TClassTable::Add:0: RuntimeWarning: class TString already in TClassTable\n",
      "TClassTable::Add:0: RuntimeWarning: class TVirtualMutex already in TClassTable\n",
      "TClassTable::Add:0: RuntimeWarning: class TLockGuard already in TClassTable\n",
      "TClassTable::Add:0: RuntimeWarning: class ROOT::TVirtualRWMutex already in TClassTable\n",
      "TClassTable::Add:0: RuntimeWarning: class ROOT::TReadLockGuard already in TClassTable\n",
      "TClassTable::Add:0: RuntimeWarning: class ROOT::TWriteLockGuard already in TClassTable\n",
      "TClassTable::Add:0: RuntimeWarning: class TCollection already in TClassTable\n",
      "TClassTable::Add:0: RuntimeWarning: class TIter already in TClassTable\n",
      "TClassTable::Add:0: RuntimeWarning: class TSeqCollection already in TClassTable\n",
      "TClassTable::Add:0: RuntimeWarning: class TList already in TClassTable\n",
      "TClassTable::Add:0: RuntimeWarning: class TListIter already in TClassTable\n",
      "TClassTable::Add:0: RuntimeWarning: class SetWindowAttributes_t already in TClassTable\n",
      "TClassTable::Add:0: RuntimeWarning: class WindowAttributes_t already in TClassTable\n",
      "TClassTable::Add:0: RuntimeWarning: class Event_t already in TClassTable\n",
      "TClassTable::Add:0: RuntimeWarning: class GCValues_t already in TClassTable\n",
      "TClassTable::Add:0: RuntimeWarning: class ColorStruct_t already in TClassTable\n",
      "TClassTable::Add:0: RuntimeWarning: class PictureAttributes_t already in TClassTable\n",
      "TClassTable::Add:0: RuntimeWarning: class Segment_t already in TClassTable\n",
      "TClassTable::Add:0: RuntimeWarning: class Point_t already in TClassTable\n",
      "TClassTable::Add:0: RuntimeWarning: class Rectangle_t already in TClassTable\n",
      "TClassTable::Add:0: RuntimeWarning: class TNamed already in TClassTable\n",
      "TClassTable::Add:0: RuntimeWarning: class TDictionary already in TClassTable\n",
      "TClassTable::Add:0: RuntimeWarning: class TDataType already in TClassTable\n",
      "TClassTable::Add:0: RuntimeWarning: class TInterpreter already in TClassTable\n",
      "TClassTable::Add:0: RuntimeWarning: class TQObject already in TClassTable\n",
      "TClassTable::Add:0: RuntimeWarning: class TQObjSender already in TClassTable\n",
      "TClassTable::Add:0: RuntimeWarning: class TApplicationImp already in TClassTable\n",
      "TClassTable::Add:0: RuntimeWarning: class TApplication already in TClassTable\n",
      "TClassTable::Add:0: RuntimeWarning: class TAtt3D already in TClassTable\n",
      "TClassTable::Add:0: RuntimeWarning: class TAttAxis already in TClassTable\n",
      "TClassTable::Add:0: RuntimeWarning: class TAttBBox2D already in TClassTable\n",
      "TClassTable::Add:0: RuntimeWarning: class TAttBBox already in TClassTable\n",
      "TClassTable::Add:0: RuntimeWarning: class TAttFill already in TClassTable\n",
      "TClassTable::Add:0: RuntimeWarning: class TAttLine already in TClassTable\n",
      "TClassTable::Add:0: RuntimeWarning: class TAttMarker already in TClassTable\n",
      "TClassTable::Add:0: RuntimeWarning: class TAttPad already in TClassTable\n",
      "TClassTable::Add:0: RuntimeWarning: class TAttText already in TClassTable\n",
      "TClassTable::Add:0: RuntimeWarning: class TBase64 already in TClassTable\n",
      "TClassTable::Add:0: RuntimeWarning: class TStopwatch already in TClassTable\n",
      "TClassTable::Add:0: RuntimeWarning: class TBenchmark already in TClassTable\n",
      "TClassTable::Add:0: RuntimeWarning: class TBuffer3D already in TClassTable\n",
      "TClassTable::Add:0: RuntimeWarning: class TObjArray already in TClassTable\n",
      "TClassTable::Add:0: RuntimeWarning: class TObjArrayIter already in TClassTable\n",
      "TClassTable::Add:0: RuntimeWarning: class TClass already in TClassTable\n",
      "TClassTable::Add:0: RuntimeWarning: class TBuffer already in TClassTable\n",
      "TClassTable::Add:0: RuntimeWarning: class TColor already in TClassTable\n",
      "TClassTable::Add:0: RuntimeWarning: class TColorGradient already in TClassTable\n",
      "TClassTable::Add:0: RuntimeWarning: class TLinearGradient already in TClassTable\n",
      "TClassTable::Add:0: RuntimeWarning: class TRadialGradient already in TClassTable\n",
      "TClassTable::Add:0: RuntimeWarning: class TDatime already in TClassTable\n",
      "TClassTable::Add:0: RuntimeWarning: class TUUID already in TClassTable\n",
      "TClassTable::Add:0: RuntimeWarning: class TDirectory already in TClassTable\n",
      "TClassTable::Add:0: RuntimeWarning: class TEnvRec already in TClassTable\n",
      "TClassTable::Add:0: RuntimeWarning: class TEnv already in TClassTable\n",
      "TClassTable::Add:0: RuntimeWarning: class TExec already in TClassTable\n",
      "TClassTable::Add:0: RuntimeWarning: class TFileCollection already in TClassTable\n",
      "TClassTable::Add:0: RuntimeWarning: class TUrl already in TClassTable\n",
      "TClassTable::Add:0: RuntimeWarning: class TMD5 already in TClassTable\n",
      "TClassTable::Add:0: RuntimeWarning: class TFileInfo already in TClassTable\n",
      "TClassTable::Add:0: RuntimeWarning: class TFileInfoMeta already in TClassTable\n",
      "TClassTable::Add:0: RuntimeWarning: class TFolder already in TClassTable\n",
      "TClassTable::Add:0: RuntimeWarning: class TInetAddress already in TClassTable\n",
      "TClassTable::Add:0: RuntimeWarning: class TMacro already in TClassTable\n",
      "TClassTable::Add:0: RuntimeWarning: class TMemberInspector already in TClassTable\n",
      "TClassTable::Add:0: RuntimeWarning: class TMessageHandler already in TClassTable\n",
      "TClassTable::Add:0: RuntimeWarning: class TNotifyLinkBase already in TClassTable\n",
      "TClassTable::Add:0: RuntimeWarning: class TObjString already in TClassTable\n",
      "TClassTable::Add:0: RuntimeWarning: class TROOT already in TClassTable\n",
      "TClassTable::Add:0: RuntimeWarning: class TParameter<bool> already in TClassTable\n",
      "TClassTable::Add:0: RuntimeWarning: class TParameter<Long64_t> already in TClassTable\n",
      "TClassTable::Add:0: RuntimeWarning: class TParameter<long> already in TClassTable\n",
      "TClassTable::Add:0: RuntimeWarning: class TParameter<int> already in TClassTable\n",
      "TClassTable::Add:0: RuntimeWarning: class TParameter<double> already in TClassTable\n",
      "TClassTable::Add:0: RuntimeWarning: class TParameter<float> already in TClassTable\n",
      "TClassTable::Add:0: RuntimeWarning: class TMethodCall already in TClassTable\n",
      "TClassTable::Add:0: RuntimeWarning: class TPluginHandler already in TClassTable\n",
      "TClassTable::Add:0: RuntimeWarning: class TPluginManager already in TClassTable\n",
      "TClassTable::Add:0: RuntimeWarning: class TPoint already in TClassTable\n",
      "TClassTable::Add:0: RuntimeWarning: class TArray already in TClassTable\n",
      "TClassTable::Add:0: RuntimeWarning: class TArrayI already in TClassTable\n",
      "TClassTable::Add:0: RuntimeWarning: class TPRegexp already in TClassTable\n",
      "TClassTable::Add:0: RuntimeWarning: class TPMERegexp already in TClassTable\n",
      "TClassTable::Add:0: RuntimeWarning: class TStringToken already in TClassTable\n",
      "TClassTable::Add:0: RuntimeWarning: class TProcessID already in TClassTable\n",
      "TClassTable::Add:0: RuntimeWarning: class TProcessUUID already in TClassTable\n",
      "TClassTable::Add:0: RuntimeWarning: class TQClass already in TClassTable\n",
      "TClassTable::Add:0: RuntimeWarning: class TQCommand already in TClassTable\n",
      "TClassTable::Add:0: RuntimeWarning: class TQUndoManager already in TClassTable\n",
      "TClassTable::Add:0: RuntimeWarning: class TQConnection already in TClassTable\n",
      "TClassTable::Add:0: RuntimeWarning: class TSysEvtHandler already in TClassTable\n",
      "TClassTable::Add:0: RuntimeWarning: class TFileHandler already in TClassTable\n",
      "TClassTable::Add:0: RuntimeWarning: class TSignalHandler already in TClassTable\n",
      "TClassTable::Add:0: RuntimeWarning: class TStdExceptionHandler already in TClassTable\n",
      "TClassTable::Add:0: RuntimeWarning: class TTime already in TClassTable\n",
      "TClassTable::Add:0: RuntimeWarning: class TTimer already in TClassTable\n",
      "TClassTable::Add:0: RuntimeWarning: class FileStat_t already in TClassTable\n",
      "TClassTable::Add:0: RuntimeWarning: class UserGroup_t already in TClassTable\n",
      "TClassTable::Add:0: RuntimeWarning: class SysInfo_t already in TClassTable\n",
      "TClassTable::Add:0: RuntimeWarning: class CpuInfo_t already in TClassTable\n",
      "TClassTable::Add:0: RuntimeWarning: class MemInfo_t already in TClassTable\n",
      "TClassTable::Add:0: RuntimeWarning: class ProcInfo_t already in TClassTable\n",
      "TClassTable::Add:0: RuntimeWarning: class RedirectHandle_t already in TClassTable\n",
      "TClassTable::Add:0: RuntimeWarning: class TProcessEventTimer already in TClassTable\n",
      "TClassTable::Add:0: RuntimeWarning: class TSystem already in TClassTable\n",
      "TClassTable::Add:0: RuntimeWarning: class TRedirectOutputGuard already in TClassTable\n",
      "TClassTable::Add:0: RuntimeWarning: class TRefCnt already in TClassTable\n",
      "TClassTable::Add:0: RuntimeWarning: class TRef already in TClassTable\n",
      "TClassTable::Add:0: RuntimeWarning: class TRegexp already in TClassTable\n",
      "TClassTable::Add:0: RuntimeWarning: class TRemoteObject already in TClassTable\n",
      "TClassTable::Add:0: RuntimeWarning: class TRootIOCtor already in TClassTable\n",
      "TClassTable::Add:0: RuntimeWarning: class TStringLong already in TClassTable\n",
      "TClassTable::Add:0: RuntimeWarning: class TStyle already in TClassTable\n",
      "TClassTable::Add:0: RuntimeWarning: class TSystemFile already in TClassTable\n",
      "TClassTable::Add:0: RuntimeWarning: class TSystemDirectory already in TClassTable\n",
      "TClassTable::Add:0: RuntimeWarning: class TTask already in TClassTable\n",
      "TClassTable::Add:0: RuntimeWarning: class TTimeStamp already in TClassTable\n",
      "TClassTable::Add:0: RuntimeWarning: class TUri already in TClassTable\n",
      "TClassTable::Add:0: RuntimeWarning: class TVirtualAuth already in TClassTable\n",
      "TClassTable::Add:0: RuntimeWarning: class TVirtualFFT already in TClassTable\n",
      "TClassTable::Add:0: RuntimeWarning: class TVirtualGLPainter already in TClassTable\n",
      "TClassTable::Add:0: RuntimeWarning: class TVirtualGLManip already in TClassTable\n",
      "TClassTable::Add:0: RuntimeWarning: class TGLManager already in TClassTable\n",
      "TClassTable::Add:0: RuntimeWarning: class TGLPaintDevice already in TClassTable\n",
      "TClassTable::Add:0: RuntimeWarning: class THashTable already in TClassTable\n",
      "TClassTable::Add:0: RuntimeWarning: class THashTableIter already in TClassTable\n",
      "TClassTable::Add:0: RuntimeWarning: class TMap already in TClassTable\n",
      "TClassTable::Add:0: RuntimeWarning: class TPair already in TClassTable\n",
      "TClassTable::Add:0: RuntimeWarning: class TMapIter already in TClassTable\n",
      "TClassTable::Add:0: RuntimeWarning: class TVirtualMonitoringWriter already in TClassTable\n",
      "TClassTable::Add:0: RuntimeWarning: class TVirtualMonitoringReader already in TClassTable\n",
      "TClassTable::Add:0: RuntimeWarning: class TVirtualPadEditor already in TClassTable\n",
      "TClassTable::Add:0: RuntimeWarning: class TVirtualPad already in TClassTable\n",
      "TClassTable::Add:0: RuntimeWarning: class TVirtualPadPainter already in TClassTable\n",
      "TClassTable::Add:0: RuntimeWarning: class TVirtualPerfStats already in TClassTable\n",
      "TClassTable::Add:0: RuntimeWarning: class TVirtualPS already in TClassTable\n",
      "TClassTable::Add:0: RuntimeWarning: class TVirtualTableInterface already in TClassTable\n",
      "TClassTable::Add:0: RuntimeWarning: class TVirtualViewer3D already in TClassTable\n",
      "TClassTable::Add:0: RuntimeWarning: class TVirtualX already in TClassTable\n",
      "TClassTable::Add:0: RuntimeWarning: class TArrayC already in TClassTable\n",
      "TClassTable::Add:0: RuntimeWarning: class TArrayD already in TClassTable\n",
      "TClassTable::Add:0: RuntimeWarning: class TArrayF already in TClassTable\n",
      "TClassTable::Add:0: RuntimeWarning: class TArrayL64 already in TClassTable\n",
      "TClassTable::Add:0: RuntimeWarning: class TArrayL already in TClassTable\n",
      "TClassTable::Add:0: RuntimeWarning: class TArrayS already in TClassTable\n",
      "TClassTable::Add:0: RuntimeWarning: class TBits already in TClassTable\n",
      "TClassTable::Add:0: RuntimeWarning: class TBits::TReference already in TClassTable\n",
      "TClassTable::Add:0: RuntimeWarning: class TBtree already in TClassTable\n",
      "TClassTable::Add:0: RuntimeWarning: class TBtreeIter already in TClassTable\n",
      "TClassTable::Add:0: RuntimeWarning: class TClassTable already in TClassTable\n",
      "TClassTable::Add:0: RuntimeWarning: class TClonesArray already in TClassTable\n",
      "TClassTable::Add:0: RuntimeWarning: class TExMap already in TClassTable\n",
      "TClassTable::Add:0: RuntimeWarning: class TExMapIter already in TClassTable\n",
      "TClassTable::Add:0: RuntimeWarning: class THashList already in TClassTable\n",
      "TClassTable::Add:0: RuntimeWarning: class TObjectTable already in TClassTable\n",
      "TClassTable::Add:0: RuntimeWarning: class TOrdCollection already in TClassTable\n",
      "TClassTable::Add:0: RuntimeWarning: class TOrdCollectionIter already in TClassTable\n",
      "TClassTable::Add:0: RuntimeWarning: class TRefArray already in TClassTable\n",
      "TClassTable::Add:0: RuntimeWarning: class TRefArrayIter already in TClassTable\n",
      "TClassTable::Add:0: RuntimeWarning: class TRefTable already in TClassTable\n",
      "TClassTable::Add:0: RuntimeWarning: class TSortedList already in TClassTable\n",
      "TClassTable::Add:0: RuntimeWarning: class TClassRef already in TClassTable\n",
      "TClassTable::Add:0: RuntimeWarning: class TVirtualCollectionProxy already in TClassTable\n",
      "TClassTable::Add:0: RuntimeWarning: class TUnixSystem already in TClassTable\n",
      "TClassTable::Add:0: RuntimeWarning: class TBrowserImp already in TClassTable\n",
      "TClassTable::Add:0: RuntimeWarning: class TBrowser already in TClassTable\n",
      "TClassTable::Add:0: RuntimeWarning: class TCanvasImp already in TClassTable\n",
      "TClassTable::Add:0: RuntimeWarning: class TClassMenuItem already in TClassTable\n",
      "TClassTable::Add:0: RuntimeWarning: class TContextMenuImp already in TClassTable\n",
      "TClassTable::Add:0: RuntimeWarning: class TContextMenu already in TClassTable\n",
      "TClassTable::Add:0: RuntimeWarning: class TControlBarImp already in TClassTable\n",
      "TClassTable::Add:0: RuntimeWarning: class TGuiFactory already in TClassTable\n",
      "TClassTable::Add:0: RuntimeWarning: class TInspectorImp already in TClassTable\n",
      "TClassTable::Add:0: RuntimeWarning: class TObjectSpy already in TClassTable\n",
      "TClassTable::Add:0: RuntimeWarning: class TObjectRefSpy already in TClassTable\n",
      "TClassTable::Add:0: RuntimeWarning: class TFunction already in TClassTable\n",
      "TClassTable::Add:0: RuntimeWarning: class TMethod already in TClassTable\n",
      "TClassTable::Add:0: RuntimeWarning: class TToggle already in TClassTable\n",
      "TClassTable::Add:0: RuntimeWarning: class TToggleGroup already in TClassTable\n",
      "TClassTable::Add:0: RuntimeWarning: class TBaseClass already in TClassTable\n",
      "TClassTable::Add:0: RuntimeWarning: class TClassGenerator already in TClassTable\n",
      "TClassTable::Add:0: RuntimeWarning: class TClassStreamer already in TClassTable\n",
      "TClassTable::Add:0: RuntimeWarning: class TDataMember already in TClassTable\n",
      "TClassTable::Add:0: RuntimeWarning: class TOptionListItem already in TClassTable\n",
      "TClassTable::Add:0: RuntimeWarning: class TDictAttributeMap already in TClassTable\n",
      "TClassTable::Add:0: RuntimeWarning: class TGlobal already in TClassTable\n",
      "TClassTable::Add:0: RuntimeWarning: class TEnum already in TClassTable\n",
      "TClassTable::Add:0: RuntimeWarning: class TEnumConstant already in TClassTable\n",
      "TClassTable::Add:0: RuntimeWarning: class TFileMergeInfo already in TClassTable\n",
      "TClassTable::Add:0: RuntimeWarning: class TFunctionTemplate already in TClassTable\n",
      "TClassTable::Add:0: RuntimeWarning: class TListOfDataMembers already in TClassTable\n",
      "TClassTable::Add:0: RuntimeWarning: class TListOfEnums already in TClassTable\n",
      "TClassTable::Add:0: RuntimeWarning: class TListOfEnumsWithLock already in TClassTable\n",
      "TClassTable::Add:0: RuntimeWarning: class TListOfEnumsWithLockIter already in TClassTable\n",
      "TClassTable::Add:0: RuntimeWarning: class TListOfFunctions already in TClassTable\n",
      "TClassTable::Add:0: RuntimeWarning: class TListOfFunctionsIter already in TClassTable\n",
      "TClassTable::Add:0: RuntimeWarning: class TListOfFunctionTemplates already in TClassTable\n",
      "TClassTable::Add:0: RuntimeWarning: class TMemberStreamer already in TClassTable\n",
      "TClassTable::Add:0: RuntimeWarning: class TMethodArg already in TClassTable\n",
      "TClassTable::Add:0: RuntimeWarning: class TProtoClass already in TClassTable\n",
      "TClassTable::Add:0: RuntimeWarning: class TProtoClass::TProtoRealData already in TClassTable\n",
      "TClassTable::Add:0: RuntimeWarning: class TRealData already in TClassTable\n",
      "TClassTable::Add:0: RuntimeWarning: class ROOT::TSchemaRule already in TClassTable\n",
      "TClassTable::Add:0: RuntimeWarning: class ROOT::TSchemaRule::TSources already in TClassTable\n",
      "TClassTable::Add:0: RuntimeWarning: class ROOT::Detail::TSchemaRuleSet already in TClassTable\n",
      "TClassTable::Add:0: RuntimeWarning: class ROOT::Detail::TStatusBitsChecker already in TClassTable\n",
      "TClassTable::Add:0: RuntimeWarning: class TStreamerElement already in TClassTable\n",
      "TClassTable::Add:0: RuntimeWarning: class TStreamerBase already in TClassTable\n",
      "TClassTable::Add:0: RuntimeWarning: class TStreamerBasicPointer already in TClassTable\n",
      "TClassTable::Add:0: RuntimeWarning: class TStreamerLoop already in TClassTable\n",
      "TClassTable::Add:0: RuntimeWarning: class TStreamerBasicType already in TClassTable\n",
      "TClassTable::Add:0: RuntimeWarning: class TStreamerObject already in TClassTable\n",
      "TClassTable::Add:0: RuntimeWarning: class TStreamerObjectAny already in TClassTable\n",
      "TClassTable::Add:0: RuntimeWarning: class TStreamerObjectPointer already in TClassTable\n",
      "TClassTable::Add:0: RuntimeWarning: class TStreamerObjectAnyPointer already in TClassTable\n",
      "TClassTable::Add:0: RuntimeWarning: class TStreamerString already in TClassTable\n",
      "TClassTable::Add:0: RuntimeWarning: class TStreamerSTL already in TClassTable\n",
      "TClassTable::Add:0: RuntimeWarning: class TStreamerSTLstring already in TClassTable\n",
      "TClassTable::Add:0: RuntimeWarning: class TStreamerArtificial already in TClassTable\n",
      "TClassTable::Add:0: RuntimeWarning: class TVirtualStreamerInfo already in TClassTable\n",
      "TClassTable::Add:0: RuntimeWarning: class TVirtualArray already in TClassTable\n",
      "TClassTable::Add:0: RuntimeWarning: class TVirtualObject already in TClassTable\n"
     ]
    },
    {
     "name": "stdout",
     "output_type": "stream",
     "text": [
      "Welcome to JupyROOT 6.25/01\n"
     ]
    },
    {
     "name": "stderr",
     "output_type": "stream",
     "text": [
      "In file included from input_line_44:1:\n",
      "./postselection.h:712:1: warning: control may reach end of non-void function [-Wreturn-type]\n",
      "}\n",
      "^\n"
     ]
    },
    {
     "data": {
      "text/plain": [
       "True"
      ]
     },
     "execution_count": 1,
     "metadata": {},
     "output_type": "execute_result"
    }
   ],
   "source": [
    "import ROOT\n",
    "import os\n",
    "\n",
    "ROOT.gInterpreter.Declare('#include \"postselection.h\"')"
   ]
  },
  {
   "cell_type": "code",
   "execution_count": 2,
   "id": "2f49eb92-7353-4514-8431-96cb5184da9c",
   "metadata": {},
   "outputs": [
    {
     "data": {
      "text/plain": [
       "True"
      ]
     },
     "execution_count": 2,
     "metadata": {},
     "output_type": "execute_result"
    }
   ],
   "source": [
    "#os.environ[\"X509_USER_PROXY\"] = \"/eos/home-t/ttedesch/SWAN_projects/RDataFrame_porting/proxy\"\n",
    "ROOT.gInterpreter.Declare(\n",
    "\"\"\"\n",
    "TMVA::Experimental::RBDT<> bdt_tagger(\"tagger\", \"https://ttedesch.web.cern.ch/ttedesch/VBSTagger_XGB.root\");\n",
    "TMVA::Experimental::RBDT<> bdt_tagger_mjj(\"tagger\", \"https://ttedesch.web.cern.ch/ttedesch/VBSTagger_XGB_mjj.root\");\n",
    "\n",
    "RVec<size_t> SelectVBSJets_tagger(rvec_f pt, rvec_f eta, rvec_f phi, rvec_f mass, rvec_f Jet_area, rvec_f Jet_chHEF, rvec_f Jet_muEF, rvec_f Jet_neEmEF, rvec_f Jet_neHEF, rvec_f Jet_jetId, rvec_f Jet_nConstituents, rvec_f Jet_nElectrons, rvec_f Jet_nMuons, rvec_i GoodJets_idx)\n",
    "{\n",
    "\n",
    "    RVec<size_t> idx;\n",
    "    // Find first lepton pair with invariant mass closest to Z mass\n",
    "    auto idx_cmb = Combinations(GoodJets_idx, 2);\n",
    "    float best_score = -1.;\n",
    "    size_t best_i1 = 0; size_t best_i2 = 0;\n",
    "    for (size_t i = 0; i < idx_cmb[0].size(); i++) {\n",
    "        const auto i1 = idx_cmb[0][i];\n",
    "        const auto i2 = idx_cmb[1][i];\n",
    "        //std::cout<<GoodJets_idx[i1]<<GoodJets_idx[i2]<<endl;\n",
    "        ROOT::Math::PtEtaPhiMVector p1(pt[GoodJets_idx[i1]], eta[GoodJets_idx[i1]], phi[GoodJets_idx[i1]], mass[GoodJets_idx[i1]]);\n",
    "        ROOT::Math::PtEtaPhiMVector p2(pt[GoodJets_idx[i2]], eta[GoodJets_idx[i2]], phi[GoodJets_idx[i2]], mass[GoodJets_idx[i2]]);\n",
    "        const auto this_mass = (p1 + p2).M();\n",
    "        if (abs(eta[GoodJets_idx[i1]] - eta[GoodJets_idx[i2]]) >= DELTAETA_JJ_CUT && (p1 + p2).M() > 500) {\n",
    "            auto y = bdt_tagger.Compute({Jet_area[GoodJets_idx[i1]], Jet_chHEF[GoodJets_idx[i1]], Jet_muEF[GoodJets_idx[i1]], Jet_neEmEF[GoodJets_idx[i1]], Jet_neHEF[GoodJets_idx[i1]], Jet_jetId[GoodJets_idx[i1]], Jet_nConstituents[GoodJets_idx[i1]], Jet_nElectrons[GoodJets_idx[i1]], Jet_nMuons[GoodJets_idx[i1]], Jet_area[GoodJets_idx[i2]], Jet_chHEF[GoodJets_idx[i2]], Jet_muEF[GoodJets_idx[i2]], Jet_neEmEF[GoodJets_idx[i2]], Jet_neHEF[GoodJets_idx[i2]], Jet_jetId[GoodJets_idx[i2]], Jet_nConstituents[GoodJets_idx[i2]], Jet_nElectrons[GoodJets_idx[i2]], Jet_nMuons[GoodJets_idx[i2]]});\n",
    "            float this_score = y[0];\n",
    "            //cout<<\"this score: \"<<this_score<<endl;\n",
    "            //cout<<\"best score: \"<<best_score<<endl;\n",
    "            //cout<<endl;\n",
    "            if (this_score > best_score) {\n",
    "                best_score = this_score;\n",
    "                best_i1 = GoodJets_idx[i1];\n",
    "                best_i2 = GoodJets_idx[i2];\n",
    "            }\n",
    "        }\n",
    "    } \n",
    "    //cout<<\"best score of the event: \"<<best_score<<endl;\n",
    "    //cout<<endl;\n",
    "    //cout<<endl;\n",
    "    idx.emplace_back(best_i1);\n",
    "    idx.emplace_back(best_i2);\n",
    "    return idx;\n",
    "}\n",
    "\n",
    "RVec<size_t> SelectVBSJets_tagger_mjj(rvec_f pt, rvec_f eta, rvec_f phi, rvec_f mass, rvec_f Jet_area, rvec_f Jet_chHEF, rvec_f Jet_muEF, rvec_f Jet_neEmEF, rvec_f Jet_neHEF, rvec_f Jet_jetId, rvec_f Jet_nConstituents, rvec_f Jet_nElectrons, rvec_f Jet_nMuons, rvec_i GoodJets_idx)\n",
    "{\n",
    "\n",
    "    RVec<size_t> idx;\n",
    "    // Find first lepton pair with invariant mass closest to Z mass\n",
    "    auto idx_cmb = Combinations(GoodJets_idx, 2);\n",
    "    float best_score = -1.;\n",
    "    size_t best_i1 = 0; size_t best_i2 = 0;\n",
    "    for (size_t i = 0; i < idx_cmb[0].size(); i++) {\n",
    "        const auto i1 = idx_cmb[0][i];\n",
    "        const auto i2 = idx_cmb[1][i];\n",
    "        //std::cout<<GoodJets_idx[i1]<<GoodJets_idx[i2]<<endl;\n",
    "        ROOT::Math::PtEtaPhiMVector p1(pt[GoodJets_idx[i1]], eta[GoodJets_idx[i1]], phi[GoodJets_idx[i1]], mass[GoodJets_idx[i1]]);\n",
    "        ROOT::Math::PtEtaPhiMVector p2(pt[GoodJets_idx[i2]], eta[GoodJets_idx[i2]], phi[GoodJets_idx[i2]], mass[GoodJets_idx[i2]]);\n",
    "        const float this_mass = (p1 + p2).M();\n",
    "        if (abs(eta[GoodJets_idx[i1]] - eta[GoodJets_idx[i2]]) >= DELTAETA_JJ_CUT && (p1 + p2).M() > 500) {\n",
    "            auto y = bdt_tagger_mjj.Compute({Jet_area[GoodJets_idx[i1]], Jet_chHEF[GoodJets_idx[i1]], Jet_muEF[GoodJets_idx[i1]], Jet_neEmEF[GoodJets_idx[i1]], Jet_neHEF[GoodJets_idx[i1]], Jet_jetId[GoodJets_idx[i1]], Jet_nConstituents[GoodJets_idx[i1]], Jet_nElectrons[GoodJets_idx[i1]], Jet_nMuons[GoodJets_idx[i1]], Jet_area[GoodJets_idx[i2]], Jet_chHEF[GoodJets_idx[i2]], Jet_muEF[GoodJets_idx[i2]], Jet_neEmEF[GoodJets_idx[i2]], Jet_neHEF[GoodJets_idx[i2]], Jet_jetId[GoodJets_idx[i2]], Jet_nConstituents[GoodJets_idx[i2]], Jet_nElectrons[GoodJets_idx[i2]], Jet_nMuons[GoodJets_idx[i2]], this_mass});\n",
    "            float this_score = y[0];\n",
    "            //cout<<\"this score: \"<<this_score<<endl;\n",
    "            //cout<<\"best score: \"<<best_score<<endl;\n",
    "            //cout<<endl;\n",
    "            if (this_score > best_score) {\n",
    "                best_score = this_score;\n",
    "                best_i1 = GoodJets_idx[i1];\n",
    "                best_i2 = GoodJets_idx[i2];\n",
    "            }\n",
    "        }\n",
    "    } \n",
    "    //cout<<\"best score of the event: \"<<best_score<<endl;\n",
    "    //cout<<endl;\n",
    "    //cout<<endl;\n",
    "    idx.emplace_back(best_i1);\n",
    "    idx.emplace_back(best_i2);\n",
    "    return idx;\n",
    "}\n",
    "\"\"\"\n",
    ")\n",
    "\n",
    "ROOT.gInterpreter.Declare(\n",
    "\"\"\"\n",
    "RVec<int> SelectVBSQGenJet_FlavourMatching(rvec_i GenPart_pdgId, rvec_i GenPart_genPartIdxMother, rvec_f GenPart_pt, rvec_f GenPart_eta, rvec_i GenJet_partonFlavour, rvec_f GenJet_pt, rvec_f GenJet_eta){\n",
    "\n",
    "    RVec<int> GenPart_idx;\n",
    "    \n",
    "    for (int i = 0; i < GenPart_pdgId.size(); i++) {\n",
    "        if(GenPart_genPartIdxMother[i]==0 && abs(GenPart_pdgId[i])>0 && abs(GenPart_pdgId[i])<10) GenPart_idx.emplace_back(i);\n",
    "    }\n",
    "    \n",
    "    RVec<int> dummy_idx;\n",
    "    dummy_idx.emplace_back(-9999);\n",
    "    dummy_idx.emplace_back(-9999);\n",
    "    \n",
    "    if (GenPart_idx.size() != 2) return dummy_idx;\n",
    "    \n",
    "    int GenPart_idx1 = GenPart_idx[0];\n",
    "    int GenPart_idx2 = GenPart_idx[1];\n",
    "    \n",
    "    if(GenPart_pt[GenPart_idx1] == GenPart_pt[GenPart_idx2] && GenPart_eta[GenPart_idx1] == GenPart_eta[GenPart_idx2]) return dummy_idx;\n",
    "    \n",
    "    int qflav1 = GenPart_pdgId[GenPart_idx1];\n",
    "    int qflav2 = GenPart_pdgId[GenPart_idx2];\n",
    "    \n",
    "    RVec<int> LightGenJet_idx;\n",
    "\n",
    "    for (int i = 0; i < GenJet_partonFlavour.size(); i++) {\n",
    "        if(abs(GenJet_partonFlavour[i])>0 && abs(GenJet_partonFlavour[i])<10 && (GenJet_partonFlavour[i]==qflav1 || GenJet_partonFlavour[i]==qflav2)) LightGenJet_idx.emplace_back(i);\n",
    "    }\n",
    "    \n",
    "    if(LightGenJet_idx.size() < 2) return dummy_idx;\n",
    "    \n",
    "    float discrim1 = 1000000.;\n",
    "    float discrim2 = 1000000.;\n",
    "    int idx_genjet1 = -1;\n",
    "    int idx_genjet2 = -1;\n",
    "    float tmpdiscr1;\n",
    "    float tmpdiscr2;\n",
    "           \n",
    "    for (int i = 0; i < LightGenJet_idx.size(); i++) {\n",
    "        tmpdiscr1 = abs(GenJet_eta[LightGenJet_idx[i]] -  GenPart_eta[GenPart_idx1]) + abs(GenJet_pt[LightGenJet_idx[i]] -  GenPart_pt[GenPart_idx1]);\n",
    "        tmpdiscr2 = abs(GenJet_eta[LightGenJet_idx[i]] -  GenPart_eta[GenPart_idx2]) + abs(GenJet_pt[LightGenJet_idx[i]] -  GenPart_pt[GenPart_idx2]);\n",
    "        if(tmpdiscr1 < discrim1 && GenJet_partonFlavour[LightGenJet_idx[i]]==qflav1){\n",
    "            discrim1 = tmpdiscr1;\n",
    "            idx_genjet1 = LightGenJet_idx[i];\n",
    "        }\n",
    "        if(tmpdiscr2 < discrim2 && GenJet_partonFlavour[LightGenJet_idx[i]]==qflav2){\n",
    "            discrim2 = tmpdiscr2;\n",
    "            idx_genjet2 = LightGenJet_idx[i];\n",
    "        }\n",
    "    }\n",
    "    \n",
    "    //cout<<idx_genjet1<<\": \"<<discrim1<<\", \"<<idx_genjet2<<\": \"<<discrim2<<endl;\n",
    "    \n",
    "    if((idx_genjet1 == -1 || idx_genjet2 == -1) || (idx_genjet1 == idx_genjet2)) return dummy_idx;\n",
    "    if(discrim1 > 10. || discrim2 > 10.) return dummy_idx;\n",
    "    \n",
    "    RVec<int> finalgenjets_idx(2);\n",
    "           \n",
    "    if(GenJet_pt[idx_genjet1] > GenJet_pt[idx_genjet2]){ \n",
    "           finalgenjets_idx[0] = idx_genjet1;\n",
    "           finalgenjets_idx[1] = idx_genjet2;\n",
    "    }\n",
    "    else{ \n",
    "           finalgenjets_idx[0] = idx_genjet2;\n",
    "           finalgenjets_idx[1] = idx_genjet1;\n",
    "    }\n",
    "    return finalgenjets_idx;\n",
    "}\n",
    "\"\"\")\n"
   ]
  },
  {
   "cell_type": "code",
   "execution_count": 3,
   "id": "ad2cad36-af9d-47de-82aa-b3184a5a504d",
   "metadata": {},
   "outputs": [
    {
     "name": "stdout",
     "output_type": "stream",
     "text": [
      "[0B/0B][100%][==================================================][0B/s]  \n",
      "Run: [ERROR] Server responded with an error: [3018] file exists (destination)\n",
      "\n"
     ]
    }
   ],
   "source": [
    "!xrdcp root://xrootd-cms.infn.it//store/user/apiccine/VBS/VBS_SSWW_TL_polarization_TuneCP5_13TeV-madgraph-pythia8/VBS_SSWW_TL_SM_2017/210420_124011/0000/tree_hadd_16.root ."
   ]
  },
  {
   "cell_type": "code",
   "execution_count": 4,
   "id": "ce66c5a0-2439-4830-ab8e-023d163d70b3",
   "metadata": {},
   "outputs": [
    {
     "name": "stdout",
     "output_type": "stream",
     "text": [
      "[421.6MB/421.6MB][100%][==================================================][4.133MB/s]  \n"
     ]
    }
   ],
   "source": [
    "!xrdcp root://xrootd-cms.infn.it//store/user/apiccine/VBS/VBS_SSWW_TL_polarization_TuneCP5_13TeV-madgraph-pythia8/VBS_SSWW_TL_SM_2017/210420_124011/0000/tree_hadd_17.root ."
   ]
  },
  {
   "cell_type": "code",
   "execution_count": 5,
   "id": "7ecc6067-584e-4b42-8157-511c783f9a6e",
   "metadata": {},
   "outputs": [
    {
     "name": "stdout",
     "output_type": "stream",
     "text": [
      "[0B/0B][100%][==================================================][0B/s]  \n",
      "Run: [ERROR] Server responded with an error: [3018] file exists (destination)\n",
      "\n"
     ]
    }
   ],
   "source": [
    "!xrdcp root://xrootd-cms.infn.it//store/user/apiccine/VBS/VBS_SSWW_TL_polarization_TuneCP5_13TeV-madgraph-pythia8/VBS_SSWW_TL_SM_2017/210420_124011/0000/tree_hadd_18.root ."
   ]
  },
  {
   "cell_type": "code",
   "execution_count": 6,
   "id": "690a3460-3507-4b60-b48d-f906439dc173",
   "metadata": {},
   "outputs": [
    {
     "name": "stdout",
     "output_type": "stream",
     "text": [
      "[84.35MB/84.35MB][100%][==================================================][12.05MB/s]  ^C\n"
     ]
    }
   ],
   "source": [
    "!xrdcp root://xrootd-cms.infn.it//store/user/apiccine/VBS/VBS_SSWW_TT_polarization_TuneCP5_13TeV-madgraph-pythia8/VBS_SSWW_TT_SM_2017/210420_124141/0000/tree_hadd_9.root ."
   ]
  },
  {
   "cell_type": "code",
   "execution_count": 7,
   "id": "218553a1-bd33-4b69-bd44-2f8d63212d14",
   "metadata": {},
   "outputs": [
    {
     "name": "stderr",
     "output_type": "stream",
     "text": [
      "ERROR:root:Internal Python error in the inspect module.\n",
      "Below is the traceback from this internal error.\n",
      "\n"
     ]
    },
    {
     "name": "stdout",
     "output_type": "stream",
     "text": [
      "Traceback (most recent call last):\n",
      "  File \"/opt/conda/lib/python3.9/site-packages/IPython/utils/_process_posix.py\", line 157, in system\n",
      "    child = pexpect.spawn(self.sh, args=['-c', cmd])  # Vanilla Pexpect\n",
      "  File \"/opt/conda/lib/python3.9/site-packages/pexpect/pty_spawn.py\", line 205, in __init__\n",
      "    self._spawn(command, args, preexec_fn, dimensions)\n",
      "  File \"/opt/conda/lib/python3.9/site-packages/pexpect/pty_spawn.py\", line 303, in _spawn\n",
      "    self.ptyproc = self._spawnpty(self.args, env=self.env,\n",
      "  File \"/opt/conda/lib/python3.9/site-packages/pexpect/pty_spawn.py\", line 315, in _spawnpty\n",
      "    return ptyprocess.PtyProcess.spawn(args, **kwargs)\n",
      "  File \"/opt/conda/lib/python3.9/site-packages/ptyprocess/ptyprocess.py\", line 315, in spawn\n",
      "    exec_err_data = os.read(exec_err_pipe_read, 4096)\n",
      "KeyboardInterrupt\n",
      "\n",
      "During handling of the above exception, another exception occurred:\n",
      "\n",
      "Traceback (most recent call last):\n",
      "  File \"/opt/conda/lib/python3.9/site-packages/IPython/core/interactiveshell.py\", line 3457, in run_code\n",
      "    exec(code_obj, self.user_global_ns, self.user_ns)\n",
      "  File \"/tmp/ipykernel_5943/1053312079.py\", line 1, in <module>\n",
      "    get_ipython().system('xrdcp root://xrootd-cms.infn.it//store/user/apiccine/VBS/VBS_SSWW_TT_polarization_TuneCP5_13TeV-madgraph-pythia8/VBS_SSWW_TT_SM_2017/210420_124141/0000/tree_hadd_10.root .')\n",
      "  File \"/opt/conda/lib/python3.9/site-packages/ipykernel/zmqshell.py\", line 637, in system_piped\n",
      "    self.user_ns['_exit_code'] = system(self.var_expand(cmd, depth=1))\n",
      "  File \"/opt/conda/lib/python3.9/site-packages/IPython/utils/_process_posix.py\", line 173, in system\n",
      "    child.sendline(chr(3))\n",
      "UnboundLocalError: local variable 'child' referenced before assignment\n",
      "\n",
      "During handling of the above exception, another exception occurred:\n",
      "\n",
      "Traceback (most recent call last):\n",
      "  File \"/opt/conda/lib/python3.9/site-packages/IPython/core/interactiveshell.py\", line 2077, in showtraceback\n",
      "    stb = value._render_traceback_()\n",
      "AttributeError: 'UnboundLocalError' object has no attribute '_render_traceback_'\n",
      "\n",
      "During handling of the above exception, another exception occurred:\n",
      "\n",
      "Traceback (most recent call last):\n",
      "  File \"/opt/conda/lib/python3.9/site-packages/IPython/core/ultratb.py\", line 1101, in get_records\n",
      "    return _fixed_getinnerframes(etb, number_of_lines_of_context, tb_offset)\n",
      "  File \"/opt/conda/lib/python3.9/site-packages/IPython/core/ultratb.py\", line 248, in wrapped\n",
      "    return f(*args, **kwargs)\n",
      "  File \"/opt/conda/lib/python3.9/site-packages/IPython/core/ultratb.py\", line 281, in _fixed_getinnerframes\n",
      "    records = fix_frame_records_filenames(inspect.getinnerframes(etb, context))\n",
      "  File \"/cvmfs/cms.dodas.infn.it/miniconda3/envs/cms-dodas/lib/python3.9/inspect.py\", line 1541, in getinnerframes\n",
      "    frameinfo = (tb.tb_frame,) + getframeinfo(tb, context)\n",
      "  File \"/cvmfs/cms.dodas.infn.it/miniconda3/envs/cms-dodas/lib/python3.9/inspect.py\", line 1499, in getframeinfo\n",
      "    filename = getsourcefile(frame) or getfile(frame)\n",
      "  File \"/cvmfs/cms.dodas.infn.it/miniconda3/envs/cms-dodas/lib/python3.9/inspect.py\", line 709, in getsourcefile\n",
      "    if getattr(getmodule(object, filename), '__loader__', None) is not None:\n",
      "  File \"/cvmfs/cms.dodas.infn.it/miniconda3/envs/cms-dodas/lib/python3.9/inspect.py\", line 752, in getmodule\n",
      "    f = getabsfile(module)\n",
      "  File \"/cvmfs/cms.dodas.infn.it/miniconda3/envs/cms-dodas/lib/python3.9/inspect.py\", line 721, in getabsfile\n",
      "    _filename = getsourcefile(object) or getfile(object)\n",
      "  File \"/cvmfs/cms.dodas.infn.it/miniconda3/envs/cms-dodas/lib/python3.9/inspect.py\", line 706, in getsourcefile\n",
      "    if os.path.exists(filename):\n",
      "  File \"/cvmfs/cms.dodas.infn.it/miniconda3/envs/cms-dodas/lib/python3.9/genericpath.py\", line 19, in exists\n",
      "    os.stat(path)\n",
      "KeyboardInterrupt\n"
     ]
    },
    {
     "ename": "TypeError",
     "evalue": "object of type 'NoneType' has no len()",
     "output_type": "error",
     "traceback": [
      "\u001b[0;31m---------------------------------------------------------------------------\u001b[0m",
      "\u001b[0;31mKeyboardInterrupt\u001b[0m                         Traceback (most recent call last)",
      "\u001b[0;32m/opt/conda/lib/python3.9/site-packages/IPython/utils/_process_posix.py\u001b[0m in \u001b[0;36msystem\u001b[0;34m(self, cmd)\u001b[0m\n\u001b[1;32m    156\u001b[0m             \u001b[0;32melse\u001b[0m\u001b[0;34m:\u001b[0m\u001b[0;34m\u001b[0m\u001b[0;34m\u001b[0m\u001b[0m\n\u001b[0;32m--> 157\u001b[0;31m                 \u001b[0mchild\u001b[0m \u001b[0;34m=\u001b[0m \u001b[0mpexpect\u001b[0m\u001b[0;34m.\u001b[0m\u001b[0mspawn\u001b[0m\u001b[0;34m(\u001b[0m\u001b[0mself\u001b[0m\u001b[0;34m.\u001b[0m\u001b[0msh\u001b[0m\u001b[0;34m,\u001b[0m \u001b[0margs\u001b[0m\u001b[0;34m=\u001b[0m\u001b[0;34m[\u001b[0m\u001b[0;34m'-c'\u001b[0m\u001b[0;34m,\u001b[0m \u001b[0mcmd\u001b[0m\u001b[0;34m]\u001b[0m\u001b[0;34m)\u001b[0m  \u001b[0;31m# Vanilla Pexpect\u001b[0m\u001b[0;34m\u001b[0m\u001b[0;34m\u001b[0m\u001b[0m\n\u001b[0m\u001b[1;32m    158\u001b[0m             \u001b[0mflush\u001b[0m \u001b[0;34m=\u001b[0m \u001b[0msys\u001b[0m\u001b[0;34m.\u001b[0m\u001b[0mstdout\u001b[0m\u001b[0;34m.\u001b[0m\u001b[0mflush\u001b[0m\u001b[0;34m\u001b[0m\u001b[0;34m\u001b[0m\u001b[0m\n",
      "\u001b[0;32m/opt/conda/lib/python3.9/site-packages/pexpect/pty_spawn.py\u001b[0m in \u001b[0;36m__init__\u001b[0;34m(self, command, args, timeout, maxread, searchwindowsize, logfile, cwd, env, ignore_sighup, echo, preexec_fn, encoding, codec_errors, dimensions, use_poll)\u001b[0m\n\u001b[1;32m    204\u001b[0m         \u001b[0;32melse\u001b[0m\u001b[0;34m:\u001b[0m\u001b[0;34m\u001b[0m\u001b[0;34m\u001b[0m\u001b[0m\n\u001b[0;32m--> 205\u001b[0;31m             \u001b[0mself\u001b[0m\u001b[0;34m.\u001b[0m\u001b[0m_spawn\u001b[0m\u001b[0;34m(\u001b[0m\u001b[0mcommand\u001b[0m\u001b[0;34m,\u001b[0m \u001b[0margs\u001b[0m\u001b[0;34m,\u001b[0m \u001b[0mpreexec_fn\u001b[0m\u001b[0;34m,\u001b[0m \u001b[0mdimensions\u001b[0m\u001b[0;34m)\u001b[0m\u001b[0;34m\u001b[0m\u001b[0;34m\u001b[0m\u001b[0m\n\u001b[0m\u001b[1;32m    206\u001b[0m         \u001b[0mself\u001b[0m\u001b[0;34m.\u001b[0m\u001b[0muse_poll\u001b[0m \u001b[0;34m=\u001b[0m \u001b[0muse_poll\u001b[0m\u001b[0;34m\u001b[0m\u001b[0;34m\u001b[0m\u001b[0m\n",
      "\u001b[0;32m/opt/conda/lib/python3.9/site-packages/pexpect/pty_spawn.py\u001b[0m in \u001b[0;36m_spawn\u001b[0;34m(self, command, args, preexec_fn, dimensions)\u001b[0m\n\u001b[1;32m    302\u001b[0m \u001b[0;34m\u001b[0m\u001b[0m\n\u001b[0;32m--> 303\u001b[0;31m         self.ptyproc = self._spawnpty(self.args, env=self.env,\n\u001b[0m\u001b[1;32m    304\u001b[0m                                      cwd=self.cwd, **kwargs)\n",
      "\u001b[0;32m/opt/conda/lib/python3.9/site-packages/pexpect/pty_spawn.py\u001b[0m in \u001b[0;36m_spawnpty\u001b[0;34m(self, args, **kwargs)\u001b[0m\n\u001b[1;32m    314\u001b[0m         \u001b[0;34m'''Spawn a pty and return an instance of PtyProcess.'''\u001b[0m\u001b[0;34m\u001b[0m\u001b[0;34m\u001b[0m\u001b[0m\n\u001b[0;32m--> 315\u001b[0;31m         \u001b[0;32mreturn\u001b[0m \u001b[0mptyprocess\u001b[0m\u001b[0;34m.\u001b[0m\u001b[0mPtyProcess\u001b[0m\u001b[0;34m.\u001b[0m\u001b[0mspawn\u001b[0m\u001b[0;34m(\u001b[0m\u001b[0margs\u001b[0m\u001b[0;34m,\u001b[0m \u001b[0;34m**\u001b[0m\u001b[0mkwargs\u001b[0m\u001b[0;34m)\u001b[0m\u001b[0;34m\u001b[0m\u001b[0;34m\u001b[0m\u001b[0m\n\u001b[0m\u001b[1;32m    316\u001b[0m \u001b[0;34m\u001b[0m\u001b[0m\n",
      "\u001b[0;32m/opt/conda/lib/python3.9/site-packages/ptyprocess/ptyprocess.py\u001b[0m in \u001b[0;36mspawn\u001b[0;34m(cls, argv, cwd, env, echo, preexec_fn, dimensions, pass_fds)\u001b[0m\n\u001b[1;32m    314\u001b[0m         \u001b[0mos\u001b[0m\u001b[0;34m.\u001b[0m\u001b[0mclose\u001b[0m\u001b[0;34m(\u001b[0m\u001b[0mexec_err_pipe_write\u001b[0m\u001b[0;34m)\u001b[0m\u001b[0;34m\u001b[0m\u001b[0;34m\u001b[0m\u001b[0m\n\u001b[0;32m--> 315\u001b[0;31m         \u001b[0mexec_err_data\u001b[0m \u001b[0;34m=\u001b[0m \u001b[0mos\u001b[0m\u001b[0;34m.\u001b[0m\u001b[0mread\u001b[0m\u001b[0;34m(\u001b[0m\u001b[0mexec_err_pipe_read\u001b[0m\u001b[0;34m,\u001b[0m \u001b[0;36m4096\u001b[0m\u001b[0;34m)\u001b[0m\u001b[0;34m\u001b[0m\u001b[0;34m\u001b[0m\u001b[0m\n\u001b[0m\u001b[1;32m    316\u001b[0m         \u001b[0mos\u001b[0m\u001b[0;34m.\u001b[0m\u001b[0mclose\u001b[0m\u001b[0;34m(\u001b[0m\u001b[0mexec_err_pipe_read\u001b[0m\u001b[0;34m)\u001b[0m\u001b[0;34m\u001b[0m\u001b[0;34m\u001b[0m\u001b[0m\n",
      "\u001b[0;31mKeyboardInterrupt\u001b[0m: ",
      "\nDuring handling of the above exception, another exception occurred:\n",
      "\u001b[0;31mUnboundLocalError\u001b[0m                         Traceback (most recent call last)",
      "    \u001b[0;31m[... skipping hidden 1 frame]\u001b[0m\n",
      "\u001b[0;32m/tmp/ipykernel_5943/1053312079.py\u001b[0m in \u001b[0;36m<module>\u001b[0;34m\u001b[0m\n\u001b[0;32m----> 1\u001b[0;31m \u001b[0mget_ipython\u001b[0m\u001b[0;34m(\u001b[0m\u001b[0;34m)\u001b[0m\u001b[0;34m.\u001b[0m\u001b[0msystem\u001b[0m\u001b[0;34m(\u001b[0m\u001b[0;34m'xrdcp root://xrootd-cms.infn.it//store/user/apiccine/VBS/VBS_SSWW_TT_polarization_TuneCP5_13TeV-madgraph-pythia8/VBS_SSWW_TT_SM_2017/210420_124141/0000/tree_hadd_10.root .'\u001b[0m\u001b[0;34m)\u001b[0m\u001b[0;34m\u001b[0m\u001b[0;34m\u001b[0m\u001b[0m\n\u001b[0m",
      "\u001b[0;32m/opt/conda/lib/python3.9/site-packages/ipykernel/zmqshell.py\u001b[0m in \u001b[0;36msystem_piped\u001b[0;34m(self, cmd)\u001b[0m\n\u001b[1;32m    636\u001b[0m         \u001b[0;32melse\u001b[0m\u001b[0;34m:\u001b[0m\u001b[0;34m\u001b[0m\u001b[0;34m\u001b[0m\u001b[0m\n\u001b[0;32m--> 637\u001b[0;31m             \u001b[0mself\u001b[0m\u001b[0;34m.\u001b[0m\u001b[0muser_ns\u001b[0m\u001b[0;34m[\u001b[0m\u001b[0;34m'_exit_code'\u001b[0m\u001b[0;34m]\u001b[0m \u001b[0;34m=\u001b[0m \u001b[0msystem\u001b[0m\u001b[0;34m(\u001b[0m\u001b[0mself\u001b[0m\u001b[0;34m.\u001b[0m\u001b[0mvar_expand\u001b[0m\u001b[0;34m(\u001b[0m\u001b[0mcmd\u001b[0m\u001b[0;34m,\u001b[0m \u001b[0mdepth\u001b[0m\u001b[0;34m=\u001b[0m\u001b[0;36m1\u001b[0m\u001b[0;34m)\u001b[0m\u001b[0;34m)\u001b[0m\u001b[0;34m\u001b[0m\u001b[0;34m\u001b[0m\u001b[0m\n\u001b[0m\u001b[1;32m    638\u001b[0m \u001b[0;34m\u001b[0m\u001b[0m\n",
      "\u001b[0;32m/opt/conda/lib/python3.9/site-packages/IPython/utils/_process_posix.py\u001b[0m in \u001b[0;36msystem\u001b[0;34m(self, cmd)\u001b[0m\n\u001b[1;32m    172\u001b[0m             \u001b[0;31m# curses.ascii.ETX).\u001b[0m\u001b[0;34m\u001b[0m\u001b[0;34m\u001b[0m\u001b[0m\n\u001b[0;32m--> 173\u001b[0;31m             \u001b[0mchild\u001b[0m\u001b[0;34m.\u001b[0m\u001b[0msendline\u001b[0m\u001b[0;34m(\u001b[0m\u001b[0mchr\u001b[0m\u001b[0;34m(\u001b[0m\u001b[0;36m3\u001b[0m\u001b[0;34m)\u001b[0m\u001b[0;34m)\u001b[0m\u001b[0;34m\u001b[0m\u001b[0;34m\u001b[0m\u001b[0m\n\u001b[0m\u001b[1;32m    174\u001b[0m             \u001b[0;31m# Read and print any more output the program might produce on its\u001b[0m\u001b[0;34m\u001b[0m\u001b[0;34m\u001b[0m\u001b[0m\n",
      "\u001b[0;31mUnboundLocalError\u001b[0m: local variable 'child' referenced before assignment",
      "\nDuring handling of the above exception, another exception occurred:\n",
      "\u001b[0;31mAttributeError\u001b[0m                            Traceback (most recent call last)",
      "\u001b[0;32m/opt/conda/lib/python3.9/site-packages/IPython/core/interactiveshell.py\u001b[0m in \u001b[0;36mshowtraceback\u001b[0;34m(self, exc_tuple, filename, tb_offset, exception_only, running_compiled_code)\u001b[0m\n\u001b[1;32m   2076\u001b[0m                         \u001b[0;31m# in the engines. This should return a list of strings.\u001b[0m\u001b[0;34m\u001b[0m\u001b[0;34m\u001b[0m\u001b[0m\n\u001b[0;32m-> 2077\u001b[0;31m                         \u001b[0mstb\u001b[0m \u001b[0;34m=\u001b[0m \u001b[0mvalue\u001b[0m\u001b[0;34m.\u001b[0m\u001b[0m_render_traceback_\u001b[0m\u001b[0;34m(\u001b[0m\u001b[0;34m)\u001b[0m\u001b[0;34m\u001b[0m\u001b[0;34m\u001b[0m\u001b[0m\n\u001b[0m\u001b[1;32m   2078\u001b[0m                     \u001b[0;32mexcept\u001b[0m \u001b[0mException\u001b[0m\u001b[0;34m:\u001b[0m\u001b[0;34m\u001b[0m\u001b[0;34m\u001b[0m\u001b[0m\n",
      "\u001b[0;31mAttributeError\u001b[0m: 'UnboundLocalError' object has no attribute '_render_traceback_'",
      "\nDuring handling of the above exception, another exception occurred:\n",
      "\u001b[0;31mTypeError\u001b[0m                                 Traceback (most recent call last)",
      "    \u001b[0;31m[... skipping hidden 1 frame]\u001b[0m\n",
      "\u001b[0;32m/opt/conda/lib/python3.9/site-packages/IPython/core/interactiveshell.py\u001b[0m in \u001b[0;36mshowtraceback\u001b[0;34m(self, exc_tuple, filename, tb_offset, exception_only, running_compiled_code)\u001b[0m\n\u001b[1;32m   2077\u001b[0m                         \u001b[0mstb\u001b[0m \u001b[0;34m=\u001b[0m \u001b[0mvalue\u001b[0m\u001b[0;34m.\u001b[0m\u001b[0m_render_traceback_\u001b[0m\u001b[0;34m(\u001b[0m\u001b[0;34m)\u001b[0m\u001b[0;34m\u001b[0m\u001b[0;34m\u001b[0m\u001b[0m\n\u001b[1;32m   2078\u001b[0m                     \u001b[0;32mexcept\u001b[0m \u001b[0mException\u001b[0m\u001b[0;34m:\u001b[0m\u001b[0;34m\u001b[0m\u001b[0;34m\u001b[0m\u001b[0m\n\u001b[0;32m-> 2079\u001b[0;31m                         stb = self.InteractiveTB.structured_traceback(etype,\n\u001b[0m\u001b[1;32m   2080\u001b[0m                                             value, tb, tb_offset=tb_offset)\n\u001b[1;32m   2081\u001b[0m \u001b[0;34m\u001b[0m\u001b[0m\n",
      "\u001b[0;32m/opt/conda/lib/python3.9/site-packages/IPython/core/ultratb.py\u001b[0m in \u001b[0;36mstructured_traceback\u001b[0;34m(self, etype, value, tb, tb_offset, number_of_lines_of_context)\u001b[0m\n\u001b[1;32m   1365\u001b[0m         \u001b[0;32melse\u001b[0m\u001b[0;34m:\u001b[0m\u001b[0;34m\u001b[0m\u001b[0;34m\u001b[0m\u001b[0m\n\u001b[1;32m   1366\u001b[0m             \u001b[0mself\u001b[0m\u001b[0;34m.\u001b[0m\u001b[0mtb\u001b[0m \u001b[0;34m=\u001b[0m \u001b[0mtb\u001b[0m\u001b[0;34m\u001b[0m\u001b[0;34m\u001b[0m\u001b[0m\n\u001b[0;32m-> 1367\u001b[0;31m         return FormattedTB.structured_traceback(\n\u001b[0m\u001b[1;32m   1368\u001b[0m             self, etype, value, tb, tb_offset, number_of_lines_of_context)\n\u001b[1;32m   1369\u001b[0m \u001b[0;34m\u001b[0m\u001b[0m\n",
      "\u001b[0;32m/opt/conda/lib/python3.9/site-packages/IPython/core/ultratb.py\u001b[0m in \u001b[0;36mstructured_traceback\u001b[0;34m(self, etype, value, tb, tb_offset, number_of_lines_of_context)\u001b[0m\n\u001b[1;32m   1265\u001b[0m         \u001b[0;32mif\u001b[0m \u001b[0mmode\u001b[0m \u001b[0;32min\u001b[0m \u001b[0mself\u001b[0m\u001b[0;34m.\u001b[0m\u001b[0mverbose_modes\u001b[0m\u001b[0;34m:\u001b[0m\u001b[0;34m\u001b[0m\u001b[0;34m\u001b[0m\u001b[0m\n\u001b[1;32m   1266\u001b[0m             \u001b[0;31m# Verbose modes need a full traceback\u001b[0m\u001b[0;34m\u001b[0m\u001b[0;34m\u001b[0m\u001b[0m\n\u001b[0;32m-> 1267\u001b[0;31m             return VerboseTB.structured_traceback(\n\u001b[0m\u001b[1;32m   1268\u001b[0m                 \u001b[0mself\u001b[0m\u001b[0;34m,\u001b[0m \u001b[0metype\u001b[0m\u001b[0;34m,\u001b[0m \u001b[0mvalue\u001b[0m\u001b[0;34m,\u001b[0m \u001b[0mtb\u001b[0m\u001b[0;34m,\u001b[0m \u001b[0mtb_offset\u001b[0m\u001b[0;34m,\u001b[0m \u001b[0mnumber_of_lines_of_context\u001b[0m\u001b[0;34m\u001b[0m\u001b[0;34m\u001b[0m\u001b[0m\n\u001b[1;32m   1269\u001b[0m             )\n",
      "\u001b[0;32m/opt/conda/lib/python3.9/site-packages/IPython/core/ultratb.py\u001b[0m in \u001b[0;36mstructured_traceback\u001b[0;34m(self, etype, evalue, etb, tb_offset, number_of_lines_of_context)\u001b[0m\n\u001b[1;32m   1122\u001b[0m         \u001b[0;34m\"\"\"Return a nice text document describing the traceback.\"\"\"\u001b[0m\u001b[0;34m\u001b[0m\u001b[0;34m\u001b[0m\u001b[0m\n\u001b[1;32m   1123\u001b[0m \u001b[0;34m\u001b[0m\u001b[0m\n\u001b[0;32m-> 1124\u001b[0;31m         formatted_exception = self.format_exception_as_a_whole(etype, evalue, etb, number_of_lines_of_context,\n\u001b[0m\u001b[1;32m   1125\u001b[0m                                                                tb_offset)\n\u001b[1;32m   1126\u001b[0m \u001b[0;34m\u001b[0m\u001b[0m\n",
      "\u001b[0;32m/opt/conda/lib/python3.9/site-packages/IPython/core/ultratb.py\u001b[0m in \u001b[0;36mformat_exception_as_a_whole\u001b[0;34m(self, etype, evalue, etb, number_of_lines_of_context, tb_offset)\u001b[0m\n\u001b[1;32m   1080\u001b[0m \u001b[0;34m\u001b[0m\u001b[0m\n\u001b[1;32m   1081\u001b[0m \u001b[0;34m\u001b[0m\u001b[0m\n\u001b[0;32m-> 1082\u001b[0;31m         \u001b[0mlast_unique\u001b[0m\u001b[0;34m,\u001b[0m \u001b[0mrecursion_repeat\u001b[0m \u001b[0;34m=\u001b[0m \u001b[0mfind_recursion\u001b[0m\u001b[0;34m(\u001b[0m\u001b[0morig_etype\u001b[0m\u001b[0;34m,\u001b[0m \u001b[0mevalue\u001b[0m\u001b[0;34m,\u001b[0m \u001b[0mrecords\u001b[0m\u001b[0;34m)\u001b[0m\u001b[0;34m\u001b[0m\u001b[0;34m\u001b[0m\u001b[0m\n\u001b[0m\u001b[1;32m   1083\u001b[0m \u001b[0;34m\u001b[0m\u001b[0m\n\u001b[1;32m   1084\u001b[0m         \u001b[0mframes\u001b[0m \u001b[0;34m=\u001b[0m \u001b[0mself\u001b[0m\u001b[0;34m.\u001b[0m\u001b[0mformat_records\u001b[0m\u001b[0;34m(\u001b[0m\u001b[0mrecords\u001b[0m\u001b[0;34m,\u001b[0m \u001b[0mlast_unique\u001b[0m\u001b[0;34m,\u001b[0m \u001b[0mrecursion_repeat\u001b[0m\u001b[0;34m)\u001b[0m\u001b[0;34m\u001b[0m\u001b[0;34m\u001b[0m\u001b[0m\n",
      "\u001b[0;32m/opt/conda/lib/python3.9/site-packages/IPython/core/ultratb.py\u001b[0m in \u001b[0;36mfind_recursion\u001b[0;34m(etype, value, records)\u001b[0m\n\u001b[1;32m    380\u001b[0m     \u001b[0;31m# first frame (from in to out) that looks different.\u001b[0m\u001b[0;34m\u001b[0m\u001b[0;34m\u001b[0m\u001b[0m\n\u001b[1;32m    381\u001b[0m     \u001b[0;32mif\u001b[0m \u001b[0;32mnot\u001b[0m \u001b[0mis_recursion_error\u001b[0m\u001b[0;34m(\u001b[0m\u001b[0metype\u001b[0m\u001b[0;34m,\u001b[0m \u001b[0mvalue\u001b[0m\u001b[0;34m,\u001b[0m \u001b[0mrecords\u001b[0m\u001b[0;34m)\u001b[0m\u001b[0;34m:\u001b[0m\u001b[0;34m\u001b[0m\u001b[0;34m\u001b[0m\u001b[0m\n\u001b[0;32m--> 382\u001b[0;31m         \u001b[0;32mreturn\u001b[0m \u001b[0mlen\u001b[0m\u001b[0;34m(\u001b[0m\u001b[0mrecords\u001b[0m\u001b[0;34m)\u001b[0m\u001b[0;34m,\u001b[0m \u001b[0;36m0\u001b[0m\u001b[0;34m\u001b[0m\u001b[0;34m\u001b[0m\u001b[0m\n\u001b[0m\u001b[1;32m    383\u001b[0m \u001b[0;34m\u001b[0m\u001b[0m\n\u001b[1;32m    384\u001b[0m     \u001b[0;31m# Select filename, lineno, func_name to track frames with\u001b[0m\u001b[0;34m\u001b[0m\u001b[0;34m\u001b[0m\u001b[0m\n",
      "\u001b[0;31mTypeError\u001b[0m: object of type 'NoneType' has no len()"
     ]
    }
   ],
   "source": [
    "!xrdcp root://xrootd-cms.infn.it//store/user/apiccine/VBS/VBS_SSWW_TT_polarization_TuneCP5_13TeV-madgraph-pythia8/VBS_SSWW_TT_SM_2017/210420_124141/0000/tree_hadd_10.root ."
   ]
  },
  {
   "cell_type": "code",
   "execution_count": null,
   "id": "08a5319a-3ade-4bcb-a691-f0b5d5c510d3",
   "metadata": {},
   "outputs": [],
   "source": [
    "!xrdcp root://xrootd-cms.infn.it//store/user/apiccine/VBS/VBS_SSWW_TT_polarization_TuneCP5_13TeV-madgraph-pythia8/VBS_SSWW_TT_SM_2017/210420_124141/0000/tree_hadd_11.root ."
   ]
  },
  {
   "cell_type": "code",
   "execution_count": null,
   "id": "a029797f-b776-4893-a091-91d61f5a752e",
   "metadata": {},
   "outputs": [],
   "source": [
    "#!xrdcp root://xrootd-cms.infn.it//store/user/apiccine/VBS/VBS_SSWW_LL_polarization_TuneCP5_13TeV-madgraph-pythia8/VBS_SSWW_LL_SM_2017/210420_123836/0000/tree_hadd_1.root ."
   ]
  },
  {
   "cell_type": "code",
   "execution_count": null,
   "id": "b8912fc3-adf3-4ae0-aa16-f488ab068dbb",
   "metadata": {},
   "outputs": [],
   "source": []
  },
  {
   "cell_type": "code",
   "execution_count": null,
   "id": "c87585bd-bbbb-45b8-acf8-b7c4548196ae",
   "metadata": {},
   "outputs": [],
   "source": [
    "\n",
    "\n",
    "\n",
    "\n"
   ]
  },
  {
   "cell_type": "code",
   "execution_count": 11,
   "id": "b066e32c-a8f4-4bc4-b839-9acd9bb2cc96",
   "metadata": {},
   "outputs": [],
   "source": [
    "chain = [\"tree_hadd_16.root\", \"tree_hadd_18.root\",  \"tree_hadd_11.root\"] #\"tree_hadd_1.root\"]"
   ]
  },
  {
   "cell_type": "code",
   "execution_count": 12,
   "id": "63b94b3e-e0a2-462d-b290-5df0f38cf47a",
   "metadata": {},
   "outputs": [],
   "source": [
    "df = ROOT.RDataFrame(\"Events\",chain)\n",
    "#df = ROOT.RDataFrame(\"Events\", \"root://xrootd-cms.infn.it//store/user/ttedesch/VBS_PG/VBS_SSWW_LL_polarization_TuneCP5_13TeV-madgraph-pythia8/VBS_SSWW_LL_SM_2017/210908_151157/0000/tree_hadd_2.root\",)\n",
    "df_goodvertex = df.Filter(\"Flag_goodVertices && Flag_globalSuperTightHalo2016Filter && Flag_HBHENoiseFilter && Flag_HBHENoiseIsoFilter && Flag_EcalDeadCellTriggerPrimitiveFilter && Flag_BadPFMuonFilter && Flag_ecalBadCalibFilterV2\", \"Good vertex selection\")\n",
    "df_trigger = df_goodvertex.Filter(\"HLT_IsoMu27 || HLT_Mu50 || HLT_Ele35_WPTight_Gsf || HLT_Ele32_WPTight_Gsf_L1DoubleEG || HLT_Photon200\", \"Leptonic trigger\")\n",
    "df_atleast2Jets = df_trigger.Filter(\"nJet>=2\", \"At least two jets\")\n",
    "df_GenJets = df_atleast2Jets.Define(\"GenJet_idx\", \"SelectVBSQGenJet(GenPart_pdgId, GenPart_genPartIdxMother, GenPart_pt, GenPart_eta, GenJet_partonFlavour, GenJet_pt, GenJet_eta)\")\n",
    "df_GenJets_filtered = df_GenJets.Filter(\"GenJet_idx[0] != -9999\", \"Problem with genParts or GenJets\")\n",
    "df_atleast2GenJets = df_GenJets_filtered.Filter(\"atleast2Jets(GenJet_idx)\",\"At least 2 GenJets\")\n",
    "df_GoodJets = df_atleast2GenJets.Define(\"GoodJets_idx\", \"GoodJets(Jet_jetId, Jet_eta, Jet_pt, Jet_puId)\")\n",
    "df_atleast2GoodJets = df_GoodJets.Filter(\"atleast2GoodJets(GoodJets_idx)\", \"At least two good jets\")\n",
    "df_VBSjets = df_atleast2GoodJets.Define(\"VBSJet_idx\", \"SelectVBSJets_invmass(Jet_pt, Jet_eta, Jet_phi, Jet_mass, GoodJets_idx)\")\n",
    "df_2VBSjets = df_VBSjets.Filter(\"VBSJet_idx[0] != VBSJet_idx[1]\", \"2 VBS jets\").Define(\"mjj\", \"GetInvMass(Jet_pt, Jet_eta, Jet_phi, Jet_mass, VBSJet_idx)\").Filter(\"mjj>500\", \"Good invariant mass\").Define(\"Leadingjet_eta\", \"GetLeading(Jet_eta, VBSJet_idx)\").Define(\"SubLeadingjet_eta\", \"GetSubLeading(Jet_eta, VBSJet_idx)\").Filter(\"abs(Leadingjet_eta - SubLeadingjet_eta) > 2.5\", \"Good deltaEta\")\n",
    "df_defineGenMatching = df_2VBSjets.Define(\"leadjet_IsGenMatched\", \"IsGenMatched(GenJet_idx[0], Jet_genJetIdx[VBSJet_idx[0]])\")\\\n",
    "                                         .Define(\"subleadjet_IsGenMatched\", \"IsGenMatched(GenJet_idx[1], Jet_genJetIdx[VBSJet_idx[1]])\")\\\n",
    "                                         #.Filter(\"HLT_IsoMu27 || HLT_Mu50 || HLT_Ele35_WPTight_Gsf || HLT_Ele32_WPTight_Gsf_L1DoubleEG || HLT_Photon200\", \"Leptonic trigger\")\n",
    "df_Genmatched = df_defineGenMatching.Filter(\"leadjet_IsGenMatched == 1 && subleadjet_IsGenMatched == 1\", \"Genmatching\")"
   ]
  },
  {
   "cell_type": "code",
   "execution_count": 13,
   "id": "fe61cb5f-4be7-4aa7-9a52-1b66cf7998ac",
   "metadata": {},
   "outputs": [
    {
     "name": "stdout",
     "output_type": "stream",
     "text": [
      "Good vertex selection: pass=152169     all=152299     -- eff=99.91 % cumulative eff=99.91 %\n",
      "Leptonic trigger: pass=152169     all=152169     -- eff=100.00 % cumulative eff=99.91 %\n",
      "At least two jets: pass=152168     all=152169     -- eff=100.00 % cumulative eff=99.91 %\n",
      "Problem with genParts or GenJets: pass=130331     all=152168     -- eff=85.65 % cumulative eff=85.58 %\n",
      "At least 2 GenJets: pass=130331     all=130331     -- eff=100.00 % cumulative eff=85.58 %\n",
      "At least two good jets: pass=127012     all=130331     -- eff=97.45 % cumulative eff=83.40 %\n",
      "2 VBS jets: pass=102164     all=127012     -- eff=80.44 % cumulative eff=67.08 %\n",
      "Good invariant mass: pass=87368      all=102164     -- eff=85.52 % cumulative eff=57.37 %\n",
      "Good deltaEta: pass=87367      all=87368      -- eff=100.00 % cumulative eff=57.37 %\n",
      "Genmatching: pass=60667      all=87367      -- eff=69.44 % cumulative eff=39.83 %\n"
     ]
    }
   ],
   "source": [
    "allCutsReport = df.Report()\n",
    "allCutsReport.Print()"
   ]
  },
  {
   "cell_type": "code",
   "execution_count": 14,
   "id": "ee7f5fcb-f2c0-485d-bfd0-fdbbf4d29ffa",
   "metadata": {},
   "outputs": [],
   "source": [
    "#df = ROOT.RDataFrame(\"Events\", \"VBS_SSWW_LL/AA101ED1-3427-E44D-9D6E-82569A5A589C.root \")\n",
    "df = ROOT.RDataFrame(\"Events\",chain)\n",
    "#df = ROOT.RDataFrame(\"Events\", \"root://xrootd-cms.infn.it//store/user/ttedesch/VBS_PG/VBS_SSWW_LL_polarization_TuneCP5_13TeV-madgraph-pythia8/VBS_SSWW_LL_SM_2017/210908_151157/0000/tree_hadd_2.root\",)\n",
    "df_goodvertex = df.Filter(\"Flag_goodVertices && Flag_globalSuperTightHalo2016Filter && Flag_HBHENoiseFilter && Flag_HBHENoiseIsoFilter && Flag_EcalDeadCellTriggerPrimitiveFilter && Flag_BadPFMuonFilter && Flag_ecalBadCalibFilterV2\", \"Good vertex selection\")\n",
    "df_trigger = df_goodvertex.Filter(\"HLT_IsoMu27 || HLT_Mu50 || HLT_Ele35_WPTight_Gsf || HLT_Ele32_WPTight_Gsf_L1DoubleEG || HLT_Photon200\", \"Leptonic trigger\")\n",
    "df_atleast2Jets = df_trigger.Filter(\"nJet>=2\", \"At least two jets\")\n",
    "df_GenJets = df_atleast2Jets.Define(\"GenJet_idx\", \"SelectVBSQGenJet(GenPart_pdgId, GenPart_genPartIdxMother, GenPart_pt, GenPart_eta, GenJet_partonFlavour, GenJet_pt, GenJet_eta)\")\n",
    "df_GenJets_filtered = df_GenJets.Filter(\"GenJet_idx[0] != -9999\", \"Problem with genParts or GenJets\")\n",
    "df_atleast2GenJets = df_GenJets_filtered.Filter(\"atleast2Jets(GenJet_idx)\",\"At least 2 GenJets\")\n",
    "df_GoodJets = df_atleast2GenJets.Define(\"GoodJets_idx\", \"GoodJets(Jet_jetId, Jet_eta, Jet_pt, Jet_puId)\")\n",
    "df_atleast2GoodJets = df_GoodJets.Filter(\"atleast2GoodJets(GoodJets_idx)\", \"At least two good jets\")\n",
    "df_VBSjets = df_atleast2GoodJets.Define(\"VBSJet_idx\", \"SelectVBSJets_tagger(Jet_pt, Jet_eta, Jet_phi, Jet_mass, Jet_area, Jet_chHEF, Jet_muEF, Jet_neEmEF, Jet_neHEF, Jet_jetId, Jet_nConstituents, Jet_nElectrons, Jet_nMuons, GoodJets_idx)\")\n",
    "df_2VBSjets = df_VBSjets.Filter(\"VBSJet_idx[0] != VBSJet_idx[1]\", \"2 VBS jets\").Define(\"mjj\", \"GetInvMass(Jet_pt, Jet_eta, Jet_phi, Jet_mass, VBSJet_idx)\").Filter(\"mjj>500\", \"Good invariant mass\").Define(\"Leadingjet_eta\", \"GetLeading(Jet_eta, VBSJet_idx)\").Define(\"SubLeadingjet_eta\", \"GetSubLeading(Jet_eta, VBSJet_idx)\").Filter(\"abs(Leadingjet_eta - SubLeadingjet_eta) > 2.5\", \"Good deltaEta\")\n",
    "df_defineGenMatching = df_2VBSjets.Define(\"leadjet_IsGenMatched\", \"IsGenMatched(GenJet_idx[0], Jet_genJetIdx[VBSJet_idx[0]])\")\\\n",
    "                                         .Define(\"subleadjet_IsGenMatched\", \"IsGenMatched(GenJet_idx[1], Jet_genJetIdx[VBSJet_idx[1]])\")\\\n",
    "                                         #.Filter(\"HLT_IsoMu27 || HLT_Mu50 || HLT_Ele35_WPTight_Gsf || HLT_Ele32_WPTight_Gsf_L1DoubleEG || HLT_Photon200\", \"Leptonic trigger\")\n",
    "df_Genmatched = df_defineGenMatching.Filter(\"leadjet_IsGenMatched == 1 && subleadjet_IsGenMatched == 1\", \"Genmatching\")"
   ]
  },
  {
   "cell_type": "code",
   "execution_count": 15,
   "id": "4160bae4-c505-4768-9b6d-e9bf3a8b7314",
   "metadata": {},
   "outputs": [
    {
     "name": "stdout",
     "output_type": "stream",
     "text": [
      "Good vertex selection: pass=152169     all=152299     -- eff=99.91 % cumulative eff=99.91 %\n",
      "Leptonic trigger: pass=152169     all=152169     -- eff=100.00 % cumulative eff=99.91 %\n",
      "At least two jets: pass=152168     all=152169     -- eff=100.00 % cumulative eff=99.91 %\n",
      "Problem with genParts or GenJets: pass=130331     all=152168     -- eff=85.65 % cumulative eff=85.58 %\n",
      "At least 2 GenJets: pass=130331     all=130331     -- eff=100.00 % cumulative eff=85.58 %\n",
      "At least two good jets: pass=127012     all=130331     -- eff=97.45 % cumulative eff=83.40 %\n",
      "2 VBS jets: pass=87368      all=127012     -- eff=68.79 % cumulative eff=57.37 %\n",
      "Good invariant mass: pass=87368      all=87368      -- eff=100.00 % cumulative eff=57.37 %\n",
      "Good deltaEta: pass=87367      all=87368      -- eff=100.00 % cumulative eff=57.37 %\n",
      "Genmatching: pass=59657      all=87367      -- eff=68.28 % cumulative eff=39.17 %\n"
     ]
    }
   ],
   "source": [
    "allCutsReport = df.Report()\n",
    "allCutsReport.Print()"
   ]
  },
  {
   "cell_type": "code",
   "execution_count": 16,
   "id": "af7797f4-feec-4e7a-afe1-e46279e2266f",
   "metadata": {},
   "outputs": [],
   "source": [
    "#df = ROOT.RDataFrame(\"Events\", \"VBS_SSWW_LL/AA101ED1-3427-E44D-9D6E-82569A5A589C.root \")\n",
    "df = ROOT.RDataFrame(\"Events\",[\"tree_hadd_17.root\"])\n",
    "#df = ROOT.RDataFrame(\"Events\", \"root://xrootd-cms.infn.it//store/user/ttedesch/VBS_PG/VBS_SSWW_LL_polarization_TuneCP5_13TeV-madgraph-pythia8/VBS_SSWW_LL_SM_2017/210908_151157/0000/tree_hadd_2.root\",)\n",
    "df_goodvertex = df.Filter(\"Flag_goodVertices && Flag_globalSuperTightHalo2016Filter && Flag_HBHENoiseFilter && Flag_HBHENoiseIsoFilter && Flag_EcalDeadCellTriggerPrimitiveFilter && Flag_BadPFMuonFilter && Flag_ecalBadCalibFilterV2\", \"Good vertex selection\")\n",
    "df_trigger = df_goodvertex.Filter(\"HLT_IsoMu27 || HLT_Mu50 || HLT_Ele35_WPTight_Gsf || HLT_Ele32_WPTight_Gsf_L1DoubleEG || HLT_Photon200\", \"Leptonic trigger\")\n",
    "df_atleast2Jets = df_trigger.Filter(\"nJet>=2\", \"At least two jets\")\n",
    "df_GenJets = df_atleast2Jets.Define(\"GenJet_idx\", \"SelectVBSQGenJet(GenPart_pdgId, GenPart_genPartIdxMother, GenPart_pt, GenPart_eta, GenJet_partonFlavour, GenJet_pt, GenJet_eta)\")\n",
    "df_GenJets_filtered = df_GenJets.Filter(\"GenJet_idx[0] != -9999\", \"Problem with genParts or GenJets\")\n",
    "df_atleast2GenJets = df_GenJets_filtered.Filter(\"atleast2Jets(GenJet_idx)\",\"At least 2 GenJets\")\n",
    "df_GoodJets = df_atleast2GenJets.Define(\"GoodJets_idx\", \"GoodJets(Jet_jetId, Jet_eta, Jet_pt, Jet_puId)\")\n",
    "df_atleast2GoodJets = df_GoodJets.Filter(\"atleast2GoodJets(GoodJets_idx)\", \"At least two good jets\")\n",
    "df_VBSjets = df_atleast2GoodJets.Define(\"VBSJet_idx\", \"SelectVBSJets_tagger_mjj(Jet_pt, Jet_eta, Jet_phi, Jet_mass, Jet_area, Jet_chHEF, Jet_muEF, Jet_neEmEF, Jet_neHEF, Jet_jetId, Jet_nConstituents, Jet_nElectrons, Jet_nMuons, GoodJets_idx)\")\n",
    "df_2VBSjets = df_VBSjets.Filter(\"VBSJet_idx[0] != VBSJet_idx[1]\", \"2 VBS jets\").Define(\"mjj\", \"GetInvMass(Jet_pt, Jet_eta, Jet_phi, Jet_mass, VBSJet_idx)\").Filter(\"mjj>500\", \"Good invariant mass\").Define(\"Leadingjet_eta\", \"GetLeading(Jet_eta, VBSJet_idx)\").Define(\"SubLeadingjet_eta\", \"GetSubLeading(Jet_eta, VBSJet_idx)\").Filter(\"abs(Leadingjet_eta - SubLeadingjet_eta) > 2.5\", \"Good deltaEta\")\n",
    "df_defineGenMatching = df_2VBSjets.Define(\"leadjet_IsGenMatched\", \"IsGenMatched(GenJet_idx[0], Jet_genJetIdx[VBSJet_idx[0]])\")\\\n",
    "                                         .Define(\"subleadjet_IsGenMatched\", \"IsGenMatched(GenJet_idx[1], Jet_genJetIdx[VBSJet_idx[1]])\")\\\n",
    "                                         #.Filter(\"HLT_IsoMu27 || HLT_Mu50 || HLT_Ele35_WPTight_Gsf || HLT_Ele32_WPTight_Gsf_L1DoubleEG || HLT_Photon200\", \"Leptonic trigger\")\n",
    "df_Genmatched = df_defineGenMatching.Filter(\"leadjet_IsGenMatched == 1 && subleadjet_IsGenMatched == 1\", \"Genmatching\")"
   ]
  },
  {
   "cell_type": "code",
   "execution_count": 17,
   "id": "da5acd58-045a-4d0d-8f5d-b641a109e739",
   "metadata": {},
   "outputs": [
    {
     "name": "stdout",
     "output_type": "stream",
     "text": [
      "Good vertex selection: pass=32564      all=32578      -- eff=99.96 % cumulative eff=99.96 %\n",
      "Leptonic trigger: pass=32564      all=32564      -- eff=100.00 % cumulative eff=99.96 %\n",
      "At least two jets: pass=32562      all=32564      -- eff=99.99 % cumulative eff=99.95 %\n",
      "Problem with genParts or GenJets: pass=27744      all=32562      -- eff=85.20 % cumulative eff=85.16 %\n",
      "At least 2 GenJets: pass=27744      all=27744      -- eff=100.00 % cumulative eff=85.16 %\n",
      "At least two good jets: pass=26971      all=27744      -- eff=97.21 % cumulative eff=82.79 %\n",
      "2 VBS jets: pass=18512      all=26971      -- eff=68.64 % cumulative eff=56.82 %\n",
      "Good invariant mass: pass=18512      all=18512      -- eff=100.00 % cumulative eff=56.82 %\n",
      "Good deltaEta: pass=18512      all=18512      -- eff=100.00 % cumulative eff=56.82 %\n",
      "Genmatching: pass=13489      all=18512      -- eff=72.87 % cumulative eff=41.41 %\n"
     ]
    }
   ],
   "source": [
    "allCutsReport = df.Report()\n",
    "allCutsReport.Print()"
   ]
  },
  {
   "cell_type": "code",
   "execution_count": 18,
   "id": "f43f1caa-d636-4352-8a32-5862608da40e",
   "metadata": {},
   "outputs": [],
   "source": [
    "#df = ROOT.RDataFrame(\"Events\", \"VBS_SSWW_LL/AA101ED1-3427-E44D-9D6E-82569A5A589C.root \")\n",
    "df = ROOT.RDataFrame(\"Events\",chain)\n",
    "#df = ROOT.RDataFrame(\"Events\", \"root://cms-xrd-global.cern.ch//store/user/ttedesch/VBS_PG/VBS_SSWW_LL_polarization_TuneCP5_13TeV-madgraph-pythia8/VBS_SSWW_LL_SM_2017/210908_151157/0000/tree_hadd_2.root\",)\n",
    "df_goodvertex = df.Filter(\"Flag_goodVertices && Flag_globalSuperTightHalo2016Filter && Flag_HBHENoiseFilter && Flag_HBHENoiseIsoFilter && Flag_EcalDeadCellTriggerPrimitiveFilter && Flag_BadPFMuonFilter && Flag_ecalBadCalibFilterV2\", \"Good vertex selection\")\n",
    "df_trigger = df_goodvertex.Filter(\"HLT_IsoMu27 || HLT_Mu50 || HLT_Ele35_WPTight_Gsf || HLT_Ele32_WPTight_Gsf_L1DoubleEG || HLT_Photon200\", \"Leptonic trigger\")\n",
    "df_atleast2Jets = df_trigger.Filter(\"nJet>=2\", \"At least two jets\")\n",
    "df_GenJets = df_atleast2Jets.Define(\"GenJet_idx\", \"SelectVBSQGenJet_FlavourMatching(GenPart_pdgId, GenPart_genPartIdxMother, GenPart_pt, GenPart_eta, GenJet_partonFlavour, GenJet_pt, GenJet_eta)\")\n",
    "df_GenJets_filtered = df_GenJets.Filter(\"GenJet_idx[0] != -9999\", \"Problem with genParts or GenJets\")\n",
    "df_atleast2GenJets = df_GenJets_filtered.Filter(\"atleast2Jets(GenJet_idx)\",\"At least 2 GenJets\")\n",
    "df_GoodJets = df_atleast2GenJets.Define(\"GoodJets_idx\", \"GoodJets(Jet_jetId, Jet_eta, Jet_pt, Jet_puId)\")\n",
    "df_atleast2GoodJets = df_GoodJets.Filter(\"atleast2GoodJets(GoodJets_idx)\", \"At least two good jets\")\n",
    "df_VBSjets = df_atleast2GoodJets.Define(\"VBSJet_idx\", \"SelectVBSJets_invmass(Jet_pt, Jet_eta, Jet_phi, Jet_mass, GoodJets_idx)\")\n",
    "df_2VBSjets = df_VBSjets.Filter(\"VBSJet_idx[0] != VBSJet_idx[1]\", \"2 VBS jets\").Define(\"mjj\", \"GetInvMass(Jet_pt, Jet_eta, Jet_phi, Jet_mass, VBSJet_idx)\").Filter(\"mjj>500\", \"Good invariant mass\").Define(\"Leadingjet_eta\", \"GetLeading(Jet_eta, VBSJet_idx)\").Define(\"SubLeadingjet_eta\", \"GetSubLeading(Jet_eta, VBSJet_idx)\").Filter(\"abs(Leadingjet_eta - SubLeadingjet_eta) > 2.5\", \"Good deltaEta\")\n",
    "df_defineGenMatching = df_2VBSjets.Define(\"leadjet_IsGenMatched\", \"IsGenMatched(GenJet_idx[0], Jet_genJetIdx[VBSJet_idx[0]])\")\\\n",
    "                                         .Define(\"subleadjet_IsGenMatched\", \"IsGenMatched(GenJet_idx[1], Jet_genJetIdx[VBSJet_idx[1]])\")\\\n",
    "                                         #.Filter(\"HLT_IsoMu27 || HLT_Mu50 || HLT_Ele35_WPTight_Gsf || HLT_Ele32_WPTight_Gsf_L1DoubleEG || HLT_Photon200\", \"Leptonic trigger\")\n",
    "df_Genmatched = df_defineGenMatching.Filter(\"leadjet_IsGenMatched == 1 && subleadjet_IsGenMatched == 1\", \"Genmatching\")"
   ]
  },
  {
   "cell_type": "code",
   "execution_count": 19,
   "id": "a9f08514-de8a-45ea-a393-b284747d7f8b",
   "metadata": {},
   "outputs": [
    {
     "name": "stdout",
     "output_type": "stream",
     "text": [
      "Good vertex selection: pass=152169     all=152299     -- eff=99.91 % cumulative eff=99.91 %\n",
      "Leptonic trigger: pass=152169     all=152169     -- eff=100.00 % cumulative eff=99.91 %\n",
      "At least two jets: pass=152168     all=152169     -- eff=100.00 % cumulative eff=99.91 %\n",
      "Problem with genParts or GenJets: pass=56820      all=152168     -- eff=37.34 % cumulative eff=37.31 %\n",
      "At least 2 GenJets: pass=56820      all=56820      -- eff=100.00 % cumulative eff=37.31 %\n",
      "At least two good jets: pass=54805      all=56820      -- eff=96.45 % cumulative eff=35.99 %\n",
      "2 VBS jets: pass=42196      all=54805      -- eff=76.99 % cumulative eff=27.71 %\n",
      "Good invariant mass: pass=34754      all=42196      -- eff=82.36 % cumulative eff=22.82 %\n",
      "Good deltaEta: pass=34753      all=34754      -- eff=100.00 % cumulative eff=22.82 %\n",
      "Genmatching: pass=25253      all=34753      -- eff=72.66 % cumulative eff=16.58 %\n"
     ]
    }
   ],
   "source": [
    "allCutsReport = df.Report()\n",
    "allCutsReport.Print()"
   ]
  },
  {
   "cell_type": "code",
   "execution_count": 20,
   "id": "0c183897-2415-40de-a4eb-bcbc3bcc594f",
   "metadata": {},
   "outputs": [],
   "source": [
    "#df = ROOT.RDataFrame(\"Events\", \"VBS_SSWW_LL/AA101ED1-3427-E44D-9D6E-82569A5A589C.root \")\n",
    "df = ROOT.RDataFrame(\"Events\",chain)\n",
    "#df = ROOT.RDataFrame(\"Events\", \"root://cms-xrd-global.cern.ch//store/user/ttedesch/VBS_PG/VBS_SSWW_LL_polarization_TuneCP5_13TeV-madgraph-pythia8/VBS_SSWW_LL_SM_2017/210908_151157/0000/tree_hadd_2.root\",)\n",
    "df_goodvertex = df.Filter(\"Flag_goodVertices && Flag_globalSuperTightHalo2016Filter && Flag_HBHENoiseFilter && Flag_HBHENoiseIsoFilter && Flag_EcalDeadCellTriggerPrimitiveFilter && Flag_BadPFMuonFilter && Flag_ecalBadCalibFilterV2\", \"Good vertex selection\")\n",
    "df_trigger = df_goodvertex.Filter(\"HLT_IsoMu27 || HLT_Mu50 || HLT_Ele35_WPTight_Gsf || HLT_Ele32_WPTight_Gsf_L1DoubleEG || HLT_Photon200\", \"Leptonic trigger\")\n",
    "df_atleast2Jets = df_trigger.Filter(\"nJet>=2\", \"At least two jets\")\n",
    "df_GenJets = df_atleast2Jets.Define(\"GenJet_idx\", \"SelectVBSQGenJet_FlavourMatching(GenPart_pdgId, GenPart_genPartIdxMother, GenPart_pt, GenPart_eta, GenJet_partonFlavour, GenJet_pt, GenJet_eta)\")\n",
    "df_GenJets_filtered = df_GenJets.Filter(\"GenJet_idx[0] != -9999\", \"Problem with genParts or GenJets\")\n",
    "df_atleast2GenJets = df_GenJets_filtered.Filter(\"atleast2Jets(GenJet_idx)\",\"At least 2 GenJets\")\n",
    "df_GoodJets = df_atleast2GenJets.Define(\"GoodJets_idx\", \"GoodJets(Jet_jetId, Jet_eta, Jet_pt, Jet_puId)\")\n",
    "df_atleast2GoodJets = df_GoodJets.Filter(\"atleast2GoodJets(GoodJets_idx)\", \"At least two good jets\")\n",
    "df_VBSjets = df_atleast2GoodJets.Define(\"VBSJet_idx\", \"SelectVBSJets_tagger(Jet_pt, Jet_eta, Jet_phi, Jet_mass, Jet_area, Jet_chHEF, Jet_muEF, Jet_neEmEF, Jet_neHEF, Jet_jetId, Jet_nConstituents, Jet_nElectrons, Jet_nMuons, GoodJets_idx)\")\n",
    "df_2VBSjets = df_VBSjets.Filter(\"VBSJet_idx[0] != VBSJet_idx[1]\", \"2 VBS jets\").Define(\"mjj\", \"GetInvMass(Jet_pt, Jet_eta, Jet_phi, Jet_mass, VBSJet_idx)\").Filter(\"mjj>500\", \"Good invariant mass\").Define(\"Leadingjet_eta\", \"GetLeading(Jet_eta, VBSJet_idx)\").Define(\"SubLeadingjet_eta\", \"GetSubLeading(Jet_eta, VBSJet_idx)\").Filter(\"abs(Leadingjet_eta - SubLeadingjet_eta) > 2.5\", \"Good deltaEta\")\n",
    "df_defineGenMatching = df_2VBSjets.Define(\"leadjet_IsGenMatched\", \"IsGenMatched(GenJet_idx[0], Jet_genJetIdx[VBSJet_idx[0]])\")\\\n",
    "                                         .Define(\"subleadjet_IsGenMatched\", \"IsGenMatched(GenJet_idx[1], Jet_genJetIdx[VBSJet_idx[1]])\")\\\n",
    "                                         #.Filter(\"HLT_IsoMu27 || HLT_Mu50 || HLT_Ele35_WPTight_Gsf || HLT_Ele32_WPTight_Gsf_L1DoubleEG || HLT_Photon200\", \"Leptonic trigger\")\n",
    "df_Genmatched = df_defineGenMatching.Filter(\"leadjet_IsGenMatched == 1 && subleadjet_IsGenMatched == 1\", \"Genmatching\")"
   ]
  },
  {
   "cell_type": "code",
   "execution_count": 21,
   "id": "1089f63c-cd5f-4ac8-b8d0-cdab410df815",
   "metadata": {},
   "outputs": [
    {
     "name": "stdout",
     "output_type": "stream",
     "text": [
      "Good vertex selection: pass=152169     all=152299     -- eff=99.91 % cumulative eff=99.91 %\n",
      "Leptonic trigger: pass=152169     all=152169     -- eff=100.00 % cumulative eff=99.91 %\n",
      "At least two jets: pass=152168     all=152169     -- eff=100.00 % cumulative eff=99.91 %\n",
      "Problem with genParts or GenJets: pass=56820      all=152168     -- eff=37.34 % cumulative eff=37.31 %\n",
      "At least 2 GenJets: pass=56820      all=56820      -- eff=100.00 % cumulative eff=37.31 %\n",
      "At least two good jets: pass=54805      all=56820      -- eff=96.45 % cumulative eff=35.99 %\n",
      "2 VBS jets: pass=34754      all=54805      -- eff=63.41 % cumulative eff=22.82 %\n",
      "Good invariant mass: pass=34754      all=34754      -- eff=100.00 % cumulative eff=22.82 %\n",
      "Good deltaEta: pass=34753      all=34754      -- eff=100.00 % cumulative eff=22.82 %\n",
      "Genmatching: pass=25923      all=34753      -- eff=74.59 % cumulative eff=17.02 %\n"
     ]
    }
   ],
   "source": [
    "allCutsReport = df.Report()\n",
    "allCutsReport.Print()"
   ]
  },
  {
   "cell_type": "code",
   "execution_count": 22,
   "id": "fdfd0615-818b-4432-a0ab-73aad2fde625",
   "metadata": {},
   "outputs": [],
   "source": [
    "#df = ROOT.RDataFrame(\"Events\", \"VBS_SSWW_LL/AA101ED1-3427-E44D-9D6E-82569A5A589C.root \")\n",
    "df = ROOT.RDataFrame(\"Events\",chain)\n",
    "#df = ROOT.RDataFrame(\"Events\", \"root://cms-xrd-global.cern.ch//store/user/ttedesch/VBS_PG/VBS_SSWW_LL_polarization_TuneCP5_13TeV-madgraph-pythia8/VBS_SSWW_LL_SM_2017/210908_151157/0000/tree_hadd_2.root\",)\n",
    "df_goodvertex = df.Filter(\"Flag_goodVertices && Flag_globalSuperTightHalo2016Filter && Flag_HBHENoiseFilter && Flag_HBHENoiseIsoFilter && Flag_EcalDeadCellTriggerPrimitiveFilter && Flag_BadPFMuonFilter && Flag_ecalBadCalibFilterV2\", \"Good vertex selection\")\n",
    "df_trigger = df_goodvertex.Filter(\"HLT_IsoMu27 || HLT_Mu50 || HLT_Ele35_WPTight_Gsf || HLT_Ele32_WPTight_Gsf_L1DoubleEG || HLT_Photon200\", \"Leptonic trigger\")\n",
    "df_atleast2Jets = df_trigger.Filter(\"nJet>=2\", \"At least two jets\")\n",
    "df_GenJets = df_atleast2Jets.Define(\"GenJet_idx\", \"SelectVBSQGenJet_FlavourMatching(GenPart_pdgId, GenPart_genPartIdxMother, GenPart_pt, GenPart_eta, GenJet_partonFlavour, GenJet_pt, GenJet_eta)\")\n",
    "df_GenJets_filtered = df_GenJets.Filter(\"GenJet_idx[0] != -9999\", \"Problem with genParts or GenJets\")\n",
    "df_atleast2GenJets = df_GenJets_filtered.Filter(\"atleast2Jets(GenJet_idx)\",\"At least 2 GenJets\")\n",
    "df_GoodJets = df_atleast2GenJets.Define(\"GoodJets_idx\", \"GoodJets(Jet_jetId, Jet_eta, Jet_pt, Jet_puId)\")\n",
    "df_atleast2GoodJets = df_GoodJets.Filter(\"atleast2GoodJets(GoodJets_idx)\", \"At least two good jets\")\n",
    "df_VBSjets = df_atleast2GoodJets.Define(\"VBSJet_idx\", \"SelectVBSJets_tagger_mjj(Jet_pt, Jet_eta, Jet_phi, Jet_mass, Jet_area, Jet_chHEF, Jet_muEF, Jet_neEmEF, Jet_neHEF, Jet_jetId, Jet_nConstituents, Jet_nElectrons, Jet_nMuons, GoodJets_idx)\")\n",
    "df_2VBSjets = df_VBSjets.Filter(\"VBSJet_idx[0] != VBSJet_idx[1]\", \"2 VBS jets\").Define(\"mjj\", \"GetInvMass(Jet_pt, Jet_eta, Jet_phi, Jet_mass, VBSJet_idx)\").Filter(\"mjj>500\", \"Good invariant mass\").Define(\"Leadingjet_eta\", \"GetLeading(Jet_eta, VBSJet_idx)\").Define(\"SubLeadingjet_eta\", \"GetSubLeading(Jet_eta, VBSJet_idx)\").Filter(\"abs(Leadingjet_eta - SubLeadingjet_eta) > 2.5\", \"Good deltaEta\")\n",
    "df_defineGenMatching = df_2VBSjets.Define(\"leadjet_IsGenMatched\", \"IsGenMatched(GenJet_idx[0], Jet_genJetIdx[VBSJet_idx[0]])\")\\\n",
    "                                         .Define(\"subleadjet_IsGenMatched\", \"IsGenMatched(GenJet_idx[1], Jet_genJetIdx[VBSJet_idx[1]])\")\\\n",
    "                                         #.Filter(\"HLT_IsoMu27 || HLT_Mu50 || HLT_Ele35_WPTight_Gsf || HLT_Ele32_WPTight_Gsf_L1DoubleEG || HLT_Photon200\", \"Leptonic trigger\")\n",
    "df_Genmatched = df_defineGenMatching.Filter(\"leadjet_IsGenMatched == 1 && subleadjet_IsGenMatched == 1\", \"Genmatching\")"
   ]
  },
  {
   "cell_type": "code",
   "execution_count": 23,
   "id": "a9286a50-b3d3-4158-b089-dc23e05affe5",
   "metadata": {},
   "outputs": [
    {
     "name": "stdout",
     "output_type": "stream",
     "text": [
      "Good vertex selection: pass=152169     all=152299     -- eff=99.91 % cumulative eff=99.91 %\n",
      "Leptonic trigger: pass=152169     all=152169     -- eff=100.00 % cumulative eff=99.91 %\n",
      "At least two jets: pass=152168     all=152169     -- eff=100.00 % cumulative eff=99.91 %\n",
      "Problem with genParts or GenJets: pass=56820      all=152168     -- eff=37.34 % cumulative eff=37.31 %\n",
      "At least 2 GenJets: pass=56820      all=56820      -- eff=100.00 % cumulative eff=37.31 %\n",
      "At least two good jets: pass=54805      all=56820      -- eff=96.45 % cumulative eff=35.99 %\n",
      "2 VBS jets: pass=34754      all=54805      -- eff=63.41 % cumulative eff=22.82 %\n",
      "Good invariant mass: pass=34754      all=34754      -- eff=100.00 % cumulative eff=22.82 %\n",
      "Good deltaEta: pass=34753      all=34754      -- eff=100.00 % cumulative eff=22.82 %\n",
      "Genmatching: pass=26542      all=34753      -- eff=76.37 % cumulative eff=17.43 %\n"
     ]
    }
   ],
   "source": [
    "allCutsReport = df.Report()\n",
    "allCutsReport.Print()"
   ]
  },
  {
   "cell_type": "code",
   "execution_count": null,
   "id": "fdebc9b2-8929-43e4-80bb-9afd79882234",
   "metadata": {},
   "outputs": [],
   "source": []
  },
  {
   "cell_type": "code",
   "execution_count": null,
   "id": "5d86cf25-c5ba-45a8-956f-d2f59e5bafe4",
   "metadata": {},
   "outputs": [],
   "source": []
  },
  {
   "cell_type": "code",
   "execution_count": null,
   "id": "381c90be-7567-4695-98b1-39afec11d28a",
   "metadata": {},
   "outputs": [],
   "source": []
  }
 ],
 "metadata": {
  "kernelspec": {
   "display_name": "Python 3 (ipykernel)",
   "language": "python",
   "name": "python3"
  },
  "language_info": {
   "codemirror_mode": {
    "name": "ipython",
    "version": 3
   },
   "file_extension": ".py",
   "mimetype": "text/x-python",
   "name": "python",
   "nbconvert_exporter": "python",
   "pygments_lexer": "ipython3",
   "version": "3.9.7"
  }
 },
 "nbformat": 4,
 "nbformat_minor": 5
}
