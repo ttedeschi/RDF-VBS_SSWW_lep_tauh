{
 "cells": [
  {
   "cell_type": "code",
   "execution_count": 1,
   "id": "383765d0-bc5e-4b56-b63c-36ed38db94a1",
   "metadata": {},
   "outputs": [
    {
     "name": "stdout",
     "output_type": "stream",
     "text": [
      "Welcome to JupyROOT 6.25/01\n"
     ]
    }
   ],
   "source": [
    "import ROOT\n",
    "import os"
   ]
  },
  {
   "cell_type": "code",
   "execution_count": 2,
   "id": "0be45ce6-77c4-4ff3-bf50-fba38dee0ccc",
   "metadata": {},
   "outputs": [
    {
     "data": {
      "text/plain": [
       "True"
      ]
     },
     "execution_count": 2,
     "metadata": {},
     "output_type": "execute_result"
    }
   ],
   "source": [
    "ROOT.gInterpreter.Declare(\"\"\"\n",
    "#include \"ROOT/RDataFrame.hxx\"\n",
    "#include \"ROOT/RVec.hxx\"\n",
    "#include \"TCanvas.h\"\n",
    "#include \"TH1D.h\"\n",
    "#include \"TFile.h\"\n",
    "#include \"TH2D.h\"\n",
    "#include \"TLatex.h\"\n",
    "#include \"Math/Vector4D.h\"\n",
    "#include <Math/GenVector/PtEtaPhiM4D.h> \n",
    "#include \"TStyle.h\"\n",
    "#include <map>\n",
    "\n",
    "using namespace ROOT::VecOps;\n",
    "using RNode = ROOT::RDF::RNode;\n",
    "\n",
    "using rvec_f = const RVec<float> &;\n",
    "using rvec_i = const RVec<int> &;\n",
    "using rvec_b = const RVec<bool> &;\n",
    "\n",
    "const float PT_CUT_JET= 30;\n",
    "\n",
    "RVec<size_t> GoodJets(rvec_i jetId, rvec_f eta, rvec_f pt, rvec_i puId){\n",
    "   RVec<int> idx;\n",
    "   for (size_t i = 0; i < pt.size(); i++) {\n",
    "      if (jetId[i] >= 2 && abs(eta[i]) < 5. && pt[i] > PT_CUT_JET && (pt[i] > 50. || (pt[i] <= 50. && puId[i] >= 7))) idx.emplace_back(i);\n",
    "   }\n",
    "   return idx;\n",
    "}\n",
    "\"\"\")"
   ]
  },
  {
   "cell_type": "code",
   "execution_count": 3,
   "id": "291605f9-4483-433e-8aaa-ffb98dbd4d9e",
   "metadata": {},
   "outputs": [
    {
     "data": {
      "text/html": [
       "<table style=\"border: 2px solid white;\">\n",
       "<tr>\n",
       "<td style=\"vertical-align: top; border: 0px solid white\">\n",
       "<h3 style=\"text-align: left;\">Client</h3>\n",
       "<ul style=\"text-align: left; list-style: none; margin: 0; padding: 0;\">\n",
       "  <li><b>Scheduler: </b>tcp://127.0.0.1:40605</li>\n",
       "  <li><b>Dashboard: </b><a href='http://127.0.0.1:8787/status' target='_blank'>http://127.0.0.1:8787/status</a></li>\n",
       "</ul>\n",
       "</td>\n",
       "<td style=\"vertical-align: top; border: 0px solid white\">\n",
       "<h3 style=\"text-align: left;\">Cluster</h3>\n",
       "<ul style=\"text-align: left; list-style:none; margin: 0; padding: 0;\">\n",
       "  <li><b>Workers: </b>2</li>\n",
       "  <li><b>Cores: </b>2</li>\n",
       "  <li><b>Memory: </b>4.29 GB</li>\n",
       "</ul>\n",
       "</td>\n",
       "</tr>\n",
       "</table>"
      ],
      "text/plain": [
       "<Client: 'tcp://127.0.0.1:40605' processes=2 threads=2, memory=4.29 GB>"
      ]
     },
     "execution_count": 3,
     "metadata": {},
     "output_type": "execute_result"
    }
   ],
   "source": [
    "from dask.distributed import Client\n",
    "client = Client()  # set up local cluster on your laptop\n",
    "client"
   ]
  },
  {
   "cell_type": "code",
   "execution_count": 4,
   "id": "cd72e104-844b-4f29-8940-244a47e24246",
   "metadata": {},
   "outputs": [
    {
     "name": "stdout",
     "output_type": "stream",
     "text": [
      "--2021-09-10 16:13:09--  https://cernbox.cern.ch/index.php/s/GhVAXXmSeA0FrN4/download\n",
      "Resolving cernbox.cern.ch (cernbox.cern.ch)... 128.142.32.38, 128.142.170.17, 128.142.53.35, ...\n",
      "Connecting to cernbox.cern.ch (cernbox.cern.ch)|128.142.32.38|:443... connected.\n",
      "HTTP request sent, awaiting response... 200 OK\n",
      "Length: 32094794 (31M) [application/root]\n",
      "Saving to: ‘test.root’\n",
      "\n",
      "100%[======================================>] 32,094,794  50.8MB/s   in 0.6s   \n",
      "\n",
      "Last-modified header invalid -- time-stamp ignored.\n",
      "2021-09-10 16:13:11 (50.8 MB/s) - ‘test.root’ saved [32094794/32094794]\n",
      "\n"
     ]
    }
   ],
   "source": [
    "!wget https://cernbox.cern.ch/index.php/s/GhVAXXmSeA0FrN4/download -O test.root"
   ]
  },
  {
   "cell_type": "code",
   "execution_count": 5,
   "id": "3fd51ed4-7cd5-4ede-a67e-cdba69ce1efd",
   "metadata": {},
   "outputs": [
    {
     "name": "stderr",
     "output_type": "stream",
     "text": [
      "Warning in <TClass::Init>: no dictionary for class edm::Hash<1> is available\n",
      "Warning in <TClass::Init>: no dictionary for class edm::ProcessHistory is available\n",
      "Warning in <TClass::Init>: no dictionary for class edm::ProcessConfiguration is available\n",
      "Warning in <TClass::Init>: no dictionary for class edm::ParameterSetBlob is available\n",
      "Warning in <TClass::Init>: no dictionary for class pair<edm::Hash<1>,edm::ParameterSetBlob> is available\n"
     ]
    },
    {
     "data": {
      "image/png": "[encoded data removed]",
      "text/plain": [
       "<IPython.core.display.Image object>"
      ]
     },
     "metadata": {},
     "output_type": "display_data"
    }
   ],
   "source": [
    "df = ROOT.RDataFrame(\"Events\",\"test.root\")\n",
    "\n",
    "df_goodvertex = df.Filter(\"Flag_goodVertices && Flag_globalSuperTightHalo2016Filter\", \"Good vertex selection\")\n",
    "df_GoodJets = df_goodvertex.Define(\"GoodJets_idx\", \"GoodJets(Jet_jetId, Jet_eta, Jet_pt, Jet_puId)\")\n",
    "h = df_GoodJets.Histo1D(\"MET_pt\")\n",
    "\n",
    "c = ROOT.TCanvas()\n",
    "h.Draw()\n",
    "c.Draw()"
   ]
  },
  {
   "cell_type": "code",
   "execution_count": 6,
   "id": "7e5137a2-d1ff-4b7e-8328-620fc2dadbf9",
   "metadata": {},
   "outputs": [
    {
     "name": "stderr",
     "output_type": "stream",
     "text": [
      "/usr/local/share/root6/lib/DistRDF/HeadNode.py:392: UserWarning: Number of partitions is greater than number of clusters in the dataset. Using 1 partition(s)\n",
      "  return Node.RangesBuilder(self)._get_clustered_ranges(self.treename, self.inputfiles, self._get_friend_info())\n"
     ]
    },
    {
     "data": {
      "image/png": "[encoded data removed]",
      "text/plain": [
       "<IPython.core.display.Image object>"
      ]
     },
     "metadata": {},
     "output_type": "display_data"
    }
   ],
   "source": [
    "RDataFrame = ROOT.RDF.Experimental.Distributed.Dask.RDataFrame\n",
    "\n",
    "df = RDataFrame(\"Events\",\n",
    "                \"test.root\",\n",
    "                npartitions=2,\n",
    "                daskclient=client)\n",
    "\n",
    "df_goodvertex = df.Filter(\"Flag_goodVertices && Flag_globalSuperTightHalo2016Filter\", \"Good vertex selection\")\n",
    "h = df_goodvertex.Histo1D(\"MET_pt\")\n",
    "\n",
    "c = ROOT.TCanvas()\n",
    "h.Draw()\n",
    "c.Draw()"
   ]
  },
  {
   "cell_type": "code",
   "execution_count": 7,
   "id": "f19fcc80-8248-4b99-81e1-11c80003ef53",
   "metadata": {},
   "outputs": [
    {
     "name": "stderr",
     "output_type": "stream",
     "text": [
      "distributed.nanny - WARNING - Restarting worker\n",
      "distributed.nanny - WARNING - Restarting worker\n",
      "distributed.nanny - WARNING - Restarting worker\n",
      "distributed.nanny - WARNING - Restarting worker\n"
     ]
    },
    {
     "ename": "KilledWorker",
     "evalue": "('mapper-c6c9723d-5272-4e62-85f6-3d8b4c5c054a', <Worker 'tcp://127.0.0.1:44809', name: 1, memory: 0, processing: 1>)",
     "output_type": "error",
     "traceback": [
      "\u001b[0;31m---------------------------------------------------------------------------\u001b[0m",
      "\u001b[0;31mKilledWorker\u001b[0m                              Traceback (most recent call last)",
      "\u001b[0;32m<ipython-input-7-836076ca0600>\u001b[0m in \u001b[0;36m<module>\u001b[0;34m\u001b[0m\n\u001b[1;32m     11\u001b[0m \u001b[0;34m\u001b[0m\u001b[0m\n\u001b[1;32m     12\u001b[0m \u001b[0mc\u001b[0m \u001b[0;34m=\u001b[0m \u001b[0mROOT\u001b[0m\u001b[0;34m.\u001b[0m\u001b[0mTCanvas\u001b[0m\u001b[0;34m(\u001b[0m\u001b[0;34m)\u001b[0m\u001b[0;34m\u001b[0m\u001b[0;34m\u001b[0m\u001b[0m\n\u001b[0;32m---> 13\u001b[0;31m \u001b[0mh\u001b[0m\u001b[0;34m.\u001b[0m\u001b[0mDraw\u001b[0m\u001b[0;34m(\u001b[0m\u001b[0;34m)\u001b[0m\u001b[0;34m\u001b[0m\u001b[0;34m\u001b[0m\u001b[0m\n\u001b[0m\u001b[1;32m     14\u001b[0m \u001b[0mc\u001b[0m\u001b[0;34m.\u001b[0m\u001b[0mDraw\u001b[0m\u001b[0;34m(\u001b[0m\u001b[0;34m)\u001b[0m\u001b[0;34m\u001b[0m\u001b[0;34m\u001b[0m\u001b[0m\n",
      "\u001b[0;32m/usr/local/share/root6/lib/DistRDF/Proxy.py\u001b[0m in \u001b[0;36m_call_action_result\u001b[0;34m(self, *args, **kwargs)\u001b[0m\n\u001b[1;32m    134\u001b[0m         \u001b[0mresult\u001b[0m \u001b[0mof\u001b[0m \u001b[0mthe\u001b[0m \u001b[0mcurrent\u001b[0m \u001b[0maction\u001b[0m \u001b[0mnode\u001b[0m\u001b[0;34m.\u001b[0m\u001b[0;34m\u001b[0m\u001b[0;34m\u001b[0m\u001b[0m\n\u001b[1;32m    135\u001b[0m         \"\"\"\n\u001b[0;32m--> 136\u001b[0;31m         \u001b[0;32mreturn\u001b[0m \u001b[0mgetattr\u001b[0m\u001b[0;34m(\u001b[0m\u001b[0mself\u001b[0m\u001b[0;34m.\u001b[0m\u001b[0mGetValue\u001b[0m\u001b[0;34m(\u001b[0m\u001b[0;34m)\u001b[0m\u001b[0;34m,\u001b[0m \u001b[0mself\u001b[0m\u001b[0;34m.\u001b[0m\u001b[0m_cur_attr\u001b[0m\u001b[0;34m)\u001b[0m\u001b[0;34m(\u001b[0m\u001b[0;34m*\u001b[0m\u001b[0margs\u001b[0m\u001b[0;34m,\u001b[0m \u001b[0;34m**\u001b[0m\u001b[0mkwargs\u001b[0m\u001b[0;34m)\u001b[0m\u001b[0;34m\u001b[0m\u001b[0;34m\u001b[0m\u001b[0m\n\u001b[0m\u001b[1;32m    137\u001b[0m \u001b[0;34m\u001b[0m\u001b[0m\n\u001b[1;32m    138\u001b[0m \u001b[0;34m\u001b[0m\u001b[0m\n",
      "\u001b[0;32m/usr/local/share/root6/lib/DistRDF/Proxy.py\u001b[0m in \u001b[0;36mGetValue\u001b[0;34m(self)\u001b[0m\n\u001b[1;32m    125\u001b[0m                 \u001b[0mheadnode\u001b[0m \u001b[0;34m=\u001b[0m \u001b[0mself\u001b[0m\u001b[0;34m.\u001b[0m\u001b[0mproxied_node\u001b[0m\u001b[0;34m.\u001b[0m\u001b[0mget_head\u001b[0m\u001b[0;34m(\u001b[0m\u001b[0;34m)\u001b[0m\u001b[0;34m\u001b[0m\u001b[0;34m\u001b[0m\u001b[0m\n\u001b[1;32m    126\u001b[0m                 \u001b[0mgenerator\u001b[0m \u001b[0;34m=\u001b[0m \u001b[0mComputationGraphGenerator\u001b[0m\u001b[0;34m(\u001b[0m\u001b[0mheadnode\u001b[0m\u001b[0;34m)\u001b[0m\u001b[0;34m\u001b[0m\u001b[0;34m\u001b[0m\u001b[0m\n\u001b[0;32m--> 127\u001b[0;31m                 \u001b[0mheadnode\u001b[0m\u001b[0;34m.\u001b[0m\u001b[0mbackend\u001b[0m\u001b[0;34m.\u001b[0m\u001b[0mexecute\u001b[0m\u001b[0;34m(\u001b[0m\u001b[0mgenerator\u001b[0m\u001b[0;34m)\u001b[0m\u001b[0;34m\u001b[0m\u001b[0;34m\u001b[0m\u001b[0m\n\u001b[0m\u001b[1;32m    128\u001b[0m \u001b[0;34m\u001b[0m\u001b[0m\n\u001b[1;32m    129\u001b[0m         \u001b[0;32mreturn\u001b[0m \u001b[0mself\u001b[0m\u001b[0;34m.\u001b[0m\u001b[0mproxied_node\u001b[0m\u001b[0;34m.\u001b[0m\u001b[0mvalue\u001b[0m\u001b[0;34m\u001b[0m\u001b[0;34m\u001b[0m\u001b[0m\n",
      "\u001b[0;32m/usr/local/share/root6/lib/DistRDF/Backends/Base.py\u001b[0m in \u001b[0;36mexecute\u001b[0;34m(self, generator)\u001b[0m\n\u001b[1;32m    270\u001b[0m \u001b[0;34m\u001b[0m\u001b[0m\n\u001b[1;32m    271\u001b[0m         \u001b[0;31m# Values produced after Map-Reduce\u001b[0m\u001b[0;34m\u001b[0m\u001b[0;34m\u001b[0m\u001b[0;34m\u001b[0m\u001b[0m\n\u001b[0;32m--> 272\u001b[0;31m         \u001b[0mvalues\u001b[0m \u001b[0;34m=\u001b[0m \u001b[0mself\u001b[0m\u001b[0;34m.\u001b[0m\u001b[0mProcessAndMerge\u001b[0m\u001b[0;34m(\u001b[0m\u001b[0mranges\u001b[0m\u001b[0;34m,\u001b[0m \u001b[0mmapper\u001b[0m\u001b[0;34m,\u001b[0m \u001b[0mreducer\u001b[0m\u001b[0;34m)\u001b[0m\u001b[0;34m\u001b[0m\u001b[0;34m\u001b[0m\u001b[0m\n\u001b[0m\u001b[1;32m    273\u001b[0m         \u001b[0;31m# List of action nodes in the same order as values\u001b[0m\u001b[0;34m\u001b[0m\u001b[0;34m\u001b[0m\u001b[0;34m\u001b[0m\u001b[0m\n\u001b[1;32m    274\u001b[0m         \u001b[0mnodes\u001b[0m \u001b[0;34m=\u001b[0m \u001b[0mgenerator\u001b[0m\u001b[0;34m.\u001b[0m\u001b[0mget_action_nodes\u001b[0m\u001b[0;34m(\u001b[0m\u001b[0;34m)\u001b[0m\u001b[0;34m\u001b[0m\u001b[0;34m\u001b[0m\u001b[0m\n",
      "\u001b[0;32m/usr/local/share/root6/lib/DistRDF/Backends/Dask/Backend.py\u001b[0m in \u001b[0;36mProcessAndMerge\u001b[0;34m(self, ranges, mapper, reducer)\u001b[0m\n\u001b[1;32m     73\u001b[0m \u001b[0;34m\u001b[0m\u001b[0m\n\u001b[1;32m     74\u001b[0m         \u001b[0mprogress\u001b[0m\u001b[0;34m(\u001b[0m\u001b[0mfinal_results\u001b[0m\u001b[0;34m)\u001b[0m\u001b[0;34m\u001b[0m\u001b[0;34m\u001b[0m\u001b[0m\n\u001b[0;32m---> 75\u001b[0;31m         \u001b[0;32mreturn\u001b[0m \u001b[0mfinal_results\u001b[0m\u001b[0;34m.\u001b[0m\u001b[0mcompute\u001b[0m\u001b[0;34m(\u001b[0m\u001b[0;34m)\u001b[0m\u001b[0;34m\u001b[0m\u001b[0;34m\u001b[0m\u001b[0m\n\u001b[0m\u001b[1;32m     76\u001b[0m \u001b[0;34m\u001b[0m\u001b[0m\n\u001b[1;32m     77\u001b[0m     \u001b[0;32mdef\u001b[0m \u001b[0mdistribute_unique_paths\u001b[0m\u001b[0;34m(\u001b[0m\u001b[0mself\u001b[0m\u001b[0;34m,\u001b[0m \u001b[0mpaths\u001b[0m\u001b[0;34m)\u001b[0m\u001b[0;34m:\u001b[0m\u001b[0;34m\u001b[0m\u001b[0;34m\u001b[0m\u001b[0m\n",
      "\u001b[0;32m/usr/local/lib/python3.6/site-packages/dask/base.py\u001b[0m in \u001b[0;36mcompute\u001b[0;34m(self, **kwargs)\u001b[0m\n\u001b[1;32m    281\u001b[0m         \u001b[0mdask\u001b[0m\u001b[0;34m.\u001b[0m\u001b[0mbase\u001b[0m\u001b[0;34m.\u001b[0m\u001b[0mcompute\u001b[0m\u001b[0;34m\u001b[0m\u001b[0;34m\u001b[0m\u001b[0m\n\u001b[1;32m    282\u001b[0m         \"\"\"\n\u001b[0;32m--> 283\u001b[0;31m         \u001b[0;34m(\u001b[0m\u001b[0mresult\u001b[0m\u001b[0;34m,\u001b[0m\u001b[0;34m)\u001b[0m \u001b[0;34m=\u001b[0m \u001b[0mcompute\u001b[0m\u001b[0;34m(\u001b[0m\u001b[0mself\u001b[0m\u001b[0;34m,\u001b[0m \u001b[0mtraverse\u001b[0m\u001b[0;34m=\u001b[0m\u001b[0;32mFalse\u001b[0m\u001b[0;34m,\u001b[0m \u001b[0;34m**\u001b[0m\u001b[0mkwargs\u001b[0m\u001b[0;34m)\u001b[0m\u001b[0;34m\u001b[0m\u001b[0;34m\u001b[0m\u001b[0m\n\u001b[0m\u001b[1;32m    284\u001b[0m         \u001b[0;32mreturn\u001b[0m \u001b[0mresult\u001b[0m\u001b[0;34m\u001b[0m\u001b[0;34m\u001b[0m\u001b[0m\n\u001b[1;32m    285\u001b[0m \u001b[0;34m\u001b[0m\u001b[0m\n",
      "\u001b[0;32m/usr/local/lib/python3.6/site-packages/dask/base.py\u001b[0m in \u001b[0;36mcompute\u001b[0;34m(*args, **kwargs)\u001b[0m\n\u001b[1;32m    563\u001b[0m         \u001b[0mpostcomputes\u001b[0m\u001b[0;34m.\u001b[0m\u001b[0mappend\u001b[0m\u001b[0;34m(\u001b[0m\u001b[0mx\u001b[0m\u001b[0;34m.\u001b[0m\u001b[0m__dask_postcompute__\u001b[0m\u001b[0;34m(\u001b[0m\u001b[0;34m)\u001b[0m\u001b[0;34m)\u001b[0m\u001b[0;34m\u001b[0m\u001b[0;34m\u001b[0m\u001b[0m\n\u001b[1;32m    564\u001b[0m \u001b[0;34m\u001b[0m\u001b[0m\n\u001b[0;32m--> 565\u001b[0;31m     \u001b[0mresults\u001b[0m \u001b[0;34m=\u001b[0m \u001b[0mschedule\u001b[0m\u001b[0;34m(\u001b[0m\u001b[0mdsk\u001b[0m\u001b[0;34m,\u001b[0m \u001b[0mkeys\u001b[0m\u001b[0;34m,\u001b[0m \u001b[0;34m**\u001b[0m\u001b[0mkwargs\u001b[0m\u001b[0;34m)\u001b[0m\u001b[0;34m\u001b[0m\u001b[0;34m\u001b[0m\u001b[0m\n\u001b[0m\u001b[1;32m    566\u001b[0m     \u001b[0;32mreturn\u001b[0m \u001b[0mrepack\u001b[0m\u001b[0;34m(\u001b[0m\u001b[0;34m[\u001b[0m\u001b[0mf\u001b[0m\u001b[0;34m(\u001b[0m\u001b[0mr\u001b[0m\u001b[0;34m,\u001b[0m \u001b[0;34m*\u001b[0m\u001b[0ma\u001b[0m\u001b[0;34m)\u001b[0m \u001b[0;32mfor\u001b[0m \u001b[0mr\u001b[0m\u001b[0;34m,\u001b[0m \u001b[0;34m(\u001b[0m\u001b[0mf\u001b[0m\u001b[0;34m,\u001b[0m \u001b[0ma\u001b[0m\u001b[0;34m)\u001b[0m \u001b[0;32min\u001b[0m \u001b[0mzip\u001b[0m\u001b[0;34m(\u001b[0m\u001b[0mresults\u001b[0m\u001b[0;34m,\u001b[0m \u001b[0mpostcomputes\u001b[0m\u001b[0;34m)\u001b[0m\u001b[0;34m]\u001b[0m\u001b[0;34m)\u001b[0m\u001b[0;34m\u001b[0m\u001b[0;34m\u001b[0m\u001b[0m\n\u001b[1;32m    567\u001b[0m \u001b[0;34m\u001b[0m\u001b[0m\n",
      "\u001b[0;32m/usr/local/lib/python3.6/site-packages/distributed/client.py\u001b[0m in \u001b[0;36mget\u001b[0;34m(self, dsk, keys, workers, allow_other_workers, resources, sync, asynchronous, direct, retries, priority, fifo_timeout, actors, **kwargs)\u001b[0m\n\u001b[1;32m   2652\u001b[0m                     \u001b[0mshould_rejoin\u001b[0m \u001b[0;34m=\u001b[0m \u001b[0;32mFalse\u001b[0m\u001b[0;34m\u001b[0m\u001b[0;34m\u001b[0m\u001b[0m\n\u001b[1;32m   2653\u001b[0m             \u001b[0;32mtry\u001b[0m\u001b[0;34m:\u001b[0m\u001b[0;34m\u001b[0m\u001b[0;34m\u001b[0m\u001b[0m\n\u001b[0;32m-> 2654\u001b[0;31m                 \u001b[0mresults\u001b[0m \u001b[0;34m=\u001b[0m \u001b[0mself\u001b[0m\u001b[0;34m.\u001b[0m\u001b[0mgather\u001b[0m\u001b[0;34m(\u001b[0m\u001b[0mpacked\u001b[0m\u001b[0;34m,\u001b[0m \u001b[0masynchronous\u001b[0m\u001b[0;34m=\u001b[0m\u001b[0masynchronous\u001b[0m\u001b[0;34m,\u001b[0m \u001b[0mdirect\u001b[0m\u001b[0;34m=\u001b[0m\u001b[0mdirect\u001b[0m\u001b[0;34m)\u001b[0m\u001b[0;34m\u001b[0m\u001b[0;34m\u001b[0m\u001b[0m\n\u001b[0m\u001b[1;32m   2655\u001b[0m             \u001b[0;32mfinally\u001b[0m\u001b[0;34m:\u001b[0m\u001b[0;34m\u001b[0m\u001b[0;34m\u001b[0m\u001b[0m\n\u001b[1;32m   2656\u001b[0m                 \u001b[0;32mfor\u001b[0m \u001b[0mf\u001b[0m \u001b[0;32min\u001b[0m \u001b[0mfutures\u001b[0m\u001b[0;34m.\u001b[0m\u001b[0mvalues\u001b[0m\u001b[0;34m(\u001b[0m\u001b[0;34m)\u001b[0m\u001b[0;34m:\u001b[0m\u001b[0;34m\u001b[0m\u001b[0;34m\u001b[0m\u001b[0m\n",
      "\u001b[0;32m/usr/local/lib/python3.6/site-packages/distributed/client.py\u001b[0m in \u001b[0;36mgather\u001b[0;34m(self, futures, errors, direct, asynchronous)\u001b[0m\n\u001b[1;32m   1967\u001b[0m                 \u001b[0mdirect\u001b[0m\u001b[0;34m=\u001b[0m\u001b[0mdirect\u001b[0m\u001b[0;34m,\u001b[0m\u001b[0;34m\u001b[0m\u001b[0;34m\u001b[0m\u001b[0m\n\u001b[1;32m   1968\u001b[0m                 \u001b[0mlocal_worker\u001b[0m\u001b[0;34m=\u001b[0m\u001b[0mlocal_worker\u001b[0m\u001b[0;34m,\u001b[0m\u001b[0;34m\u001b[0m\u001b[0;34m\u001b[0m\u001b[0m\n\u001b[0;32m-> 1969\u001b[0;31m                 \u001b[0masynchronous\u001b[0m\u001b[0;34m=\u001b[0m\u001b[0masynchronous\u001b[0m\u001b[0;34m,\u001b[0m\u001b[0;34m\u001b[0m\u001b[0;34m\u001b[0m\u001b[0m\n\u001b[0m\u001b[1;32m   1970\u001b[0m             )\n\u001b[1;32m   1971\u001b[0m \u001b[0;34m\u001b[0m\u001b[0m\n",
      "\u001b[0;32m/usr/local/lib/python3.6/site-packages/distributed/client.py\u001b[0m in \u001b[0;36msync\u001b[0;34m(self, func, asynchronous, callback_timeout, *args, **kwargs)\u001b[0m\n\u001b[1;32m    836\u001b[0m         \u001b[0;32melse\u001b[0m\u001b[0;34m:\u001b[0m\u001b[0;34m\u001b[0m\u001b[0;34m\u001b[0m\u001b[0m\n\u001b[1;32m    837\u001b[0m             return sync(\n\u001b[0;32m--> 838\u001b[0;31m                 \u001b[0mself\u001b[0m\u001b[0;34m.\u001b[0m\u001b[0mloop\u001b[0m\u001b[0;34m,\u001b[0m \u001b[0mfunc\u001b[0m\u001b[0;34m,\u001b[0m \u001b[0;34m*\u001b[0m\u001b[0margs\u001b[0m\u001b[0;34m,\u001b[0m \u001b[0mcallback_timeout\u001b[0m\u001b[0;34m=\u001b[0m\u001b[0mcallback_timeout\u001b[0m\u001b[0;34m,\u001b[0m \u001b[0;34m**\u001b[0m\u001b[0mkwargs\u001b[0m\u001b[0;34m\u001b[0m\u001b[0;34m\u001b[0m\u001b[0m\n\u001b[0m\u001b[1;32m    839\u001b[0m             )\n\u001b[1;32m    840\u001b[0m \u001b[0;34m\u001b[0m\u001b[0m\n",
      "\u001b[0;32m/usr/local/lib/python3.6/site-packages/distributed/utils.py\u001b[0m in \u001b[0;36msync\u001b[0;34m(loop, func, callback_timeout, *args, **kwargs)\u001b[0m\n\u001b[1;32m    349\u001b[0m     \u001b[0;32mif\u001b[0m \u001b[0merror\u001b[0m\u001b[0;34m[\u001b[0m\u001b[0;36m0\u001b[0m\u001b[0;34m]\u001b[0m\u001b[0;34m:\u001b[0m\u001b[0;34m\u001b[0m\u001b[0;34m\u001b[0m\u001b[0m\n\u001b[1;32m    350\u001b[0m         \u001b[0mtyp\u001b[0m\u001b[0;34m,\u001b[0m \u001b[0mexc\u001b[0m\u001b[0;34m,\u001b[0m \u001b[0mtb\u001b[0m \u001b[0;34m=\u001b[0m \u001b[0merror\u001b[0m\u001b[0;34m[\u001b[0m\u001b[0;36m0\u001b[0m\u001b[0;34m]\u001b[0m\u001b[0;34m\u001b[0m\u001b[0;34m\u001b[0m\u001b[0m\n\u001b[0;32m--> 351\u001b[0;31m         \u001b[0;32mraise\u001b[0m \u001b[0mexc\u001b[0m\u001b[0;34m.\u001b[0m\u001b[0mwith_traceback\u001b[0m\u001b[0;34m(\u001b[0m\u001b[0mtb\u001b[0m\u001b[0;34m)\u001b[0m\u001b[0;34m\u001b[0m\u001b[0;34m\u001b[0m\u001b[0m\n\u001b[0m\u001b[1;32m    352\u001b[0m     \u001b[0;32melse\u001b[0m\u001b[0;34m:\u001b[0m\u001b[0;34m\u001b[0m\u001b[0;34m\u001b[0m\u001b[0m\n\u001b[1;32m    353\u001b[0m         \u001b[0;32mreturn\u001b[0m \u001b[0mresult\u001b[0m\u001b[0;34m[\u001b[0m\u001b[0;36m0\u001b[0m\u001b[0;34m]\u001b[0m\u001b[0;34m\u001b[0m\u001b[0;34m\u001b[0m\u001b[0m\n",
      "\u001b[0;32m/usr/local/lib/python3.6/site-packages/distributed/utils.py\u001b[0m in \u001b[0;36mf\u001b[0;34m()\u001b[0m\n\u001b[1;32m    332\u001b[0m             \u001b[0;32mif\u001b[0m \u001b[0mcallback_timeout\u001b[0m \u001b[0;32mis\u001b[0m \u001b[0;32mnot\u001b[0m \u001b[0;32mNone\u001b[0m\u001b[0;34m:\u001b[0m\u001b[0;34m\u001b[0m\u001b[0;34m\u001b[0m\u001b[0m\n\u001b[1;32m    333\u001b[0m                 \u001b[0mfuture\u001b[0m \u001b[0;34m=\u001b[0m \u001b[0masyncio\u001b[0m\u001b[0;34m.\u001b[0m\u001b[0mwait_for\u001b[0m\u001b[0;34m(\u001b[0m\u001b[0mfuture\u001b[0m\u001b[0;34m,\u001b[0m \u001b[0mcallback_timeout\u001b[0m\u001b[0;34m)\u001b[0m\u001b[0;34m\u001b[0m\u001b[0;34m\u001b[0m\u001b[0m\n\u001b[0;32m--> 334\u001b[0;31m             \u001b[0mresult\u001b[0m\u001b[0;34m[\u001b[0m\u001b[0;36m0\u001b[0m\u001b[0;34m]\u001b[0m \u001b[0;34m=\u001b[0m \u001b[0;32myield\u001b[0m \u001b[0mfuture\u001b[0m\u001b[0;34m\u001b[0m\u001b[0;34m\u001b[0m\u001b[0m\n\u001b[0m\u001b[1;32m    335\u001b[0m         \u001b[0;32mexcept\u001b[0m \u001b[0mException\u001b[0m \u001b[0;32mas\u001b[0m \u001b[0mexc\u001b[0m\u001b[0;34m:\u001b[0m\u001b[0;34m\u001b[0m\u001b[0;34m\u001b[0m\u001b[0m\n\u001b[1;32m    336\u001b[0m             \u001b[0merror\u001b[0m\u001b[0;34m[\u001b[0m\u001b[0;36m0\u001b[0m\u001b[0;34m]\u001b[0m \u001b[0;34m=\u001b[0m \u001b[0msys\u001b[0m\u001b[0;34m.\u001b[0m\u001b[0mexc_info\u001b[0m\u001b[0;34m(\u001b[0m\u001b[0;34m)\u001b[0m\u001b[0;34m\u001b[0m\u001b[0;34m\u001b[0m\u001b[0m\n",
      "\u001b[0;32m/usr/local/lib64/python3.6/site-packages/tornado/gen.py\u001b[0m in \u001b[0;36mrun\u001b[0;34m(self)\u001b[0m\n\u001b[1;32m    760\u001b[0m \u001b[0;34m\u001b[0m\u001b[0m\n\u001b[1;32m    761\u001b[0m                     \u001b[0;32mtry\u001b[0m\u001b[0;34m:\u001b[0m\u001b[0;34m\u001b[0m\u001b[0;34m\u001b[0m\u001b[0m\n\u001b[0;32m--> 762\u001b[0;31m                         \u001b[0mvalue\u001b[0m \u001b[0;34m=\u001b[0m \u001b[0mfuture\u001b[0m\u001b[0;34m.\u001b[0m\u001b[0mresult\u001b[0m\u001b[0;34m(\u001b[0m\u001b[0;34m)\u001b[0m\u001b[0;34m\u001b[0m\u001b[0;34m\u001b[0m\u001b[0m\n\u001b[0m\u001b[1;32m    763\u001b[0m                     \u001b[0;32mexcept\u001b[0m \u001b[0mException\u001b[0m\u001b[0;34m:\u001b[0m\u001b[0;34m\u001b[0m\u001b[0;34m\u001b[0m\u001b[0m\n\u001b[1;32m    764\u001b[0m                         \u001b[0mexc_info\u001b[0m \u001b[0;34m=\u001b[0m \u001b[0msys\u001b[0m\u001b[0;34m.\u001b[0m\u001b[0mexc_info\u001b[0m\u001b[0;34m(\u001b[0m\u001b[0;34m)\u001b[0m\u001b[0;34m\u001b[0m\u001b[0;34m\u001b[0m\u001b[0m\n",
      "\u001b[0;32m/usr/local/lib/python3.6/site-packages/distributed/client.py\u001b[0m in \u001b[0;36m_gather\u001b[0;34m(self, futures, errors, direct, local_worker)\u001b[0m\n\u001b[1;32m   1826\u001b[0m                             \u001b[0mexc\u001b[0m \u001b[0;34m=\u001b[0m \u001b[0mCancelledError\u001b[0m\u001b[0;34m(\u001b[0m\u001b[0mkey\u001b[0m\u001b[0;34m)\u001b[0m\u001b[0;34m\u001b[0m\u001b[0;34m\u001b[0m\u001b[0m\n\u001b[1;32m   1827\u001b[0m                         \u001b[0;32melse\u001b[0m\u001b[0;34m:\u001b[0m\u001b[0;34m\u001b[0m\u001b[0;34m\u001b[0m\u001b[0m\n\u001b[0;32m-> 1828\u001b[0;31m                             \u001b[0;32mraise\u001b[0m \u001b[0mexception\u001b[0m\u001b[0;34m.\u001b[0m\u001b[0mwith_traceback\u001b[0m\u001b[0;34m(\u001b[0m\u001b[0mtraceback\u001b[0m\u001b[0;34m)\u001b[0m\u001b[0;34m\u001b[0m\u001b[0;34m\u001b[0m\u001b[0m\n\u001b[0m\u001b[1;32m   1829\u001b[0m                         \u001b[0;32mraise\u001b[0m \u001b[0mexc\u001b[0m\u001b[0;34m\u001b[0m\u001b[0;34m\u001b[0m\u001b[0m\n\u001b[1;32m   1830\u001b[0m                     \u001b[0;32mif\u001b[0m \u001b[0merrors\u001b[0m \u001b[0;34m==\u001b[0m \u001b[0;34m\"skip\"\u001b[0m\u001b[0;34m:\u001b[0m\u001b[0;34m\u001b[0m\u001b[0;34m\u001b[0m\u001b[0m\n",
      "\u001b[0;31mKilledWorker\u001b[0m: ('mapper-c6c9723d-5272-4e62-85f6-3d8b4c5c054a', <Worker 'tcp://127.0.0.1:44809', name: 1, memory: 0, processing: 1>)"
     ]
    },
    {
     "name": "stderr",
     "output_type": "stream",
     "text": [
      "Error in <TTree::SetCacheEntryRange>: No cache is available. Could not set entry range\n",
      "input_line_67:2:162: error: use of undeclared identifier 'GoodJets'\n",
      "auto lambda1 = [](ROOT::VecOps::RVec<Int_t>& var0, ROOT::VecOps::RVec<Float_t>& var1, ROOT::VecOps::RVec<Float_t>& var2, ROOT::VecOps::RVec<Int_t>& var3){return GoodJets(var0, var1, var2, var3)\n",
      "                                                                                                                                                                 ^\n",
      "input_line_71:2:162: error: use of undeclared identifier 'GoodJets'\n",
      "auto lambda1 = [](ROOT::VecOps::RVec<Int_t>& var0, ROOT::VecOps::RVec<Float_t>& var1, ROOT::VecOps::RVec<Float_t>& var2, ROOT::VecOps::RVec<Int_t>& var3){return GoodJets(var0, var1, var2, var3)\n",
      "                                                                                                                                                                 ^\n",
      "Error in <TClass::New>: cannot create object of class runtime_error\n",
      "Error in <TBufferFile::ReadObject>: could not create object of class runtime_error\n",
      " *** Break *** bus error\n",
      " Generating stack trace...\n",
      " 0x00007fe39164edfd in PyDict_GetItemWithError + 0x7d from /lib64/libpython3.6m.so.1.0\n",
      " 0x00007fe38ff4034a in <unknown> from /usr/lib64/python3.6/lib-dynload/_pickle.cpython-36m-x86_64-linux-gnu.so\n",
      " 0x00007fe38ff411e6 in <unknown> from /usr/lib64/python3.6/lib-dynload/_pickle.cpython-36m-x86_64-linux-gnu.so\n",
      " 0x00007fe38ff3d093 in <unknown> from /usr/lib64/python3.6/lib-dynload/_pickle.cpython-36m-x86_64-linux-gnu.so\n",
      " 0x00007fe38ff3d4ab in <unknown> from /usr/lib64/python3.6/lib-dynload/_pickle.cpython-36m-x86_64-linux-gnu.so\n",
      " 0x00007fe38ff4012e in <unknown> from /usr/lib64/python3.6/lib-dynload/_pickle.cpython-36m-x86_64-linux-gnu.so\n",
      " 0x00007fe38ff41044 in <unknown> from /usr/lib64/python3.6/lib-dynload/_pickle.cpython-36m-x86_64-linux-gnu.so\n",
      " 0x00007fe38ff403ea in <unknown> from /usr/lib64/python3.6/lib-dynload/_pickle.cpython-36m-x86_64-linux-gnu.so\n",
      " 0x00007fe38ff406ad in <unknown> from /usr/lib64/python3.6/lib-dynload/_pickle.cpython-36m-x86_64-linux-gnu.so\n",
      " 0x00007fe38ff408ba in <unknown> from /usr/lib64/python3.6/lib-dynload/_pickle.cpython-36m-x86_64-linux-gnu.so\n",
      " 0x00007fe39165a882 in _PyCFunction_FastCallDict + 0x1e2 from /lib64/libpython3.6m.so.1.0\n",
      " 0x00007fe39165aa76 in PyCFunction_Call + 0x86 from /lib64/libpython3.6m.so.1.0\n",
      " 0x00007fe3916c0f64 in _PyEval_EvalFrameDefault + 0x68f4 from /lib64/libpython3.6m.so.1.0\n",
      " 0x00007fe3916c56d2 in <unknown> from /lib64/libpython3.6m.so.1.0\n",
      " 0x00007fe3916c5fea in <unknown> from /lib64/libpython3.6m.so.1.0\n",
      " 0x00007fe3916c6273 in <unknown> from /lib64/libpython3.6m.so.1.0\n",
      " 0x00007fe3916bbc91 in _PyEval_EvalFrameDefault + 0x1621 from /lib64/libpython3.6m.so.1.0\n",
      " 0x00007fe3916c5317 in <unknown> from /lib64/libpython3.6m.so.1.0\n",
      " 0x00007fe3916c5fea in <unknown> from /lib64/libpython3.6m.so.1.0\n",
      " 0x00007fe3916c6273 in <unknown> from /lib64/libpython3.6m.so.1.0\n",
      " 0x00007fe3916baa17 in _PyEval_EvalFrameDefault + 0x3a7 from /lib64/libpython3.6m.so.1.0\n",
      " 0x00007fe3916c65ed in PyEval_EvalCodeEx + 0x22d from /lib64/libpython3.6m.so.1.0\n",
      " 0x00007fe391634d72 in <unknown> from /lib64/libpython3.6m.so.1.0\n",
      " 0x00007fe39161cb23 in PyObject_Call + 0x43 from /lib64/libpython3.6m.so.1.0\n",
      " 0x00007fe3916bc6a5 in _PyEval_EvalFrameDefault + 0x2035 from /lib64/libpython3.6m.so.1.0\n",
      " 0x00007fe3916c5f3a in <unknown> from /lib64/libpython3.6m.so.1.0\n",
      " 0x00007fe3916c6273 in <unknown> from /lib64/libpython3.6m.so.1.0\n",
      " 0x00007fe3916baa17 in _PyEval_EvalFrameDefault + 0x3a7 from /lib64/libpython3.6m.so.1.0\n",
      " 0x00007fe3916c65ed in PyEval_EvalCodeEx + 0x22d from /lib64/libpython3.6m.so.1.0\n",
      " 0x00007fe391634d72 in <unknown> from /lib64/libpython3.6m.so.1.0\n",
      " 0x00007fe39161cb23 in PyObject_Call + 0x43 from /lib64/libpython3.6m.so.1.0\n",
      " 0x00007fe3916bc6a5 in _PyEval_EvalFrameDefault + 0x2035 from /lib64/libpython3.6m.so.1.0\n",
      " 0x00007fe3916c5f3a in <unknown> from /lib64/libpython3.6m.so.1.0\n",
      " 0x00007fe3916c6273 in <unknown> from /lib64/libpython3.6m.so.1.0\n",
      " 0x00007fe3916baa17 in _PyEval_EvalFrameDefault + 0x3a7 from /lib64/libpython3.6m.so.1.0\n",
      " 0x00007fe3916c5f3a in <unknown> from /lib64/libpython3.6m.so.1.0\n",
      " 0x00007fe3916c6273 in <unknown> from /lib64/libpython3.6m.so.1.0\n",
      " 0x00007fe3916baa17 in _PyEval_EvalFrameDefault + 0x3a7 from /lib64/libpython3.6m.so.1.0\n",
      " 0x00007fe3916c726a in _PyFunction_FastCallDict + 0x15a from /lib64/libpython3.6m.so.1.0\n",
      " 0x00007fe39161cd9e in _PyObject_FastCallDict + 0x10e from /lib64/libpython3.6m.so.1.0\n",
      " 0x00007fe39161ceb1 in _PyObject_Call_Prepend + 0x61 from /lib64/libpython3.6m.so.1.0\n",
      " 0x00007fe39161cb23 in PyObject_Call + 0x43 from /lib64/libpython3.6m.so.1.0\n",
      " 0x00007fe391756ab2 in <unknown> from /lib64/libpython3.6m.so.1.0\n",
      " 0x00007fe391753f64 in <unknown> from /lib64/libpython3.6m.so.1.0\n",
      " 0x00007fe39135bea5 in <unknown> from /lib64/libpthread.so.0\n",
      " 0x00007fe39096a9fd in clone + 0x6d from /lib64/libc.so.6\n",
      " *** Break *** bus error\n",
      " Generating stack trace...\n",
      " 0x00007fe39164edfd in PyDict_GetItemWithError + 0x7d from /lib64/libpython3.6m.so.1.0\n",
      " 0x00007fe38ff4034a in <unknown> from /usr/lib64/python3.6/lib-dynload/_pickle.cpython-36m-x86_64-linux-gnu.so\n",
      " 0x00007fe38ff411e6 in <unknown> from /usr/lib64/python3.6/lib-dynload/_pickle.cpython-36m-x86_64-linux-gnu.so\n",
      " 0x00007fe38ff3d093 in <unknown> from /usr/lib64/python3.6/lib-dynload/_pickle.cpython-36m-x86_64-linux-gnu.so\n",
      " 0x00007fe38ff3d4ab in <unknown> from /usr/lib64/python3.6/lib-dynload/_pickle.cpython-36m-x86_64-linux-gnu.so\n",
      " 0x00007fe38ff4012e in <unknown> from /usr/lib64/python3.6/lib-dynload/_pickle.cpython-36m-x86_64-linux-gnu.so\n",
      " 0x00007fe38ff41044 in <unknown> from /usr/lib64/python3.6/lib-dynload/_pickle.cpython-36m-x86_64-linux-gnu.so\n",
      " 0x00007fe38ff403ea in <unknown> from /usr/lib64/python3.6/lib-dynload/_pickle.cpython-36m-x86_64-linux-gnu.so\n",
      " 0x00007fe38ff406ad in <unknown> from /usr/lib64/python3.6/lib-dynload/_pickle.cpython-36m-x86_64-linux-gnu.so\n",
      " 0x00007fe38ff408ba in <unknown> from /usr/lib64/python3.6/lib-dynload/_pickle.cpython-36m-x86_64-linux-gnu.so\n",
      " 0x00007fe39165a882 in _PyCFunction_FastCallDict + 0x1e2 from /lib64/libpython3.6m.so.1.0\n",
      " 0x00007fe39165aa76 in PyCFunction_Call + 0x86 from /lib64/libpython3.6m.so.1.0\n",
      " 0x00007fe3916c0f64 in _PyEval_EvalFrameDefault + 0x68f4 from /lib64/libpython3.6m.so.1.0\n",
      " 0x00007fe3916c56d2 in <unknown> from /lib64/libpython3.6m.so.1.0\n",
      " 0x00007fe3916c5fea in <unknown> from /lib64/libpython3.6m.so.1.0\n",
      " 0x00007fe3916c6273 in <unknown> from /lib64/libpython3.6m.so.1.0\n",
      " 0x00007fe3916bbc91 in _PyEval_EvalFrameDefault + 0x1621 from /lib64/libpython3.6m.so.1.0\n",
      " 0x00007fe3916c5317 in <unknown> from /lib64/libpython3.6m.so.1.0\n",
      " 0x00007fe3916c5fea in <unknown> from /lib64/libpython3.6m.so.1.0\n",
      " 0x00007fe3916c6273 in <unknown> from /lib64/libpython3.6m.so.1.0\n",
      " 0x00007fe3916baa17 in _PyEval_EvalFrameDefault + 0x3a7 from /lib64/libpython3.6m.so.1.0\n",
      " 0x00007fe3916c65ed in PyEval_EvalCodeEx + 0x22d from /lib64/libpython3.6m.so.1.0\n",
      " 0x00007fe391634d72 in <unknown> from /lib64/libpython3.6m.so.1.0\n",
      " 0x00007fe39161cb23 in PyObject_Call + 0x43 from /lib64/libpython3.6m.so.1.0\n",
      " 0x00007fe3916bc6a5 in _PyEval_EvalFrameDefault + 0x2035 from /lib64/libpython3.6m.so.1.0\n",
      " 0x00007fe3916c5f3a in <unknown> from /lib64/libpython3.6m.so.1.0\n",
      " 0x00007fe3916c6273 in <unknown> from /lib64/libpython3.6m.so.1.0\n",
      " 0x00007fe3916baa17 in _PyEval_EvalFrameDefault + 0x3a7 from /lib64/libpython3.6m.so.1.0\n",
      " 0x00007fe3916c65ed in PyEval_EvalCodeEx + 0x22d from /lib64/libpython3.6m.so.1.0\n",
      " 0x00007fe391634d72 in <unknown> from /lib64/libpython3.6m.so.1.0\n",
      " 0x00007fe39161cb23 in PyObject_Call + 0x43 from /lib64/libpython3.6m.so.1.0\n",
      " 0x00007fe3916bc6a5 in _PyEval_EvalFrameDefault + 0x2035 from /lib64/libpython3.6m.so.1.0\n",
      " 0x00007fe3916c5f3a in <unknown> from /lib64/libpython3.6m.so.1.0\n",
      " 0x00007fe3916c6273 in <unknown> from /lib64/libpython3.6m.so.1.0\n",
      " 0x00007fe3916baa17 in _PyEval_EvalFrameDefault + 0x3a7 from /lib64/libpython3.6m.so.1.0\n",
      " 0x00007fe3916c5f3a in <unknown> from /lib64/libpython3.6m.so.1.0\n",
      " 0x00007fe3916c6273 in <unknown> from /lib64/libpython3.6m.so.1.0\n",
      " 0x00007fe3916baa17 in _PyEval_EvalFrameDefault + 0x3a7 from /lib64/libpython3.6m.so.1.0\n",
      " 0x00007fe3916c726a in _PyFunction_FastCallDict + 0x15a from /lib64/libpython3.6m.so.1.0\n",
      " 0x00007fe39161cd9e in _PyObject_FastCallDict + 0x10e from /lib64/libpython3.6m.so.1.0\n",
      " 0x00007fe39161ceb1 in _PyObject_Call_Prepend + 0x61 from /lib64/libpython3.6m.so.1.0\n",
      " 0x00007fe39161cb23 in PyObject_Call + 0x43 from /lib64/libpython3.6m.so.1.0\n",
      " 0x00007fe391756ab2 in <unknown> from /lib64/libpython3.6m.so.1.0\n",
      " 0x00007fe391753f64 in <unknown> from /lib64/libpython3.6m.so.1.0\n",
      " 0x00007fe39135bea5 in <unknown> from /lib64/libpthread.so.0\n",
      " 0x00007fe39096a9fd in clone + 0x6d from /lib64/libc.so.6\n",
      "Error in <TTree::SetCacheEntryRange>: No cache is available. Could not set entry range\n",
      "input_line_67:2:162: error: use of undeclared identifier 'GoodJets'\n",
      "auto lambda1 = [](ROOT::VecOps::RVec<Int_t>& var0, ROOT::VecOps::RVec<Float_t>& var1, ROOT::VecOps::RVec<Float_t>& var2, ROOT::VecOps::RVec<Int_t>& var3){return GoodJets(var0, var1, var2, var3)\n",
      "                                                                                                                                                                 ^\n",
      "input_line_71:2:162: error: use of undeclared identifier 'GoodJets'\n",
      "auto lambda1 = [](ROOT::VecOps::RVec<Int_t>& var0, ROOT::VecOps::RVec<Float_t>& var1, ROOT::VecOps::RVec<Float_t>& var2, ROOT::VecOps::RVec<Int_t>& var3){return GoodJets(var0, var1, var2, var3)\n",
      "                                                                                                                                                                 ^\n",
      "Error in <TClass::New>: cannot create object of class runtime_error\n",
      "Error in <TBufferFile::ReadObject>: could not create object of class runtime_error\n",
      " *** Break *** bus error\n",
      " Generating stack trace...\n",
      " 0x00007f24f91bedfd in PyDict_GetItemWithError + 0x7d from /lib64/libpython3.6m.so.1.0\n",
      " 0x00007f24f7ab034a in <unknown> from /usr/lib64/python3.6/lib-dynload/_pickle.cpython-36m-x86_64-linux-gnu.so\n",
      " 0x00007f24f7ab11e6 in <unknown> from /usr/lib64/python3.6/lib-dynload/_pickle.cpython-36m-x86_64-linux-gnu.so\n",
      " 0x00007f24f7aad093 in <unknown> from /usr/lib64/python3.6/lib-dynload/_pickle.cpython-36m-x86_64-linux-gnu.so\n",
      " 0x00007f24f7aad4ab in <unknown> from /usr/lib64/python3.6/lib-dynload/_pickle.cpython-36m-x86_64-linux-gnu.so\n",
      " 0x00007f24f7ab012e in <unknown> from /usr/lib64/python3.6/lib-dynload/_pickle.cpython-36m-x86_64-linux-gnu.so\n",
      " 0x00007f24f7ab1044 in <unknown> from /usr/lib64/python3.6/lib-dynload/_pickle.cpython-36m-x86_64-linux-gnu.so\n",
      " 0x00007f24f7ab03ea in <unknown> from /usr/lib64/python3.6/lib-dynload/_pickle.cpython-36m-x86_64-linux-gnu.so\n",
      " 0x00007f24f7ab06ad in <unknown> from /usr/lib64/python3.6/lib-dynload/_pickle.cpython-36m-x86_64-linux-gnu.so\n",
      " 0x00007f24f7ab08ba in <unknown> from /usr/lib64/python3.6/lib-dynload/_pickle.cpython-36m-x86_64-linux-gnu.so\n",
      " 0x00007f24f91ca882 in _PyCFunction_FastCallDict + 0x1e2 from /lib64/libpython3.6m.so.1.0\n",
      " 0x00007f24f91caa76 in PyCFunction_Call + 0x86 from /lib64/libpython3.6m.so.1.0\n",
      " 0x00007f24f9230f64 in _PyEval_EvalFrameDefault + 0x68f4 from /lib64/libpython3.6m.so.1.0\n",
      " 0x00007f24f92356d2 in <unknown> from /lib64/libpython3.6m.so.1.0\n",
      " 0x00007f24f9235fea in <unknown> from /lib64/libpython3.6m.so.1.0\n",
      " 0x00007f24f9236273 in <unknown> from /lib64/libpython3.6m.so.1.0\n",
      " 0x00007f24f922bc91 in _PyEval_EvalFrameDefault + 0x1621 from /lib64/libpython3.6m.so.1.0\n",
      " 0x00007f24f9235317 in <unknown> from /lib64/libpython3.6m.so.1.0\n",
      " 0x00007f24f9235fea in <unknown> from /lib64/libpython3.6m.so.1.0\n",
      " 0x00007f24f9236273 in <unknown> from /lib64/libpython3.6m.so.1.0\n",
      " 0x00007f24f922aa17 in _PyEval_EvalFrameDefault + 0x3a7 from /lib64/libpython3.6m.so.1.0\n",
      " 0x00007f24f92365ed in PyEval_EvalCodeEx + 0x22d from /lib64/libpython3.6m.so.1.0\n",
      " 0x00007f24f91a4d72 in <unknown> from /lib64/libpython3.6m.so.1.0\n",
      " 0x00007f24f918cb23 in PyObject_Call + 0x43 from /lib64/libpython3.6m.so.1.0\n",
      " 0x00007f24f922c6a5 in _PyEval_EvalFrameDefault + 0x2035 from /lib64/libpython3.6m.so.1.0\n",
      " 0x00007f24f9235f3a in <unknown> from /lib64/libpython3.6m.so.1.0\n",
      " 0x00007f24f9236273 in <unknown> from /lib64/libpython3.6m.so.1.0\n",
      " 0x00007f24f922aa17 in _PyEval_EvalFrameDefault + 0x3a7 from /lib64/libpython3.6m.so.1.0\n",
      " 0x00007f24f92365ed in PyEval_EvalCodeEx + 0x22d from /lib64/libpython3.6m.so.1.0\n",
      " 0x00007f24f91a4d72 in <unknown> from /lib64/libpython3.6m.so.1.0\n",
      " 0x00007f24f918cb23 in PyObject_Call + 0x43 from /lib64/libpython3.6m.so.1.0\n",
      " 0x00007f24f922c6a5 in _PyEval_EvalFrameDefault + 0x2035 from /lib64/libpython3.6m.so.1.0\n",
      " 0x00007f24f9235f3a in <unknown> from /lib64/libpython3.6m.so.1.0\n",
      " 0x00007f24f9236273 in <unknown> from /lib64/libpython3.6m.so.1.0\n",
      " 0x00007f24f922aa17 in _PyEval_EvalFrameDefault + 0x3a7 from /lib64/libpython3.6m.so.1.0\n",
      " 0x00007f24f9235f3a in <unknown> from /lib64/libpython3.6m.so.1.0\n",
      " 0x00007f24f9236273 in <unknown> from /lib64/libpython3.6m.so.1.0\n",
      " 0x00007f24f922aa17 in _PyEval_EvalFrameDefault + 0x3a7 from /lib64/libpython3.6m.so.1.0\n",
      " 0x00007f24f923726a in _PyFunction_FastCallDict + 0x15a from /lib64/libpython3.6m.so.1.0\n",
      " 0x00007f24f918cd9e in _PyObject_FastCallDict + 0x10e from /lib64/libpython3.6m.so.1.0\n",
      " 0x00007f24f918ceb1 in _PyObject_Call_Prepend + 0x61 from /lib64/libpython3.6m.so.1.0\n",
      " 0x00007f24f918cb23 in PyObject_Call + 0x43 from /lib64/libpython3.6m.so.1.0\n",
      " 0x00007f24f92c6ab2 in <unknown> from /lib64/libpython3.6m.so.1.0\n",
      " 0x00007f24f92c3f64 in <unknown> from /lib64/libpython3.6m.so.1.0\n",
      " 0x00007f24f8ecbea5 in <unknown> from /lib64/libpthread.so.0\n",
      " 0x00007f24f84da9fd in clone + 0x6d from /lib64/libc.so.6\n",
      " *** Break *** bus error\n",
      " Generating stack trace...\n",
      " 0x00007f24f91bedfd in PyDict_GetItemWithError + 0x7d from /lib64/libpython3.6m.so.1.0\n",
      " 0x00007f24f7ab034a in <unknown> from /usr/lib64/python3.6/lib-dynload/_pickle.cpython-36m-x86_64-linux-gnu.so\n",
      " 0x00007f24f7ab11e6 in <unknown> from /usr/lib64/python3.6/lib-dynload/_pickle.cpython-36m-x86_64-linux-gnu.so\n",
      " 0x00007f24f7aad093 in <unknown> from /usr/lib64/python3.6/lib-dynload/_pickle.cpython-36m-x86_64-linux-gnu.so\n",
      " 0x00007f24f7aad4ab in <unknown> from /usr/lib64/python3.6/lib-dynload/_pickle.cpython-36m-x86_64-linux-gnu.so\n",
      " 0x00007f24f7ab012e in <unknown> from /usr/lib64/python3.6/lib-dynload/_pickle.cpython-36m-x86_64-linux-gnu.so\n",
      " 0x00007f24f7ab1044 in <unknown> from /usr/lib64/python3.6/lib-dynload/_pickle.cpython-36m-x86_64-linux-gnu.so\n",
      " 0x00007f24f7ab03ea in <unknown> from /usr/lib64/python3.6/lib-dynload/_pickle.cpython-36m-x86_64-linux-gnu.so\n",
      " 0x00007f24f7ab06ad in <unknown> from /usr/lib64/python3.6/lib-dynload/_pickle.cpython-36m-x86_64-linux-gnu.so\n",
      " 0x00007f24f7ab08ba in <unknown> from /usr/lib64/python3.6/lib-dynload/_pickle.cpython-36m-x86_64-linux-gnu.so\n",
      " 0x00007f24f91ca882 in _PyCFunction_FastCallDict + 0x1e2 from /lib64/libpython3.6m.so.1.0\n",
      " 0x00007f24f91caa76 in PyCFunction_Call + 0x86 from /lib64/libpython3.6m.so.1.0\n",
      " 0x00007f24f9230f64 in _PyEval_EvalFrameDefault + 0x68f4 from /lib64/libpython3.6m.so.1.0\n",
      " 0x00007f24f92356d2 in <unknown> from /lib64/libpython3.6m.so.1.0\n",
      " 0x00007f24f9235fea in <unknown> from /lib64/libpython3.6m.so.1.0\n",
      " 0x00007f24f9236273 in <unknown> from /lib64/libpython3.6m.so.1.0\n",
      " 0x00007f24f922bc91 in _PyEval_EvalFrameDefault + 0x1621 from /lib64/libpython3.6m.so.1.0\n",
      " 0x00007f24f9235317 in <unknown> from /lib64/libpython3.6m.so.1.0\n",
      " 0x00007f24f9235fea in <unknown> from /lib64/libpython3.6m.so.1.0\n",
      " 0x00007f24f9236273 in <unknown> from /lib64/libpython3.6m.so.1.0\n",
      " 0x00007f24f922aa17 in _PyEval_EvalFrameDefault + 0x3a7 from /lib64/libpython3.6m.so.1.0\n",
      " 0x00007f24f92365ed in PyEval_EvalCodeEx + 0x22d from /lib64/libpython3.6m.so.1.0\n",
      " 0x00007f24f91a4d72 in <unknown> from /lib64/libpython3.6m.so.1.0\n",
      " 0x00007f24f918cb23 in PyObject_Call + 0x43 from /lib64/libpython3.6m.so.1.0\n",
      " 0x00007f24f922c6a5 in _PyEval_EvalFrameDefault + 0x2035 from /lib64/libpython3.6m.so.1.0\n",
      " 0x00007f24f9235f3a in <unknown> from /lib64/libpython3.6m.so.1.0\n",
      " 0x00007f24f9236273 in <unknown> from /lib64/libpython3.6m.so.1.0\n",
      " 0x00007f24f922aa17 in _PyEval_EvalFrameDefault + 0x3a7 from /lib64/libpython3.6m.so.1.0\n",
      " 0x00007f24f92365ed in PyEval_EvalCodeEx + 0x22d from /lib64/libpython3.6m.so.1.0\n",
      " 0x00007f24f91a4d72 in <unknown> from /lib64/libpython3.6m.so.1.0\n",
      " 0x00007f24f918cb23 in PyObject_Call + 0x43 from /lib64/libpython3.6m.so.1.0\n",
      " 0x00007f24f922c6a5 in _PyEval_EvalFrameDefault + 0x2035 from /lib64/libpython3.6m.so.1.0\n",
      " 0x00007f24f9235f3a in <unknown> from /lib64/libpython3.6m.so.1.0\n",
      " 0x00007f24f9236273 in <unknown> from /lib64/libpython3.6m.so.1.0\n",
      " 0x00007f24f922aa17 in _PyEval_EvalFrameDefault + 0x3a7 from /lib64/libpython3.6m.so.1.0\n",
      " 0x00007f24f9235f3a in <unknown> from /lib64/libpython3.6m.so.1.0\n",
      " 0x00007f24f9236273 in <unknown> from /lib64/libpython3.6m.so.1.0\n",
      " 0x00007f24f922aa17 in _PyEval_EvalFrameDefault + 0x3a7 from /lib64/libpython3.6m.so.1.0\n",
      " 0x00007f24f923726a in _PyFunction_FastCallDict + 0x15a from /lib64/libpython3.6m.so.1.0\n",
      " 0x00007f24f918cd9e in _PyObject_FastCallDict + 0x10e from /lib64/libpython3.6m.so.1.0\n",
      " 0x00007f24f918ceb1 in _PyObject_Call_Prepend + 0x61 from /lib64/libpython3.6m.so.1.0\n",
      " 0x00007f24f918cb23 in PyObject_Call + 0x43 from /lib64/libpython3.6m.so.1.0\n",
      " 0x00007f24f92c6ab2 in <unknown> from /lib64/libpython3.6m.so.1.0\n",
      " 0x00007f24f92c3f64 in <unknown> from /lib64/libpython3.6m.so.1.0\n",
      " 0x00007f24f8ecbea5 in <unknown> from /lib64/libpthread.so.0\n",
      " 0x00007f24f84da9fd in clone + 0x6d from /lib64/libc.so.6\n"
     ]
    }
   ],
   "source": [
    "RDataFrame = ROOT.RDF.Experimental.Distributed.Dask.RDataFrame\n",
    "\n",
    "df = RDataFrame(\"Events\",\n",
    "                \"test.root\",\n",
    "                npartitions=2,\n",
    "                daskclient=client)\n",
    "\n",
    "df_goodvertex = df.Filter(\"Flag_goodVertices && Flag_globalSuperTightHalo2016Filter\", \"Good vertex selection\")\n",
    "df_GoodJets = df_goodvertex.Define(\"GoodJets_idx\", \"GoodJets(Jet_jetId, Jet_eta, Jet_pt, Jet_puId)\")\n",
    "h = df_GoodJets.Histo1D(\"MET_pt\")\n",
    "\n",
    "c = ROOT.TCanvas()\n",
    "h.Draw()\n",
    "c.Draw()"
   ]
  }
 ],
 "metadata": {
  "kernelspec": {
   "display_name": "Python 3",
   "language": "python",
   "name": "python3"
  },
  "language_info": {
   "codemirror_mode": {
    "name": "ipython",
    "version": 3
   },
   "file_extension": ".py",
   "mimetype": "text/x-python",
   "name": "python",
   "nbconvert_exporter": "python",
   "pygments_lexer": "ipython3",
   "version": "3.6.8"
  }
 },
 "nbformat": 4,
 "nbformat_minor": 5
}
