{
 "cells": [
  {
   "cell_type": "code",
   "execution_count": 1,
   "id": "abc6ed2f-bcec-4d2a-95c2-f791f69ef3d1",
   "metadata": {},
   "outputs": [
    {
     "name": "stdout",
     "output_type": "stream",
     "text": [
      "Welcome to JupyROOT 6.25/01\n"
     ]
    }
   ],
   "source": [
    "import ROOT\n",
    "import os"
   ]
  },
  {
   "cell_type": "code",
   "execution_count": 2,
   "id": "f8c2f3ed-6a7b-4c17-a45f-966f27145c0f",
   "metadata": {},
   "outputs": [],
   "source": [
    "from dask_remote_jobqueue import RemoteHTCondor\n",
    "cluster = RemoteHTCondor()"
   ]
  },
  {
   "cell_type": "code",
   "execution_count": 3,
   "id": "5d6c9d71-dad3-43b9-8eb6-8ea7b03f99d9",
   "metadata": {},
   "outputs": [],
   "source": [
    "from dask.distributed import Client\n",
    "\n",
    "client = Client(address=\"tcp://127.0.0.1:\"+str(cluster.sched_port))"
   ]
  },
  {
   "cell_type": "code",
   "execution_count": 4,
   "id": "52992127-5b9c-474c-82d1-01dde1987e15",
   "metadata": {},
   "outputs": [],
   "source": [
    "text_file = open(\"postselection.h\", \"r\")\n",
    "data = text_file.read()"
   ]
  },
  {
   "cell_type": "code",
   "execution_count": 5,
   "id": "7d39503a-9563-4ecc-91b0-352156558eaa",
   "metadata": {},
   "outputs": [
    {
     "name": "stderr",
     "output_type": "stream",
     "text": [
      "input_line_48:616:1: warning: control may reach end of non-void function [-Wreturn-type]\n",
      "}\n",
      "^\n"
     ]
    }
   ],
   "source": [
    "distributed = ROOT.RDF.Experimental.Distributed\n",
    "\n",
    "def my_initialization_function():\n",
    "    ROOT.gInterpreter.Declare('{}'.format(data))\n",
    "    \n",
    "distributed.initialize(my_initialization_function)"
   ]
  },
  {
   "cell_type": "code",
   "execution_count": 6,
   "id": "8b8d1340-9f2d-4498-ad66-0545e8af8a31",
   "metadata": {},
   "outputs": [],
   "source": [
    "def filter_trigger(df):\n",
    "    df_goodvertex = df.Filter(\"Flag_goodVertices && Flag_globalSuperTightHalo2016Filter && Flag_HBHENoiseFilter && Flag_HBHENoiseIsoFilter && Flag_EcalDeadCellTriggerPrimitiveFilter && Flag_BadPFMuonFilter && Flag_ecalBadCalibFilterV2\", \"Good vertex selection\")\n",
    "    df_trigger = df_goodvertex.Filter(\"HLT_IsoMu27 || HLT_Mu50 || HLT_Ele35_WPTight_Gsf || HLT_Ele32_WPTight_Gsf_L1DoubleEG || HLT_Photon200\", \"Leptonic trigger\")\n",
    "    return df_trigger\n",
    "\n",
    "def select_jets(df):\n",
    "    df_atleast2Jets = df.Filter(\"nJet>2\", \"At least two jets\")\n",
    "    df_GoodJets = df_atleast2Jets.Define(\"GoodJets_idx\", \"GoodJets(Jet_jetId, Jet_eta, Jet_pt, Jet_puId)\")\n",
    "    df_atleast2GoodJets = df_GoodJets.Filter(\"atleast2GoodJets(GoodJets_idx)\", \"At least two good jets\")\n",
    "    df_VBSjets = df_atleast2GoodJets.Define(\"VBSJet_idx\", \"SelectVBSJets_invmass(Jet_pt, Jet_eta, Jet_phi, Jet_mass, GoodJets_idx)\")\n",
    "    df_2VBSjets = df_VBSjets.Filter(\"VBSJet_idx[0] != VBSJet_idx[1]\", \"2 VBS jets\")\n",
    "    df_jetsDefinitions = df_2VBSjets.Define(\"Leadingjet_pt\", \"GetLeading(Jet_pt, VBSJet_idx)\")\\\n",
    "                                    .Define(\"Leadingjet_eta\", \"GetLeading(Jet_eta, VBSJet_idx)\")\\\n",
    "                                    .Define(\"Leadingjet_phi\", \"GetLeading(Jet_phi, VBSJet_idx)\")\\\n",
    "                                    .Define(\"Leadingjet_mass\", \"GetLeading(Jet_mass, VBSJet_idx)\")\\\n",
    "                                    .Define(\"Leadingjet_DeepFlv_b\", \"GetLeading(Jet_btagDeepFlavB, VBSJet_idx)\")\\\n",
    "                                    .Define(\"Leadingjet_DeepCSVv2_b\", \"GetLeading(Jet_btagDeepB, VBSJet_idx)\")\\\n",
    "                                    .Define(\"Leadingjet_CSVv2_b\", \"GetLeading(Jet_btagCSVV2, VBSJet_idx)\")\\\n",
    "                                    .Define(\"SubLeadingjet_pt\", \"GetSubLeading(Jet_pt, VBSJet_idx)\")\\\n",
    "                                    .Define(\"SubLeadingjet_eta\", \"GetSubLeading(Jet_eta, VBSJet_idx)\")\\\n",
    "                                    .Define(\"SubLeadingjet_phi\", \"GetSubLeading(Jet_phi, VBSJet_idx)\")\\\n",
    "                                    .Define(\"SubLeadingjet_mass\", \"GetSubLeading(Jet_mass, VBSJet_idx)\")\\\n",
    "                                    .Define(\"SubLeadingjet_DeepFlv_b\", \"GetSubLeading(Jet_btagDeepFlavB, VBSJet_idx)\")\\\n",
    "                                    .Define(\"SubLeadingjet_DeepCSVv2_b\", \"GetSubLeading(Jet_btagDeepB, VBSJet_idx)\")\\\n",
    "                                    .Define(\"SubLeadingjet_CSVv2_b\", \"GetSubLeading(Jet_btagCSVV2, VBSJet_idx)\")\n",
    "    return df_jetsDefinitions\n",
    "\n",
    "def select_lepton(df):\n",
    "    df_selectElectron = df.Define(\"Electron_idx\", \"SelectElectron(Electron_pt, Electron_eta, Electron_phi, Electron_jetRelIso, Electron_mvaFall17V2Iso_WPL, Electron_mvaFall17V2Iso_WP90, Jet_eta, Jet_phi, VBSJet_idx)\")\n",
    "    df_selectMuon = df_selectElectron.Define(\"Muon_idx\", \"SelectMuon(Muon_pt, Muon_eta, Muon_phi, Muon_tightId, Muon_looseId, Muon_pfRelIso04_all, Jet_eta, Jet_phi, VBSJet_idx)\")\n",
    "    df_atLeast1Lepton = df_selectMuon.Filter(\"Electron_idx[1] != -1 || Muon_idx[1] != -1\", \"At least 1 at-least-loose lepton\")\n",
    "    df_goodLeptonFamily = df_atLeast1Lepton.Define(\"GoodLeptonFamily\", \"DetermineGoodLepton(HLT_IsoMu27, HLT_Mu50, HLT_Ele35_WPTight_Gsf, HLT_Ele32_WPTight_Gsf_L1DoubleEG, HLT_Photon200, HLT_PFHT250, HLT_PFHT350, Electron_idx, Electron_pt, Electron_eta, Electron_mvaFall17V2Iso_WPL, Electron_jetRelIso, Muon_idx, Muon_pt, Muon_eta, Muon_pfRelIso04_all, Muon_looseId)\")\n",
    "    df_compatibleLeptons = df_goodLeptonFamily.Filter(\"GoodLeptonFamily != -1 \", \"Filter on leptons\")\n",
    "    df_leptonDefinitions = df_compatibleLeptons.Define(\"Lepton_pt\", \"GetLepton(Electron_pt, Electron_idx, Muon_pt, Muon_idx, GoodLeptonFamily)\")\\\n",
    "                                                .Define(\"Lepton_eta\", \"GetLepton(Electron_eta, Electron_idx, Muon_eta, Muon_idx, GoodLeptonFamily)\")\\\n",
    "                                                .Define(\"Lepton_phi\", \"GetLepton(Electron_phi, Electron_idx, Muon_phi, Muon_idx, GoodLeptonFamily)\")\\\n",
    "                                                .Define(\"Lepton_mass\", \"GetLepton(Electron_mass, Electron_idx, Muon_mass, Muon_idx, GoodLeptonFamily)\")\\\n",
    "                                                .Define(\"Lepton_charge\", \"GetLepton(Electron_charge, Electron_idx, Muon_charge, Muon_idx, GoodLeptonFamily)\")\\\n",
    "                                                .Define(\"Lepton_TightRegion\", \"GetLeptonTightFlag(Electron_idx, Muon_idx, GoodLeptonFamily)\")\\\n",
    "                                                .Define(\"Lepton_LnTRegion\", \"1 - Lepton_TightRegion\")\\\n",
    "                                                .Define(\"Lepton_Zeppenfeld\", \"Zeppenfeld(Lepton_eta, Leadingjet_eta, SubLeadingjet_eta)\")\\\n",
    "                                                .Define(\"Lepton_pdgId\", \"GetLepton(Electron_pdgId, Electron_idx, Muon_pdgId, Muon_idx, GoodLeptonFamily)\")\\\n",
    "                                                .Define(\"Lepton_SFFake_vsjet2\", \"SFFakeRatio_lep_calc_vsjet2(Lepton_pt, Lepton_eta, Lepton_pdgId)\")\\\n",
    "                                                .Define(\"Lepton_SFFake_vsjet4\", \"SFFakeRatio_lep_calc_vsjet4(Lepton_pt, Lepton_eta, Lepton_pdgId)\")\\\n",
    "    \n",
    "    return df_leptonDefinitions\n",
    "\n",
    "def select_tau(df):\n",
    "    df_selectTau = df.Define(\"Tau_idx\", \"SelectAndVetoTaus(Tau_pt, Tau_eta, Tau_phi, Tau_idDeepTau2017v2p1VSjet, Tau_idDeepTau2017v2p1VSe, Tau_idDeepTau2017v2p1VSmu, Tau_idDecayModeNewDMs, GoodLeptonFamily, Electron_idx, Electron_eta, Electron_phi, Muon_idx, Muon_eta, Muon_phi, Jet_eta, Jet_phi, VBSJet_idx)\")\n",
    "    df_1tau = df_selectTau.Filter(\"Tau_idx[1] != -1\", \"Exactly 1 at least loose Tau\")\n",
    "    df_tauDefinitions = df_1tau.Define(\"SelectedTau_pt\", \"GetTau(Tau_pt, Tau_idx)\")\\\n",
    "                               .Define(\"SelectedTau_eta\", \"GetTau(Tau_eta, Tau_idx)\")\\\n",
    "                               .Define(\"SelectedTau_phi\", \"GetTau(Tau_phi, Tau_idx)\")\\\n",
    "                               .Define(\"SelectedTau_mass\", \"GetTau(Tau_mass, Tau_idx)\")\\\n",
    "                               .Define(\"SelectedTau_charge\", \"GetTau(Tau_charge, Tau_idx)\")\\\n",
    "                               .Define(\"SelectedTau_relleadtkpt\", \"GetTau(Tau_leadTkPtOverTauPt, Tau_idx)\")\\\n",
    "                               .Define(\"SelectedTau_decayMode\", \"GetTau(Tau_decayMode, Tau_idx)\")\\\n",
    "                               .Define(\"SelectedTau_isolation\", \"GetTau(Tau_neutralIso, Tau_idx)\")\\\n",
    "                               .Define(\"SelectedTau_DeepTau_WP\", \"pow(GetTau(Tau_idDeepTau2017v2p1VSjet, Tau_idx)*1000., 2) + GetTau(Tau_idDeepTau2017v2p1VSjet, Tau_idx)*1000. + GetTau(Tau_idDeepTau2017v2p1VSe, Tau_idx)*1000.\")\\\n",
    "                               .Define(\"SelectedTau_DeepTauVsEle_raw\", \"GetLog2(GetTau(Tau_idDeepTau2017v2p1VSe, Tau_idx) + 1)\")\\\n",
    "                               .Define(\"SelectedTau_DeepTauVsMu_raw\", \"GetLog2(GetTau(Tau_idDeepTau2017v2p1VSmu, Tau_idx) + 1)\")\\\n",
    "                               .Define(\"SelectedTau_DeepTauVsJet_raw\", \"GetLog2(GetTau(Tau_idDeepTau2017v2p1VSjet, Tau_idx) + 1)\")\\\n",
    "                               .Define(\"SelectedTau_GenMatch\", \"GetTau(Tau_genPartFlav, Tau_idx)\")\\\n",
    "                               .Define(\"SelectedTau_Zeppenfeld\", \"Zeppenfeld(SelectedTau_eta, Leadingjet_eta, SubLeadingjet_eta)\")\\\n",
    "                               .Define(\"SelectedTau_TightRegion\", \"Tau_idx[1]\")\\\n",
    "                               .Define(\"SelectedTau_LnTRegion\", \"1 - Tau_idx[1]\")\\\n",
    "                               .Define(\"SelectedTau_SFFake_vsjet2\", \"SFFakeRatio_tau_calc_vsjet2(SelectedTau_pt, SelectedTau_eta)\")\\\n",
    "                               .Define(\"SelectedTau_SFFake_vsjet4\", \"SFFakeRatio_tau_calc_vsjet4(SelectedTau_pt, SelectedTau_eta)\")\n",
    "    \n",
    "    return df_tauDefinitions\n",
    "\n",
    "def general_definitions(df):\n",
    "    df_definitions = df.Define(\"mjj\", \"GetInvMass(Jet_pt, Jet_eta, Jet_phi, Jet_mass, VBSJet_idx)\")\\\n",
    "                       .Define(\"deltaPhi_jj\", \"deltaPhi(Leadingjet_phi, SubLeadingjet_phi)\")\\\n",
    "                       .Define(\"deltaPhi_taulep\", \"deltaPhi(SelectedTau_phi, Lepton_phi)\")\\\n",
    "                       .Define(\"deltaPhi_tauj1\", \"deltaPhi(SelectedTau_phi, Leadingjet_phi)\")\\\n",
    "                       .Define(\"deltaPhi_tauj2\", \"deltaPhi(Leadingjet_phi, SubLeadingjet_phi)\")\\\n",
    "                       .Define(\"deltaPhi_lepj1\", \"deltaPhi(Lepton_phi, Leadingjet_phi)\")\\\n",
    "                       .Define(\"deltaPhi_lepj2\", \"deltaPhi(Lepton_phi, SubLeadingjet_phi)\")\\\n",
    "                       .Define(\"deltaEta_jj\", \"Leadingjet_eta - SubLeadingjet_eta\")\\\n",
    "                       .Define(\"deltaEta_taulep\", \"SelectedTau_eta - Lepton_eta\")\\\n",
    "                       .Define(\"deltaEta_tauj1\", \"SelectedTau_eta - Leadingjet_eta\")\\\n",
    "                       .Define(\"deltaEta_tauj2\", \"SelectedTau_eta - SubLeadingjet_eta\")\\\n",
    "                       .Define(\"deltaEta_lepj1\", \"Lepton_eta - Leadingjet_eta\")\\\n",
    "                       .Define(\"deltaEta_lepj2\", \"Lepton_eta - SubLeadingjet_eta\")\\\n",
    "                       .Define(\"deltaTheta_jj\", \"deltaTheta(Leadingjet_pt, Leadingjet_eta, Leadingjet_phi, Leadingjet_mass, SubLeadingjet_pt, SubLeadingjet_eta, SubLeadingjet_phi, SubLeadingjet_mass)\")\\\n",
    "                       .Define(\"deltaTheta_taulep\", \"deltaTheta(SelectedTau_pt,SelectedTau_eta, SelectedTau_phi, SelectedTau_mass, Lepton_pt, Lepton_eta, Lepton_phi, Lepton_mass)\")\\\n",
    "                       .Define(\"deltaTheta_tauj1\", \"deltaTheta(SelectedTau_pt, SelectedTau_eta,SelectedTau_phi, SelectedTau_mass, Leadingjet_pt, Leadingjet_eta, Leadingjet_phi, Leadingjet_mass)\")\\\n",
    "                       .Define(\"deltaTheta_tauj2\", \"deltaTheta(SelectedTau_pt, SelectedTau_eta, SelectedTau_phi, SelectedTau_mass, SubLeadingjet_pt, SubLeadingjet_eta, SubLeadingjet_phi, SubLeadingjet_mass)\")\\\n",
    "                       .Define(\"Event_Zeppenfeld\", \"0.5*(Lepton_Zeppenfeld + SelectedTau_Zeppenfeld)\")\\\n",
    "                       .Define(\"Lepton_Zeppenfeld_over_deltaEta_jj\", \"Lepton_Zeppenfeld / deltaEta_jj\")\\\n",
    "                       .Define(\"SelectedTau_Zeppenfeld_over_deltaEta_jj\", \"SelectedTau_Zeppenfeld / deltaEta_jj\")\\\n",
    "                       .Define(\"Event_Zeppenfeld_over_deltaEta_jj\", \"Event_Zeppenfeld / deltaEta_jj\")\\\n",
    "                       .Define(\"mTlepMET\", \"sqrt(2*Lepton_pt*MET_pt*(1-cos(Lepton_phi-MET_phi)))\")\\\n",
    "                       .Define(\"m_1T\", \"M1T(Lepton_pt, Lepton_eta, Lepton_phi, Lepton_mass, SelectedTau_pt, SelectedTau_eta, SelectedTau_phi, SelectedTau_mass, MET_pt, MET_phi)\")\\\n",
    "                       .Define(\"m_o1\", \"Mo1(Lepton_pt, Lepton_eta, Lepton_phi, Lepton_mass, SelectedTau_pt, SelectedTau_eta, SelectedTau_phi, SelectedTau_mass, MET_pt, MET_phi)\")\\\n",
    "                       .Define(\"event_SFFake_vsjet2\", \"GetEventSFFake(Lepton_SFFake_vsjet2, SelectedTau_SFFake_vsjet2, Lepton_LnTRegion, SelectedTau_LnTRegion)\")\\\n",
    "                       .Define(\"event_SFFake_vsjet4\", \"GetEventSFFake(Lepton_SFFake_vsjet4, SelectedTau_SFFake_vsjet4, Lepton_LnTRegion, SelectedTau_LnTRegion)\")\\\n",
    "    \n",
    "    \n",
    "    return df_definitions"
   ]
  },
  {
   "cell_type": "code",
   "execution_count": 7,
   "id": "2869e4de-159a-40f6-b9be-39f22fb72b4a",
   "metadata": {},
   "outputs": [],
   "source": [
    "RDataFrame = ROOT.RDF.Experimental.Distributed.Dask.RDataFrame\n",
    "\n",
    "df = RDataFrame(\"Events\",\n",
    "                \"https://ttedesch.web.cern.ch/ttedesch/tree_hadd_2.root\",\n",
    "                npartitions=2,\n",
    "                daskclient=client)"
   ]
  },
  {
   "cell_type": "code",
   "execution_count": 8,
   "id": "4c7584a6-6e5e-4536-bd8a-645ebc9bf665",
   "metadata": {},
   "outputs": [],
   "source": [
    "#trigger and VBS jets selections\n",
    "df_trigger = filter_trigger(df)\n",
    "df_jets = select_jets(df_trigger)\n",
    "\n",
    "#e/mu + tau final state\n",
    "df_lepton = select_lepton(df_jets)\n",
    "df_tau = select_tau(df_lepton)\n",
    "df_SS = df_tau.Filter(\"SameCharge(GoodLeptonFamily, Electron_idx, Electron_charge, Muon_idx, Muon_charge, Tau_idx, Tau_charge)\", \"SameSign\")\n",
    "df_bVeto = df_SS.Filter(\"!BVeto(Jet_pt, Jet_eta, Jet_btagDeepFlavB, GoodJets_idx)\", \"Bveto\")\n",
    "df_definitions = general_definitions(df_bVeto)\n",
    "\n",
    "##### signal region\n",
    "df_mjjCut = df_definitions.Filter(\"mjj > 500\", \"mjj cut\")\n",
    "df_METCut = df_mjjCut.Filter(\"MET_pt > 50\", \"MET cut\")\n",
    "\n",
    "h = {}\n",
    "\n",
    "h[\"Leadingjet_pt\"] = df_METCut.Histo1D((\"Leadingjet_pt\", \"Leadingjet_pt\", 100, 0, 2000), \"Leadingjet_pt\")\n",
    "h[\"Lepton_pt\"] = df_METCut.Histo1D((\"Lepton_pt\", \"Lepton_pt\", 100, 0, 1000),\"Lepton_pt\")\n",
    "h[\"SelectedTau_pt\"] = df_METCut.Histo1D((\"SelectedTau_pt\", \"SelectedTau_pt\", 100, 0, 1000), \"SelectedTau_pt\")\n",
    "h[\"deltaTheta_tauj2\"] = df_METCut.Histo1D((\"deltaTheta_tauj2\", \"deltaTheta_tauj2\", 100, -1, 1), \"deltaTheta_tauj2\")"
   ]
  },
  {
   "cell_type": "code",
   "execution_count": 9,
   "id": "ab8722eb-c872-44c9-90e5-b51654009004",
   "metadata": {},
   "outputs": [
    {
     "name": "stderr",
     "output_type": "stream",
     "text": [
      "/usr/local/share/root6/lib/DistRDF/HeadNode.py:392: UserWarning: Number of partitions is greater than number of clusters in the dataset. Using 1 partition(s)\n",
      "  return Node.RangesBuilder(self)._get_clustered_ranges(self.treename, self.inputfiles, self._get_friend_info())\n",
      "Warning in <TClass::Init>: no dictionary for class edm::Hash<1> is available\n",
      "Warning in <TClass::Init>: no dictionary for class edm::ProcessHistory is available\n",
      "Warning in <TClass::Init>: no dictionary for class edm::ProcessConfiguration is available\n",
      "Warning in <TClass::Init>: no dictionary for class edm::ParameterSetBlob is available\n",
      "Warning in <TClass::Init>: no dictionary for class pair<edm::Hash<1>,edm::ParameterSetBlob> is available\n"
     ]
    },
    {
     "data": {
      "image/png": "[encoded data removed]",
      "text/plain": [
       "<IPython.core.display.Image object>"
      ]
     },
     "metadata": {},
     "output_type": "display_data"
    },
    {
     "data": {
      "image/png": "[encoded data removed]",
      "text/plain": [
       "<IPython.core.display.Image object>"
      ]
     },
     "metadata": {},
     "output_type": "display_data"
    },
    {
     "data": {
      "image/png": "[encoded data removed]",
      "text/plain": [
       "<IPython.core.display.Image object>"
      ]
     },
     "metadata": {},
     "output_type": "display_data"
    },
    {
     "data": {
      "image/png": "[encoded data removed]",
      "text/plain": [
       "<IPython.core.display.Image object>"
      ]
     },
     "metadata": {},
     "output_type": "display_data"
    }
   ],
   "source": [
    "variables = [\"Leadingjet_pt\", \"Lepton_pt\",\"SelectedTau_pt\", \"deltaTheta_tauj2\"]\n",
    "canvases = []\n",
    "legends = []\n",
    "\n",
    "for i, v in enumerate(variables):\n",
    "    canvases.append(ROOT.TCanvas())\n",
    "    variable = variables[i]\n",
    "    hist = h[variable]\n",
    "    #integral = hist.Integral()\n",
    "    #hist.Scale( 1./ integral,\"WIDTH\")\n",
    "    hist = hist.DrawCopy('HIST')\n",
    "    canvases[i].Draw()"
   ]
  },
  {
   "cell_type": "code",
   "execution_count": null,
   "id": "8968b72b-26b5-44e7-a27b-32772114148a",
   "metadata": {},
   "outputs": [],
   "source": []
  }
 ],
 "metadata": {
  "kernelspec": {
   "display_name": "Python 3",
   "language": "python",
   "name": "python3"
  },
  "language_info": {
   "codemirror_mode": {
    "name": "ipython",
    "version": 3
   },
   "file_extension": ".py",
   "mimetype": "text/x-python",
   "name": "python",
   "nbconvert_exporter": "python",
   "pygments_lexer": "ipython3",
   "version": "3.6.8"
  }
 },
 "nbformat": 4,
 "nbformat_minor": 5
}
