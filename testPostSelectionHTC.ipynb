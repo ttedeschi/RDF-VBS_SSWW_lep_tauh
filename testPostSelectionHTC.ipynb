{
 "cells": [
  {
   "cell_type": "code",
   "execution_count": 1,
   "id": "abc6ed2f-bcec-4d2a-95c2-f791f69ef3d1",
   "metadata": {},
   "outputs": [
    {
     "name": "stdout",
     "output_type": "stream",
     "text": [
      "Welcome to JupyROOT 6.25/01\n"
     ]
    }
   ],
   "source": [
    "import ROOT\n",
    "import os"
   ]
  },
  {
   "cell_type": "code",
   "execution_count": 2,
   "id": "f8c2f3ed-6a7b-4c17-a45f-966f27145c0f",
   "metadata": {},
   "outputs": [],
   "source": [
    "from dask_remote_jobqueue import RemoteHTCondor\n",
    "cluster = RemoteHTCondor()"
   ]
  },
  {
   "cell_type": "code",
   "execution_count": 3,
   "id": "5d6c9d71-dad3-43b9-8eb6-8ea7b03f99d9",
   "metadata": {},
   "outputs": [],
   "source": [
    "from dask.distributed import Client\n",
    "\n",
    "client = Client(address=\"tcp://127.0.0.1:\"+str(cluster.sched_port))"
   ]
  },
  {
   "cell_type": "code",
   "execution_count": 4,
   "id": "7d39503a-9563-4ecc-91b0-352156558eaa",
   "metadata": {},
   "outputs": [
    {
     "name": "stderr",
     "output_type": "stream",
     "text": [
      "In file included from input_line_48:1:\n",
      "./postselection.h:616:1: warning: control may reach end of non-void function [-Wreturn-type]\n",
      "}\n",
      "^\n"
     ]
    }
   ],
   "source": [
    "distributed = ROOT.RDF.Experimental.Distributed\n",
    "\n",
    "def my_initialization_function():\n",
    "    ROOT.gInterpreter.Declare('#include \"postselection.h\"')\n",
    "    \n",
    "distributed.initialize(my_initialization_function)"
   ]
  },
  {
   "cell_type": "code",
   "execution_count": 5,
   "id": "8b8d1340-9f2d-4498-ad66-0545e8af8a31",
   "metadata": {},
   "outputs": [],
   "source": [
    "def filter_trigger(df):\n",
    "    df_goodvertex = df.Filter(\"Flag_goodVertices && Flag_globalSuperTightHalo2016Filter && Flag_HBHENoiseFilter && Flag_HBHENoiseIsoFilter && Flag_EcalDeadCellTriggerPrimitiveFilter && Flag_BadPFMuonFilter && Flag_ecalBadCalibFilterV2\", \"Good vertex selection\")\n",
    "    df_trigger = df_goodvertex.Filter(\"HLT_IsoMu27 || HLT_Mu50 || HLT_Ele35_WPTight_Gsf || HLT_Ele32_WPTight_Gsf_L1DoubleEG || HLT_Photon200\", \"Leptonic trigger\")\n",
    "    return df_trigger\n",
    "\n",
    "def select_jets(df):\n",
    "    df_atleast2Jets = df.Filter(\"nJet>2\", \"At least two jets\")\n",
    "    df_GoodJets = df_atleast2Jets.Define(\"GoodJets_idx\", \"GoodJets(Jet_jetId, Jet_eta, Jet_pt, Jet_puId)\")\n",
    "    df_atleast2GoodJets = df_GoodJets.Filter(\"atleast2GoodJets(GoodJets_idx)\", \"At least two good jets\")\n",
    "    df_VBSjets = df_atleast2GoodJets.Define(\"VBSJet_idx\", \"SelectVBSJets_invmass(Jet_pt, Jet_eta, Jet_phi, Jet_mass, GoodJets_idx)\")\n",
    "    df_2VBSjets = df_VBSjets.Filter(\"VBSJet_idx[0] != VBSJet_idx[1]\", \"2 VBS jets\")\n",
    "    df_jetsDefinitions = df_2VBSjets.Define(\"Leadingjet_pt\", \"GetLeading(Jet_pt, VBSJet_idx)\")\\\n",
    "                                    .Define(\"Leadingjet_eta\", \"GetLeading(Jet_eta, VBSJet_idx)\")\\\n",
    "                                    .Define(\"Leadingjet_phi\", \"GetLeading(Jet_phi, VBSJet_idx)\")\\\n",
    "                                    .Define(\"Leadingjet_mass\", \"GetLeading(Jet_mass, VBSJet_idx)\")\\\n",
    "                                    .Define(\"Leadingjet_DeepFlv_b\", \"GetLeading(Jet_btagDeepFlavB, VBSJet_idx)\")\\\n",
    "                                    .Define(\"Leadingjet_DeepCSVv2_b\", \"GetLeading(Jet_btagDeepB, VBSJet_idx)\")\\\n",
    "                                    .Define(\"Leadingjet_CSVv2_b\", \"GetLeading(Jet_btagCSVV2, VBSJet_idx)\")\\\n",
    "                                    .Define(\"SubLeadingjet_pt\", \"GetSubLeading(Jet_pt, VBSJet_idx)\")\\\n",
    "                                    .Define(\"SubLeadingjet_eta\", \"GetSubLeading(Jet_eta, VBSJet_idx)\")\\\n",
    "                                    .Define(\"SubLeadingjet_phi\", \"GetSubLeading(Jet_phi, VBSJet_idx)\")\\\n",
    "                                    .Define(\"SubLeadingjet_mass\", \"GetSubLeading(Jet_mass, VBSJet_idx)\")\\\n",
    "                                    .Define(\"SubLeadingjet_DeepFlv_b\", \"GetSubLeading(Jet_btagDeepFlavB, VBSJet_idx)\")\\\n",
    "                                    .Define(\"SubLeadingjet_DeepCSVv2_b\", \"GetSubLeading(Jet_btagDeepB, VBSJet_idx)\")\\\n",
    "                                    .Define(\"SubLeadingjet_CSVv2_b\", \"GetSubLeading(Jet_btagCSVV2, VBSJet_idx)\")\n",
    "    return df_jetsDefinitions\n",
    "\n",
    "def select_lepton(df):\n",
    "    df_selectElectron = df.Define(\"Electron_idx\", \"SelectElectron(Electron_pt, Electron_eta, Electron_phi, Electron_jetRelIso, Electron_mvaFall17V2Iso_WPL, Electron_mvaFall17V2Iso_WP90, Jet_eta, Jet_phi, VBSJet_idx)\")\n",
    "    df_selectMuon = df_selectElectron.Define(\"Muon_idx\", \"SelectMuon(Muon_pt, Muon_eta, Muon_phi, Muon_tightId, Muon_looseId, Muon_pfRelIso04_all, Jet_eta, Jet_phi, VBSJet_idx)\")\n",
    "    df_atLeast1Lepton = df_selectMuon.Filter(\"Electron_idx[1] != -1 || Muon_idx[1] != -1\", \"At least 1 at-least-loose lepton\")\n",
    "    df_goodLeptonFamily = df_atLeast1Lepton.Define(\"GoodLeptonFamily\", \"DetermineGoodLepton(HLT_IsoMu27, HLT_Mu50, HLT_Ele35_WPTight_Gsf, HLT_Ele32_WPTight_Gsf_L1DoubleEG, HLT_Photon200, HLT_PFHT250, HLT_PFHT350, Electron_idx, Electron_pt, Electron_eta, Electron_mvaFall17V2Iso_WPL, Electron_jetRelIso, Muon_idx, Muon_pt, Muon_eta, Muon_pfRelIso04_all, Muon_looseId)\")\n",
    "    df_compatibleLeptons = df_goodLeptonFamily.Filter(\"GoodLeptonFamily != -1 \", \"Filter on leptons\")\n",
    "    df_leptonDefinitions = df_compatibleLeptons.Define(\"Lepton_pt\", \"GetLepton(Electron_pt, Electron_idx, Muon_pt, Muon_idx, GoodLeptonFamily)\")\\\n",
    "                                                .Define(\"Lepton_eta\", \"GetLepton(Electron_eta, Electron_idx, Muon_eta, Muon_idx, GoodLeptonFamily)\")\\\n",
    "                                                .Define(\"Lepton_phi\", \"GetLepton(Electron_phi, Electron_idx, Muon_phi, Muon_idx, GoodLeptonFamily)\")\\\n",
    "                                                .Define(\"Lepton_mass\", \"GetLepton(Electron_mass, Electron_idx, Muon_mass, Muon_idx, GoodLeptonFamily)\")\\\n",
    "                                                .Define(\"Lepton_charge\", \"GetLepton(Electron_charge, Electron_idx, Muon_charge, Muon_idx, GoodLeptonFamily)\")\\\n",
    "                                                .Define(\"Lepton_TightRegion\", \"GetLeptonTightFlag(Electron_idx, Muon_idx, GoodLeptonFamily)\")\\\n",
    "                                                .Define(\"Lepton_LnTRegion\", \"1 - Lepton_TightRegion\")\\\n",
    "                                                .Define(\"Lepton_Zeppenfeld\", \"Zeppenfeld(Lepton_eta, Leadingjet_eta, SubLeadingjet_eta)\")\\\n",
    "                                                .Define(\"Lepton_pdgId\", \"GetLepton(Electron_pdgId, Electron_idx, Muon_pdgId, Muon_idx, GoodLeptonFamily)\")\\\n",
    "                                                .Define(\"Lepton_SFFake_vsjet2\", \"SFFakeRatio_lep_calc_vsjet2(Lepton_pt, Lepton_eta, Lepton_pdgId)\")\\\n",
    "                                                .Define(\"Lepton_SFFake_vsjet4\", \"SFFakeRatio_lep_calc_vsjet4(Lepton_pt, Lepton_eta, Lepton_pdgId)\")\\\n",
    "    \n",
    "    return df_leptonDefinitions\n",
    "\n",
    "def select_tau(df):\n",
    "    df_selectTau = df.Define(\"Tau_idx\", \"SelectAndVetoTaus(Tau_pt, Tau_eta, Tau_phi, Tau_idDeepTau2017v2p1VSjet, Tau_idDeepTau2017v2p1VSe, Tau_idDeepTau2017v2p1VSmu, Tau_idDecayModeNewDMs, GoodLeptonFamily, Electron_idx, Electron_eta, Electron_phi, Muon_idx, Muon_eta, Muon_phi, Jet_eta, Jet_phi, VBSJet_idx)\")\n",
    "    df_1tau = df_selectTau.Filter(\"Tau_idx[1] != -1\", \"Exactly 1 at least loose Tau\")\n",
    "    df_tauDefinitions = df_1tau.Define(\"SelectedTau_pt\", \"GetTau(Tau_pt, Tau_idx)\")\\\n",
    "                               .Define(\"SelectedTau_eta\", \"GetTau(Tau_eta, Tau_idx)\")\\\n",
    "                               .Define(\"SelectedTau_phi\", \"GetTau(Tau_phi, Tau_idx)\")\\\n",
    "                               .Define(\"SelectedTau_mass\", \"GetTau(Tau_mass, Tau_idx)\")\\\n",
    "                               .Define(\"SelectedTau_charge\", \"GetTau(Tau_charge, Tau_idx)\")\\\n",
    "                               .Define(\"SelectedTau_relleadtkpt\", \"GetTau(Tau_leadTkPtOverTauPt, Tau_idx)\")\\\n",
    "                               .Define(\"SelectedTau_decayMode\", \"GetTau(Tau_decayMode, Tau_idx)\")\\\n",
    "                               .Define(\"SelectedTau_isolation\", \"GetTau(Tau_neutralIso, Tau_idx)\")\\\n",
    "                               .Define(\"SelectedTau_DeepTau_WP\", \"pow(GetTau(Tau_idDeepTau2017v2p1VSjet, Tau_idx)*1000., 2) + GetTau(Tau_idDeepTau2017v2p1VSjet, Tau_idx)*1000. + GetTau(Tau_idDeepTau2017v2p1VSe, Tau_idx)*1000.\")\\\n",
    "                               .Define(\"SelectedTau_DeepTauVsEle_raw\", \"GetLog2(GetTau(Tau_idDeepTau2017v2p1VSe, Tau_idx) + 1)\")\\\n",
    "                               .Define(\"SelectedTau_DeepTauVsMu_raw\", \"GetLog2(GetTau(Tau_idDeepTau2017v2p1VSmu, Tau_idx) + 1)\")\\\n",
    "                               .Define(\"SelectedTau_DeepTauVsJet_raw\", \"GetLog2(GetTau(Tau_idDeepTau2017v2p1VSjet, Tau_idx) + 1)\")\\\n",
    "                               .Define(\"SelectedTau_GenMatch\", \"GetTau(Tau_genPartFlav, Tau_idx)\")\\\n",
    "                               .Define(\"SelectedTau_Zeppenfeld\", \"Zeppenfeld(SelectedTau_eta, Leadingjet_eta, SubLeadingjet_eta)\")\\\n",
    "                               .Define(\"SelectedTau_TightRegion\", \"Tau_idx[1]\")\\\n",
    "                               .Define(\"SelectedTau_LnTRegion\", \"1 - Tau_idx[1]\")\\\n",
    "                               .Define(\"SelectedTau_SFFake_vsjet2\", \"SFFakeRatio_tau_calc_vsjet2(SelectedTau_pt, SelectedTau_eta)\")\\\n",
    "                               .Define(\"SelectedTau_SFFake_vsjet4\", \"SFFakeRatio_tau_calc_vsjet4(SelectedTau_pt, SelectedTau_eta)\")\n",
    "    \n",
    "    return df_tauDefinitions\n",
    "\n",
    "def general_definitions(df):\n",
    "    df_definitions = df.Define(\"mjj\", \"GetInvMass(Jet_pt, Jet_eta, Jet_phi, Jet_mass, VBSJet_idx)\")\\\n",
    "                       .Define(\"deltaPhi_jj\", \"deltaPhi(Leadingjet_phi, SubLeadingjet_phi)\")\\\n",
    "                       .Define(\"deltaPhi_taulep\", \"deltaPhi(SelectedTau_phi, Lepton_phi)\")\\\n",
    "                       .Define(\"deltaPhi_tauj1\", \"deltaPhi(SelectedTau_phi, Leadingjet_phi)\")\\\n",
    "                       .Define(\"deltaPhi_tauj2\", \"deltaPhi(Leadingjet_phi, SubLeadingjet_phi)\")\\\n",
    "                       .Define(\"deltaPhi_lepj1\", \"deltaPhi(Lepton_phi, Leadingjet_phi)\")\\\n",
    "                       .Define(\"deltaPhi_lepj2\", \"deltaPhi(Lepton_phi, SubLeadingjet_phi)\")\\\n",
    "                       .Define(\"deltaEta_jj\", \"Leadingjet_eta - SubLeadingjet_eta\")\\\n",
    "                       .Define(\"deltaEta_taulep\", \"SelectedTau_eta - Lepton_eta\")\\\n",
    "                       .Define(\"deltaEta_tauj1\", \"SelectedTau_eta - Leadingjet_eta\")\\\n",
    "                       .Define(\"deltaEta_tauj2\", \"SelectedTau_eta - SubLeadingjet_eta\")\\\n",
    "                       .Define(\"deltaEta_lepj1\", \"Lepton_eta - Leadingjet_eta\")\\\n",
    "                       .Define(\"deltaEta_lepj2\", \"Lepton_eta - SubLeadingjet_eta\")\\\n",
    "                       .Define(\"deltaTheta_jj\", \"deltaTheta(Leadingjet_pt, Leadingjet_eta, Leadingjet_phi, Leadingjet_mass, SubLeadingjet_pt, SubLeadingjet_eta, SubLeadingjet_phi, SubLeadingjet_mass)\")\\\n",
    "                       .Define(\"deltaTheta_taulep\", \"deltaTheta(SelectedTau_pt,SelectedTau_eta, SelectedTau_phi, SelectedTau_mass, Lepton_pt, Lepton_eta, Lepton_phi, Lepton_mass)\")\\\n",
    "                       .Define(\"deltaTheta_tauj1\", \"deltaTheta(SelectedTau_pt, SelectedTau_eta,SelectedTau_phi, SelectedTau_mass, Leadingjet_pt, Leadingjet_eta, Leadingjet_phi, Leadingjet_mass)\")\\\n",
    "                       .Define(\"deltaTheta_tauj2\", \"deltaTheta(SelectedTau_pt, SelectedTau_eta, SelectedTau_phi, SelectedTau_mass, SubLeadingjet_pt, SubLeadingjet_eta, SubLeadingjet_phi, SubLeadingjet_mass)\")\\\n",
    "                       .Define(\"Event_Zeppenfeld\", \"0.5*(Lepton_Zeppenfeld + SelectedTau_Zeppenfeld)\")\\\n",
    "                       .Define(\"Lepton_Zeppenfeld_over_deltaEta_jj\", \"Lepton_Zeppenfeld / deltaEta_jj\")\\\n",
    "                       .Define(\"SelectedTau_Zeppenfeld_over_deltaEta_jj\", \"SelectedTau_Zeppenfeld / deltaEta_jj\")\\\n",
    "                       .Define(\"Event_Zeppenfeld_over_deltaEta_jj\", \"Event_Zeppenfeld / deltaEta_jj\")\\\n",
    "                       .Define(\"mTlepMET\", \"sqrt(2*Lepton_pt*MET_pt*(1-cos(Lepton_phi-MET_phi)))\")\\\n",
    "                       .Define(\"m_1T\", \"M1T(Lepton_pt, Lepton_eta, Lepton_phi, Lepton_mass, SelectedTau_pt, SelectedTau_eta, SelectedTau_phi, SelectedTau_mass, MET_pt, MET_phi)\")\\\n",
    "                       .Define(\"m_o1\", \"Mo1(Lepton_pt, Lepton_eta, Lepton_phi, Lepton_mass, SelectedTau_pt, SelectedTau_eta, SelectedTau_phi, SelectedTau_mass, MET_pt, MET_phi)\")\\\n",
    "                       .Define(\"event_SFFake_vsjet2\", \"GetEventSFFake(Lepton_SFFake_vsjet2, SelectedTau_SFFake_vsjet2, Lepton_LnTRegion, SelectedTau_LnTRegion)\")\\\n",
    "                       .Define(\"event_SFFake_vsjet4\", \"GetEventSFFake(Lepton_SFFake_vsjet4, SelectedTau_SFFake_vsjet4, Lepton_LnTRegion, SelectedTau_LnTRegion)\")\\\n",
    "    \n",
    "    \n",
    "    return df_definitions"
   ]
  },
  {
   "cell_type": "code",
   "execution_count": 6,
   "id": "7d097ab1-c75b-4c6d-8751-eeec8bf97f2a",
   "metadata": {},
   "outputs": [
    {
     "name": "stdout",
     "output_type": "stream",
     "text": [
      "--2021-09-14 13:37:27--  https://cernbox.cern.ch/index.php/s/GhVAXXmSeA0FrN4/download\n",
      "Resolving cernbox.cern.ch (cernbox.cern.ch)... 137.138.120.151, 128.142.170.17, 128.142.32.38, ...\n",
      "Connecting to cernbox.cern.ch (cernbox.cern.ch)|137.138.120.151|:443... connected.\n",
      "HTTP request sent, awaiting response... 200 OK\n",
      "Length: 32094794 (31M) [application/root]\n",
      "Saving to: ‘test.root’\n",
      "\n",
      "100%[======================================>] 32,094,794  47.6MB/s   in 0.6s   \n",
      "\n",
      "Last-modified header invalid -- time-stamp ignored.\n",
      "2021-09-14 13:37:29 (47.6 MB/s) - ‘test.root’ saved [32094794/32094794]\n",
      "\n"
     ]
    }
   ],
   "source": [
    "!wget https://cernbox.cern.ch/index.php/s/GhVAXXmSeA0FrN4/download -O test.root"
   ]
  },
  {
   "cell_type": "code",
   "execution_count": 7,
   "id": "2869e4de-159a-40f6-b9be-39f22fb72b4a",
   "metadata": {},
   "outputs": [],
   "source": [
    "RDataFrame = ROOT.RDF.Experimental.Distributed.Dask.RDataFrame\n",
    "\n",
    "df = RDataFrame(\"Events\",\n",
    "                \"test.root\",\n",
    "                npartitions=2,\n",
    "                daskclient=client)"
   ]
  },
  {
   "cell_type": "code",
   "execution_count": 8,
   "id": "4c7584a6-6e5e-4536-bd8a-645ebc9bf665",
   "metadata": {},
   "outputs": [],
   "source": [
    "#trigger and VBS jets selections\n",
    "df_trigger = filter_trigger(df)\n",
    "df_jets = select_jets(df_trigger)\n",
    "\n",
    "#e/mu + tau final state\n",
    "df_lepton = select_lepton(df_jets)\n",
    "df_tau = select_tau(df_lepton)\n",
    "df_SS = df_tau.Filter(\"SameCharge(GoodLeptonFamily, Electron_idx, Electron_charge, Muon_idx, Muon_charge, Tau_idx, Tau_charge)\", \"SameSign\")\n",
    "df_bVeto = df_SS.Filter(\"!BVeto(Jet_pt, Jet_eta, Jet_btagDeepFlavB, GoodJets_idx)\", \"Bveto\")\n",
    "df_definitions = general_definitions(df_bVeto)\n",
    "\n",
    "##### signal region\n",
    "df_mjjCut = df_definitions.Filter(\"mjj > 500\", \"mjj cut\")\n",
    "df_METCut = df_mjjCut.Filter(\"MET_pt > 50\", \"MET cut\")\n",
    "\n",
    "h = {}\n",
    "\n",
    "h[\"Leadingjet_pt\"] = df_METCut.Histo1D((\"Leadingjet_pt\", \"Leadingjet_pt\", 100, 0, 2000), \"Leadingjet_pt\")\n",
    "h[\"Lepton_pt\"] = df_METCut.Histo1D((\"Lepton_pt\", \"Lepton_pt\", 100, 0, 1000),\"Lepton_pt\")\n",
    "h[\"SelectedTau_pt\"] = df_METCut.Histo1D((\"SelectedTau_pt\", \"SelectedTau_pt\", 100, 0, 1000), \"SelectedTau_pt\")\n",
    "h[\"deltaTheta_tauj2\"] = df_METCut.Histo1D((\"deltaTheta_tauj2\", \"deltaTheta_tauj2\", 100, -1, 1), \"deltaTheta_tauj2\")"
   ]
  },
  {
   "cell_type": "code",
   "execution_count": 11,
   "id": "ab8722eb-c872-44c9-90e5-b51654009004",
   "metadata": {},
   "outputs": [
    {
     "ename": "KilledWorker",
     "evalue": "('mapper-90b304be-2d02-476b-8e97-0995bbacef45', <Worker 'tcp://10.244.3.141:43225', name: HTCondorCluster-0, memory: 0, processing: 1>)",
     "output_type": "error",
     "traceback": [
      "\u001b[0;31m---------------------------------------------------------------------------\u001b[0m",
      "\u001b[0;31mKilledWorker\u001b[0m                              Traceback (most recent call last)",
      "\u001b[0;32m<ipython-input-11-df6208d305a8>\u001b[0m in \u001b[0;36m<module>\u001b[0;34m\u001b[0m\n\u001b[1;32m      7\u001b[0m     \u001b[0mvariable\u001b[0m \u001b[0;34m=\u001b[0m \u001b[0mvariables\u001b[0m\u001b[0;34m[\u001b[0m\u001b[0mi\u001b[0m\u001b[0;34m]\u001b[0m\u001b[0;34m\u001b[0m\u001b[0;34m\u001b[0m\u001b[0m\n\u001b[1;32m      8\u001b[0m     \u001b[0mhist\u001b[0m \u001b[0;34m=\u001b[0m \u001b[0mh\u001b[0m\u001b[0;34m[\u001b[0m\u001b[0mvariable\u001b[0m\u001b[0;34m]\u001b[0m\u001b[0;34m\u001b[0m\u001b[0;34m\u001b[0m\u001b[0m\n\u001b[0;32m----> 9\u001b[0;31m     \u001b[0mintegral\u001b[0m \u001b[0;34m=\u001b[0m \u001b[0mhist\u001b[0m\u001b[0;34m.\u001b[0m\u001b[0mIntegral\u001b[0m\u001b[0;34m(\u001b[0m\u001b[0;34m)\u001b[0m\u001b[0;34m\u001b[0m\u001b[0;34m\u001b[0m\u001b[0m\n\u001b[0m\u001b[1;32m     10\u001b[0m     \u001b[0mhist\u001b[0m\u001b[0;34m.\u001b[0m\u001b[0mScale\u001b[0m\u001b[0;34m(\u001b[0m \u001b[0;36m1.\u001b[0m\u001b[0;34m/\u001b[0m \u001b[0mintegral\u001b[0m\u001b[0;34m,\u001b[0m\u001b[0;34m\"WIDTH\"\u001b[0m\u001b[0;34m)\u001b[0m\u001b[0;34m\u001b[0m\u001b[0;34m\u001b[0m\u001b[0m\n\u001b[1;32m     11\u001b[0m     \u001b[0mhist\u001b[0m \u001b[0;34m=\u001b[0m \u001b[0mhist\u001b[0m\u001b[0;34m.\u001b[0m\u001b[0mDrawCopy\u001b[0m\u001b[0;34m(\u001b[0m\u001b[0;34m'HIST'\u001b[0m\u001b[0;34m)\u001b[0m\u001b[0;34m\u001b[0m\u001b[0;34m\u001b[0m\u001b[0m\n",
      "\u001b[0;32m/usr/local/share/root6/lib/DistRDF/Proxy.py\u001b[0m in \u001b[0;36m_call_action_result\u001b[0;34m(self, *args, **kwargs)\u001b[0m\n\u001b[1;32m    134\u001b[0m         \u001b[0mresult\u001b[0m \u001b[0mof\u001b[0m \u001b[0mthe\u001b[0m \u001b[0mcurrent\u001b[0m \u001b[0maction\u001b[0m \u001b[0mnode\u001b[0m\u001b[0;34m.\u001b[0m\u001b[0;34m\u001b[0m\u001b[0;34m\u001b[0m\u001b[0m\n\u001b[1;32m    135\u001b[0m         \"\"\"\n\u001b[0;32m--> 136\u001b[0;31m         \u001b[0;32mreturn\u001b[0m \u001b[0mgetattr\u001b[0m\u001b[0;34m(\u001b[0m\u001b[0mself\u001b[0m\u001b[0;34m.\u001b[0m\u001b[0mGetValue\u001b[0m\u001b[0;34m(\u001b[0m\u001b[0;34m)\u001b[0m\u001b[0;34m,\u001b[0m \u001b[0mself\u001b[0m\u001b[0;34m.\u001b[0m\u001b[0m_cur_attr\u001b[0m\u001b[0;34m)\u001b[0m\u001b[0;34m(\u001b[0m\u001b[0;34m*\u001b[0m\u001b[0margs\u001b[0m\u001b[0;34m,\u001b[0m \u001b[0;34m**\u001b[0m\u001b[0mkwargs\u001b[0m\u001b[0;34m)\u001b[0m\u001b[0;34m\u001b[0m\u001b[0;34m\u001b[0m\u001b[0m\n\u001b[0m\u001b[1;32m    137\u001b[0m \u001b[0;34m\u001b[0m\u001b[0m\n\u001b[1;32m    138\u001b[0m \u001b[0;34m\u001b[0m\u001b[0m\n",
      "\u001b[0;32m/usr/local/share/root6/lib/DistRDF/Proxy.py\u001b[0m in \u001b[0;36mGetValue\u001b[0;34m(self)\u001b[0m\n\u001b[1;32m    125\u001b[0m                 \u001b[0mheadnode\u001b[0m \u001b[0;34m=\u001b[0m \u001b[0mself\u001b[0m\u001b[0;34m.\u001b[0m\u001b[0mproxied_node\u001b[0m\u001b[0;34m.\u001b[0m\u001b[0mget_head\u001b[0m\u001b[0;34m(\u001b[0m\u001b[0;34m)\u001b[0m\u001b[0;34m\u001b[0m\u001b[0;34m\u001b[0m\u001b[0m\n\u001b[1;32m    126\u001b[0m                 \u001b[0mgenerator\u001b[0m \u001b[0;34m=\u001b[0m \u001b[0mComputationGraphGenerator\u001b[0m\u001b[0;34m(\u001b[0m\u001b[0mheadnode\u001b[0m\u001b[0;34m)\u001b[0m\u001b[0;34m\u001b[0m\u001b[0;34m\u001b[0m\u001b[0m\n\u001b[0;32m--> 127\u001b[0;31m                 \u001b[0mheadnode\u001b[0m\u001b[0;34m.\u001b[0m\u001b[0mbackend\u001b[0m\u001b[0;34m.\u001b[0m\u001b[0mexecute\u001b[0m\u001b[0;34m(\u001b[0m\u001b[0mgenerator\u001b[0m\u001b[0;34m)\u001b[0m\u001b[0;34m\u001b[0m\u001b[0;34m\u001b[0m\u001b[0m\n\u001b[0m\u001b[1;32m    128\u001b[0m \u001b[0;34m\u001b[0m\u001b[0m\n\u001b[1;32m    129\u001b[0m         \u001b[0;32mreturn\u001b[0m \u001b[0mself\u001b[0m\u001b[0;34m.\u001b[0m\u001b[0mproxied_node\u001b[0m\u001b[0;34m.\u001b[0m\u001b[0mvalue\u001b[0m\u001b[0;34m\u001b[0m\u001b[0;34m\u001b[0m\u001b[0m\n",
      "\u001b[0;32m/usr/local/share/root6/lib/DistRDF/Backends/Base.py\u001b[0m in \u001b[0;36mexecute\u001b[0;34m(self, generator)\u001b[0m\n\u001b[1;32m    270\u001b[0m \u001b[0;34m\u001b[0m\u001b[0m\n\u001b[1;32m    271\u001b[0m         \u001b[0;31m# Values produced after Map-Reduce\u001b[0m\u001b[0;34m\u001b[0m\u001b[0;34m\u001b[0m\u001b[0;34m\u001b[0m\u001b[0m\n\u001b[0;32m--> 272\u001b[0;31m         \u001b[0mvalues\u001b[0m \u001b[0;34m=\u001b[0m \u001b[0mself\u001b[0m\u001b[0;34m.\u001b[0m\u001b[0mProcessAndMerge\u001b[0m\u001b[0;34m(\u001b[0m\u001b[0mranges\u001b[0m\u001b[0;34m,\u001b[0m \u001b[0mmapper\u001b[0m\u001b[0;34m,\u001b[0m \u001b[0mreducer\u001b[0m\u001b[0;34m)\u001b[0m\u001b[0;34m\u001b[0m\u001b[0;34m\u001b[0m\u001b[0m\n\u001b[0m\u001b[1;32m    273\u001b[0m         \u001b[0;31m# List of action nodes in the same order as values\u001b[0m\u001b[0;34m\u001b[0m\u001b[0;34m\u001b[0m\u001b[0;34m\u001b[0m\u001b[0m\n\u001b[1;32m    274\u001b[0m         \u001b[0mnodes\u001b[0m \u001b[0;34m=\u001b[0m \u001b[0mgenerator\u001b[0m\u001b[0;34m.\u001b[0m\u001b[0mget_action_nodes\u001b[0m\u001b[0;34m(\u001b[0m\u001b[0;34m)\u001b[0m\u001b[0;34m\u001b[0m\u001b[0;34m\u001b[0m\u001b[0m\n",
      "\u001b[0;32m/usr/local/share/root6/lib/DistRDF/Backends/Dask/Backend.py\u001b[0m in \u001b[0;36mProcessAndMerge\u001b[0;34m(self, ranges, mapper, reducer)\u001b[0m\n\u001b[1;32m     73\u001b[0m \u001b[0;34m\u001b[0m\u001b[0m\n\u001b[1;32m     74\u001b[0m         \u001b[0mprogress\u001b[0m\u001b[0;34m(\u001b[0m\u001b[0mfinal_results\u001b[0m\u001b[0;34m)\u001b[0m\u001b[0;34m\u001b[0m\u001b[0;34m\u001b[0m\u001b[0m\n\u001b[0;32m---> 75\u001b[0;31m         \u001b[0;32mreturn\u001b[0m \u001b[0mfinal_results\u001b[0m\u001b[0;34m.\u001b[0m\u001b[0mcompute\u001b[0m\u001b[0;34m(\u001b[0m\u001b[0;34m)\u001b[0m\u001b[0;34m\u001b[0m\u001b[0;34m\u001b[0m\u001b[0m\n\u001b[0m\u001b[1;32m     76\u001b[0m \u001b[0;34m\u001b[0m\u001b[0m\n\u001b[1;32m     77\u001b[0m     \u001b[0;32mdef\u001b[0m \u001b[0mdistribute_unique_paths\u001b[0m\u001b[0;34m(\u001b[0m\u001b[0mself\u001b[0m\u001b[0;34m,\u001b[0m \u001b[0mpaths\u001b[0m\u001b[0;34m)\u001b[0m\u001b[0;34m:\u001b[0m\u001b[0;34m\u001b[0m\u001b[0;34m\u001b[0m\u001b[0m\n",
      "\u001b[0;32m/usr/local/lib/python3.6/site-packages/dask/base.py\u001b[0m in \u001b[0;36mcompute\u001b[0;34m(self, **kwargs)\u001b[0m\n\u001b[1;32m    281\u001b[0m         \u001b[0mdask\u001b[0m\u001b[0;34m.\u001b[0m\u001b[0mbase\u001b[0m\u001b[0;34m.\u001b[0m\u001b[0mcompute\u001b[0m\u001b[0;34m\u001b[0m\u001b[0;34m\u001b[0m\u001b[0m\n\u001b[1;32m    282\u001b[0m         \"\"\"\n\u001b[0;32m--> 283\u001b[0;31m         \u001b[0;34m(\u001b[0m\u001b[0mresult\u001b[0m\u001b[0;34m,\u001b[0m\u001b[0;34m)\u001b[0m \u001b[0;34m=\u001b[0m \u001b[0mcompute\u001b[0m\u001b[0;34m(\u001b[0m\u001b[0mself\u001b[0m\u001b[0;34m,\u001b[0m \u001b[0mtraverse\u001b[0m\u001b[0;34m=\u001b[0m\u001b[0;32mFalse\u001b[0m\u001b[0;34m,\u001b[0m \u001b[0;34m**\u001b[0m\u001b[0mkwargs\u001b[0m\u001b[0;34m)\u001b[0m\u001b[0;34m\u001b[0m\u001b[0;34m\u001b[0m\u001b[0m\n\u001b[0m\u001b[1;32m    284\u001b[0m         \u001b[0;32mreturn\u001b[0m \u001b[0mresult\u001b[0m\u001b[0;34m\u001b[0m\u001b[0;34m\u001b[0m\u001b[0m\n\u001b[1;32m    285\u001b[0m \u001b[0;34m\u001b[0m\u001b[0m\n",
      "\u001b[0;32m/usr/local/lib/python3.6/site-packages/dask/base.py\u001b[0m in \u001b[0;36mcompute\u001b[0;34m(*args, **kwargs)\u001b[0m\n\u001b[1;32m    563\u001b[0m         \u001b[0mpostcomputes\u001b[0m\u001b[0;34m.\u001b[0m\u001b[0mappend\u001b[0m\u001b[0;34m(\u001b[0m\u001b[0mx\u001b[0m\u001b[0;34m.\u001b[0m\u001b[0m__dask_postcompute__\u001b[0m\u001b[0;34m(\u001b[0m\u001b[0;34m)\u001b[0m\u001b[0;34m)\u001b[0m\u001b[0;34m\u001b[0m\u001b[0;34m\u001b[0m\u001b[0m\n\u001b[1;32m    564\u001b[0m \u001b[0;34m\u001b[0m\u001b[0m\n\u001b[0;32m--> 565\u001b[0;31m     \u001b[0mresults\u001b[0m \u001b[0;34m=\u001b[0m \u001b[0mschedule\u001b[0m\u001b[0;34m(\u001b[0m\u001b[0mdsk\u001b[0m\u001b[0;34m,\u001b[0m \u001b[0mkeys\u001b[0m\u001b[0;34m,\u001b[0m \u001b[0;34m**\u001b[0m\u001b[0mkwargs\u001b[0m\u001b[0;34m)\u001b[0m\u001b[0;34m\u001b[0m\u001b[0;34m\u001b[0m\u001b[0m\n\u001b[0m\u001b[1;32m    566\u001b[0m     \u001b[0;32mreturn\u001b[0m \u001b[0mrepack\u001b[0m\u001b[0;34m(\u001b[0m\u001b[0;34m[\u001b[0m\u001b[0mf\u001b[0m\u001b[0;34m(\u001b[0m\u001b[0mr\u001b[0m\u001b[0;34m,\u001b[0m \u001b[0;34m*\u001b[0m\u001b[0ma\u001b[0m\u001b[0;34m)\u001b[0m \u001b[0;32mfor\u001b[0m \u001b[0mr\u001b[0m\u001b[0;34m,\u001b[0m \u001b[0;34m(\u001b[0m\u001b[0mf\u001b[0m\u001b[0;34m,\u001b[0m \u001b[0ma\u001b[0m\u001b[0;34m)\u001b[0m \u001b[0;32min\u001b[0m \u001b[0mzip\u001b[0m\u001b[0;34m(\u001b[0m\u001b[0mresults\u001b[0m\u001b[0;34m,\u001b[0m \u001b[0mpostcomputes\u001b[0m\u001b[0;34m)\u001b[0m\u001b[0;34m]\u001b[0m\u001b[0;34m)\u001b[0m\u001b[0;34m\u001b[0m\u001b[0;34m\u001b[0m\u001b[0m\n\u001b[1;32m    567\u001b[0m \u001b[0;34m\u001b[0m\u001b[0m\n",
      "\u001b[0;32m/usr/local/lib/python3.6/site-packages/distributed/client.py\u001b[0m in \u001b[0;36mget\u001b[0;34m(self, dsk, keys, workers, allow_other_workers, resources, sync, asynchronous, direct, retries, priority, fifo_timeout, actors, **kwargs)\u001b[0m\n\u001b[1;32m   2652\u001b[0m                     \u001b[0mshould_rejoin\u001b[0m \u001b[0;34m=\u001b[0m \u001b[0;32mFalse\u001b[0m\u001b[0;34m\u001b[0m\u001b[0;34m\u001b[0m\u001b[0m\n\u001b[1;32m   2653\u001b[0m             \u001b[0;32mtry\u001b[0m\u001b[0;34m:\u001b[0m\u001b[0;34m\u001b[0m\u001b[0;34m\u001b[0m\u001b[0m\n\u001b[0;32m-> 2654\u001b[0;31m                 \u001b[0mresults\u001b[0m \u001b[0;34m=\u001b[0m \u001b[0mself\u001b[0m\u001b[0;34m.\u001b[0m\u001b[0mgather\u001b[0m\u001b[0;34m(\u001b[0m\u001b[0mpacked\u001b[0m\u001b[0;34m,\u001b[0m \u001b[0masynchronous\u001b[0m\u001b[0;34m=\u001b[0m\u001b[0masynchronous\u001b[0m\u001b[0;34m,\u001b[0m \u001b[0mdirect\u001b[0m\u001b[0;34m=\u001b[0m\u001b[0mdirect\u001b[0m\u001b[0;34m)\u001b[0m\u001b[0;34m\u001b[0m\u001b[0;34m\u001b[0m\u001b[0m\n\u001b[0m\u001b[1;32m   2655\u001b[0m             \u001b[0;32mfinally\u001b[0m\u001b[0;34m:\u001b[0m\u001b[0;34m\u001b[0m\u001b[0;34m\u001b[0m\u001b[0m\n\u001b[1;32m   2656\u001b[0m                 \u001b[0;32mfor\u001b[0m \u001b[0mf\u001b[0m \u001b[0;32min\u001b[0m \u001b[0mfutures\u001b[0m\u001b[0;34m.\u001b[0m\u001b[0mvalues\u001b[0m\u001b[0;34m(\u001b[0m\u001b[0;34m)\u001b[0m\u001b[0;34m:\u001b[0m\u001b[0;34m\u001b[0m\u001b[0;34m\u001b[0m\u001b[0m\n",
      "\u001b[0;32m/usr/local/lib/python3.6/site-packages/distributed/client.py\u001b[0m in \u001b[0;36mgather\u001b[0;34m(self, futures, errors, direct, asynchronous)\u001b[0m\n\u001b[1;32m   1967\u001b[0m                 \u001b[0mdirect\u001b[0m\u001b[0;34m=\u001b[0m\u001b[0mdirect\u001b[0m\u001b[0;34m,\u001b[0m\u001b[0;34m\u001b[0m\u001b[0;34m\u001b[0m\u001b[0m\n\u001b[1;32m   1968\u001b[0m                 \u001b[0mlocal_worker\u001b[0m\u001b[0;34m=\u001b[0m\u001b[0mlocal_worker\u001b[0m\u001b[0;34m,\u001b[0m\u001b[0;34m\u001b[0m\u001b[0;34m\u001b[0m\u001b[0m\n\u001b[0;32m-> 1969\u001b[0;31m                 \u001b[0masynchronous\u001b[0m\u001b[0;34m=\u001b[0m\u001b[0masynchronous\u001b[0m\u001b[0;34m,\u001b[0m\u001b[0;34m\u001b[0m\u001b[0;34m\u001b[0m\u001b[0m\n\u001b[0m\u001b[1;32m   1970\u001b[0m             )\n\u001b[1;32m   1971\u001b[0m \u001b[0;34m\u001b[0m\u001b[0m\n",
      "\u001b[0;32m/usr/local/lib/python3.6/site-packages/distributed/client.py\u001b[0m in \u001b[0;36msync\u001b[0;34m(self, func, asynchronous, callback_timeout, *args, **kwargs)\u001b[0m\n\u001b[1;32m    836\u001b[0m         \u001b[0;32melse\u001b[0m\u001b[0;34m:\u001b[0m\u001b[0;34m\u001b[0m\u001b[0;34m\u001b[0m\u001b[0m\n\u001b[1;32m    837\u001b[0m             return sync(\n\u001b[0;32m--> 838\u001b[0;31m                 \u001b[0mself\u001b[0m\u001b[0;34m.\u001b[0m\u001b[0mloop\u001b[0m\u001b[0;34m,\u001b[0m \u001b[0mfunc\u001b[0m\u001b[0;34m,\u001b[0m \u001b[0;34m*\u001b[0m\u001b[0margs\u001b[0m\u001b[0;34m,\u001b[0m \u001b[0mcallback_timeout\u001b[0m\u001b[0;34m=\u001b[0m\u001b[0mcallback_timeout\u001b[0m\u001b[0;34m,\u001b[0m \u001b[0;34m**\u001b[0m\u001b[0mkwargs\u001b[0m\u001b[0;34m\u001b[0m\u001b[0;34m\u001b[0m\u001b[0m\n\u001b[0m\u001b[1;32m    839\u001b[0m             )\n\u001b[1;32m    840\u001b[0m \u001b[0;34m\u001b[0m\u001b[0m\n",
      "\u001b[0;32m/usr/local/lib/python3.6/site-packages/distributed/utils.py\u001b[0m in \u001b[0;36msync\u001b[0;34m(loop, func, callback_timeout, *args, **kwargs)\u001b[0m\n\u001b[1;32m    349\u001b[0m     \u001b[0;32mif\u001b[0m \u001b[0merror\u001b[0m\u001b[0;34m[\u001b[0m\u001b[0;36m0\u001b[0m\u001b[0;34m]\u001b[0m\u001b[0;34m:\u001b[0m\u001b[0;34m\u001b[0m\u001b[0;34m\u001b[0m\u001b[0m\n\u001b[1;32m    350\u001b[0m         \u001b[0mtyp\u001b[0m\u001b[0;34m,\u001b[0m \u001b[0mexc\u001b[0m\u001b[0;34m,\u001b[0m \u001b[0mtb\u001b[0m \u001b[0;34m=\u001b[0m \u001b[0merror\u001b[0m\u001b[0;34m[\u001b[0m\u001b[0;36m0\u001b[0m\u001b[0;34m]\u001b[0m\u001b[0;34m\u001b[0m\u001b[0;34m\u001b[0m\u001b[0m\n\u001b[0;32m--> 351\u001b[0;31m         \u001b[0;32mraise\u001b[0m \u001b[0mexc\u001b[0m\u001b[0;34m.\u001b[0m\u001b[0mwith_traceback\u001b[0m\u001b[0;34m(\u001b[0m\u001b[0mtb\u001b[0m\u001b[0;34m)\u001b[0m\u001b[0;34m\u001b[0m\u001b[0;34m\u001b[0m\u001b[0m\n\u001b[0m\u001b[1;32m    352\u001b[0m     \u001b[0;32melse\u001b[0m\u001b[0;34m:\u001b[0m\u001b[0;34m\u001b[0m\u001b[0;34m\u001b[0m\u001b[0m\n\u001b[1;32m    353\u001b[0m         \u001b[0;32mreturn\u001b[0m \u001b[0mresult\u001b[0m\u001b[0;34m[\u001b[0m\u001b[0;36m0\u001b[0m\u001b[0;34m]\u001b[0m\u001b[0;34m\u001b[0m\u001b[0;34m\u001b[0m\u001b[0m\n",
      "\u001b[0;32m/usr/local/lib/python3.6/site-packages/distributed/utils.py\u001b[0m in \u001b[0;36mf\u001b[0;34m()\u001b[0m\n\u001b[1;32m    332\u001b[0m             \u001b[0;32mif\u001b[0m \u001b[0mcallback_timeout\u001b[0m \u001b[0;32mis\u001b[0m \u001b[0;32mnot\u001b[0m \u001b[0;32mNone\u001b[0m\u001b[0;34m:\u001b[0m\u001b[0;34m\u001b[0m\u001b[0;34m\u001b[0m\u001b[0m\n\u001b[1;32m    333\u001b[0m                 \u001b[0mfuture\u001b[0m \u001b[0;34m=\u001b[0m \u001b[0masyncio\u001b[0m\u001b[0;34m.\u001b[0m\u001b[0mwait_for\u001b[0m\u001b[0;34m(\u001b[0m\u001b[0mfuture\u001b[0m\u001b[0;34m,\u001b[0m \u001b[0mcallback_timeout\u001b[0m\u001b[0;34m)\u001b[0m\u001b[0;34m\u001b[0m\u001b[0;34m\u001b[0m\u001b[0m\n\u001b[0;32m--> 334\u001b[0;31m             \u001b[0mresult\u001b[0m\u001b[0;34m[\u001b[0m\u001b[0;36m0\u001b[0m\u001b[0;34m]\u001b[0m \u001b[0;34m=\u001b[0m \u001b[0;32myield\u001b[0m \u001b[0mfuture\u001b[0m\u001b[0;34m\u001b[0m\u001b[0;34m\u001b[0m\u001b[0m\n\u001b[0m\u001b[1;32m    335\u001b[0m         \u001b[0;32mexcept\u001b[0m \u001b[0mException\u001b[0m \u001b[0;32mas\u001b[0m \u001b[0mexc\u001b[0m\u001b[0;34m:\u001b[0m\u001b[0;34m\u001b[0m\u001b[0;34m\u001b[0m\u001b[0m\n\u001b[1;32m    336\u001b[0m             \u001b[0merror\u001b[0m\u001b[0;34m[\u001b[0m\u001b[0;36m0\u001b[0m\u001b[0;34m]\u001b[0m \u001b[0;34m=\u001b[0m \u001b[0msys\u001b[0m\u001b[0;34m.\u001b[0m\u001b[0mexc_info\u001b[0m\u001b[0;34m(\u001b[0m\u001b[0;34m)\u001b[0m\u001b[0;34m\u001b[0m\u001b[0;34m\u001b[0m\u001b[0m\n",
      "\u001b[0;32m/usr/local/lib64/python3.6/site-packages/tornado/gen.py\u001b[0m in \u001b[0;36mrun\u001b[0;34m(self)\u001b[0m\n\u001b[1;32m    760\u001b[0m \u001b[0;34m\u001b[0m\u001b[0m\n\u001b[1;32m    761\u001b[0m                     \u001b[0;32mtry\u001b[0m\u001b[0;34m:\u001b[0m\u001b[0;34m\u001b[0m\u001b[0;34m\u001b[0m\u001b[0m\n\u001b[0;32m--> 762\u001b[0;31m                         \u001b[0mvalue\u001b[0m \u001b[0;34m=\u001b[0m \u001b[0mfuture\u001b[0m\u001b[0;34m.\u001b[0m\u001b[0mresult\u001b[0m\u001b[0;34m(\u001b[0m\u001b[0;34m)\u001b[0m\u001b[0;34m\u001b[0m\u001b[0;34m\u001b[0m\u001b[0m\n\u001b[0m\u001b[1;32m    763\u001b[0m                     \u001b[0;32mexcept\u001b[0m \u001b[0mException\u001b[0m\u001b[0;34m:\u001b[0m\u001b[0;34m\u001b[0m\u001b[0;34m\u001b[0m\u001b[0m\n\u001b[1;32m    764\u001b[0m                         \u001b[0mexc_info\u001b[0m \u001b[0;34m=\u001b[0m \u001b[0msys\u001b[0m\u001b[0;34m.\u001b[0m\u001b[0mexc_info\u001b[0m\u001b[0;34m(\u001b[0m\u001b[0;34m)\u001b[0m\u001b[0;34m\u001b[0m\u001b[0;34m\u001b[0m\u001b[0m\n",
      "\u001b[0;32m/usr/local/lib/python3.6/site-packages/distributed/client.py\u001b[0m in \u001b[0;36m_gather\u001b[0;34m(self, futures, errors, direct, local_worker)\u001b[0m\n\u001b[1;32m   1826\u001b[0m                             \u001b[0mexc\u001b[0m \u001b[0;34m=\u001b[0m \u001b[0mCancelledError\u001b[0m\u001b[0;34m(\u001b[0m\u001b[0mkey\u001b[0m\u001b[0;34m)\u001b[0m\u001b[0;34m\u001b[0m\u001b[0;34m\u001b[0m\u001b[0m\n\u001b[1;32m   1827\u001b[0m                         \u001b[0;32melse\u001b[0m\u001b[0;34m:\u001b[0m\u001b[0;34m\u001b[0m\u001b[0;34m\u001b[0m\u001b[0m\n\u001b[0;32m-> 1828\u001b[0;31m                             \u001b[0;32mraise\u001b[0m \u001b[0mexception\u001b[0m\u001b[0;34m.\u001b[0m\u001b[0mwith_traceback\u001b[0m\u001b[0;34m(\u001b[0m\u001b[0mtraceback\u001b[0m\u001b[0;34m)\u001b[0m\u001b[0;34m\u001b[0m\u001b[0;34m\u001b[0m\u001b[0m\n\u001b[0m\u001b[1;32m   1829\u001b[0m                         \u001b[0;32mraise\u001b[0m \u001b[0mexc\u001b[0m\u001b[0;34m\u001b[0m\u001b[0;34m\u001b[0m\u001b[0m\n\u001b[1;32m   1830\u001b[0m                     \u001b[0;32mif\u001b[0m \u001b[0merrors\u001b[0m \u001b[0;34m==\u001b[0m \u001b[0;34m\"skip\"\u001b[0m\u001b[0;34m:\u001b[0m\u001b[0;34m\u001b[0m\u001b[0;34m\u001b[0m\u001b[0m\n",
      "\u001b[0;31mKilledWorker\u001b[0m: ('mapper-90b304be-2d02-476b-8e97-0995bbacef45', <Worker 'tcp://10.244.3.141:43225', name: HTCondorCluster-0, memory: 0, processing: 1>)"
     ]
    }
   ],
   "source": [
    "variables = [\"Leadingjet_pt\", \"Lepton_pt\",\"SelectedTau_pt\", \"deltaTheta_tauj2\"]\n",
    "canvases = []\n",
    "legends = []\n",
    "\n",
    "for i, v in enumerate(variables):\n",
    "    canvases.append(ROOT.TCanvas())\n",
    "    variable = variables[i]\n",
    "    hist = h[variable]\n",
    "    integral = hist.Integral()\n",
    "    hist.Scale( 1./ integral,\"WIDTH\")\n",
    "    hist = hist.DrawCopy('HIST')\n",
    "    canvases[i].Draw()"
   ]
  },
  {
   "cell_type": "code",
   "execution_count": null,
   "id": "8968b72b-26b5-44e7-a27b-32772114148a",
   "metadata": {},
   "outputs": [],
   "source": []
  }
 ],
 "metadata": {
  "kernelspec": {
   "display_name": "Python 3",
   "language": "python",
   "name": "python3"
  },
  "language_info": {
   "codemirror_mode": {
    "name": "ipython",
    "version": 3
   },
   "file_extension": ".py",
   "mimetype": "text/x-python",
   "name": "python",
   "nbconvert_exporter": "python",
   "pygments_lexer": "ipython3",
   "version": "3.6.8"
  }
 },
 "nbformat": 4,
 "nbformat_minor": 5
}
