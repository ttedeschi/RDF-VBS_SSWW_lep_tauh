{
 "cells": [
  {
   "cell_type": "markdown",
   "id": "4acdc2e9-391a-44cc-829a-773dcee8eb8c",
   "metadata": {},
   "source": [
    "# Preselection "
   ]
  },
  {
   "cell_type": "markdown",
   "id": "e9ab02f2-7635-450e-86ef-a679a04ab73e",
   "metadata": {},
   "source": [
    "## Import libraries and choose whether to run locally or distributed"
   ]
  },
  {
   "cell_type": "code",
   "execution_count": 1,
   "id": "reported-lunch",
   "metadata": {},
   "outputs": [
    {
     "name": "stderr",
     "output_type": "stream",
     "text": [
      "Error in <TExMap::Add>: key 140167026998752 is not unique\n",
      "Error in <TExMap::Add>: key 140167027515344 is not unique\n",
      "TClassTable::Add:0: RuntimeWarning: class timespec already in TClassTable\n",
      "TClassTable::Add:0: RuntimeWarning: class reverse_iterator<__gnu_cxx::__normal_iterator<TString*,vector<TString> > > already in TClassTable\n",
      "TClassTable::Add:0: RuntimeWarning: class reverse_iterator<__gnu_cxx::__normal_iterator<int*,vector<int> > > already in TClassTable\n",
      "TClassTable::Add:0: RuntimeWarning: class reverse_iterator<__gnu_cxx::__normal_iterator<string*,vector<string> > > already in TClassTable\n",
      "TClassTable::Add:0: RuntimeWarning: class __gnu_cxx::__normal_iterator<char*,string> already in TClassTable\n",
      "TClassTable::Add:0: RuntimeWarning: class __gnu_cxx::__normal_iterator<const char*,string> already in TClassTable\n",
      "TClassTable::Add:0: RuntimeWarning: class __gnu_cxx::__normal_iterator<TString*,vector<TString> > already in TClassTable\n",
      "TClassTable::Add:0: RuntimeWarning: class __gnu_cxx::__normal_iterator<const TString*,vector<TString> > already in TClassTable\n",
      "TClassTable::Add:0: RuntimeWarning: class __gnu_cxx::__normal_iterator<const int*,vector<int> > already in TClassTable\n",
      "TClassTable::Add:0: RuntimeWarning: class __gnu_cxx::__normal_iterator<int*,vector<int> > already in TClassTable\n",
      "TClassTable::Add:0: RuntimeWarning: class __gnu_cxx::__normal_iterator<const string*,vector<string> > already in TClassTable\n",
      "TClassTable::Add:0: RuntimeWarning: class __gnu_cxx::__normal_iterator<string*,vector<string> > already in TClassTable\n",
      "TClassTable::Add:0: RuntimeWarning: class TVirtualIsAProxy already in TClassTable\n",
      "TClassTable::Add:0: RuntimeWarning: class TIsAProxy already in TClassTable\n",
      "TClassTable::Add:0: RuntimeWarning: class TStorage already in TClassTable\n",
      "TClassTable::Add:0: RuntimeWarning: class TObject already in TClassTable\n",
      "TClassTable::Add:0: RuntimeWarning: class TIterator already in TClassTable\n",
      "TClassTable::Add:0: RuntimeWarning: class TSubString already in TClassTable\n",
      "TClassTable::Add:0: RuntimeWarning: class TString already in TClassTable\n",
      "TClassTable::Add:0: RuntimeWarning: class TVirtualMutex already in TClassTable\n",
      "TClassTable::Add:0: RuntimeWarning: class TLockGuard already in TClassTable\n",
      "TClassTable::Add:0: RuntimeWarning: class ROOT::TVirtualRWMutex already in TClassTable\n",
      "TClassTable::Add:0: RuntimeWarning: class ROOT::TReadLockGuard already in TClassTable\n",
      "TClassTable::Add:0: RuntimeWarning: class ROOT::TWriteLockGuard already in TClassTable\n",
      "TClassTable::Add:0: RuntimeWarning: class TCollection already in TClassTable\n",
      "TClassTable::Add:0: RuntimeWarning: class TIter already in TClassTable\n",
      "TClassTable::Add:0: RuntimeWarning: class TSeqCollection already in TClassTable\n",
      "TClassTable::Add:0: RuntimeWarning: class TList already in TClassTable\n",
      "TClassTable::Add:0: RuntimeWarning: class TListIter already in TClassTable\n",
      "TClassTable::Add:0: RuntimeWarning: class SetWindowAttributes_t already in TClassTable\n",
      "TClassTable::Add:0: RuntimeWarning: class WindowAttributes_t already in TClassTable\n",
      "TClassTable::Add:0: RuntimeWarning: class Event_t already in TClassTable\n",
      "TClassTable::Add:0: RuntimeWarning: class GCValues_t already in TClassTable\n",
      "TClassTable::Add:0: RuntimeWarning: class ColorStruct_t already in TClassTable\n",
      "TClassTable::Add:0: RuntimeWarning: class PictureAttributes_t already in TClassTable\n",
      "TClassTable::Add:0: RuntimeWarning: class Segment_t already in TClassTable\n",
      "TClassTable::Add:0: RuntimeWarning: class Point_t already in TClassTable\n",
      "TClassTable::Add:0: RuntimeWarning: class Rectangle_t already in TClassTable\n",
      "TClassTable::Add:0: RuntimeWarning: class TNamed already in TClassTable\n",
      "TClassTable::Add:0: RuntimeWarning: class TDictionary already in TClassTable\n",
      "TClassTable::Add:0: RuntimeWarning: class TDataType already in TClassTable\n",
      "TClassTable::Add:0: RuntimeWarning: class TInterpreter already in TClassTable\n",
      "TClassTable::Add:0: RuntimeWarning: class TQObject already in TClassTable\n",
      "TClassTable::Add:0: RuntimeWarning: class TQObjSender already in TClassTable\n",
      "TClassTable::Add:0: RuntimeWarning: class TApplicationImp already in TClassTable\n",
      "TClassTable::Add:0: RuntimeWarning: class TApplication already in TClassTable\n",
      "TClassTable::Add:0: RuntimeWarning: class TAtt3D already in TClassTable\n",
      "TClassTable::Add:0: RuntimeWarning: class TAttAxis already in TClassTable\n",
      "TClassTable::Add:0: RuntimeWarning: class TAttBBox2D already in TClassTable\n",
      "TClassTable::Add:0: RuntimeWarning: class TAttBBox already in TClassTable\n",
      "TClassTable::Add:0: RuntimeWarning: class TAttFill already in TClassTable\n",
      "TClassTable::Add:0: RuntimeWarning: class TAttLine already in TClassTable\n",
      "TClassTable::Add:0: RuntimeWarning: class TAttMarker already in TClassTable\n",
      "TClassTable::Add:0: RuntimeWarning: class TAttPad already in TClassTable\n",
      "TClassTable::Add:0: RuntimeWarning: class TAttText already in TClassTable\n",
      "TClassTable::Add:0: RuntimeWarning: class TBase64 already in TClassTable\n",
      "TClassTable::Add:0: RuntimeWarning: class TStopwatch already in TClassTable\n",
      "TClassTable::Add:0: RuntimeWarning: class TBenchmark already in TClassTable\n",
      "TClassTable::Add:0: RuntimeWarning: class TBuffer3D already in TClassTable\n",
      "TClassTable::Add:0: RuntimeWarning: class TObjArray already in TClassTable\n",
      "TClassTable::Add:0: RuntimeWarning: class TObjArrayIter already in TClassTable\n",
      "TClassTable::Add:0: RuntimeWarning: class TClass already in TClassTable\n",
      "TClassTable::Add:0: RuntimeWarning: class TBuffer already in TClassTable\n",
      "TClassTable::Add:0: RuntimeWarning: class TColor already in TClassTable\n",
      "TClassTable::Add:0: RuntimeWarning: class TColorGradient already in TClassTable\n",
      "TClassTable::Add:0: RuntimeWarning: class TLinearGradient already in TClassTable\n",
      "TClassTable::Add:0: RuntimeWarning: class TRadialGradient already in TClassTable\n",
      "TClassTable::Add:0: RuntimeWarning: class TDatime already in TClassTable\n",
      "TClassTable::Add:0: RuntimeWarning: class TUUID already in TClassTable\n",
      "TClassTable::Add:0: RuntimeWarning: class TDirectory already in TClassTable\n",
      "TClassTable::Add:0: RuntimeWarning: class TEnvRec already in TClassTable\n",
      "TClassTable::Add:0: RuntimeWarning: class TEnv already in TClassTable\n",
      "TClassTable::Add:0: RuntimeWarning: class TExec already in TClassTable\n",
      "TClassTable::Add:0: RuntimeWarning: class TFileCollection already in TClassTable\n",
      "TClassTable::Add:0: RuntimeWarning: class TUrl already in TClassTable\n",
      "TClassTable::Add:0: RuntimeWarning: class TMD5 already in TClassTable\n",
      "TClassTable::Add:0: RuntimeWarning: class TFileInfo already in TClassTable\n",
      "TClassTable::Add:0: RuntimeWarning: class TFileInfoMeta already in TClassTable\n",
      "TClassTable::Add:0: RuntimeWarning: class TFolder already in TClassTable\n",
      "TClassTable::Add:0: RuntimeWarning: class TInetAddress already in TClassTable\n",
      "TClassTable::Add:0: RuntimeWarning: class TMacro already in TClassTable\n",
      "TClassTable::Add:0: RuntimeWarning: class TMemberInspector already in TClassTable\n",
      "TClassTable::Add:0: RuntimeWarning: class TMessageHandler already in TClassTable\n",
      "TClassTable::Add:0: RuntimeWarning: class TNotifyLinkBase already in TClassTable\n",
      "TClassTable::Add:0: RuntimeWarning: class TObjString already in TClassTable\n",
      "TClassTable::Add:0: RuntimeWarning: class TROOT already in TClassTable\n",
      "TClassTable::Add:0: RuntimeWarning: class TParameter<bool> already in TClassTable\n",
      "TClassTable::Add:0: RuntimeWarning: class TParameter<Long64_t> already in TClassTable\n",
      "TClassTable::Add:0: RuntimeWarning: class TParameter<long> already in TClassTable\n",
      "TClassTable::Add:0: RuntimeWarning: class TParameter<int> already in TClassTable\n",
      "TClassTable::Add:0: RuntimeWarning: class TParameter<double> already in TClassTable\n",
      "TClassTable::Add:0: RuntimeWarning: class TParameter<float> already in TClassTable\n",
      "TClassTable::Add:0: RuntimeWarning: class TMethodCall already in TClassTable\n",
      "TClassTable::Add:0: RuntimeWarning: class TPluginHandler already in TClassTable\n",
      "TClassTable::Add:0: RuntimeWarning: class TPluginManager already in TClassTable\n",
      "TClassTable::Add:0: RuntimeWarning: class TPoint already in TClassTable\n",
      "TClassTable::Add:0: RuntimeWarning: class TArray already in TClassTable\n",
      "TClassTable::Add:0: RuntimeWarning: class TArrayI already in TClassTable\n",
      "TClassTable::Add:0: RuntimeWarning: class TPRegexp already in TClassTable\n",
      "TClassTable::Add:0: RuntimeWarning: class TPMERegexp already in TClassTable\n",
      "TClassTable::Add:0: RuntimeWarning: class TStringToken already in TClassTable\n",
      "TClassTable::Add:0: RuntimeWarning: class TProcessID already in TClassTable\n",
      "TClassTable::Add:0: RuntimeWarning: class TProcessUUID already in TClassTable\n",
      "TClassTable::Add:0: RuntimeWarning: class TQClass already in TClassTable\n",
      "TClassTable::Add:0: RuntimeWarning: class TQCommand already in TClassTable\n",
      "TClassTable::Add:0: RuntimeWarning: class TQUndoManager already in TClassTable\n",
      "TClassTable::Add:0: RuntimeWarning: class TQConnection already in TClassTable\n",
      "TClassTable::Add:0: RuntimeWarning: class TSysEvtHandler already in TClassTable\n",
      "TClassTable::Add:0: RuntimeWarning: class TFileHandler already in TClassTable\n",
      "TClassTable::Add:0: RuntimeWarning: class TSignalHandler already in TClassTable\n",
      "TClassTable::Add:0: RuntimeWarning: class TStdExceptionHandler already in TClassTable\n",
      "TClassTable::Add:0: RuntimeWarning: class TTime already in TClassTable\n",
      "TClassTable::Add:0: RuntimeWarning: class TTimer already in TClassTable\n",
      "TClassTable::Add:0: RuntimeWarning: class FileStat_t already in TClassTable\n",
      "TClassTable::Add:0: RuntimeWarning: class UserGroup_t already in TClassTable\n",
      "TClassTable::Add:0: RuntimeWarning: class SysInfo_t already in TClassTable\n",
      "TClassTable::Add:0: RuntimeWarning: class CpuInfo_t already in TClassTable\n",
      "TClassTable::Add:0: RuntimeWarning: class MemInfo_t already in TClassTable\n",
      "TClassTable::Add:0: RuntimeWarning: class ProcInfo_t already in TClassTable\n",
      "TClassTable::Add:0: RuntimeWarning: class RedirectHandle_t already in TClassTable\n",
      "TClassTable::Add:0: RuntimeWarning: class TProcessEventTimer already in TClassTable\n",
      "TClassTable::Add:0: RuntimeWarning: class TSystem already in TClassTable\n",
      "TClassTable::Add:0: RuntimeWarning: class TRedirectOutputGuard already in TClassTable\n",
      "TClassTable::Add:0: RuntimeWarning: class TRefCnt already in TClassTable\n",
      "TClassTable::Add:0: RuntimeWarning: class TRef already in TClassTable\n",
      "TClassTable::Add:0: RuntimeWarning: class TRegexp already in TClassTable\n",
      "TClassTable::Add:0: RuntimeWarning: class TRemoteObject already in TClassTable\n",
      "TClassTable::Add:0: RuntimeWarning: class TRootIOCtor already in TClassTable\n",
      "TClassTable::Add:0: RuntimeWarning: class TStringLong already in TClassTable\n",
      "TClassTable::Add:0: RuntimeWarning: class TStyle already in TClassTable\n",
      "TClassTable::Add:0: RuntimeWarning: class TSystemFile already in TClassTable\n",
      "TClassTable::Add:0: RuntimeWarning: class TSystemDirectory already in TClassTable\n",
      "TClassTable::Add:0: RuntimeWarning: class TTask already in TClassTable\n",
      "TClassTable::Add:0: RuntimeWarning: class TTimeStamp already in TClassTable\n",
      "TClassTable::Add:0: RuntimeWarning: class TUri already in TClassTable\n",
      "TClassTable::Add:0: RuntimeWarning: class TVirtualAuth already in TClassTable\n",
      "TClassTable::Add:0: RuntimeWarning: class TVirtualFFT already in TClassTable\n",
      "TClassTable::Add:0: RuntimeWarning: class TVirtualGLPainter already in TClassTable\n",
      "TClassTable::Add:0: RuntimeWarning: class TVirtualGLManip already in TClassTable\n",
      "TClassTable::Add:0: RuntimeWarning: class TGLManager already in TClassTable\n",
      "TClassTable::Add:0: RuntimeWarning: class TGLPaintDevice already in TClassTable\n",
      "TClassTable::Add:0: RuntimeWarning: class THashTable already in TClassTable\n",
      "TClassTable::Add:0: RuntimeWarning: class THashTableIter already in TClassTable\n",
      "TClassTable::Add:0: RuntimeWarning: class TMap already in TClassTable\n",
      "TClassTable::Add:0: RuntimeWarning: class TPair already in TClassTable\n",
      "TClassTable::Add:0: RuntimeWarning: class TMapIter already in TClassTable\n",
      "TClassTable::Add:0: RuntimeWarning: class TVirtualMonitoringWriter already in TClassTable\n",
      "TClassTable::Add:0: RuntimeWarning: class TVirtualMonitoringReader already in TClassTable\n",
      "TClassTable::Add:0: RuntimeWarning: class TVirtualPadEditor already in TClassTable\n",
      "TClassTable::Add:0: RuntimeWarning: class TVirtualPad already in TClassTable\n",
      "TClassTable::Add:0: RuntimeWarning: class TVirtualPadPainter already in TClassTable\n",
      "TClassTable::Add:0: RuntimeWarning: class TVirtualPerfStats already in TClassTable\n",
      "TClassTable::Add:0: RuntimeWarning: class TVirtualPS already in TClassTable\n",
      "TClassTable::Add:0: RuntimeWarning: class TVirtualTableInterface already in TClassTable\n",
      "TClassTable::Add:0: RuntimeWarning: class TVirtualViewer3D already in TClassTable\n",
      "TClassTable::Add:0: RuntimeWarning: class TVirtualX already in TClassTable\n",
      "TClassTable::Add:0: RuntimeWarning: class TArrayC already in TClassTable\n",
      "TClassTable::Add:0: RuntimeWarning: class TArrayD already in TClassTable\n",
      "TClassTable::Add:0: RuntimeWarning: class TArrayF already in TClassTable\n",
      "TClassTable::Add:0: RuntimeWarning: class TArrayL64 already in TClassTable\n",
      "TClassTable::Add:0: RuntimeWarning: class TArrayL already in TClassTable\n",
      "TClassTable::Add:0: RuntimeWarning: class TArrayS already in TClassTable\n",
      "TClassTable::Add:0: RuntimeWarning: class TBits already in TClassTable\n",
      "TClassTable::Add:0: RuntimeWarning: class TBits::TReference already in TClassTable\n",
      "TClassTable::Add:0: RuntimeWarning: class TBtree already in TClassTable\n",
      "TClassTable::Add:0: RuntimeWarning: class TBtreeIter already in TClassTable\n",
      "TClassTable::Add:0: RuntimeWarning: class TClassTable already in TClassTable\n",
      "TClassTable::Add:0: RuntimeWarning: class TClonesArray already in TClassTable\n",
      "TClassTable::Add:0: RuntimeWarning: class TExMap already in TClassTable\n",
      "TClassTable::Add:0: RuntimeWarning: class TExMapIter already in TClassTable\n",
      "TClassTable::Add:0: RuntimeWarning: class THashList already in TClassTable\n",
      "TClassTable::Add:0: RuntimeWarning: class TObjectTable already in TClassTable\n",
      "TClassTable::Add:0: RuntimeWarning: class TOrdCollection already in TClassTable\n",
      "TClassTable::Add:0: RuntimeWarning: class TOrdCollectionIter already in TClassTable\n",
      "TClassTable::Add:0: RuntimeWarning: class TRefArray already in TClassTable\n",
      "TClassTable::Add:0: RuntimeWarning: class TRefArrayIter already in TClassTable\n",
      "TClassTable::Add:0: RuntimeWarning: class TRefTable already in TClassTable\n",
      "TClassTable::Add:0: RuntimeWarning: class TSortedList already in TClassTable\n",
      "TClassTable::Add:0: RuntimeWarning: class TClassRef already in TClassTable\n",
      "TClassTable::Add:0: RuntimeWarning: class TVirtualCollectionProxy already in TClassTable\n",
      "TClassTable::Add:0: RuntimeWarning: class TUnixSystem already in TClassTable\n",
      "TClassTable::Add:0: RuntimeWarning: class TBrowserImp already in TClassTable\n",
      "TClassTable::Add:0: RuntimeWarning: class TBrowser already in TClassTable\n",
      "TClassTable::Add:0: RuntimeWarning: class TCanvasImp already in TClassTable\n",
      "TClassTable::Add:0: RuntimeWarning: class TClassMenuItem already in TClassTable\n",
      "TClassTable::Add:0: RuntimeWarning: class TContextMenuImp already in TClassTable\n",
      "TClassTable::Add:0: RuntimeWarning: class TContextMenu already in TClassTable\n",
      "TClassTable::Add:0: RuntimeWarning: class TControlBarImp already in TClassTable\n",
      "TClassTable::Add:0: RuntimeWarning: class TGuiFactory already in TClassTable\n",
      "TClassTable::Add:0: RuntimeWarning: class TInspectorImp already in TClassTable\n",
      "TClassTable::Add:0: RuntimeWarning: class TObjectSpy already in TClassTable\n",
      "TClassTable::Add:0: RuntimeWarning: class TObjectRefSpy already in TClassTable\n",
      "TClassTable::Add:0: RuntimeWarning: class TFunction already in TClassTable\n",
      "TClassTable::Add:0: RuntimeWarning: class TMethod already in TClassTable\n",
      "TClassTable::Add:0: RuntimeWarning: class TToggle already in TClassTable\n",
      "TClassTable::Add:0: RuntimeWarning: class TToggleGroup already in TClassTable\n",
      "TClassTable::Add:0: RuntimeWarning: class TBaseClass already in TClassTable\n",
      "TClassTable::Add:0: RuntimeWarning: class TClassGenerator already in TClassTable\n",
      "TClassTable::Add:0: RuntimeWarning: class TClassStreamer already in TClassTable\n",
      "TClassTable::Add:0: RuntimeWarning: class TDataMember already in TClassTable\n",
      "TClassTable::Add:0: RuntimeWarning: class TOptionListItem already in TClassTable\n",
      "TClassTable::Add:0: RuntimeWarning: class TDictAttributeMap already in TClassTable\n",
      "TClassTable::Add:0: RuntimeWarning: class TGlobal already in TClassTable\n",
      "TClassTable::Add:0: RuntimeWarning: class TEnum already in TClassTable\n",
      "TClassTable::Add:0: RuntimeWarning: class TEnumConstant already in TClassTable\n",
      "TClassTable::Add:0: RuntimeWarning: class TFileMergeInfo already in TClassTable\n",
      "TClassTable::Add:0: RuntimeWarning: class TFunctionTemplate already in TClassTable\n",
      "TClassTable::Add:0: RuntimeWarning: class TListOfDataMembers already in TClassTable\n",
      "TClassTable::Add:0: RuntimeWarning: class TListOfEnums already in TClassTable\n",
      "TClassTable::Add:0: RuntimeWarning: class TListOfEnumsWithLock already in TClassTable\n",
      "TClassTable::Add:0: RuntimeWarning: class TListOfEnumsWithLockIter already in TClassTable\n",
      "TClassTable::Add:0: RuntimeWarning: class TListOfFunctions already in TClassTable\n",
      "TClassTable::Add:0: RuntimeWarning: class TListOfFunctionsIter already in TClassTable\n",
      "TClassTable::Add:0: RuntimeWarning: class TListOfFunctionTemplates already in TClassTable\n",
      "TClassTable::Add:0: RuntimeWarning: class TMemberStreamer already in TClassTable\n",
      "TClassTable::Add:0: RuntimeWarning: class TMethodArg already in TClassTable\n",
      "TClassTable::Add:0: RuntimeWarning: class TProtoClass already in TClassTable\n",
      "TClassTable::Add:0: RuntimeWarning: class TProtoClass::TProtoRealData already in TClassTable\n",
      "TClassTable::Add:0: RuntimeWarning: class TRealData already in TClassTable\n",
      "TClassTable::Add:0: RuntimeWarning: class ROOT::TSchemaRule already in TClassTable\n",
      "TClassTable::Add:0: RuntimeWarning: class ROOT::TSchemaRule::TSources already in TClassTable\n",
      "TClassTable::Add:0: RuntimeWarning: class ROOT::Detail::TSchemaRuleSet already in TClassTable\n",
      "TClassTable::Add:0: RuntimeWarning: class ROOT::Detail::TStatusBitsChecker already in TClassTable\n",
      "TClassTable::Add:0: RuntimeWarning: class TStreamerElement already in TClassTable\n",
      "TClassTable::Add:0: RuntimeWarning: class TStreamerBase already in TClassTable\n",
      "TClassTable::Add:0: RuntimeWarning: class TStreamerBasicPointer already in TClassTable\n",
      "TClassTable::Add:0: RuntimeWarning: class TStreamerLoop already in TClassTable\n",
      "TClassTable::Add:0: RuntimeWarning: class TStreamerBasicType already in TClassTable\n",
      "TClassTable::Add:0: RuntimeWarning: class TStreamerObject already in TClassTable\n",
      "TClassTable::Add:0: RuntimeWarning: class TStreamerObjectAny already in TClassTable\n",
      "TClassTable::Add:0: RuntimeWarning: class TStreamerObjectPointer already in TClassTable\n",
      "TClassTable::Add:0: RuntimeWarning: class TStreamerObjectAnyPointer already in TClassTable\n",
      "TClassTable::Add:0: RuntimeWarning: class TStreamerString already in TClassTable\n",
      "TClassTable::Add:0: RuntimeWarning: class TStreamerSTL already in TClassTable\n",
      "TClassTable::Add:0: RuntimeWarning: class TStreamerSTLstring already in TClassTable\n",
      "TClassTable::Add:0: RuntimeWarning: class TStreamerArtificial already in TClassTable\n",
      "TClassTable::Add:0: RuntimeWarning: class TVirtualStreamerInfo already in TClassTable\n",
      "TClassTable::Add:0: RuntimeWarning: class TVirtualArray already in TClassTable\n",
      "TClassTable::Add:0: RuntimeWarning: class TVirtualObject already in TClassTable\n"
     ]
    },
    {
     "name": "stdout",
     "output_type": "stream",
     "text": [
      "Welcome to JupyROOT 6.25/01\n"
     ]
    }
   ],
   "source": [
    "import ROOT\n",
    "import os\n",
    "from dask.distributed import Client\n",
    "distributed = True\n",
    "MT = False"
   ]
  },
  {
   "cell_type": "code",
   "execution_count": 2,
   "id": "191575b9-de62-4a48-9c38-4877e30381e0",
   "metadata": {},
   "outputs": [],
   "source": [
    "if distributed != True and MT == True:\n",
    "    ROOT.ROOT.EnableImplicitMT()"
   ]
  },
  {
   "cell_type": "markdown",
   "id": "b02a1b7b-af20-455e-86a9-00284cd67c02",
   "metadata": {},
   "source": [
    "## Declare utils defined in a preselection.h file to the ROOT interpreter. If running distributed, connect to cluster and declare the file content in an initialization function"
   ]
  },
  {
   "cell_type": "code",
   "execution_count": 3,
   "id": "8a73d244-2b2c-492c-909f-45711581af66",
   "metadata": {},
   "outputs": [],
   "source": [
    "def my_initialization_function():\n",
    "    ROOT.gInterpreter.Declare('{}'.format(data))"
   ]
  },
  {
   "cell_type": "code",
   "execution_count": 4,
   "id": "8a042463-f557-437c-bc3b-b0e3ec858ecd",
   "metadata": {},
   "outputs": [
    {
     "name": "stderr",
     "output_type": "stream",
     "text": [
      "/opt/conda/lib/python3.9/site-packages/distributed/client.py:1123: VersionMismatchWarning: Mismatched versions found\n",
      "\n",
      "+-------------+-----------+-----------+-----------+\n",
      "| Package     | client    | scheduler | workers   |\n",
      "+-------------+-----------+-----------+-----------+\n",
      "| dask        | 2021.09.1 | 2021.09.0 | 2021.09.0 |\n",
      "| distributed | 2021.09.1 | 2021.09.0 | 2021.09.0 |\n",
      "| numpy       | 1.20.3    | 1.21.2    | 1.21.2    |\n",
      "| pandas      | 1.3.4     | 1.3.3     | 1.3.3     |\n",
      "+-------------+-----------+-----------+-----------+\n",
      "  warnings.warn(version_module.VersionMismatchWarning(msg[0][\"warning\"]))\n"
     ]
    },
    {
     "name": "stdout",
     "output_type": "stream",
     "text": [
      "Loading histogram NUM_TightID_DEN_genTracks_eta_pt from file https://ttedesch.web.cern.ch/ttedesch/nanoAOD-tools/python/postprocessing/data/leptonSF/Mu_RunBCDEFGH_SF_ID_2016_syst.root... \n",
      "Loading histogram EGamma_SF2D from file https://ttedesch.web.cern.ch/ttedesch/nanoAOD-tools/python/postprocessing/data/leptonSF/EGM2D_RECO_SF_2016.root... \n",
      "Loading histogram EGamma_SF2D from file https://ttedesch.web.cern.ch/ttedesch/nanoAOD-tools/python/postprocessing/data/leptonSF/2016LegacyReReco_ElectronMVA90noiso_Fall17V2.root... \n",
      "Loading histogram NUM_TightID_DEN_genTracks_pt_abseta from file https://ttedesch.web.cern.ch/ttedesch/nanoAOD-tools/python/postprocessing/data/leptonSF/Muon_RunBCDEF_SF_ID_2017.root... \n",
      "Loading histogram NUM_TightRelIso_DEN_TightIDandIPCut_pt_abseta from file https://ttedesch.web.cern.ch/ttedesch/nanoAOD-tools/python/postprocessing/data/leptonSF/Muon_RunBCDEF_SF_ISO_2017.root... \n",
      "Loading histogram EGamma_SF2D from file https://ttedesch.web.cern.ch/ttedesch/nanoAOD-tools/python/postprocessing/data/leptonSF/EGM2D_2017_passingRECO_highEt.root... \n",
      "Loading histogram EGamma_SF2D from file https://ttedesch.web.cern.ch/ttedesch/nanoAOD-tools/python/postprocessing/data/leptonSF/Electron_MVA90_2017.root... \n",
      "Loading histogram NUM_TightID_DEN_TrackerMuons_pt_abseta from file https://ttedesch.web.cern.ch/ttedesch/nanoAOD-tools/python/postprocessing/data/leptonSF/Muon_RunBCDEF_SF_ID_2018.root... \n",
      "Loading histogram NUM_TightRelIso_DEN_TightIDandIPCut_pt_abseta from file https://ttedesch.web.cern.ch/ttedesch/nanoAOD-tools/python/postprocessing/data/leptonSF/Muon_RunBCDEF_SF_ISO_2018.root... \n",
      "Loading histogram EGamma_SF2D from file https://ttedesch.web.cern.ch/ttedesch/nanoAOD-tools/python/postprocessing/data/leptonSF/EGM2D_passingRECO_2018All.root... \n",
      "Loading histogram EGamma_SF2D from file https://ttedesch.web.cern.ch/ttedesch/nanoAOD-tools/python/postprocessing/data/leptonSF/2018_ElectronMVA90Iso.root... \n"
     ]
    }
   ],
   "source": [
    "if distributed == True:\n",
    "    RDataFrame = ROOT.RDF.Experimental.Distributed.Dask.RDataFrame\n",
    "    sched_port = 24695\n",
    "    client = Client(address=\"tcp://127.0.0.1:\"+str(sched_port))\n",
    "    text_file = open(\"preselection.h\", \"r\")\n",
    "    data = text_file.read()\n",
    "    ROOT.RDF.Experimental.Distributed.initialize(my_initialization_function)\n",
    "\n",
    "else:\n",
    "    RDataFrame = ROOT.RDataFrame\n",
    "    ROOT.gInterpreter.Declare('#include \"preselection.h\"')"
   ]
  },
  {
   "cell_type": "markdown",
   "id": "cf6239e4-1d5d-4d6c-bcf2-6eb13b508947",
   "metadata": {},
   "source": [
    "## Define the dataframe starting from a chain of root files"
   ]
  },
  {
   "cell_type": "code",
   "execution_count": 5,
   "id": "349afb2d-6af8-4295-b3f6-1ff22826dc87",
   "metadata": {},
   "outputs": [],
   "source": [
    "proxy = \"root://212.189.205.221:30443//root://xrootd-cms.infn.it/\"\n",
    "chain = [proxy + \"/store/mc/RunIIFall17NanoAODv7/VBS_SSWW_LL_polarization_TuneCP5_13TeV-madgraph-pythia8/NANOAODSIM/PU2017_12Apr2018_Nano02Apr2020_102X_mc2017_realistic_v8-v1/100000/5ADAED4E-FEEE-884F-8555-FF6FB31D6A60.root\"]\n",
    "#chain = [\"RunIIFall17NanoAODv7-5ADAED4E-FEEE-884F-8555-FF6FB31D6A60.root\"]\n",
    "\n",
    "\n",
    "if distributed == True:\n",
    "    df = RDataFrame(\"Events\", chain, npartitions=4, daskclient=client)\n",
    "else:\n",
    "    df = RDataFrame(\"Events\", chain)"
   ]
  },
  {
   "cell_type": "markdown",
   "id": "9daeeac7-da1d-4259-b41f-afc1843913de",
   "metadata": {},
   "source": [
    "## Define preselection flow"
   ]
  },
  {
   "cell_type": "code",
   "execution_count": 6,
   "id": "668843b9-d83d-4ae3-9e6a-f3965508d545",
   "metadata": {},
   "outputs": [],
   "source": [
    "df_year = df.DefinePerSample(\"Year\",\"GetYear(rdfslot_, rdfsampleinfo_)\")\n",
    "\n",
    "#### MET HLT Filter ####   #### working only for 2017 and 2018 (2016 requires a column that is not present in 2017 nd 2018, i.e. HLT_IsoTkMu24\n",
    "df_METHLTFilter = df_year.Define(\"METHLTFilter\", \"MET_HLT_Filter(Year, Flag_goodVertices, Flag_HBHENoiseFilter, Flag_HBHENoiseIsoFilter, Flag_EcalDeadCellTriggerPrimitiveFilter, Flag_BadPFMuonFilter, Flag_globalSuperTightHalo2016Filter, HLT_Ele27_WPTight_Gsf,  HLT_Ele32_WPTight_Gsf, HLT_IsoMu24, HLT_IsoMu27, HLT_Mu50, HLT_Ele35_WPTight_Gsf, HLT_Ele32_WPTight_Gsf_L1DoubleEG, HLT_Photon200)\")\\\n",
    "                         .Filter(\"METHLTFilter == true\", \"MET HLT Filter\")\n",
    "\n",
    "#### preselection #####\n",
    "df_preselection = df_METHLTFilter.Filter(\"PV_ndof> 4 && abs(PV_z) < 20 && hypot(PV_x, PV_y)<2\", \"Good vertex\")\\\n",
    "                                 .Define(\"HT_eventHT\", \"GetEventHT(Jet_pt, Jet_eta, Jet_phi, Jet_mass)\")\n",
    "\n",
    "#### lepSF #####\n",
    "df_LepSF = df_preselection.Define(\"LepSF_output\", \"LepSF(Electron_pt, Electron_eta, Electron_pdgId, Muon_pt, Muon_eta, Muon_pdgId, Year)\")\\\n",
    "                          .Define(\"Muon_effSF\", \"LepSF_output[0]\")\\\n",
    "                          .Define(\"Electron_effSF\", \"LepSF_output[1]\")\\\n",
    "                          .Define(\"Muon_effSF_errUp\", \"LepSF_output[2]\")\\\n",
    "                          .Define(\"Electron_effSF_errUp\", \"LepSF_output[3]\")\\\n",
    "                          .Define(\"Muon_effSF_errDown\", \"LepSF_output[4]\")\\\n",
    "                          .Define(\"Electron_effSF_errDown\", \"LepSF_output[5]\")\n",
    "\n",
    "#### mht ####\n",
    "df_mht = df_LepSF.Define(\"MHT_pt_phi\", \"MHT_pt_phi(Electron_pt, Electron_eta, Electron_phi, Electron_mass, Electron_miniPFRelIso_all, Muon_pt, Muon_eta, Muon_phi, Muon_mass, Muon_miniPFRelIso_all, Jet_pt, Jet_eta, Jet_phi, Jet_mass, Jet_muonIdx1, Jet_muonIdx2, Jet_electronIdx1, Jet_electronIdx2, nJet)\")\\\n",
    "                 .Define(\"MHT_pt\", \"MHT_pt_phi[0]\").Define(\"MHT_phi\", \"MHT_pt_phi[1]\")\\\n",
    "\n",
    "h = df_mht.Histo1D(\"Muon_effSF\")"
   ]
  },
  {
   "cell_type": "markdown",
   "id": "f8751018-0940-4016-bf4f-abb8ce90f70d",
   "metadata": {},
   "source": [
    "## Trigger event loop"
   ]
  },
  {
   "cell_type": "code",
   "execution_count": 7,
   "id": "806e1296-d5c7-4089-a827-2f4f98c851dc",
   "metadata": {},
   "outputs": [
    {
     "name": "stderr",
     "output_type": "stream",
     "text": [
      "/cvmfs/cms.dodas.infn.it/miniconda3/envs/cms-dodas/lib/root/DistRDF/Backends/Base.py:142: UserWarning: Number of partitions is greater than number of clusters in the dataset. Using 1 partition(s)\n",
      "  ranges = headnode.build_ranges()\n"
     ]
    },
    {
     "name": "stdout",
     "output_type": "stream",
     "text": [
      "CPU times: user 1.71 s, sys: 396 ms, total: 2.11 s\n",
      "Wall time: 22.7 s\n"
     ]
    },
    {
     "name": "stderr",
     "output_type": "stream",
     "text": [
      "Warning in <TClass::Init>: no dictionary for class edm::Hash<1> is available\n",
      "Warning in <TClass::Init>: no dictionary for class edm::ProcessHistory is available\n",
      "Warning in <TClass::Init>: no dictionary for class edm::ProcessConfiguration is available\n",
      "Warning in <TClass::Init>: no dictionary for class edm::ParameterSetBlob is available\n",
      "Warning in <TClass::Init>: no dictionary for class pair<edm::Hash<1>,edm::ParameterSetBlob> is available\n"
     ]
    },
    {
     "data": {
      "image/png": "[encoded data removed]",
      "text/plain": [
       "<IPython.core.display.Image object>"
      ]
     },
     "metadata": {},
     "output_type": "display_data"
    }
   ],
   "source": [
    "%%time\n",
    "c = ROOT.TCanvas()\n",
    "h.Draw()\n",
    "c.Draw()"
   ]
  }
 ],
 "metadata": {
  "kernelspec": {
   "display_name": "Python 3 (ipykernel)",
   "language": "python",
   "name": "python3"
  },
  "language_info": {
   "codemirror_mode": {
    "name": "ipython",
    "version": 3
   },
   "file_extension": ".py",
   "mimetype": "text/x-python",
   "name": "python",
   "nbconvert_exporter": "python",
   "pygments_lexer": "ipython3",
   "version": "3.9.7"
  }
 },
 "nbformat": 4,
 "nbformat_minor": 5
}
