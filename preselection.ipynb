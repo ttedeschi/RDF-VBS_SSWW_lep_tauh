{
 "cells": [
  {
   "cell_type": "code",
   "execution_count": null,
   "id": "reported-lunch",
   "metadata": {},
   "outputs": [],
   "source": [
    "import ROOT\n",
    "import os\n",
    "os.environ[\"X509_USER_PROXY\"] = \"/eos/home-t/ttedesch/SWAN_projects/RDataFrame_porting/proxy\""
   ]
  },
  {
   "cell_type": "code",
   "execution_count": null,
   "id": "unauthorized-documentary",
   "metadata": {},
   "outputs": [],
   "source": [
    "ROOT.ROOT.EnableImplicitMT()"
   ]
  },
  {
   "cell_type": "code",
   "execution_count": null,
   "id": "southwest-pollution",
   "metadata": {},
   "outputs": [],
   "source": [
    "ROOT.gInterpreter.Declare('#include \"preselection.h\"')"
   ]
  },
  {
   "cell_type": "code",
   "execution_count": null,
   "id": "amateur-kentucky",
   "metadata": {},
   "outputs": [],
   "source": [
    "# Provided by SWAN, but it could be created manually\n",
    "#sc\n",
    "\n",
    "# Use a Spark RDataFrame\n",
    "#RDataFrame = ROOT.RDF.Experimental.Distributed.Spark.RDataFrame\n",
    "\n",
    "'''\n",
    "df = RDataFrame(\"Events\",\n",
    "                samples,\n",
    "                npartitions=16,\n",
    "                sparkcontext=sc)\n",
    "'''\n",
    "df = ROOT.RDataFrame(\"Events\", [#\"root://cms-xrd-global.cern.ch//store/user/apiccine/VBS/VBS_SSWW_LL_polarization_TuneCP5_13TeV-madgraph-pythia8/VBS_SSWW_LL_SM_2017/210420_123836/0000/tree_hadd_1.root\",\n",
    "                                #\"root://cms-xrd-global.cern.ch//store/user/apiccine/VBS/VBS_SSWW_LL_polarization_TuneCP5_13TeV-madgraph-pythia8/VBS_SSWW_LL_SM_2017/210420_123836/0000/tree_hadd_2.root\",\n",
    "                                \"root://cms-xrd-global.cern.ch//store/mc/RunIIFall17NanoAODv7/VBS_SSWW_LL_polarization_TuneCP5_13TeV-madgraph-pythia8/NANOAODSIM/PU2017_12Apr2018_Nano02Apr2020_102X_mc2017_realistic_v8-v1/100000/5ADAED4E-FEEE-884F-8555-FF6FB31D6A60.root\"])\n",
    "\n"
   ]
  }
 ],
 "metadata": {
  "kernelspec": {
   "display_name": "Python 3",
   "language": "python",
   "name": "python3"
  },
  "language_info": {
   "codemirror_mode": {
    "name": "ipython",
    "version": 3
   },
   "file_extension": ".py",
   "mimetype": "text/x-python",
   "name": "python",
   "nbconvert_exporter": "python",
   "pygments_lexer": "ipython3",
   "version": "3.8.6"
  }
 },
 "nbformat": 4,
 "nbformat_minor": 5
}
