{
 "cells": [
  {
   "cell_type": "markdown",
   "id": "4acdc2e9-391a-44cc-829a-773dcee8eb8c",
   "metadata": {},
   "source": [
    "# Preselection "
   ]
  },
  {
   "cell_type": "markdown",
   "id": "e9ab02f2-7635-450e-86ef-a679a04ab73e",
   "metadata": {},
   "source": [
    "## Import libraries and choose whether to run locally or distributed"
   ]
  },
  {
   "cell_type": "code",
   "execution_count": 1,
   "id": "reported-lunch",
   "metadata": {},
   "outputs": [
    {
     "name": "stderr",
     "output_type": "stream",
     "text": [
      "Error in <TExMap::Add>: key 140654153440432 is not unique\n",
      "Error in <TExMap::Add>: key 140654153965264 is not unique\n"
     ]
    }
   ],
   "source": [
    "%%capture\n",
    "\n",
    "import ROOT\n",
    "import os\n",
    "from dask.distributed import Client\n",
    "import json\n",
    "from samples import *\n",
    "\n",
    "distributed = False\n",
    "MT = False\n",
    "redirector = \"xrootd-cms.infn.it\" \n",
    "maxNfilespersample = 2"
   ]
  },
  {
   "cell_type": "code",
   "execution_count": 2,
   "id": "10ab20a8-5200-49bc-b48a-b447e72b21b4",
   "metadata": {},
   "outputs": [],
   "source": [
    "#%env LD_LIBRARY_PATH=$LD_LIBRARY_PATH:/opt/workspace/persistent-storage/JMEfinal/\n",
    "#!cp /opt/workspace/persistent-storage/JMEfinal/libCMSJMECalculatorsDict.so .\n",
    "#ROOT.gInterpreter.ProcessLine('download_file(\"https://ttedesch.web.cern.ch/ttedesch/nanoAOD-tools/data/btagSF/DeepFlavour_94XSF_V3_B_F.csv\", \"DeepFlavour_94XSF_V3_B_F.csv\");') "
   ]
  },
  {
   "cell_type": "code",
   "execution_count": 3,
   "id": "5b935fe9-cadf-40f9-9ca3-902a29314b4f",
   "metadata": {},
   "outputs": [
    {
     "data": {
      "text/plain": [
       "'\\n%%capture\\nfrom CMSJMECalculators import loadJMESystematicsCalculators\\nloadJMESystematicsCalculators()\\n\\nimport ROOT as gbl\\ngbl.gROOT.ProcessLine(\"JetVariationsCalculator myJetVarCalc{};\")\\ncalc = getattr(gbl, \"myJetVarCalc\")\\ncalc = gbl.JetVariationsCalculator()\\n\\n# redo JEC, push_back corrector parameters for different levels\\njecParams = getattr(gbl, \"std::vector<JetCorrectorParameters>\")()\\njecParams.push_back(gbl.JetCorrectorParameters(textfilepath))\\ncalc.setJEC(jecParams)\\n\\n# calculate JES uncertainties (repeat for all sources)\\njcp_unc = gbl.JetCorrectorParameters(textfilepath_UncertaintySources)\\ncalc.addJESUncertainty(\"Total\", jcp_unc)\\n\\n# Smear jets, with JER uncertainty\\ncalc.setSmearing(textfilepath_PtResolution, textfilepath_SF, splitJER, True, 0.2, 3.)  # use hybrid recipe, matching parameters\\n\\ndf.Define(\"ak4JetVars\", \"myJetVarcalc.produce(Jet_pt, Jet_eta, Jet_phi, ...)\")\\n'"
      ]
     },
     "execution_count": 3,
     "metadata": {},
     "output_type": "execute_result"
    }
   ],
   "source": [
    "'''\n",
    "%%capture\n",
    "from CMSJMECalculators import loadJMESystematicsCalculators\n",
    "loadJMESystematicsCalculators()\n",
    "\n",
    "import ROOT as gbl\n",
    "gbl.gROOT.ProcessLine(\"JetVariationsCalculator myJetVarCalc{};\")\n",
    "calc = getattr(gbl, \"myJetVarCalc\")\n",
    "calc = gbl.JetVariationsCalculator()\n",
    "\n",
    "# redo JEC, push_back corrector parameters for different levels\n",
    "jecParams = getattr(gbl, \"std::vector<JetCorrectorParameters>\")()\n",
    "jecParams.push_back(gbl.JetCorrectorParameters(textfilepath))\n",
    "calc.setJEC(jecParams)\n",
    "\n",
    "# calculate JES uncertainties (repeat for all sources)\n",
    "jcp_unc = gbl.JetCorrectorParameters(textfilepath_UncertaintySources)\n",
    "calc.addJESUncertainty(\"Total\", jcp_unc)\n",
    "\n",
    "# Smear jets, with JER uncertainty\n",
    "calc.setSmearing(textfilepath_PtResolution, textfilepath_SF, splitJER, True, 0.2, 3.)  # use hybrid recipe, matching parameters\n",
    "\n",
    "df.Define(\"ak4JetVars\", \"myJetVarcalc.produce(Jet_pt, Jet_eta, Jet_phi, ...)\")\n",
    "'''"
   ]
  },
  {
   "cell_type": "code",
   "execution_count": 4,
   "id": "191575b9-de62-4a48-9c38-4877e30381e0",
   "metadata": {},
   "outputs": [],
   "source": [
    "if distributed != True and MT == True:\n",
    "    ROOT.ROOT.EnableImplicitMT()"
   ]
  },
  {
   "cell_type": "markdown",
   "id": "b02a1b7b-af20-455e-86a9-00284cd67c02",
   "metadata": {},
   "source": [
    "## Declare utils defined in a preselection.h file to the ROOT interpreter. If running distributed, connect to cluster and declare the file content in an initialization function"
   ]
  },
  {
   "cell_type": "code",
   "execution_count": 5,
   "id": "8a73d244-2b2c-492c-909f-45711581af66",
   "metadata": {},
   "outputs": [],
   "source": [
    "def my_initialization_function():\n",
    "    ROOT.gInterpreter.Declare('{}'.format(data))"
   ]
  },
  {
   "cell_type": "code",
   "execution_count": 6,
   "id": "6cae1f73-063e-45bd-83f5-fb9955603788",
   "metadata": {},
   "outputs": [],
   "source": [
    "ROOT.gInterpreter.AddIncludePath(\"/cvmfs/cms.dodas.infn.it/boost/include\")\n",
    "#ROOT.gInterpreter.ProcessLine('gSystem->AddLinkedLibs(\"-L/my/path -l*anylib*\");')"
   ]
  },
  {
   "cell_type": "code",
   "execution_count": 7,
   "id": "4a5470ae-58a7-4a3f-a10c-90ff65fd822b",
   "metadata": {},
   "outputs": [],
   "source": [
    "#ROOT.gInterpreter.Declare(\"#include <boost/math/special_functions/erf.hpp>\")\n",
    "#ROOT.gInterpreter.ProcessLine(\"erf(40);\")"
   ]
  },
  {
   "cell_type": "code",
   "execution_count": 8,
   "id": "2ba9c6ea-c221-41be-8f43-5483ba9b127b",
   "metadata": {},
   "outputs": [
    {
     "data": {
      "text/plain": [
       "0"
      ]
     },
     "execution_count": 8,
     "metadata": {},
     "output_type": "execute_result"
    }
   ],
   "source": [
    "ROOT.gInterpreter.Declare('''\n",
    "#include <curl/curl.h>\n",
    "\n",
    "void download_file(const char* url, const char* file_name)\n",
    "{\n",
    "  CURL* easyhandle = curl_easy_init();\n",
    "  curl_easy_setopt( easyhandle, CURLOPT_URL, url ) ;\n",
    "  FILE* file = fopen( file_name, \"w\");\n",
    "  curl_easy_setopt( easyhandle, CURLOPT_WRITEDATA, file) ;\n",
    "  curl_easy_perform( easyhandle );\n",
    "  curl_easy_cleanup( easyhandle );\n",
    "  fclose(file);\n",
    "}\n",
    "''')\n",
    "#ROOT.gInterpreter.ProcessLine('download_file(\"https://ttedesch.web.cern.ch/ttedesch/nanoAOD-tools/python/postprocessing/data/roccor.Run2.v3/RoccoR2016.txt\", \"RoccoR2016.txt\");') \n",
    "ROOT.gInterpreter.ProcessLine('download_file(\"https://ttedesch.web.cern.ch/ttedesch/nanoAOD-tools/python/postprocessing/data/roccor.Run2.v3/RoccoR2017.txt\", \"RoccoR2017.txt\");') \n",
    "#ROOT.gInterpreter.ProcessLine('download_file(\"https://ttedesch.web.cern.ch/ttedesch/nanoAOD-tools/python/postprocessing/data/roccor.Run2.v3/RoccoR2018.txt\", \"RoccoR2018.txt\");') \n",
    "ROOT.gInterpreter.ProcessLine('download_file(\"https://ttedesch.web.cern.ch/ttedesch/nanoAOD-tools/python/postprocessing/data/roccor.Run2.v3/RoccoR.cc\", \"RoccoR.cc\");')\n",
    "ROOT.gInterpreter.ProcessLine('download_file(\"https://ttedesch.web.cern.ch/ttedesch/nanoAOD-tools/python/postprocessing/data/roccor.Run2.v3/RoccoR.h\", \"RoccoR.h\");')\n",
    "ROOT.gInterpreter.Declare('#include \"RoccoR.cc\"')\n",
    "#ROOT.gInterpreter.ProcessLine('download_file(\"https://ttedesch.web.cern.ch/ttedesch/nanoAOD-tools/data/btagSF/DeepJet_2016LegacySF_V1.csv\", \"DeepJet_2016LegacySF_V1.csv\");')\n",
    "ROOT.gInterpreter.ProcessLine('download_file(\"https://ttedesch.web.cern.ch/ttedesch/nanoAOD-tools/data/btagSF/DeepFlavour_94XSF_V3_B_F.csv\", \"DeepFlavour_94XSF_V3_B_F.csv\");') \n",
    "#ROOT.gInterpreter.ProcessLine('download_file(\"https://ttedesch.web.cern.ch/ttedesch/nanoAOD-tools/data/btagSF/DeepJet_102XSF_V1.csv\", \"DeepJet_102XSF_V1.csv\");') \n",
    "#ROOT.gInterpreter.ProcessLine('download_file(\"https://ttedesch.web.cern.ch/ttedesch/nanoAOD-tools/data/btagSF/DeepJet_106XUL16preVFPSF_v1_new.csv\", \"DeepJet_106XUL16preVFPSF_v1_new.csv\");') \n",
    "#ROOT.gInterpreter.ProcessLine('download_file(\"https://ttedesch.web.cern.ch/ttedesch/nanoAOD-tools/data/btagSF/DeepJet_106XUL16postVFPSF_v2_new.csv\", \"DeepJet_106XUL16postVFPSF_v2_new.csv\");') \n",
    "#ROOT.gInterpreter.ProcessLine('download_file(\"https://ttedesch.web.cern.ch/ttedesch/nanoAOD-tools/data/btagSF/DeepJet_106XUL17_v3_new.csv\", \"DeepJet_106XUL17_v3_new.csv\");') \n",
    "#ROOT.gInterpreter.ProcessLine('download_file(\"https://ttedesch.web.cern.ch/ttedesch/nanoAOD-tools/data/btagSF/DeepJet_106XUL18_v2_new.csv\", \"DeepJet_106XUL18_v2_new.csv\");') "
   ]
  },
  {
   "cell_type": "code",
   "execution_count": 9,
   "id": "8a042463-f557-437c-bc3b-b0e3ec858ecd",
   "metadata": {},
   "outputs": [
    {
     "name": "stdout",
     "output_type": "stream",
     "text": [
      "Loading histogram NUM_TightID_DEN_genTracks_eta_pt from file https://ttedesch.web.cern.ch/ttedesch/nanoAOD-tools/python/postprocessing/data/leptonSF/Mu_RunBCDEFGH_SF_ID_2016_syst.root... \n",
      "Loading histogram EGamma_SF2D from file https://ttedesch.web.cern.ch/ttedesch/nanoAOD-tools/python/postprocessing/data/leptonSF/EGM2D_RECO_SF_2016.root... \n",
      "Loading histogram EGamma_SF2D from file https://ttedesch.web.cern.ch/ttedesch/nanoAOD-tools/python/postprocessing/data/leptonSF/2016LegacyReReco_ElectronMVA90noiso_Fall17V2.root... \n",
      "Loading histogram NUM_TightID_DEN_genTracks_pt_abseta from file https://ttedesch.web.cern.ch/ttedesch/nanoAOD-tools/python/postprocessing/data/leptonSF/Muon_RunBCDEF_SF_ID_2017.root... \n",
      "Loading histogram NUM_TightRelIso_DEN_TightIDandIPCut_pt_abseta from file https://ttedesch.web.cern.ch/ttedesch/nanoAOD-tools/python/postprocessing/data/leptonSF/Muon_RunBCDEF_SF_ISO_2017.root... \n",
      "Loading histogram EGamma_SF2D from file https://ttedesch.web.cern.ch/ttedesch/nanoAOD-tools/python/postprocessing/data/leptonSF/EGM2D_2017_passingRECO_highEt.root... \n",
      "Loading histogram EGamma_SF2D from file https://ttedesch.web.cern.ch/ttedesch/nanoAOD-tools/python/postprocessing/data/leptonSF/Electron_MVA90_2017.root... \n",
      "Loading histogram NUM_TightID_DEN_TrackerMuons_pt_abseta from file https://ttedesch.web.cern.ch/ttedesch/nanoAOD-tools/python/postprocessing/data/leptonSF/Muon_RunBCDEF_SF_ID_2018.root... \n",
      "Loading histogram NUM_TightRelIso_DEN_TightIDandIPCut_pt_abseta from file https://ttedesch.web.cern.ch/ttedesch/nanoAOD-tools/python/postprocessing/data/leptonSF/Muon_RunBCDEF_SF_ISO_2018.root... \n",
      "Loading histogram EGamma_SF2D from file https://ttedesch.web.cern.ch/ttedesch/nanoAOD-tools/python/postprocessing/data/leptonSF/EGM2D_passingRECO_2018All.root... \n",
      "Loading histogram EGamma_SF2D from file https://ttedesch.web.cern.ch/ttedesch/nanoAOD-tools/python/postprocessing/data/leptonSF/2018_ElectronMVA90Iso.root... \n"
     ]
    }
   ],
   "source": [
    "if distributed == True:\n",
    "    RDataFrame = ROOT.RDF.Experimental.Distributed.Dask.RDataFrame\n",
    "    sched_port = 38651\n",
    "    client = Client(address=\"tcp://127.0.0.1:\"+str(sched_port))\n",
    "    text_file = open(\"preselection.h\", \"r\")\n",
    "    data = text_file.read()\n",
    "    ROOT.RDF.Experimental.Distributed.initialize(my_initialization_function)\n",
    "\n",
    "else:\n",
    "    RDataFrame = ROOT.RDataFrame\n",
    "    ROOT.gInterpreter.Declare('#include \"preselection.h\"')"
   ]
  },
  {
   "cell_type": "code",
   "execution_count": 10,
   "id": "f2f6bcaa-fe97-4029-b30f-92d8fabcb3f6",
   "metadata": {},
   "outputs": [
    {
     "data": {
      "text/plain": [
       "'\\nreader_0_Legacy2016.load(calibration_Legacy2016, 0, \"comb\"); //0 is flavor_btv\\nreader_0_Legacy2016.load(calibration_Legacy2016, 1, \"comb\");\\nreader_0_Legacy2016.load(calibration_Legacy2016, 2, \"incl\");\\nreader_1_Legacy2016.load(calibration_Legacy2016, 0, \"comb\"); //0 is flavor_btv\\nreader_1_Legacy2016.load(calibration_Legacy2016, 1, \"comb\");\\nreader_1_Legacy2016.load(calibration_Legacy2016, 2, \"incl\");\\nreader_2_Legacy2016.load(calibration_Legacy2016, 0, \"comb\"); //0 is flavor_btv\\nreader_2_Legacy2016.load(calibration_Legacy2016, 1, \"comb\");\\nreader_2_Legacy2016.load(calibration_Legacy2016, 2, \"incl\");\\n\\nreader_0_2017.load(calibration_2017, 0, \"comb\"); //0 is flavor_btv\\nreader_0_2017.load(calibration_2017, 1, \"comb\");\\nreader_0_2017.load(calibration_2017, 2, \"incl\");\\nreader_1_2017.load(calibration_2017, 0, \"comb\"); //0 is flavor_btv\\nreader_1_2017.load(calibration_2017, 1, \"comb\");\\nreader_1_2017.load(calibration_2017, 2, \"incl\");\\nreader_2_2017.load(calibration_2017, 0, \"comb\"); //0 is flavor_btv\\nreader_2_2017.load(calibration_2017, 1, \"comb\");\\nreader_2_2017.load(calibration_2017, 2, \"incl\");\\n\\nreader_0_2018.load(calibration_2018, 0, \"comb\"); //0 is flavor_btv\\nreader_0_2018.load(calibration_2018, 1, \"comb\");\\nreader_0_2018.load(calibration_2018, 2, \"incl\");\\nreader_1_2018.load(calibration_2018, 0, \"comb\"); //0 is flavor_btv\\nreader_1_2018.load(calibration_2018, 1, \"comb\");\\nreader_1_2018.load(calibration_2018, 2, \"incl\");\\nreader_2_2018.load(calibration_2018, 0, \"comb\"); //0 is flavor_btv\\nreader_2_2018.load(calibration_2018, 1, \"comb\");\\nreader_2_2018.load(calibration_2018, 2, \"incl\");\\n\\nreader_0_UL2016APV.load(calibration_UL2016APV, 0, \"comb\"); //0 is flavor_btv\\nreader_0_UL2016APV.load(calibration_UL2016APV, 1, \"comb\");\\nreader_0_UL2016APV.load(calibration_UL2016APV, 2, \"incl\");\\nreader_1_UL2016APV.load(calibration_UL2016APV, 0, \"comb\"); //0 is flavor_btv\\nreader_1_UL2016APV.load(calibration_UL2016APV, 1, \"comb\");\\nreader_1_UL2016APV.load(calibration_UL2016APV, 2, \"incl\");\\nreader_2_UL2016APV.load(calibration_UL2016APV, 0, \"comb\"); //0 is flavor_btv\\nreader_2_UL2016APV.load(calibration_UL2016APV, 1, \"comb\");\\nreader_2_UL2016APV.load(calibration_UL2016APV, 2, \"incl\");\\n\\nreader_0_UL2016.load(calibration_UL2016, 0, \"comb\"); //0 is flavor_btv\\nreader_0_UL2016.load(calibration_UL2016, 1, \"comb\");\\nreader_0_UL2016.load(calibration_UL2016, 2, \"incl\");\\nreader_1_UL2016.load(calibration_UL2016, 0, \"comb\"); //0 is flavor_btv\\nreader_1_UL2016.load(calibration_UL2016, 1, \"comb\");\\nreader_1_UL2016.load(calibration_UL2016, 2, \"incl\");\\nreader_2_UL2016.load(calibration_UL2016, 0, \"comb\"); //0 is flavor_btv\\nreader_2_UL2016.load(calibration_UL2016, 1, \"comb\");\\nreader_2_UL2016.load(calibration_UL2016, 2, \"incl\");\\n\\nreader_0_UL2017.load(calibration_UL2017, 0, \"comb\"); //0 is flavor_btv\\nreader_0_UL2017.load(calibration_UL2017, 1, \"comb\");\\nreader_0_UL2017.load(calibration_UL2017, 2, \"incl\");\\nreader_1_UL2017.load(calibration_UL2017, 0, \"comb\"); //0 is flavor_btv\\nreader_1_UL2017.load(calibration_UL2017, 1, \"comb\");\\nreader_1_UL2017.load(calibration_UL2017, 2, \"incl\");\\nreader_2_UL2017.load(calibration_UL2017, 0, \"comb\"); //0 is flavor_btv\\nreader_2_UL2017.load(calibration_UL2017, 1, \"comb\");\\nreader_2_UL2017.load(calibration_UL2017, 2, \"incl\");\\n\\nreader_0_UL2018.load(calibration_UL2018, 0, \"comb\"); //0 is flavor_btv\\nreader_0_UL2018.load(calibration_UL2018, 1, \"comb\");\\nreader_0_UL2018.load(calibration_UL2018, 2, \"incl\");\\nreader_1_UL2018.load(calibration_UL2018, 0, \"comb\"); //0 is flavor_btv\\nreader_1_UL2018.load(calibration_UL2018, 1, \"comb\");\\nreader_1_UL2018.load(calibration_UL2018, 2, \"incl\");\\nreader_2_UL2018.load(calibration_UL2018, 0, \"comb\"); //0 is flavor_btv\\nreader_2_UL2018.load(calibration_UL2018, 1, \"comb\");\\nreader_2_UL2018.load(calibration_UL2018, 2, \"incl\");\\n'"
      ]
     },
     "execution_count": 10,
     "metadata": {},
     "output_type": "execute_result"
    }
   ],
   "source": [
    "#ROOT.gInterpreter.ProcessLine('reader_0_Legacy2016.load(calibration_Legacy2016, 0, \"comb\");')\n",
    "ROOT.gInterpreter.ProcessLine(\n",
    "'''\n",
    "reader_0_2017.load(calibration_2017, BTagEntry::FLAV_B, \"comb\"); //0 is flavor_btv\n",
    "reader_0_2017.load(calibration_2017, BTagEntry::FLAV_C, \"comb\");\n",
    "reader_0_2017.load(calibration_2017, BTagEntry::FLAV_UDSG, \"incl\");\n",
    "reader_1_2017.load(calibration_2017, BTagEntry::FLAV_B, \"comb\"); //0 is flavor_btv\n",
    "reader_1_2017.load(calibration_2017, BTagEntry::FLAV_C, \"comb\");\n",
    "reader_1_2017.load(calibration_2017, BTagEntry::FLAV_UDSG, \"incl\");\n",
    "reader_2_2017.load(calibration_2017, BTagEntry::FLAV_B, \"comb\"); //0 is flavor_btv\n",
    "reader_2_2017.load(calibration_2017, BTagEntry::FLAV_C, \"comb\");\n",
    "reader_2_2017.load(calibration_2017, BTagEntry::FLAV_UDSG, \"incl\");\n",
    "''')\n",
    "\n",
    "'''\n",
    "reader_0_Legacy2016.load(calibration_Legacy2016, 0, \"comb\"); //0 is flavor_btv\n",
    "reader_0_Legacy2016.load(calibration_Legacy2016, 1, \"comb\");\n",
    "reader_0_Legacy2016.load(calibration_Legacy2016, 2, \"incl\");\n",
    "reader_1_Legacy2016.load(calibration_Legacy2016, 0, \"comb\"); //0 is flavor_btv\n",
    "reader_1_Legacy2016.load(calibration_Legacy2016, 1, \"comb\");\n",
    "reader_1_Legacy2016.load(calibration_Legacy2016, 2, \"incl\");\n",
    "reader_2_Legacy2016.load(calibration_Legacy2016, 0, \"comb\"); //0 is flavor_btv\n",
    "reader_2_Legacy2016.load(calibration_Legacy2016, 1, \"comb\");\n",
    "reader_2_Legacy2016.load(calibration_Legacy2016, 2, \"incl\");\n",
    "\n",
    "reader_0_2017.load(calibration_2017, 0, \"comb\"); //0 is flavor_btv\n",
    "reader_0_2017.load(calibration_2017, 1, \"comb\");\n",
    "reader_0_2017.load(calibration_2017, 2, \"incl\");\n",
    "reader_1_2017.load(calibration_2017, 0, \"comb\"); //0 is flavor_btv\n",
    "reader_1_2017.load(calibration_2017, 1, \"comb\");\n",
    "reader_1_2017.load(calibration_2017, 2, \"incl\");\n",
    "reader_2_2017.load(calibration_2017, 0, \"comb\"); //0 is flavor_btv\n",
    "reader_2_2017.load(calibration_2017, 1, \"comb\");\n",
    "reader_2_2017.load(calibration_2017, 2, \"incl\");\n",
    "\n",
    "reader_0_2018.load(calibration_2018, 0, \"comb\"); //0 is flavor_btv\n",
    "reader_0_2018.load(calibration_2018, 1, \"comb\");\n",
    "reader_0_2018.load(calibration_2018, 2, \"incl\");\n",
    "reader_1_2018.load(calibration_2018, 0, \"comb\"); //0 is flavor_btv\n",
    "reader_1_2018.load(calibration_2018, 1, \"comb\");\n",
    "reader_1_2018.load(calibration_2018, 2, \"incl\");\n",
    "reader_2_2018.load(calibration_2018, 0, \"comb\"); //0 is flavor_btv\n",
    "reader_2_2018.load(calibration_2018, 1, \"comb\");\n",
    "reader_2_2018.load(calibration_2018, 2, \"incl\");\n",
    "\n",
    "reader_0_UL2016APV.load(calibration_UL2016APV, 0, \"comb\"); //0 is flavor_btv\n",
    "reader_0_UL2016APV.load(calibration_UL2016APV, 1, \"comb\");\n",
    "reader_0_UL2016APV.load(calibration_UL2016APV, 2, \"incl\");\n",
    "reader_1_UL2016APV.load(calibration_UL2016APV, 0, \"comb\"); //0 is flavor_btv\n",
    "reader_1_UL2016APV.load(calibration_UL2016APV, 1, \"comb\");\n",
    "reader_1_UL2016APV.load(calibration_UL2016APV, 2, \"incl\");\n",
    "reader_2_UL2016APV.load(calibration_UL2016APV, 0, \"comb\"); //0 is flavor_btv\n",
    "reader_2_UL2016APV.load(calibration_UL2016APV, 1, \"comb\");\n",
    "reader_2_UL2016APV.load(calibration_UL2016APV, 2, \"incl\");\n",
    "\n",
    "reader_0_UL2016.load(calibration_UL2016, 0, \"comb\"); //0 is flavor_btv\n",
    "reader_0_UL2016.load(calibration_UL2016, 1, \"comb\");\n",
    "reader_0_UL2016.load(calibration_UL2016, 2, \"incl\");\n",
    "reader_1_UL2016.load(calibration_UL2016, 0, \"comb\"); //0 is flavor_btv\n",
    "reader_1_UL2016.load(calibration_UL2016, 1, \"comb\");\n",
    "reader_1_UL2016.load(calibration_UL2016, 2, \"incl\");\n",
    "reader_2_UL2016.load(calibration_UL2016, 0, \"comb\"); //0 is flavor_btv\n",
    "reader_2_UL2016.load(calibration_UL2016, 1, \"comb\");\n",
    "reader_2_UL2016.load(calibration_UL2016, 2, \"incl\");\n",
    "\n",
    "reader_0_UL2017.load(calibration_UL2017, 0, \"comb\"); //0 is flavor_btv\n",
    "reader_0_UL2017.load(calibration_UL2017, 1, \"comb\");\n",
    "reader_0_UL2017.load(calibration_UL2017, 2, \"incl\");\n",
    "reader_1_UL2017.load(calibration_UL2017, 0, \"comb\"); //0 is flavor_btv\n",
    "reader_1_UL2017.load(calibration_UL2017, 1, \"comb\");\n",
    "reader_1_UL2017.load(calibration_UL2017, 2, \"incl\");\n",
    "reader_2_UL2017.load(calibration_UL2017, 0, \"comb\"); //0 is flavor_btv\n",
    "reader_2_UL2017.load(calibration_UL2017, 1, \"comb\");\n",
    "reader_2_UL2017.load(calibration_UL2017, 2, \"incl\");\n",
    "\n",
    "reader_0_UL2018.load(calibration_UL2018, 0, \"comb\"); //0 is flavor_btv\n",
    "reader_0_UL2018.load(calibration_UL2018, 1, \"comb\");\n",
    "reader_0_UL2018.load(calibration_UL2018, 2, \"incl\");\n",
    "reader_1_UL2018.load(calibration_UL2018, 0, \"comb\"); //0 is flavor_btv\n",
    "reader_1_UL2018.load(calibration_UL2018, 1, \"comb\");\n",
    "reader_1_UL2018.load(calibration_UL2018, 2, \"incl\");\n",
    "reader_2_UL2018.load(calibration_UL2018, 0, \"comb\"); //0 is flavor_btv\n",
    "reader_2_UL2018.load(calibration_UL2018, 1, \"comb\");\n",
    "reader_2_UL2018.load(calibration_UL2018, 2, \"incl\");\n",
    "'''"
   ]
  },
  {
   "cell_type": "code",
   "execution_count": 11,
   "id": "085e0761-634f-4585-b553-5b7884f52d7c",
   "metadata": {},
   "outputs": [
    {
     "data": {
      "text/plain": [
       "True"
      ]
     },
     "execution_count": 11,
     "metadata": {},
     "output_type": "execute_result"
    }
   ],
   "source": [
    "ROOT.gInterpreter.Declare('#include \"preselection_part2.h\"')"
   ]
  },
  {
   "cell_type": "code",
   "execution_count": 12,
   "id": "6eecc0f7-ee4a-49bd-bbae-bf2df2675c1c",
   "metadata": {},
   "outputs": [],
   "source": [
    "sampleDict = {'WpWpJJ_EWK_2017': 0, 'WpWpJJ_QCD_2017': 1, 'VBS_SSWW_SM_2017': 2, 'VBS_SSWW_LL_SM_2017': 3, 'VBS_SSWW_TL_SM_2017': 4, 'VBS_SSWW_TT_SM_2017': 5, 'VBS_SSWW_cHW_2017': 6, 'VBS_SSWW_cHW_BSM_2017': 7, 'VBS_SSWW_cHW_INT_2017': 8, 'VBS_SSWW_cW_2017': 9, 'VBS_SSWW_cW_BSM_2017': 10, 'VBS_SSWW_cW_INT_2017': 11, 'VBS_SSWW_cW_cHW_2017': 12, 'VBS_SSWW_DIM6_2017': 13, 'VBS_SSWW_DIM6_SM_2017': 14, 'VBS_SSWW_cHW_SM_2017': 15, 'VBS_SSWW_cW_SM_2017': 16, 'VBS_SSWW_aQGC_2017': 17, 'VBS_SSWW_FS0_25_BSM_2017': 18, 'VBS_SSWW_FS0_25_INT_2017': 19, 'VBS_SSWW_FS0_25_SM_2017': 20, 'VBS_SSWW_FS0_25_2017': 21, 'VBS_SSWW_FS0_5_BSM_2017': 22, 'VBS_SSWW_FS0_5_INT_2017': 23, 'VBS_SSWW_FS0_5_SM_2017': 24, 'VBS_SSWW_FS0_5_2017': 25, 'VBS_SSWW_FS0_0_2017': 26, 'VBS_SSWW_FS1_50_BSM_2017': 27, 'VBS_SSWW_FS1_50_INT_2017': 28, 'VBS_SSWW_FS1_50_SM_2017': 29, 'VBS_SSWW_FS1_50_2017': 30, 'VBS_SSWW_FS1_10_BSM_2017': 31, 'VBS_SSWW_FS1_10_INT_2017': 32, 'VBS_SSWW_FS1_10_SM_2017': 33, 'VBS_SSWW_FS1_10_2017': 34, 'VBS_SSWW_FS1_0_2017': 35, 'VBS_SSWW_FM0_25_BSM_2017': 36, 'VBS_SSWW_FM0_25_INT_2017': 37, 'VBS_SSWW_FM0_25_SM_2017': 38, 'VBS_SSWW_FM0_25_2017': 39, 'VBS_SSWW_FM0_5_BSM_2017': 40, 'VBS_SSWW_FM0_5_INT_2017': 41, 'VBS_SSWW_FM0_5_SM_2017': 42, 'VBS_SSWW_FM0_5_2017': 43, 'VBS_SSWW_FM0_0_2017': 44, 'VBS_SSWW_FM1_25_BSM_2017': 45, 'VBS_SSWW_FM1_25_INT_2017': 46, 'VBS_SSWW_FM1_25_SM_2017': 47, 'VBS_SSWW_FM1_25_2017': 48, 'VBS_SSWW_FM1_5_BSM_2017': 49, 'VBS_SSWW_FM1_5_INT_2017': 50, 'VBS_SSWW_FM1_5_SM_2017': 51, 'VBS_SSWW_FM1_5_2017': 52, 'VBS_SSWW_FM1_0_2017': 53, 'VBS_SSWW_FM6_25_BSM_2017': 54, 'VBS_SSWW_FM6_25_INT_2017': 55, 'VBS_SSWW_FM6_25_SM_2017': 56, 'VBS_SSWW_FM6_25_2017': 57, 'VBS_SSWW_FM6_5_BSM_2017': 58, 'VBS_SSWW_FM6_5_INT_2017': 59, 'VBS_SSWW_FM6_5_SM_2017': 60, 'VBS_SSWW_FM6_5_2017': 61, 'VBS_SSWW_FM6_0_2017': 62, 'VBS_SSWW_FM7_50_BSM_2017': 63, 'VBS_SSWW_FM7_50_INT_2017': 64, 'VBS_SSWW_FM7_50_SM_2017': 65, 'VBS_SSWW_FM7_50_2017': 66, 'VBS_SSWW_FM7_10_BSM_2017': 67, 'VBS_SSWW_FM7_10_INT_2017': 68, 'VBS_SSWW_FM7_10_SM_2017': 69, 'VBS_SSWW_FM7_10_2017': 70, 'VBS_SSWW_FM7_0_2017': 71, 'VBS_SSWW_FT0_2p5_BSM_2017': 72, 'VBS_SSWW_FT0_2p5_INT_2017': 73, 'VBS_SSWW_FT0_2p5_SM_2017': 74, 'VBS_SSWW_FT0_2p5_2017': 75, 'VBS_SSWW_FT0_0p5_BSM_2017': 76, 'VBS_SSWW_FT0_0p5_INT_2017': 77, 'VBS_SSWW_FT0_0p5_SM_2017': 78, 'VBS_SSWW_FT0_0p5_2017': 79, 'VBS_SSWW_FT0_0_2017': 80, 'VBS_SSWW_FT1_1_BSM_2017': 81, 'VBS_SSWW_FT1_1_INT_2017': 82, 'VBS_SSWW_FT1_1_SM_2017': 83, 'VBS_SSWW_FT1_1_2017': 84, 'VBS_SSWW_FT1_0p2_BSM_2017': 85, 'VBS_SSWW_FT1_0p2_INT_2017': 86, 'VBS_SSWW_FT1_0p2_SM_2017': 87, 'VBS_SSWW_FT1_0p2_2017': 88, 'VBS_SSWW_FT1_0_2017': 89, 'VBS_SSWW_FT2_2p5_BSM_2017': 90, 'VBS_SSWW_FT2_2p5_INT_2017': 91, 'VBS_SSWW_FT2_2p5_SM_2017': 92, 'VBS_SSWW_FT2_2p5_2017': 93, 'VBS_SSWW_FT2_0p5_BSM_2017': 94, 'VBS_SSWW_FT2_0p5_INT_2017': 95, 'VBS_SSWW_FT2_0p5_SM_2017': 96, 'VBS_SSWW_FT2_0p5_2017': 97, 'VBS_SSWW_FT2_0_2017': 98, 'DHiggsToWW_2017': 99, 'sm_2017': 100, 'sm_lin_quad_cW_2017': 101, 'quad_cW_2017': 102, 'sm_lin_quad_cHW_2017': 103, 'quad_cHW_2017': 104, 'QCD_2017': 105, 'QCDHT_100to200_2017': 106, 'QCDHT_200to300_2017': 107, 'QCDHT_300to500_2017': 108, 'QCDHT_500to700_2017': 109, 'QCDHT_700to1000_2017': 110, 'QCDHT_1000to1500_2017': 111, 'QCDHT_1500to2000_2017': 112, 'QCDHT_2000toInf_2017': 113, 'ZZtoLep_2017': 114, 'ZZTo2L2Nu_2017': 115, 'ZZJJTo4L_EWK_2017': 116, 'ZZJJTo4L_QCD_2017': 117, 'GluGluToContinToZZTo2e2nu_2017': 118, 'GluGluToContinToZZTo2e2mu_2017': 119, 'GluGluToContinToZZTo2e2tau_2017': 120, 'GluGluToContinToZZTo2mu2nu_2017': 121, 'GluGluToContinToZZTo2mu2tau_2017': 122, 'GluGluToContinToZZTo4e_2017': 123, 'GluGluToContinToZZTo4mu_2017': 124, 'GluGluToContinToZZTo4tau_2017': 125, 'GluGluToContinToZZTo4L_2017': 126, 'TT_2017': 127, 'TT_SemiLep2017': 128, 'TT_Had_2017': 129, 'TTTo2L2Nu_2017': 130, 'TT_beff_2017': 131, 'WJets_2017': 132, 'WJetsHT70to100_2017': 133, 'WJetsHT100to200_2017': 134, 'WJetsHT200to400_2017': 135, 'WJetsHT400to600_2017': 136, 'WJetsHT600to800_2017': 137, 'WJetsHT800to1200_2017': 138, 'WJetsHT1200to2500_2017': 139, 'WJetsHT2500toInf_2017': 140, 'WJets_Fake_2017': 141, 'WJetsHT70to100_Fake_2017': 142, 'WJetsHT100to200_Fake_2017': 143, 'WJetsHT200to400_Fake_2017': 144, 'WJetsHT400to600_Fake_2017': 145, 'WJetsHT600to800_Fake_2017': 146, 'WJetsHT800to1200_Fake_2017': 147, 'WJetsHT1200to2500_Fake_2017': 148, 'WJetsHT2500toInf_Fake_2017': 149, 'DYJetsToLL_2017': 150, 'DY1JetsToLL_2017': 151, 'DY2JetsToLL_2017': 152, 'DY3JetsToLL_2017': 153, 'DY4JetsToLL_2017': 154, 'DYJetsToLLM5to50_2017': 155, 'DYJetsToLL_Fake_2017': 156, 'DY1JetsToLL_Fake_2017': 157, 'DY2JetsToLL_Fake_2017': 158, 'DY3JetsToLL_Fake_2017': 159, 'DY4JetsToLL_Fake_2017': 160, 'VG_2017': 161, 'ZG_2017': 162, 'WG_2017': 163, 'TVX_2017': 164, 'TTGJets_2017': 165, 'TTZToQQ_2017': 166, 'TTZToLLNuNu_2017': 167, 'TTWJetsToQQ_2017': 168, 'TTWJetsToLNu_2017': 169, 'tZq_ll_4f_2017': 170, 'WrongSign_2017': 171, 'WWto2L2Nu_2017': 172, 'GluGluToWWToENuENu_2017': 173, 'GluGluToWWToENuMNu2017': 174, 'GluGluToWWToENuTNu2017': 175, 'GluGluToWWToMNuENu_2017': 176, 'GluGluToWWToMNuMNu2017': 177, 'GluGluToWWToMNuTNu2017': 178, 'GluGluToWWToTNuENu_2017': 179, 'GluGluToWWToTNuMNu2017': 180, 'GluGluToWWToTNuTNu2017': 181, 'STtW_top_2017': 182, 'GluGluHToWWTo2L2Nu_2017': 183, 'GluGluHToZZTo2L2Q_2017': 184, 'GluGluHToZZTo4L_2017': 185, 'GluGluHToTauTau_2017': 186, 'VBFHToWWTo2L2Nu_2017': 187, 'VBFHToTauTau_2017': 188, 'ttHToNonbb_2017': 189, 'VHToNonbb_2017': 190, 'OtherWS_2017': 191, 'Other_2017': 192, 'WWTo2L2Nu_DoubleScattering_2017': 193, 'WWW_4F_2017': 194, 'WWZTo3L1Nu2Q_2017': 195, 'WZZ_2017': 196, 'ZZZ_2017': 197, 'WWG_2017': 198, 'WZ_2017': 199, 'FakeMu_2017': 200, 'DataMu_2017': 201, 'DataMuB_2017': 202, 'DataMuC_2017': 203, 'DataMuD_2017': 204, 'DataMuE_2017': 205, 'DataMuF_2017': 206, 'DataMuFake_2017': 207, 'FakeEle_2017': 208, 'FakeMuPromptTau_2017': 209, 'PromptMuFakeTau_2017': 210, 'FakeMuFakeTau_2017': 211, 'DataEle_2017': 212, 'DataEleB_2017': 213, 'DataEleC_2017': 214, 'DataEleD_2017': 215, 'DataEleE_2017': 216, 'DataEleF_2017': 217, 'DataEleFake_2017': 218, 'MCFake_2017': 219, 'FakeElePromptTau_2017': 220, 'PromptEleFakeTau_2017': 221, 'FakeEleFakeTau_2017': 222, 'DataEleMu_2017': 223, 'FakeEleMu_2017': 224, 'DataTau_2017': 225, 'DataTauB_2017': 226, 'DataTauC_2017': 227, 'DataTauD_2017': 228, 'DataTauE_2017': 229, 'DataTauF_2017': 230, 'DataTauFake_2017': 231, 'DataHT_2017': 232, 'DataHTnoB_2017': 233, 'DataHTB_2017': 234, 'DataHTC_2017': 235, 'DataHTD_2017': 236, 'DataHTE_2017': 237, 'DataHTF_2017': 238, 'DataMET_2017': 239, 'DataMETB_2017': 240, 'DataMETC_2017': 241, 'DataMETD_2017': 242, 'DataMETE_2017': 243, 'DataMETF_2017': 244, 'SampleEleFake_2017': 245, 'SampleMuFake_2017': 246, 'SampleHTFake_2017': 247, 'SampleHTFakepart_2017': 248, 'WpWpJJ_EWK_2018': 249, 'WpWpJJ_QCD_2018': 250, 'VBS_SSWW_SM_2018': 251, 'VBS_SSWW_LL_SM_2018': 252, 'VBS_SSWW_TL_SM_2018': 253, 'VBS_SSWW_TT_SM_2018': 254, 'VBS_SSWW_cHW_2018': 255, 'VBS_SSWW_cHW_BSM_2018': 256, 'VBS_SSWW_cHW_INT_2018': 257, 'VBS_SSWW_cW_2018': 258, 'VBS_SSWW_cW_BSM_2018': 259, 'VBS_SSWW_cW_INT_2018': 260, 'VBS_SSWW_cW_cHW_2018': 261, 'VBS_SSWW_DIM6_2018': 262, 'VBS_SSWW_DIM6_SM_2018': 263, 'VBS_SSWW_cHW_SM_2018': 264, 'VBS_SSWW_cW_SM_2018': 265, 'VBS_SSWW_aQGC_2018': 266, 'VBS_SSWW_FS0_25_BSM_2018': 267, 'VBS_SSWW_FS0_25_INT_2018': 268, 'VBS_SSWW_FS0_25_SM_2018': 269, 'VBS_SSWW_FS0_25_2018': 270, 'VBS_SSWW_FS0_5_BSM_2018': 271, 'VBS_SSWW_FS0_5_INT_2018': 272, 'VBS_SSWW_FS0_5_SM_2018': 273, 'VBS_SSWW_FS0_5_2018': 274, 'VBS_SSWW_FS0_0_2018': 275, 'VBS_SSWW_FS1_50_BSM_2018': 276, 'VBS_SSWW_FS1_50_INT_2018': 277, 'VBS_SSWW_FS1_50_SM_2018': 278, 'VBS_SSWW_FS1_50_2018': 279, 'VBS_SSWW_FS1_10_BSM_2018': 280, 'VBS_SSWW_FS1_10_INT_2018': 281, 'VBS_SSWW_FS1_10_SM_2018': 282, 'VBS_SSWW_FS1_10_2018': 283, 'VBS_SSWW_FS1_0_2018': 284, 'VBS_SSWW_FM0_25_BSM_2018': 285, 'VBS_SSWW_FM0_25_INT_2018': 286, 'VBS_SSWW_FM0_25_SM_2018': 287, 'VBS_SSWW_FM0_25_2018': 288, 'VBS_SSWW_FM0_5_BSM_2018': 289, 'VBS_SSWW_FM0_5_INT_2018': 290, 'VBS_SSWW_FM0_5_SM_2018': 291, 'VBS_SSWW_FM0_5_2018': 292, 'VBS_SSWW_FM0_0_2018': 293, 'VBS_SSWW_FM1_25_BSM_2018': 294, 'VBS_SSWW_FM1_25_INT_2018': 295, 'VBS_SSWW_FM1_25_SM_2018': 296, 'VBS_SSWW_FM1_25_2018': 297, 'VBS_SSWW_FM1_5_BSM_2018': 298, 'VBS_SSWW_FM1_5_INT_2018': 299, 'VBS_SSWW_FM1_5_SM_2018': 300, 'VBS_SSWW_FM1_5_2018': 301, 'VBS_SSWW_FM1_0_2018': 302, 'VBS_SSWW_FM6_25_BSM_2018': 303, 'VBS_SSWW_FM6_25_INT_2018': 304, 'VBS_SSWW_FM6_25_SM_2018': 305, 'VBS_SSWW_FM6_25_2018': 306, 'VBS_SSWW_FM6_5_BSM_2018': 307, 'VBS_SSWW_FM6_5_INT_2018': 308, 'VBS_SSWW_FM6_5_SM_2018': 309, 'VBS_SSWW_FM6_5_2018': 310, 'VBS_SSWW_FM6_0_2018': 311, 'VBS_SSWW_FM7_50_BSM_2018': 312, 'VBS_SSWW_FM7_50_INT_2018': 313, 'VBS_SSWW_FM7_50_SM_2018': 314, 'VBS_SSWW_FM7_50_2018': 315, 'VBS_SSWW_FM7_10_BSM_2018': 316, 'VBS_SSWW_FM7_10_INT_2018': 317, 'VBS_SSWW_FM7_10_SM_2018': 318, 'VBS_SSWW_FM7_10_2018': 319, 'VBS_SSWW_FM7_0_2018': 320, 'VBS_SSWW_FT0_2p5_BSM_2018': 321, 'VBS_SSWW_FT0_2p5_INT_2018': 322, 'VBS_SSWW_FT0_2p5_SM_2018': 323, 'VBS_SSWW_FT0_2p5_2018': 324, 'VBS_SSWW_FT0_0p5_BSM_2018': 325, 'VBS_SSWW_FT0_0p5_INT_2018': 326, 'VBS_SSWW_FT0_0p5_SM_2018': 327, 'VBS_SSWW_FT0_0p5_2018': 328, 'VBS_SSWW_FT0_0_2018': 329, 'VBS_SSWW_FT1_1_BSM_2018': 330, 'VBS_SSWW_FT1_1_INT_2018': 331, 'VBS_SSWW_FT1_1_SM_2018': 332, 'VBS_SSWW_FT1_1_2018': 333, 'VBS_SSWW_FT1_0p2_BSM_2018': 334, 'VBS_SSWW_FT1_0p2_INT_2018': 335, 'VBS_SSWW_FT1_0p2_SM_2018': 336, 'VBS_SSWW_FT1_0p2_2018': 337, 'VBS_SSWW_FT1_0_2018': 338, 'VBS_SSWW_FT2_2p5_BSM_2018': 339, 'VBS_SSWW_FT2_2p5_INT_2018': 340, 'VBS_SSWW_FT2_2p5_SM_2018': 341, 'VBS_SSWW_FT2_2p5_2018': 342, 'VBS_SSWW_FT2_0p5_BSM_2018': 343, 'VBS_SSWW_FT2_0p5_INT_2018': 344, 'VBS_SSWW_FT2_0p5_SM_2018': 345, 'VBS_SSWW_FT2_0p5_2018': 346, 'VBS_SSWW_FT2_0_2018': 347, 'DHiggsToWW_2018': 348, 'sm_2018': 349, 'sm_lin_quad_cW_2018': 350, 'quad_cW_2018': 351, 'sm_lin_quad_cHW_2018': 352, 'quad_cHW_2018': 353, 'QCD_2018': 354, 'QCDHT_100to200_2018': 355, 'QCDHT_200to300_2018': 356, 'QCDHT_300to500_2018': 357, 'QCDHT_500to700_2018': 358, 'QCDHT_700to1000_2018': 359, 'QCDHT_1000to1500_2018': 360, 'QCDHT_1500to2000_2018': 361, 'QCDHT_2000toInf_2018': 362, 'ZZtoLep_2018': 363, 'ZZTo2L2Nu_2018': 364, 'ZZJJTo4L_EWK_2018': 365, 'ZZJJTo4L_QCD_2018': 366, 'GluGluToContinToZZTo2e2nu_2018': 367, 'GluGluToContinToZZTo2e2mu_2018': 368, 'GluGluToContinToZZTo2e2tau_2018': 369, 'GluGluToContinToZZTo2mu2nu_2018': 370, 'GluGluToContinToZZTo2mu2tau_2018': 371, 'GluGluToContinToZZTo4e_2018': 372, 'GluGluToContinToZZTo4mu_2018': 373, 'GluGluToContinToZZTo4tau_2018': 374, 'GluGluToContinToZZTo4L_2018': 375, 'TT_2018': 376, 'TT_SemiLep_2018': 377, 'TT_Had_2018': 378, 'WJets_2018': 379, 'WJetsHT70to100_2018': 380, 'WJetsHT100to200_2018': 381, 'WJetsHT200to400_2018': 382, 'WJetsHT400to600_2018': 383, 'WJetsHT600to800_2018': 384, 'WJetsHT800to1200_2018': 385, 'WJetsHT1200to2500_2018': 386, 'WJetsHT2500toInf_2018': 387, 'DYJetsToLL_2018': 388, 'DY1JetsToLL_2018': 389, 'DY2JetsToLL_2018': 390, 'DY3JetsToLL_2018': 391, 'DY4JetsToLL_2018': 392, 'SampleHTFake_2018': 393, 'VG_2018': 394, 'ZG_2018': 395, 'WG_2018': 396, 'TVX_2018': 397, 'TTGJets_2018': 398, 'TTZToQQ_2018': 399, 'TTZToLLNuNu_2018': 400, 'TTWJetsToQQ_2018': 401, 'TTWJetsToLNu_2018': 402, 'tZq_ll_4f_2018': 403, 'WrongSign_2018': 404, 'WWto2L2Nu_2018': 405, 'GluGluToWWToENuENu_2018': 406, 'GluGluToWWToMNuENu_2018': 407, 'GluGluToWWToTNuENu_2018': 408, 'STtW_top_2018': 409, 'GluGluHToWWTo2L2Nu_2018': 410, 'GluGluHToZZTo2L2Q_2018': 411, 'GluGluHToZZTo4L_2018': 412, 'GluGluHToTauTau_2018': 413, 'VBFHToWWTo2L2Nu_2018': 414, 'VBFHToTauTau_2018': 415, 'ttHToNonbb_2018': 416, 'VHToNonbb_2018': 417, 'OtherWS_2018': 418, 'Other_2018': 419, 'WWTo2L2Nu_DoubleScattering_2018': 420, 'WWW_4F_2018': 421, 'WWZTo3L1Nu2Q_2018': 422, 'WZZ_2018': 423, 'ZZZ_2018': 424, 'WWG_2018': 425, 'TTTo2L2Nu_2018': 426, 'WZ_2018': 427, 'FakeMu_2018': 428, 'DataMu_2018': 429, 'DataMuA_2018': 430, 'DataMuB_2018': 431, 'DataMuC_2018': 432, 'DataMuD_2018': 433, 'FakeEle_2018': 434, 'FakeMuPromptTau_2018': 435, 'PromptMuFakeTau_2018': 436, 'FakeMuFakeTau_2018': 437, 'DataEle_2018': 438, 'DataEleA_2018': 439, 'DataEleB_2018': 440, 'DataEleC_2018': 441, 'DataEleD_2018': 442, 'FakeElePromptTau_2018': 443, 'PromptEleFakeTau_2018': 444, 'FakeEleFakeTau_2018': 445, 'DataHT_2018': 446, 'DataHTA_2018': 447, 'DataHTB_2018': 448, 'DataHTC_2018': 449, 'DataHTD_2018': 450}"
   ]
  },
  {
   "cell_type": "markdown",
   "id": "e4a19623-55fb-49be-a13a-3dab50323667",
   "metadata": {},
   "source": [
    "## Define samples to be processed"
   ]
  },
  {
   "cell_type": "code",
   "execution_count": 13,
   "id": "274c428d-fe3b-4515-a3c3-490852344ed9",
   "metadata": {},
   "outputs": [],
   "source": [
    "\n",
    "\n",
    "aggregated_samples = {\n",
    "                      'Other': [WWTo2L2Nu_DoubleScattering_2017, WWW_4F_2017, WWZTo3L1Nu2Q_2017, WZZ_2017, ZZZ_2017, WWG_2017], \n",
    "                      'tVX': [TTGJets_2017, TTZToQQ_2017, TTZToLLNuNu_2017, TTWJetsToQQ_2017, TTWJetsToLNu_2017, tZq_ll_4f_2017], \n",
    "                      'QCD_ssWW': [WpWpJJ_QCD_2017],\n",
    "                      'Vgamma':  [ZG_2017, WG_2017],\n",
    "                      'ZZ': [ZZTo2L2Nu_2017, ZZJJTo4L_EWK_2017, ZZJJTo4L_QCD_2017, GluGluToContinToZZTo2e2nu_2017, GluGluToContinToZZTo2e2mu_2017, GluGluToContinToZZTo2e2tau_2017, GluGluToContinToZZTo2mu2nu_2017, GluGluToContinToZZTo2mu2tau_2017, GluGluToContinToZZTo4e_2017, GluGluToContinToZZTo4mu_2017, GluGluToContinToZZTo4tau_2017], \n",
    "                      'WZ': [WZ_2017], \n",
    "                      'VBS_ssWW': [VBS_SSWW_LL_SM_2017, VBS_SSWW_TL_SM_2017, VBS_SSWW_TT_SM_2017], \n",
    "                      #'VBS ssWW cW (BSM + INT)': [VBS_SSWW_cW_BSM_2017, VBS_SSWW_cW_INT_2017],\n",
    "                      #'VBS ssWW cHW (BSM + INT)': [VBS_SSWW_cHW_BSM_2017, VBS_SSWW_cHW_INT_2017],\n",
    "                      'DY_jets': [DY1JetsToLL_2017, DY2JetsToLL_2017, DY3JetsToLL_2017, DY4JetsToLL_2017, DYJetsToLLM5to50_2017],\n",
    "                      'Wrong_Sign': [WWto2L2Nu_2017, GluGluToWWToENuENu_2017, GluGluToWWToENuMNu2017, \n",
    "                                     GluGluToWWToENuTNu2017, GluGluToWWToMNuENu_2017, GluGluToWWToMNuMNu2017, \n",
    "                                     GluGluToWWToMNuTNu2017, GluGluToWWToTNuENu_2017, GluGluToWWToTNuMNu2017, \n",
    "                                     GluGluToWWToTNuTNu2017, STtW_top_2017, \n",
    "                                        GluGluHToWWTo2L2Nu_2017, \n",
    "                                        #GluGluHToZZTo2L2Q_2017,\n",
    "                                        GluGluHToZZTo4L_2017,\n",
    "                                        GluGluHToTauTau_2017, \n",
    "                                        VBFHToWWTo2L2Nu_2017, VBFHToTauTau_2017, ttHToNonbb_2017, VHToNonbb_2017], \n",
    "                      'ttbar DiLep': [TTTo2L2Nu_2017],  \n",
    "                      'Data': [DataEleB_2017, DataEleC_2017, DataEleD_2017, DataEleE_2017, DataEleF_2017, DataMuB_2017, DataMuC_2017, DataMuD_2017, DataMuE_2017, DataMuF_2017], \n",
    "                     }"
   ]
  },
  {
   "cell_type": "code",
   "execution_count": 14,
   "id": "85989c1a-a5f1-4573-ac4c-f09f7e4c9890",
   "metadata": {},
   "outputs": [],
   "source": [
    "with open('d.json', 'r') as fp:\n",
    "    file_dict = json.load(fp)"
   ]
  },
  {
   "cell_type": "code",
   "execution_count": 15,
   "id": "be9029ea-cb88-47dc-9f38-51cd3e766bec",
   "metadata": {},
   "outputs": [],
   "source": [
    "chain = []\n",
    "proxy = redirector\n",
    "max_lines = maxNfilespersample\n",
    "\n",
    "for v in aggregated_samples.values():\n",
    "    for s in v:\n",
    "        files = file_dict[s.label] \n",
    "        for i,line in enumerate(files):\n",
    "            if i < max_lines:\n",
    "                chain.append(\"root://\" + proxy + \"/\" + line)\n",
    "            i += 1\n",
    "#chain"
   ]
  },
  {
   "cell_type": "code",
   "execution_count": 16,
   "id": "c4627bfe-81bb-4d74-b598-753965e56d82",
   "metadata": {},
   "outputs": [],
   "source": [
    "#chain"
   ]
  },
  {
   "cell_type": "markdown",
   "id": "cf6239e4-1d5d-4d6c-bcf2-6eb13b508947",
   "metadata": {},
   "source": [
    "## Define the dataframe starting from a chain of root files"
   ]
  },
  {
   "cell_type": "code",
   "execution_count": 17,
   "id": "0431dfcd-17ad-4e44-9d18-9d31532df2e8",
   "metadata": {},
   "outputs": [],
   "source": [
    "#!xrdcp root://xrootd-cms.infn.it//store/mc/RunIIFall17NanoAODv7/VBS_SSWW_LL_polarization_TuneCP5_13TeV-madgraph-pythia8/NANOAODSIM/PU2017_12Apr2018_Nano02Apr2020_102X_mc2017_realistic_v8-v1/100000/5ADAED4E-FEEE-884F-8555-FF6FB31D6A60.root ."
   ]
  },
  {
   "cell_type": "code",
   "execution_count": 18,
   "id": "349afb2d-6af8-4295-b3f6-1ff22826dc87",
   "metadata": {},
   "outputs": [],
   "source": [
    "#proxy = \"root://212.189.205.221:30443//root://xrootd-cms.infn.it/\"\n",
    "proxy = \"root://xrootd-cms.infn.it/\"\n",
    "\n",
    "chain = [proxy + \"/store/mc/RunIIFall17NanoAODv7/VBS_SSWW_LL_polarization_TuneCP5_13TeV-madgraph-pythia8/NANOAODSIM/PU2017_12Apr2018_Nano02Apr2020_102X_mc2017_realistic_v8-v1/100000/5ADAED4E-FEEE-884F-8555-FF6FB31D6A60.root\"]\n",
    "#chain = [\"5ADAED4E-FEEE-884F-8555-FF6FB31D6A60.root\"] #VBS_SSWW_LL_2017\n",
    "\n",
    "if distributed == True:\n",
    "    df = RDataFrame(\"Events\", chain, npartitions=4, daskclient=client)\n",
    "else:\n",
    "    df = RDataFrame(\"Events\", chain).Range(10)"
   ]
  },
  {
   "cell_type": "markdown",
   "id": "9daeeac7-da1d-4259-b41f-afc1843913de",
   "metadata": {},
   "source": [
    "## Define preselection flow - MC"
   ]
  },
  {
   "cell_type": "code",
   "execution_count": 19,
   "id": "668843b9-d83d-4ae3-9e6a-f3965508d545",
   "metadata": {},
   "outputs": [
    {
     "name": "stdout",
     "output_type": "stream",
     "text": [
      "CPU times: user 17.3 s, sys: 362 ms, total: 17.7 s\n",
      "Wall time: 20.8 s\n"
     ]
    },
    {
     "name": "stderr",
     "output_type": "stream",
     "text": [
      "Warning in <TClass::Init>: no dictionary for class edm::Hash<1> is available\n",
      "Warning in <TClass::Init>: no dictionary for class edm::ProcessHistory is available\n",
      "Warning in <TClass::Init>: no dictionary for class edm::ProcessConfiguration is available\n",
      "Warning in <TClass::Init>: no dictionary for class edm::ParameterSetBlob is available\n",
      "Warning in <TClass::Init>: no dictionary for class pair<edm::Hash<1>,edm::ParameterSetBlob> is available\n"
     ]
    }
   ],
   "source": [
    "%%time\n",
    "\n",
    "df_year = df.DefinePerSample(\"Year\",\"GetYear(rdfslot_, rdfsampleinfo_)\")\n",
    "df_sample = df_year.DefinePerSample(\"Sample\", \"GetSample(rdfslot_, rdfsampleinfo_)\")\n",
    "\n",
    "nevents_df = {}\n",
    "gen_weight_df = {}\n",
    "#q2_weight = {}\n",
    "#ps_weight = {}\n",
    "#pdf_weight = {}\n",
    "df_samples = {}\n",
    "\n",
    "#### MCWeight_writer #### \n",
    "for k,v in aggregated_samples.items():\n",
    "    for sample in v:\n",
    "        s = sample.label\n",
    "        df_samples[s] = df_sample.Filter(\"Sample == {}\".format(sampleDict[s]))\n",
    "        nevents_df[s] = df_samples[s].Count()\n",
    "        gen_weight_df[s] = df_samples[s].Sum(\"Generator_weight\")\n",
    "        #q2_weight[s] = [df_samples[s].Sum(\"LHEScaleWeight[{}]\".format(j)) for j in range(0,7)]\n",
    "        #ps_weight[s] = [df_samples[s].Sum(\"PSWeight[{}]\".format(j)) for j in range(0,4)]\n",
    "        #pdf_weight[s] = [df_samples[s].Sum(\"W_Pdf[{}]\".format(j)) for j in range(0,15)]\n",
    "\n",
    "\n",
    "#### MET HLT Filter ####   #### working only for 2017 and 2018 (2016 requires a column that is not present in 2017 nd 2018, i.e. HLT_IsoTkMu24\n",
    "df_METHLTFilter = df_sample.Define(\"METHLTFilter\", \"MET_HLT_Filter(Year, Flag_goodVertices, Flag_HBHENoiseFilter, Flag_HBHENoiseIsoFilter, Flag_EcalDeadCellTriggerPrimitiveFilter, Flag_BadPFMuonFilter, Flag_globalSuperTightHalo2016Filter, HLT_Ele27_WPTight_Gsf,  HLT_Ele32_WPTight_Gsf, HLT_IsoMu24, HLT_IsoMu27, HLT_Mu50, HLT_Ele35_WPTight_Gsf, HLT_Ele32_WPTight_Gsf_L1DoubleEG, HLT_Photon200)\")\\\n",
    "                         .Filter(\"METHLTFilter == true\", \"MET HLT Filter\")\n",
    "\n",
    "\n",
    "#### preselection #####\n",
    "df_preselection = df_METHLTFilter.Filter(\"PV_ndof> 4 && abs(PV_z) < 20 && hypot(PV_x, PV_y)<2\", \"Good vertex\")\\\n",
    "                                 .Define(\"HT_eventHT\", \"GetEventHT(Jet_pt, Jet_eta, Jet_phi, Jet_mass)\")\n",
    "\n",
    "\n",
    "#### lepSF #####\n",
    "df_LepSF = df_preselection.Define(\"ElectronSFs\", \"ElectronSFs(Electron_pt, Electron_eta, Electron_pdgId, Year)\")\\\n",
    "                          .Define(\"Electron_effSF\", \"getFlattenedMatrixColumn(ElectronSFs, 3, 0)\")\\\n",
    "                          .Define(\"Electron_effSF_errUp\", \"getFlattenedMatrixColumn(ElectronSFs, 3, 1)\")\\\n",
    "                          .Define(\"Electron_effSF_errDown\", \"getFlattenedMatrixColumn(ElectronSFs, 3, 2)\")\\\n",
    "                          .Define(\"MuonSFs\", \"MuonSFs(Muon_pt, Muon_eta, Muon_pdgId, Year)\")\\\n",
    "                          .Define(\"Muon_effSF\", \"getFlattenedMatrixColumn(MuonSFs, 3, 0)\")\\\n",
    "                          .Define(\"Muon_effSF_errUp\", \"getFlattenedMatrixColumn(MuonSFs, 3, 1)\")\\\n",
    "                          .Define(\"Muon_effSF_errDown\", \"getFlattenedMatrixColumn(MuonSFs, 3, 2)\")\n",
    "\n",
    "\n",
    "#### mht ####\n",
    "df_mht = df_LepSF.Define(\"MHT_pt_phi\", \"MHT_pt_phi(Electron_pt, Electron_eta, Electron_phi, Electron_mass, Electron_miniPFRelIso_all, Muon_pt, Muon_eta, Muon_phi, Muon_mass, Muon_miniPFRelIso_all, Jet_pt, Jet_eta, Jet_phi, Jet_mass, Jet_muonIdx1, Jet_muonIdx2, Jet_electronIdx1, Jet_electronIdx2, nJet)\")\\\n",
    "                 .Define(\"MHT_pt\", \"MHT_pt_phi[0]\").Define(\"MHT_phi\", \"MHT_pt_phi[1]\")\\\n",
    "\n",
    "\n",
    "#### puWeight #####\n",
    "df_puWeight = df_mht.Define(\"puWeights\", \"puWeight(Year, Pileup_nTrueInt)\")\\\n",
    "                    .Define(\"puWeight\", \"puWeights[0]\")\\\n",
    "                    .Define(\"puWeightUp\", \"puWeights[1]\")\\\n",
    "                    .Define(\"puWeightDown\", \"puWeights[2]\")\n",
    "\n",
    "\n",
    "#df_puWeight = df_mht\n",
    "\n",
    "\n",
    "#### prefCorr ####\n",
    "df_prefCorr = df_puWeight.Define(\"prefCorrs\",\"PrefCorr(Photon_pt, Photon_eta, Photon_jetIdx, Photon_electronIdx, Electron_pt, Electron_eta, Electron_jetIdx, Electron_photonIdx, Jet_pt, Jet_eta)\")\\\n",
    "                         .Define(\"PrefireWeight\", \"prefCorrs[0]\")\\\n",
    "                         .Define(\"PrefireWeightUp\", \"prefCorrs[1]\")\\\n",
    "                         .Define(\"PrefireWeightDown\", \"prefCorrs[2]\")\n",
    "\n",
    "\n",
    "#### ht ####\n",
    "# https://github.com/anpicci/nanoAOD-tools/blob/VBS_PG/python/postprocessing/modules/jme/htProducerCpp.py\n",
    "df_ht = df_prefCorr.Define(\"HT_pt\", \"htProducer(nJet, Jet_pt)\")\n",
    "\n",
    "\n",
    "#### btagSF ##### preselection part2\n",
    "# https://github.com/anpicci/nanoAOD-tools/blob/VBS_PG/python/postprocessing/modules/btv/btagSFProducer.py\n",
    "df_btagSF = df_ht.Define(\"btagSFs\",  'btagSF(Jet_pt, Jet_eta, Jet_hadronFlavour, Jet_btagDeepFlavB, Year, \\\"M\\\")')\\\n",
    "                 .Define(\"Jet_btagSF_deepjet_M\", \"getMatrixColumn(btagSFs, 0)\")\\\n",
    "                 .Define(\"Jet_btagSF_deepjet_M_up\", \"getMatrixColumn(btagSFs, 1)\")\\\n",
    "                 .Define(\"Jet_btagSF_deepjet_M_down\", \"getMatrixColumn(btagSFs, 2)\")\n",
    "#df_btagSF = df_ht\n",
    "\n",
    "\n",
    "#### muonScaleRes ####\n",
    "# https://github.com/anpicci/nanoAOD-tools/blob/VBS_PG/python/postprocessing/modules/common/muonScaleResProducer.py\n",
    "## TO DO insert in CVMFS necessary libraries (BOOST)\n",
    "df_muonScaleRes = df_btagSF.Define(\"muonCorrectedPTs\", \"muonScaleRes(Muon_pt, Muon_eta, Muon_phi, Muon_charge, Muon_nTrackerLayers, Muon_genPartIdx, GenPart_pt, Year)\")\\\n",
    "                           .Define(\"Muon_corrected_pt\", \"getFlattenedMatrixColumn(muonCorrectedPTs, 3, 0)\")\\\n",
    "                           .Define(\"Muon_correctedUp_pt\", \"getFlattenedMatrixColumn(muonCorrectedPTs, 3, 1)\")\\\n",
    "                           .Define(\"Muon_correctedDown_pt\", \"getFlattenedMatrixColumn(muonCorrectedPTs, 3, 2)\")\n",
    "\n",
    "#### metCorrector and fatJetCorrector #### ####\n",
    "# https://github.com/anpicci/nanoAOD-tools/blob/VBS_PG/python/postprocessing/modules/jme/jetmetHelperRun2.py\n",
    "    # https://github.com/anpicci/nanoAOD-tools/blob/VBS_PG/python/postprocessing/modules/jme/fatJetUncertainties.py\n",
    "    # https://github.com/anpicci/nanoAOD-tools/blob/VBS_PG/python/postprocessing/modules/jme/jetmetUncertainties.py\n",
    "        # https://github.com/anpicci/nanoAOD-tools/blob/VBS_PG/python/postprocessing/modules/jme/JetReCalibrator.py\n",
    "        # https://github.com/anpicci/nanoAOD-tools/blob/VBS_PG/python/postprocessing/modules/jme/jetSmearer.py\n",
    "df_jme = df_muonScaleRes\n",
    "\n",
    "allCutsReport = df.Report()\n",
    "allCutsReport.Print()"
   ]
  },
  {
   "cell_type": "code",
   "execution_count": 24,
   "id": "fd52e560-7d56-4717-9345-738d779734e3",
   "metadata": {},
   "outputs": [
    {
     "name": "stdout",
     "output_type": "stream",
     "text": [
      "Original eta: 2.42822\n",
      "New eta: 2.399\n",
      "\n",
      "sf is 1.2529\n",
      "sf_up is 1.42595\n",
      "sf_down is 1.07986\n",
      "Original eta: -3.32324\n",
      "New eta: -2.399\n",
      "\n",
      "sf is 1.26626\n",
      "sf_up is 1.43361\n",
      "sf_down is 1.09892\n",
      "Original eta: 1.36572\n",
      "New eta: 1.36572\n",
      "\n",
      "sf is 1.26725\n",
      "sf_up is 1.41185\n",
      "sf_down is 1.12264\n",
      "Original eta: 1.52148\n",
      "New eta: 1.52148\n",
      "\n",
      "sf is 1.21626\n",
      "sf_up is 1.34849\n",
      "sf_down is 1.08402\n",
      "Original eta: -0.81189\n",
      "New eta: -0.81189\n",
      "\n",
      "sf is 1.23244\n",
      "sf_up is 1.41206\n",
      "sf_down is 1.05283\n",
      "Original eta: 2.56641\n",
      "New eta: 2.399\n",
      "\n",
      "sf is 1.25493\n",
      "sf_up is 1.42721\n",
      "sf_down is 1.08264\n",
      "Original eta: 0.0454483\n",
      "New eta: 0.0454483\n",
      "\n",
      "sf is 1.24183\n",
      "sf_up is 1.37911\n",
      "sf_down is 1.10455\n",
      "Original eta: 0.195038\n",
      "New eta: 0.195038\n",
      "\n",
      "sf is 1.23765\n",
      "sf_up is 1.37402\n",
      "sf_down is 1.10129\n",
      "Original eta: -1.86743\n",
      "New eta: -1.86743\n",
      "\n",
      "sf is 1.25218\n",
      "sf_up is 1.4255\n",
      "sf_down is 1.07887\n",
      "Original eta: -2.25879\n",
      "New eta: -2.25879\n",
      "\n",
      "sf is 1.26143\n",
      "sf_up is 1.43105\n",
      "sf_down is 1.09182\n",
      "Original eta: -1.36694\n",
      "New eta: -1.36694\n",
      "\n",
      "sf is 1.26389\n",
      "sf_up is 1.43239\n",
      "sf_down is 1.09539\n",
      "Original eta: 2.32666\n",
      "New eta: 2.32666\n",
      "\n",
      "sf is 1.27572\n",
      "sf_up is 1.43702\n",
      "sf_down is 1.11441\n",
      "Original eta: -2.03711\n",
      "New eta: -2.03711\n",
      "\n",
      "sf is 1.15532\n",
      "sf_up is 1.40123\n",
      "sf_down is 0.90942\n",
      "Original eta: 0.0354996\n",
      "New eta: 0.0354996\n",
      "\n",
      "sf is 1.27761\n",
      "sf_up is 1.43696\n",
      "sf_down is 1.11826\n",
      "Original eta: 1.06885\n",
      "New eta: 1.06885\n",
      "\n",
      "sf is 1.27943\n",
      "sf_up is 1.4344\n",
      "sf_down is 1.12445\n",
      "Original eta: -2.85352\n",
      "New eta: -2.399\n",
      "\n",
      "sf is 1.27901\n",
      "sf_up is 1.43195\n",
      "sf_down is 1.12606\n",
      "Original eta: 2.68457\n",
      "New eta: 2.399\n",
      "\n",
      "sf is 1.15532\n",
      "sf_up is 1.40123\n",
      "sf_down is 0.90942\n",
      "Original eta: -3.31348\n",
      "New eta: -2.399\n",
      "\n",
      "sf is 1.15532\n",
      "sf_up is 1.40123\n",
      "sf_down is 0.90942\n",
      "Original eta: -1.24243\n",
      "New eta: -1.24243\n",
      "\n",
      "sf is 1.27796\n",
      "sf_up is 1.43685\n",
      "sf_down is 1.11907\n",
      "Original eta: 1.73877\n",
      "New eta: 1.73877\n",
      "\n",
      "sf is 1.27933\n",
      "sf_up is 1.43527\n",
      "sf_down is 1.1234\n",
      "Original eta: -0.00470829\n",
      "New eta: -0.00470829\n",
      "\n",
      "sf is0.926931\n",
      "Original eta: 1.87891\n",
      "New eta: 1.87891\n",
      "\n",
      "Original eta: 1.47144\n",
      "New eta: 1.47144\n",
      "\n",
      "sf is 1.15532\n",
      "sf_up is 1.40123\n",
      "sf_down is 0.90942\n",
      "+-----+--------------+----------------------+-------------------------+---------------------------+\n",
      "| Row | Jet_eta      | Jet_btagSF_deepjet_M | Jet_btagSF_deepjet_M_up | Jet_btagSF_deepjet_M_down | \n",
      "+-----+--------------+----------------------+-------------------------+---------------------------+\n",
      "| 1   | 2.42822f     | 1.25290f             | 1.42595f                | 1.07986f                  | \n",
      "|     | -3.32324f    | 1.26626f             | 1.43361f                | 1.09892f                  | \n",
      "|     | 1.36572f     | 1.26725f             | 1.41185f                | 1.12264f                  | \n",
      "|     | 1.52148f     | 1.21626f             | 1.34849f                | 1.08402f                  | \n",
      "+-----+--------------+----------------------+-------------------------+---------------------------+\n",
      "| 2   | -0.811890f   | 1.23244f             | 1.41206f                | 1.05283f                  | \n",
      "|     | 2.56641f     | 1.25493f             | 1.42721f                | 1.08264f                  | \n",
      "|     | 0.0454483f   | 1.24183f             | 1.37911f                | 1.10455f                  | \n",
      "|     | 0.195038f    | 1.23765f             | 1.37402f                | 1.10129f                  | \n",
      "+-----+--------------+----------------------+-------------------------+---------------------------+\n",
      "| 3   | -1.86743f    | 1.25218f             | 1.42550f                | 1.07887f                  | \n",
      "|     | -2.25879f    | 1.26143f             | 1.43105f                | 1.09182f                  | \n",
      "|     | -1.36694f    | 1.26389f             | 1.43239f                | 1.09539f                  | \n",
      "|     | 2.32666f     | 1.27572f             | 1.43702f                | 1.11441f                  | \n",
      "|     | -2.03711f    | 1.15532f             | 1.40123f                | 0.909420f                 | \n",
      "+-----+--------------+----------------------+-------------------------+---------------------------+\n",
      "| 5   | 0.0354996f   | 1.27761f             | 1.43696f                | 1.11826f                  | \n",
      "|     | 1.06885f     | 1.27943f             | 1.43440f                | 1.12445f                  | \n",
      "|     | -2.85352f    | 1.27901f             | 1.43195f                | 1.12606f                  | \n",
      "|     | 2.68457f     | 1.15532f             | 1.40123f                | 0.909420f                 | \n",
      "|     | -3.31348f    | 1.15532f             | 1.40123f                | 0.909420f                 | \n",
      "+-----+--------------+----------------------+-------------------------+---------------------------+\n",
      "| 8   | -1.24243f    | 1.27796f             | 1.43685f                | 1.11907f                  | \n",
      "|     | 1.73877f     | 1.27933f             | 1.43527f                | 1.12340f                  | \n",
      "|     | -0.00470829f | 0.926931f            | 0.952272f               | 0.901590f                 | \n",
      "|     | 1.87891f     | 0.941778f            | 1.02097f                | 0.862583f                 | \n",
      "|     | 1.47144f     | 1.15532f             | 1.40123f                | 0.909420f                 | \n",
      "+-----+--------------+----------------------+-------------------------+---------------------------+\n"
     ]
    }
   ],
   "source": [
    "#df_jme.Display([\"Jet_pt\", \"Jet_btagSF_deepjet_M\", \"Jet_btagSF_deepjet_M_up\", \"Jet_btagSF_deepjet_M_down\"]).Print()\n",
    "df_jme.Display([\"Jet_eta\",  \"Jet_btagSF_deepjet_M\", \"Jet_btagSF_deepjet_M_up\",\"Jet_btagSF_deepjet_M_down\"]).Print()"
   ]
  },
  {
   "cell_type": "code",
   "execution_count": 23,
   "id": "a1a9791c-297a-4330-838c-d97c22097a97",
   "metadata": {},
   "outputs": [
    {
     "name": "stdout",
     "output_type": "stream",
     "text": [
      "+-----+--------------+----------------------+-------------------------+---------------------------+\n",
      "| Row | Jet_eta      | Jet_btagSF_deepjet_M | Jet_btagSF_deepjet_M_up | Jet_btagSF_deepjet_M_down | \n",
      "+-----+--------------+----------------------+-------------------------+---------------------------+\n",
      "| 0   | 2.42822f     | 1.25290f             | 1.42595f                | 1.07986f                  | \n",
      "|     | -3.32324f    | 1.26626f             | 1.43361f                | 1.09892f                  | \n",
      "|     | 1.36572f     | 1.26725f             | 1.41185f                | 1.12264f                  | \n",
      "|     | 1.52148f     | 1.21626f             | 1.34849f                | 1.08402f                  | \n",
      "+-----+--------------+----------------------+-------------------------+---------------------------+\n",
      "| 1   | -0.811890f   | 1.23244f             | 1.41206f                | 1.05283f                  | \n",
      "|     | 2.56641f     | 1.25493f             | 1.42721f                | 1.08264f                  | \n",
      "|     | 0.0454483f   | 1.24183f             | 1.37911f                | 1.10455f                  | \n",
      "|     | 0.195038f    | 1.23765f             | 1.37402f                | 1.10129f                  | \n",
      "+-----+--------------+----------------------+-------------------------+---------------------------+\n",
      "| 2   | -1.86743f    | 1.25218f             | 1.42550f                | 1.07887f                  | \n",
      "|     | -2.25879f    | 1.26143f             | 1.43105f                | 1.09182f                  | \n",
      "|     | -1.36694f    | 1.26389f             | 1.43239f                | 1.09539f                  | \n",
      "|     | 2.32666f     | 1.27572f             | 1.43702f                | 1.11441f                  | \n",
      "|     | -2.03711f    | 1.15532f             | 1.40123f                | 0.909420f                 | \n",
      "+-----+--------------+----------------------+-------------------------+---------------------------+\n",
      "| 3   | 0.0354996f   | 1.27761f             | 1.43696f                | 1.11826f                  | \n",
      "|     | 1.06885f     | 1.27943f             | 1.43440f                | 1.12445f                  | \n",
      "|     | -2.85352f    | 1.27901f             | 1.43195f                | 1.12606f                  | \n",
      "|     | 2.68457f     | 1.15532f             | 1.40123f                | 0.909420f                 | \n",
      "|     | -3.31348f    | 1.15532f             | 1.40123f                | 0.909420f                 | \n",
      "+-----+--------------+----------------------+-------------------------+---------------------------+\n",
      "| 4   | -1.24243f    | 1.27796f             | 1.43685f                | 1.11907f                  | \n",
      "|     | 1.73877f     | 1.27933f             | 1.43527f                | 1.12340f                  | \n",
      "|     | -0.00470829f | 0.926931f            | 0.952272f               | 0.901590f                 | \n",
      "|     | 1.87891f     | 0.941778f            | 1.02097f                | 0.862583f                 | \n",
      "|     | 1.47144f     | 1.15532f             | 1.40123f                | 0.909420f                 | \n",
      "+-----+--------------+----------------------+-------------------------+---------------------------+\n"
     ]
    }
   ],
   "source": [
    "%%capture\n",
    "import ROOT\n",
    "df_classic = ROOT.RDataFrame(\"Events\", \"https://ttedesch.web.cern.ch/ttedesch/testAF/VBS_SSWW_LL_SM_2017/tree_hadd_2.root\")\n",
    "#df_classic.Display([\"Jet_pt\", \"Jet_eta\", \"Jet_hadronFlavour\", \"Jet_btagDeepFlavB\",\"Jet_btagSF_deepjet_M\"], nRows = 5).Print()\n",
    "df_classic.Display([\"Jet_eta\",  \"Jet_btagSF_deepjet_M\", \"Jet_btagSF_deepjet_M_up\",\"Jet_btagSF_deepjet_M_down\"], nRows = 5).Print()"
   ]
  },
  {
   "cell_type": "markdown",
   "id": "1ea65d7e-6d28-4cdc-8602-63062e6a2646",
   "metadata": {},
   "source": [
    "## Define preselection flow - Data"
   ]
  },
  {
   "cell_type": "code",
   "execution_count": null,
   "id": "8a8daecc-77bc-4b93-8d3b-da2ec819ab62",
   "metadata": {},
   "outputs": [],
   "source": []
  },
  {
   "cell_type": "code",
   "execution_count": 43,
   "id": "5dd2bfd9-d210-44d4-84c7-f599e3872802",
   "metadata": {},
   "outputs": [],
   "source": [
    "for k,v in nevents_df.items():\n",
    "    nevents_df[k] = v.GetValue()\n",
    "for k,v in gen_weight_df.items():\n",
    "    gen_weight_df[k] = v.GetValue()\n",
    "with open('nEventsDict.json', 'w') as fp:\n",
    "    json.dump(nevents_df, fp)\n",
    "with open('genWeightDict.json', 'w') as fp:\n",
    "    json.dump(gen_weight_df, fp)"
   ]
  },
  {
   "cell_type": "code",
   "execution_count": null,
   "id": "467d922c-efc5-4daf-abae-d095ea1dd6a5",
   "metadata": {},
   "outputs": [],
   "source": [
    "branches = [\n",
    "    \"nElectron\",\"Electron_pt\", \"Electron_eta\", \"Electron_phi\", \"Electron_mass\", \"Electron_charge\", \"Electron_pdgId\", \"Electron_jetRelIso\", \"Electron_mvaFall17V2Iso_WPL\", \"Electron_mvaFall17V2Iso_WP90\", \"Electron_effSF\", \"Electron_effSF_errUp\", \"Electron_effSF_errDown\",\n",
    "    \"nMuon\",\"Muon_pt\", \"Muon_eta\", \"Muon_phi\", \"Muon_mass\", \"Muon_charge\", \"Muon_pdgId\", \"Muon_tightId\", \"Muon_looseId\", \"Muon_pfRelIso04_all\", \"Muon_effSF\", \"Muon_effSF_errUp\", \"Muon_effSF_errDown\",\n",
    "    \"nTau\",\"Tau_pt\", \"Tau_eta\", \"Tau_phi\", \"Tau_mass\", \"Tau_charge\", \"Tau_leadTkPtOverTauPt\", \"Tau_decayMode\", \"Tau_neutralIso\", \"Tau_idDeepTau2017v2p1VSjet\", \"Tau_idDeepTau2017v2p1VSe\", \"Tau_idDeepTau2017v2p1VSmu\", \"Tau_genPartFlav\",\n",
    "    \"nJet\",\"Jet_pt\", \"Jet_eta\", \"Jet_phi\", \"Jet_mass\", \"Jet_jetId\", \"Jet_puId\", \"Jet_btagDeepFlavB\", \"Jet_btagDeepB\", \"Jet_btagCSVV2\", \"Jet_partonFlavour\", \"Jet_btagSF_deepjet_M_up\", \"Jet_btagSF_deepjet_M_down\", \"Jet_btagSF_deepjet_M\",\n",
    "    \"PrefireWeight\", \"PrefireWeightUp\", \"PrefireWeightDown\", \"puWeight\", \"puWeightUp\", \"puWeightDown\"\n",
    "]"
   ]
  },
  {
   "cell_type": "code",
   "execution_count": 13,
   "id": "4b2c670c-eb3f-4c6f-84a3-88e8c1a993f4",
   "metadata": {},
   "outputs": [
    {
     "data": {
      "text/plain": [
       "<cppyy.gbl.ROOT.RDF.RResultPtr<ROOT::RDF::RInterface<ROOT::Detail::RDF::RLoopManager,void> > object at 0x56439c319650>"
      ]
     },
     "execution_count": 13,
     "metadata": {},
     "output_type": "execute_result"
    }
   ],
   "source": [
    "branchlist = ROOT.vector('string')()\n",
    "for branchName in [\"nMuon\",\"Muon_pt\"]:\n",
    "    branchlist.push_back(branchName)\n",
    "df_jme.Snapshot(\"testTree\", \"testFile.root\", branchlist)"
   ]
  },
  {
   "cell_type": "code",
   "execution_count": null,
   "id": "cf3f7519-5861-46aa-b586-e2ff9cb4a51a",
   "metadata": {},
   "outputs": [],
   "source": [
    "#df_jme.Snapshot(\"testTree\", \"testFile.root\")"
   ]
  },
  {
   "cell_type": "code",
   "execution_count": 12,
   "id": "8379555a-e7a3-4a83-ab7c-58b3e50064c3",
   "metadata": {},
   "outputs": [
    {
     "ename": "NameError",
     "evalue": "name 'RDataFrame' is not defined",
     "output_type": "error",
     "traceback": [
      "\u001b[0;31m---------------------------------------------------------------------------\u001b[0m",
      "\u001b[0;31mNameError\u001b[0m                                 Traceback (most recent call last)",
      "Input \u001b[0;32mIn [12]\u001b[0m, in \u001b[0;36m<module>\u001b[0;34m\u001b[0m\n\u001b[0;32m----> 1\u001b[0m df_test \u001b[38;5;241m=\u001b[39m  \u001b[43mRDataFrame\u001b[49m(\u001b[38;5;124m\"\u001b[39m\u001b[38;5;124mtestTree\u001b[39m\u001b[38;5;124m\"\u001b[39m, \u001b[38;5;124m\"\u001b[39m\u001b[38;5;124mtestFile.root\u001b[39m\u001b[38;5;124m\"\u001b[39m)\n\u001b[1;32m      2\u001b[0m \u001b[38;5;66;03m#df_test.Display([\"ElectronSFs\", \"Electron_effSF\", \"MuonSFs\", \"Muon_effSF\"], nRows = 20).Print()\u001b[39;00m\n\u001b[1;32m      3\u001b[0m df_test\u001b[38;5;241m.\u001b[39mDisplay([\u001b[38;5;124m\"\u001b[39m\u001b[38;5;124mJet_pt\u001b[39m\u001b[38;5;124m\"\u001b[39m, \u001b[38;5;124m\"\u001b[39m\u001b[38;5;124mJet_eta\u001b[39m\u001b[38;5;124m\"\u001b[39m, \u001b[38;5;124m\"\u001b[39m\u001b[38;5;124mJet_hadronFlavour\u001b[39m\u001b[38;5;124m\"\u001b[39m, \u001b[38;5;124m\"\u001b[39m\u001b[38;5;124mJet_btagDeepFlavB\u001b[39m\u001b[38;5;124m\"\u001b[39m])\u001b[38;5;241m.\u001b[39mPrint()\n",
      "\u001b[0;31mNameError\u001b[0m: name 'RDataFrame' is not defined"
     ]
    }
   ],
   "source": [
    "df_test =  RDataFrame(\"testTree\", \"testFile.root\")\n",
    "#df_test.Display([\"ElectronSFs\", \"Electron_effSF\", \"MuonSFs\", \"Muon_effSF\"], nRows = 20).Print()\n",
    "df_test.Display([\"Jet_pt\", \"Jet_eta\", \"Jet_hadronFlavour\", \"Jet_btagDeepFlavB\"]).Print()"
   ]
  },
  {
   "cell_type": "code",
   "execution_count": null,
   "id": "219512e3-23d4-4845-84e1-649ae0312650",
   "metadata": {},
   "outputs": [],
   "source": [
    "#nevents = nevents_df.GetValue()\n",
    "#gen_weight = gen_weight_df.GetValue()"
   ]
  },
  {
   "cell_type": "code",
   "execution_count": 12,
   "id": "4b2f9275-c4bd-4f26-99ac-edbc2252c08e",
   "metadata": {},
   "outputs": [
    {
     "name": "stdout",
     "output_type": "stream",
     "text": [
      "+-----+----------------------+-------------------------+---------------------------+\n",
      "| Row | Jet_btagSF_deepjet_M | Jet_btagSF_deepjet_M_up | Jet_btagSF_deepjet_M_down | \n",
      "+-----+----------------------+-------------------------+---------------------------+\n",
      "| 0   | 1.25290f             | 1.42595f                | 1.07986f                  | \n",
      "|     | 1.26626f             | 1.43361f                | 1.09892f                  | \n",
      "|     | 1.26725f             | 1.41185f                | 1.12264f                  | \n",
      "|     | 1.21626f             | 1.34849f                | 1.08402f                  | \n",
      "+-----+----------------------+-------------------------+---------------------------+\n",
      "| 1   | 1.23244f             | 1.41206f                | 1.05283f                  | \n",
      "|     | 1.25493f             | 1.42721f                | 1.08264f                  | \n",
      "|     | 1.24183f             | 1.37911f                | 1.10455f                  | \n",
      "|     | 1.23765f             | 1.37402f                | 1.10129f                  | \n",
      "+-----+----------------------+-------------------------+---------------------------+\n",
      "| 2   | 1.25218f             | 1.42550f                | 1.07887f                  | \n",
      "|     | 1.26143f             | 1.43105f                | 1.09182f                  | \n",
      "|     | 1.26389f             | 1.43239f                | 1.09539f                  | \n",
      "|     | 1.27572f             | 1.43702f                | 1.11441f                  | \n",
      "|     | 1.15532f             | 1.40123f                | 0.909420f                 | \n",
      "+-----+----------------------+-------------------------+---------------------------+\n",
      "| 3   | 1.27761f             | 1.43696f                | 1.11826f                  | \n",
      "|     | 1.27943f             | 1.43440f                | 1.12445f                  | \n",
      "|     | 1.27901f             | 1.43195f                | 1.12606f                  | \n",
      "|     | 1.15532f             | 1.40123f                | 0.909420f                 | \n",
      "|     | 1.15532f             | 1.40123f                | 0.909420f                 | \n",
      "+-----+----------------------+-------------------------+---------------------------+\n",
      "| 4   | 1.27796f             | 1.43685f                | 1.11907f                  | \n",
      "|     | 1.27933f             | 1.43527f                | 1.12340f                  | \n",
      "|     | 0.926931f            | 0.952272f               | 0.901590f                 | \n",
      "|     | 0.941778f            | 1.02097f                | 0.862583f                 | \n",
      "|     | 1.15532f             | 1.40123f                | 0.909420f                 | \n",
      "+-----+----------------------+-------------------------+---------------------------+\n"
     ]
    }
   ],
   "source": [
    "%%capture\n",
    "import ROOT\n",
    "df_classic = ROOT.RDataFrame(\"Events\", \"https://ttedesch.web.cern.ch/ttedesch/testAF/VBS_SSWW_LL_SM_2017/tree_hadd_2.root\")\n",
    "#df_classic.Display([\"Jet_pt\", \"Jet_eta\", \"Jet_hadronFlavour\", \"Jet_btagDeepFlavB\",\"Jet_btagSF_deepjet_M\"], nRows = 5).Print()\n",
    "df_classic.Display([\"Jet_btagSF_deepjet_M\", \"Jet_btagSF_deepjet_M_up\", \"Jet_btagSF_deepjet_M_down\"], nRows = 5).Print()"
   ]
  },
  {
   "cell_type": "code",
   "execution_count": null,
   "id": "7cefd754-562f-479e-b417-b512f6e29a6b",
   "metadata": {},
   "outputs": [],
   "source": []
  },
  {
   "cell_type": "code",
   "execution_count": null,
   "id": "1fde9d6c-5f72-4f8c-b6d7-28156ad7d995",
   "metadata": {},
   "outputs": [],
   "source": []
  },
  {
   "cell_type": "code",
   "execution_count": null,
   "id": "a45f9b58-e933-408a-83ca-057ca23d803e",
   "metadata": {},
   "outputs": [],
   "source": []
  },
  {
   "cell_type": "code",
   "execution_count": 1,
   "id": "16dd74c0-f32a-40f5-b21d-734316689b33",
   "metadata": {},
   "outputs": [
    {
     "name": "stderr",
     "output_type": "stream",
     "text": [
      "Error in <TExMap::Add>: key 139851959278768 is not unique\n",
      "Error in <TExMap::Add>: key 139851959803600 is not unique\n"
     ]
    }
   ],
   "source": [
    "%%capture\n",
    "import ROOT\n",
    "from dask.distributed import Client"
   ]
  },
  {
   "cell_type": "code",
   "execution_count": 2,
   "id": "1f5984b0-ab2c-42e2-a6f9-24726ba60dbe",
   "metadata": {},
   "outputs": [],
   "source": [
    "sampleDict = {'WpWpJJ_EWK_2017': 0, 'WpWpJJ_QCD_2017': 1, 'VBS_SSWW_SM_2017': 2, 'VBS_SSWW_LL_SM_2017': 3, 'VBS_SSWW_TL_SM_2017': 4, 'VBS_SSWW_TT_SM_2017': 5, 'VBS_SSWW_cHW_2017': 6, 'VBS_SSWW_cHW_BSM_2017': 7, 'VBS_SSWW_cHW_INT_2017': 8, 'VBS_SSWW_cW_2017': 9, 'VBS_SSWW_cW_BSM_2017': 10, 'VBS_SSWW_cW_INT_2017': 11, 'VBS_SSWW_cW_cHW_2017': 12, 'VBS_SSWW_DIM6_2017': 13, 'VBS_SSWW_DIM6_SM_2017': 14, 'VBS_SSWW_cHW_SM_2017': 15, 'VBS_SSWW_cW_SM_2017': 16, 'VBS_SSWW_aQGC_2017': 17, 'VBS_SSWW_FS0_25_BSM_2017': 18, 'VBS_SSWW_FS0_25_INT_2017': 19, 'VBS_SSWW_FS0_25_SM_2017': 20, 'VBS_SSWW_FS0_25_2017': 21, 'VBS_SSWW_FS0_5_BSM_2017': 22, 'VBS_SSWW_FS0_5_INT_2017': 23, 'VBS_SSWW_FS0_5_SM_2017': 24, 'VBS_SSWW_FS0_5_2017': 25, 'VBS_SSWW_FS0_0_2017': 26, 'VBS_SSWW_FS1_50_BSM_2017': 27, 'VBS_SSWW_FS1_50_INT_2017': 28, 'VBS_SSWW_FS1_50_SM_2017': 29, 'VBS_SSWW_FS1_50_2017': 30, 'VBS_SSWW_FS1_10_BSM_2017': 31, 'VBS_SSWW_FS1_10_INT_2017': 32, 'VBS_SSWW_FS1_10_SM_2017': 33, 'VBS_SSWW_FS1_10_2017': 34, 'VBS_SSWW_FS1_0_2017': 35, 'VBS_SSWW_FM0_25_BSM_2017': 36, 'VBS_SSWW_FM0_25_INT_2017': 37, 'VBS_SSWW_FM0_25_SM_2017': 38, 'VBS_SSWW_FM0_25_2017': 39, 'VBS_SSWW_FM0_5_BSM_2017': 40, 'VBS_SSWW_FM0_5_INT_2017': 41, 'VBS_SSWW_FM0_5_SM_2017': 42, 'VBS_SSWW_FM0_5_2017': 43, 'VBS_SSWW_FM0_0_2017': 44, 'VBS_SSWW_FM1_25_BSM_2017': 45, 'VBS_SSWW_FM1_25_INT_2017': 46, 'VBS_SSWW_FM1_25_SM_2017': 47, 'VBS_SSWW_FM1_25_2017': 48, 'VBS_SSWW_FM1_5_BSM_2017': 49, 'VBS_SSWW_FM1_5_INT_2017': 50, 'VBS_SSWW_FM1_5_SM_2017': 51, 'VBS_SSWW_FM1_5_2017': 52, 'VBS_SSWW_FM1_0_2017': 53, 'VBS_SSWW_FM6_25_BSM_2017': 54, 'VBS_SSWW_FM6_25_INT_2017': 55, 'VBS_SSWW_FM6_25_SM_2017': 56, 'VBS_SSWW_FM6_25_2017': 57, 'VBS_SSWW_FM6_5_BSM_2017': 58, 'VBS_SSWW_FM6_5_INT_2017': 59, 'VBS_SSWW_FM6_5_SM_2017': 60, 'VBS_SSWW_FM6_5_2017': 61, 'VBS_SSWW_FM6_0_2017': 62, 'VBS_SSWW_FM7_50_BSM_2017': 63, 'VBS_SSWW_FM7_50_INT_2017': 64, 'VBS_SSWW_FM7_50_SM_2017': 65, 'VBS_SSWW_FM7_50_2017': 66, 'VBS_SSWW_FM7_10_BSM_2017': 67, 'VBS_SSWW_FM7_10_INT_2017': 68, 'VBS_SSWW_FM7_10_SM_2017': 69, 'VBS_SSWW_FM7_10_2017': 70, 'VBS_SSWW_FM7_0_2017': 71, 'VBS_SSWW_FT0_2p5_BSM_2017': 72, 'VBS_SSWW_FT0_2p5_INT_2017': 73, 'VBS_SSWW_FT0_2p5_SM_2017': 74, 'VBS_SSWW_FT0_2p5_2017': 75, 'VBS_SSWW_FT0_0p5_BSM_2017': 76, 'VBS_SSWW_FT0_0p5_INT_2017': 77, 'VBS_SSWW_FT0_0p5_SM_2017': 78, 'VBS_SSWW_FT0_0p5_2017': 79, 'VBS_SSWW_FT0_0_2017': 80, 'VBS_SSWW_FT1_1_BSM_2017': 81, 'VBS_SSWW_FT1_1_INT_2017': 82, 'VBS_SSWW_FT1_1_SM_2017': 83, 'VBS_SSWW_FT1_1_2017': 84, 'VBS_SSWW_FT1_0p2_BSM_2017': 85, 'VBS_SSWW_FT1_0p2_INT_2017': 86, 'VBS_SSWW_FT1_0p2_SM_2017': 87, 'VBS_SSWW_FT1_0p2_2017': 88, 'VBS_SSWW_FT1_0_2017': 89, 'VBS_SSWW_FT2_2p5_BSM_2017': 90, 'VBS_SSWW_FT2_2p5_INT_2017': 91, 'VBS_SSWW_FT2_2p5_SM_2017': 92, 'VBS_SSWW_FT2_2p5_2017': 93, 'VBS_SSWW_FT2_0p5_BSM_2017': 94, 'VBS_SSWW_FT2_0p5_INT_2017': 95, 'VBS_SSWW_FT2_0p5_SM_2017': 96, 'VBS_SSWW_FT2_0p5_2017': 97, 'VBS_SSWW_FT2_0_2017': 98, 'DHiggsToWW_2017': 99, 'sm_2017': 100, 'sm_lin_quad_cW_2017': 101, 'quad_cW_2017': 102, 'sm_lin_quad_cHW_2017': 103, 'quad_cHW_2017': 104, 'QCD_2017': 105, 'QCDHT_100to200_2017': 106, 'QCDHT_200to300_2017': 107, 'QCDHT_300to500_2017': 108, 'QCDHT_500to700_2017': 109, 'QCDHT_700to1000_2017': 110, 'QCDHT_1000to1500_2017': 111, 'QCDHT_1500to2000_2017': 112, 'QCDHT_2000toInf_2017': 113, 'ZZtoLep_2017': 114, 'ZZTo2L2Nu_2017': 115, 'ZZJJTo4L_EWK_2017': 116, 'ZZJJTo4L_QCD_2017': 117, 'GluGluToContinToZZTo2e2nu_2017': 118, 'GluGluToContinToZZTo2e2mu_2017': 119, 'GluGluToContinToZZTo2e2tau_2017': 120, 'GluGluToContinToZZTo2mu2nu_2017': 121, 'GluGluToContinToZZTo2mu2tau_2017': 122, 'GluGluToContinToZZTo4e_2017': 123, 'GluGluToContinToZZTo4mu_2017': 124, 'GluGluToContinToZZTo4tau_2017': 125, 'GluGluToContinToZZTo4L_2017': 126, 'TT_2017': 127, 'TT_SemiLep2017': 128, 'TT_Had_2017': 129, 'TTTo2L2Nu_2017': 130, 'TT_beff_2017': 131, 'WJets_2017': 132, 'WJetsHT70to100_2017': 133, 'WJetsHT100to200_2017': 134, 'WJetsHT200to400_2017': 135, 'WJetsHT400to600_2017': 136, 'WJetsHT600to800_2017': 137, 'WJetsHT800to1200_2017': 138, 'WJetsHT1200to2500_2017': 139, 'WJetsHT2500toInf_2017': 140, 'WJets_Fake_2017': 141, 'WJetsHT70to100_Fake_2017': 142, 'WJetsHT100to200_Fake_2017': 143, 'WJetsHT200to400_Fake_2017': 144, 'WJetsHT400to600_Fake_2017': 145, 'WJetsHT600to800_Fake_2017': 146, 'WJetsHT800to1200_Fake_2017': 147, 'WJetsHT1200to2500_Fake_2017': 148, 'WJetsHT2500toInf_Fake_2017': 149, 'DYJetsToLL_2017': 150, 'DY1JetsToLL_2017': 151, 'DY2JetsToLL_2017': 152, 'DY3JetsToLL_2017': 153, 'DY4JetsToLL_2017': 154, 'DYJetsToLLM5to50_2017': 155, 'DYJetsToLL_Fake_2017': 156, 'DY1JetsToLL_Fake_2017': 157, 'DY2JetsToLL_Fake_2017': 158, 'DY3JetsToLL_Fake_2017': 159, 'DY4JetsToLL_Fake_2017': 160, 'VG_2017': 161, 'ZG_2017': 162, 'WG_2017': 163, 'TVX_2017': 164, 'TTGJets_2017': 165, 'TTZToQQ_2017': 166, 'TTZToLLNuNu_2017': 167, 'TTWJetsToQQ_2017': 168, 'TTWJetsToLNu_2017': 169, 'tZq_ll_4f_2017': 170, 'WrongSign_2017': 171, 'WWto2L2Nu_2017': 172, 'GluGluToWWToENuENu_2017': 173, 'GluGluToWWToENuMNu2017': 174, 'GluGluToWWToENuTNu2017': 175, 'GluGluToWWToMNuENu_2017': 176, 'GluGluToWWToMNuMNu2017': 177, 'GluGluToWWToMNuTNu2017': 178, 'GluGluToWWToTNuENu_2017': 179, 'GluGluToWWToTNuMNu2017': 180, 'GluGluToWWToTNuTNu2017': 181, 'STtW_top_2017': 182, 'GluGluHToWWTo2L2Nu_2017': 183, 'GluGluHToZZTo2L2Q_2017': 184, 'GluGluHToZZTo4L_2017': 185, 'GluGluHToTauTau_2017': 186, 'VBFHToWWTo2L2Nu_2017': 187, 'VBFHToTauTau_2017': 188, 'ttHToNonbb_2017': 189, 'VHToNonbb_2017': 190, 'OtherWS_2017': 191, 'Other_2017': 192, 'WWTo2L2Nu_DoubleScattering_2017': 193, 'WWW_4F_2017': 194, 'WWZTo3L1Nu2Q_2017': 195, 'WZZ_2017': 196, 'ZZZ_2017': 197, 'WWG_2017': 198, 'WZ_2017': 199, 'FakeMu_2017': 200, 'DataMu_2017': 201, 'DataMuB_2017': 202, 'DataMuC_2017': 203, 'DataMuD_2017': 204, 'DataMuE_2017': 205, 'DataMuF_2017': 206, 'DataMuFake_2017': 207, 'FakeEle_2017': 208, 'FakeMuPromptTau_2017': 209, 'PromptMuFakeTau_2017': 210, 'FakeMuFakeTau_2017': 211, 'DataEle_2017': 212, 'DataEleB_2017': 213, 'DataEleC_2017': 214, 'DataEleD_2017': 215, 'DataEleE_2017': 216, 'DataEleF_2017': 217, 'DataEleFake_2017': 218, 'MCFake_2017': 219, 'FakeElePromptTau_2017': 220, 'PromptEleFakeTau_2017': 221, 'FakeEleFakeTau_2017': 222, 'DataEleMu_2017': 223, 'FakeEleMu_2017': 224, 'DataTau_2017': 225, 'DataTauB_2017': 226, 'DataTauC_2017': 227, 'DataTauD_2017': 228, 'DataTauE_2017': 229, 'DataTauF_2017': 230, 'DataTauFake_2017': 231, 'DataHT_2017': 232, 'DataHTnoB_2017': 233, 'DataHTB_2017': 234, 'DataHTC_2017': 235, 'DataHTD_2017': 236, 'DataHTE_2017': 237, 'DataHTF_2017': 238, 'DataMET_2017': 239, 'DataMETB_2017': 240, 'DataMETC_2017': 241, 'DataMETD_2017': 242, 'DataMETE_2017': 243, 'DataMETF_2017': 244, 'SampleEleFake_2017': 245, 'SampleMuFake_2017': 246, 'SampleHTFake_2017': 247, 'SampleHTFakepart_2017': 248, 'WpWpJJ_EWK_2018': 249, 'WpWpJJ_QCD_2018': 250, 'VBS_SSWW_SM_2018': 251, 'VBS_SSWW_LL_SM_2018': 252, 'VBS_SSWW_TL_SM_2018': 253, 'VBS_SSWW_TT_SM_2018': 254, 'VBS_SSWW_cHW_2018': 255, 'VBS_SSWW_cHW_BSM_2018': 256, 'VBS_SSWW_cHW_INT_2018': 257, 'VBS_SSWW_cW_2018': 258, 'VBS_SSWW_cW_BSM_2018': 259, 'VBS_SSWW_cW_INT_2018': 260, 'VBS_SSWW_cW_cHW_2018': 261, 'VBS_SSWW_DIM6_2018': 262, 'VBS_SSWW_DIM6_SM_2018': 263, 'VBS_SSWW_cHW_SM_2018': 264, 'VBS_SSWW_cW_SM_2018': 265, 'VBS_SSWW_aQGC_2018': 266, 'VBS_SSWW_FS0_25_BSM_2018': 267, 'VBS_SSWW_FS0_25_INT_2018': 268, 'VBS_SSWW_FS0_25_SM_2018': 269, 'VBS_SSWW_FS0_25_2018': 270, 'VBS_SSWW_FS0_5_BSM_2018': 271, 'VBS_SSWW_FS0_5_INT_2018': 272, 'VBS_SSWW_FS0_5_SM_2018': 273, 'VBS_SSWW_FS0_5_2018': 274, 'VBS_SSWW_FS0_0_2018': 275, 'VBS_SSWW_FS1_50_BSM_2018': 276, 'VBS_SSWW_FS1_50_INT_2018': 277, 'VBS_SSWW_FS1_50_SM_2018': 278, 'VBS_SSWW_FS1_50_2018': 279, 'VBS_SSWW_FS1_10_BSM_2018': 280, 'VBS_SSWW_FS1_10_INT_2018': 281, 'VBS_SSWW_FS1_10_SM_2018': 282, 'VBS_SSWW_FS1_10_2018': 283, 'VBS_SSWW_FS1_0_2018': 284, 'VBS_SSWW_FM0_25_BSM_2018': 285, 'VBS_SSWW_FM0_25_INT_2018': 286, 'VBS_SSWW_FM0_25_SM_2018': 287, 'VBS_SSWW_FM0_25_2018': 288, 'VBS_SSWW_FM0_5_BSM_2018': 289, 'VBS_SSWW_FM0_5_INT_2018': 290, 'VBS_SSWW_FM0_5_SM_2018': 291, 'VBS_SSWW_FM0_5_2018': 292, 'VBS_SSWW_FM0_0_2018': 293, 'VBS_SSWW_FM1_25_BSM_2018': 294, 'VBS_SSWW_FM1_25_INT_2018': 295, 'VBS_SSWW_FM1_25_SM_2018': 296, 'VBS_SSWW_FM1_25_2018': 297, 'VBS_SSWW_FM1_5_BSM_2018': 298, 'VBS_SSWW_FM1_5_INT_2018': 299, 'VBS_SSWW_FM1_5_SM_2018': 300, 'VBS_SSWW_FM1_5_2018': 301, 'VBS_SSWW_FM1_0_2018': 302, 'VBS_SSWW_FM6_25_BSM_2018': 303, 'VBS_SSWW_FM6_25_INT_2018': 304, 'VBS_SSWW_FM6_25_SM_2018': 305, 'VBS_SSWW_FM6_25_2018': 306, 'VBS_SSWW_FM6_5_BSM_2018': 307, 'VBS_SSWW_FM6_5_INT_2018': 308, 'VBS_SSWW_FM6_5_SM_2018': 309, 'VBS_SSWW_FM6_5_2018': 310, 'VBS_SSWW_FM6_0_2018': 311, 'VBS_SSWW_FM7_50_BSM_2018': 312, 'VBS_SSWW_FM7_50_INT_2018': 313, 'VBS_SSWW_FM7_50_SM_2018': 314, 'VBS_SSWW_FM7_50_2018': 315, 'VBS_SSWW_FM7_10_BSM_2018': 316, 'VBS_SSWW_FM7_10_INT_2018': 317, 'VBS_SSWW_FM7_10_SM_2018': 318, 'VBS_SSWW_FM7_10_2018': 319, 'VBS_SSWW_FM7_0_2018': 320, 'VBS_SSWW_FT0_2p5_BSM_2018': 321, 'VBS_SSWW_FT0_2p5_INT_2018': 322, 'VBS_SSWW_FT0_2p5_SM_2018': 323, 'VBS_SSWW_FT0_2p5_2018': 324, 'VBS_SSWW_FT0_0p5_BSM_2018': 325, 'VBS_SSWW_FT0_0p5_INT_2018': 326, 'VBS_SSWW_FT0_0p5_SM_2018': 327, 'VBS_SSWW_FT0_0p5_2018': 328, 'VBS_SSWW_FT0_0_2018': 329, 'VBS_SSWW_FT1_1_BSM_2018': 330, 'VBS_SSWW_FT1_1_INT_2018': 331, 'VBS_SSWW_FT1_1_SM_2018': 332, 'VBS_SSWW_FT1_1_2018': 333, 'VBS_SSWW_FT1_0p2_BSM_2018': 334, 'VBS_SSWW_FT1_0p2_INT_2018': 335, 'VBS_SSWW_FT1_0p2_SM_2018': 336, 'VBS_SSWW_FT1_0p2_2018': 337, 'VBS_SSWW_FT1_0_2018': 338, 'VBS_SSWW_FT2_2p5_BSM_2018': 339, 'VBS_SSWW_FT2_2p5_INT_2018': 340, 'VBS_SSWW_FT2_2p5_SM_2018': 341, 'VBS_SSWW_FT2_2p5_2018': 342, 'VBS_SSWW_FT2_0p5_BSM_2018': 343, 'VBS_SSWW_FT2_0p5_INT_2018': 344, 'VBS_SSWW_FT2_0p5_SM_2018': 345, 'VBS_SSWW_FT2_0p5_2018': 346, 'VBS_SSWW_FT2_0_2018': 347, 'DHiggsToWW_2018': 348, 'sm_2018': 349, 'sm_lin_quad_cW_2018': 350, 'quad_cW_2018': 351, 'sm_lin_quad_cHW_2018': 352, 'quad_cHW_2018': 353, 'QCD_2018': 354, 'QCDHT_100to200_2018': 355, 'QCDHT_200to300_2018': 356, 'QCDHT_300to500_2018': 357, 'QCDHT_500to700_2018': 358, 'QCDHT_700to1000_2018': 359, 'QCDHT_1000to1500_2018': 360, 'QCDHT_1500to2000_2018': 361, 'QCDHT_2000toInf_2018': 362, 'ZZtoLep_2018': 363, 'ZZTo2L2Nu_2018': 364, 'ZZJJTo4L_EWK_2018': 365, 'ZZJJTo4L_QCD_2018': 366, 'GluGluToContinToZZTo2e2nu_2018': 367, 'GluGluToContinToZZTo2e2mu_2018': 368, 'GluGluToContinToZZTo2e2tau_2018': 369, 'GluGluToContinToZZTo2mu2nu_2018': 370, 'GluGluToContinToZZTo2mu2tau_2018': 371, 'GluGluToContinToZZTo4e_2018': 372, 'GluGluToContinToZZTo4mu_2018': 373, 'GluGluToContinToZZTo4tau_2018': 374, 'GluGluToContinToZZTo4L_2018': 375, 'TT_2018': 376, 'TT_SemiLep_2018': 377, 'TT_Had_2018': 378, 'WJets_2018': 379, 'WJetsHT70to100_2018': 380, 'WJetsHT100to200_2018': 381, 'WJetsHT200to400_2018': 382, 'WJetsHT400to600_2018': 383, 'WJetsHT600to800_2018': 384, 'WJetsHT800to1200_2018': 385, 'WJetsHT1200to2500_2018': 386, 'WJetsHT2500toInf_2018': 387, 'DYJetsToLL_2018': 388, 'DY1JetsToLL_2018': 389, 'DY2JetsToLL_2018': 390, 'DY3JetsToLL_2018': 391, 'DY4JetsToLL_2018': 392, 'SampleHTFake_2018': 393, 'VG_2018': 394, 'ZG_2018': 395, 'WG_2018': 396, 'TVX_2018': 397, 'TTGJets_2018': 398, 'TTZToQQ_2018': 399, 'TTZToLLNuNu_2018': 400, 'TTWJetsToQQ_2018': 401, 'TTWJetsToLNu_2018': 402, 'tZq_ll_4f_2018': 403, 'WrongSign_2018': 404, 'WWto2L2Nu_2018': 405, 'GluGluToWWToENuENu_2018': 406, 'GluGluToWWToMNuENu_2018': 407, 'GluGluToWWToTNuENu_2018': 408, 'STtW_top_2018': 409, 'GluGluHToWWTo2L2Nu_2018': 410, 'GluGluHToZZTo2L2Q_2018': 411, 'GluGluHToZZTo4L_2018': 412, 'GluGluHToTauTau_2018': 413, 'VBFHToWWTo2L2Nu_2018': 414, 'VBFHToTauTau_2018': 415, 'ttHToNonbb_2018': 416, 'VHToNonbb_2018': 417, 'OtherWS_2018': 418, 'Other_2018': 419, 'WWTo2L2Nu_DoubleScattering_2018': 420, 'WWW_4F_2018': 421, 'WWZTo3L1Nu2Q_2018': 422, 'WZZ_2018': 423, 'ZZZ_2018': 424, 'WWG_2018': 425, 'TTTo2L2Nu_2018': 426, 'WZ_2018': 427, 'FakeMu_2018': 428, 'DataMu_2018': 429, 'DataMuA_2018': 430, 'DataMuB_2018': 431, 'DataMuC_2018': 432, 'DataMuD_2018': 433, 'FakeEle_2018': 434, 'FakeMuPromptTau_2018': 435, 'PromptMuFakeTau_2018': 436, 'FakeMuFakeTau_2018': 437, 'DataEle_2018': 438, 'DataEleA_2018': 439, 'DataEleB_2018': 440, 'DataEleC_2018': 441, 'DataEleD_2018': 442, 'FakeElePromptTau_2018': 443, 'PromptEleFakeTau_2018': 444, 'FakeEleFakeTau_2018': 445, 'DataHT_2018': 446, 'DataHTA_2018': 447, 'DataHTB_2018': 448, 'DataHTC_2018': 449, 'DataHTD_2018': 450}"
   ]
  },
  {
   "cell_type": "code",
   "execution_count": 3,
   "id": "2d6b0034-ff8d-48b6-baed-f8938d27d87e",
   "metadata": {},
   "outputs": [
    {
     "name": "stderr",
     "output_type": "stream",
     "text": [
      "/opt/conda/lib/python3.9/site-packages/distributed/client.py:1128: VersionMismatchWarning: Mismatched versions found\n",
      "\n",
      "+---------+--------+-----------+---------+\n",
      "| Package | client | scheduler | workers |\n",
      "+---------+--------+-----------+---------+\n",
      "| numpy   | 1.20.3 | 1.21.2    | 1.21.2  |\n",
      "+---------+--------+-----------+---------+\n",
      "  warnings.warn(version_module.VersionMismatchWarning(msg[0][\"warning\"]))\n"
     ]
    }
   ],
   "source": [
    "RDataFrame = ROOT.RDF.Experimental.Distributed.Dask.RDataFrame\n",
    "client = Client(address=\"tcp://127.0.0.1:23708\")\n",
    "\n",
    "chain = ['https://ttedesch.web.cern.ch/ttedesch/testAF/VBS_SSWW_LL_SM_2017/tree_hadd_2.root', ##sample 3\n",
    "         'https://ttedesch.web.cern.ch/ttedesch/testAF/ZZZ_2017/tree_hadd_1.root',  ###sample 197\n",
    "        ]\n",
    "df = ROOT.RDataFrame(\"Events\", chain) \n",
    "df = ROOT.RDF.Experimental.Distributed.Dask.RDataFrame(\"Events\", chain, npartitions=10, daskclient=client)\n",
    "\n",
    "nEvents = {}\n",
    "\n",
    "df_dummy = df.Define(\"dummy\", \"1\")\n",
    "\n",
    "for k,v in sampleDict.items():\n",
    "    if v == 3 or v==197:\n",
    "        #nEvents[v] = df.Filter(\"Sample == {}\".format(v)).Count()\n",
    "        nEvents[v] = df_dummy.Filter(\"Sample == {}\".format(v)).Sum(\"dummy\")"
   ]
  },
  {
   "cell_type": "code",
   "execution_count": 4,
   "id": "7988bfdf-a589-4614-a4d9-329f07416840",
   "metadata": {},
   "outputs": [
    {
     "name": "stderr",
     "output_type": "stream",
     "text": [
      "/cvmfs/cms.dodas.infn.it/miniconda3/envs/cms-dodas/lib/root/DistRDF/Backends/Base.py:138: UserWarning: Number of partitions is greater than number of clusters in the dataset. Using 4 partition(s)\n",
      "  ranges = headnode.build_clustered_ranges()\n"
     ]
    },
    {
     "name": "stdout",
     "output_type": "stream",
     "text": [
      "CPU times: user 1.77 s, sys: 224 ms, total: 2 s\n",
      "Wall time: 14.9 s\n"
     ]
    },
    {
     "data": {
      "text/plain": [
       "2205.0"
      ]
     },
     "execution_count": 4,
     "metadata": {},
     "output_type": "execute_result"
    },
    {
     "name": "stderr",
     "output_type": "stream",
     "text": [
      "Warning in <TClass::Init>: no dictionary for class edm::Hash<1> is available\n",
      "Warning in <TClass::Init>: no dictionary for class edm::ProcessHistory is available\n",
      "Warning in <TClass::Init>: no dictionary for class edm::ProcessConfiguration is available\n",
      "Warning in <TClass::Init>: no dictionary for class edm::ParameterSetBlob is available\n",
      "Warning in <TClass::Init>: no dictionary for class pair<edm::Hash<1>,edm::ParameterSetBlob> is available\n"
     ]
    }
   ],
   "source": [
    "%%time\n",
    "nEvents[3].GetValue()"
   ]
  },
  {
   "cell_type": "code",
   "execution_count": 5,
   "id": "95dd3b1a-9029-4bc5-ab66-95907e4a3a5e",
   "metadata": {},
   "outputs": [
    {
     "name": "stdout",
     "output_type": "stream",
     "text": [
      "CPU times: user 101 µs, sys: 31 µs, total: 132 µs\n",
      "Wall time: 144 µs\n"
     ]
    },
    {
     "data": {
      "text/plain": [
       "7262.0"
      ]
     },
     "execution_count": 5,
     "metadata": {},
     "output_type": "execute_result"
    }
   ],
   "source": [
    "%%time\n",
    "nEvents[197].GetValue()"
   ]
  },
  {
   "cell_type": "code",
   "execution_count": 7,
   "id": "0f8fda2c-96d0-46f5-9094-9e354cc9f679",
   "metadata": {},
   "outputs": [
    {
     "ename": "KeyError",
     "evalue": "400",
     "output_type": "error",
     "traceback": [
      "\u001b[0;31m---------------------------------------------------------------------------\u001b[0m",
      "\u001b[0;31mKeyError\u001b[0m                                  Traceback (most recent call last)",
      "File \u001b[0;32m<timed eval>:1\u001b[0m, in \u001b[0;36m<module>\u001b[0;34m\u001b[0m\n",
      "\u001b[0;31mKeyError\u001b[0m: 400"
     ]
    }
   ],
   "source": [
    "%%time\n",
    "nEvents[400].GetValue()"
   ]
  },
  {
   "cell_type": "code",
   "execution_count": 44,
   "id": "babebf08-f416-47e1-b98e-55289d23b26e",
   "metadata": {},
   "outputs": [
    {
     "ename": "NameError",
     "evalue": "name 'a' is not defined",
     "output_type": "error",
     "traceback": [
      "\u001b[0;31m---------------------------------------------------------------------------\u001b[0m",
      "\u001b[0;31mNameError\u001b[0m                                 Traceback (most recent call last)",
      "Input \u001b[0;32mIn [44]\u001b[0m, in \u001b[0;36m<module>\u001b[0;34m\u001b[0m\n\u001b[0;32m----> 1\u001b[0m \u001b[43ma\u001b[49m\n",
      "\u001b[0;31mNameError\u001b[0m: name 'a' is not defined"
     ]
    }
   ],
   "source": [
    "a"
   ]
  },
  {
   "cell_type": "code",
   "execution_count": null,
   "id": "9680cabf-168d-4fed-90b8-7a21f0023a53",
   "metadata": {},
   "outputs": [],
   "source": []
  }
 ],
 "metadata": {
  "kernelspec": {
   "display_name": "Python 3 (ipykernel)",
   "language": "python",
   "name": "python3"
  },
  "language_info": {
   "codemirror_mode": {
    "name": "ipython",
    "version": 3
   },
   "file_extension": ".py",
   "mimetype": "text/x-python",
   "name": "python",
   "nbconvert_exporter": "python",
   "pygments_lexer": "ipython3",
   "version": "3.9.7"
  }
 },
 "nbformat": 4,
 "nbformat_minor": 5
}
