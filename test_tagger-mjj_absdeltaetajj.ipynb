{
 "cells": [
  {
   "cell_type": "code",
   "execution_count": 1,
   "id": "f4e5e9b3-e823-401c-8c2a-1f9c55fceb88",
   "metadata": {},
   "outputs": [
    {
     "name": "stderr",
     "output_type": "stream",
     "text": [
      "Error in <TExMap::Add>: key 139970775489712 is not unique\n",
      "Error in <TExMap::Add>: key 139970776014544 is not unique\n",
      "In file included from input_line_44:1:\n",
      "./postselection.h:712:1: warning: control may reach end of non-void function [-Wreturn-type]\n",
      "}\n",
      "^\n"
     ]
    }
   ],
   "source": [
    "%%capture\n",
    "import ROOT\n",
    "import os\n",
    "\n",
    "ROOT.gInterpreter.Declare('#include \"postselection.h\"')"
   ]
  },
  {
   "cell_type": "code",
   "execution_count": 2,
   "id": "2f49eb92-7353-4514-8431-96cb5184da9c",
   "metadata": {},
   "outputs": [
    {
     "data": {
      "text/plain": [
       "True"
      ]
     },
     "execution_count": 2,
     "metadata": {},
     "output_type": "execute_result"
    }
   ],
   "source": [
    "#os.environ[\"X509_USER_PROXY\"] = \"/eos/home-t/ttedesch/SWAN_projects/RDataFrame_porting/proxy\"\n",
    "ROOT.gInterpreter.Declare(\n",
    "\"\"\"\n",
    "TMVA::Experimental::RBDT<> bdt_tagger(\"tagger\", \"https://ttedesch.web.cern.ch/ttedesch/VBSTagger_XGB.root\");\n",
    "TMVA::Experimental::RBDT<> bdt_tagger_mjj(\"tagger\", \"https://ttedesch.web.cern.ch/ttedesch/VBSTagger_XGB_mjj.root\");\n",
    "TMVA::Experimental::RBDT<> bdt_tagger_mjj_deltaetamjj(\"VBSTagger_XGB\", \"https://ttedesch.web.cern.ch/ttedesch/VBSTagger_XGB_mjj_absdeltaetajj.root\");\n",
    "TMVA::Experimental::RBDT<> bdt_tagger_mjj_deltaetamjj_new(\"VBSTagger_XGB\", \"https://ttedesch.web.cern.ch/ttedesch/VBSTagger_XGB_mjj_absdeltaetajj_new.root\");\n",
    "TMVA::Experimental::RBDT<> bdt_tagger_mjj_deltaetamjj_flavourmatching(\"VBSTagger_XGB\", \"https://ttedesch.web.cern.ch/ttedesch/VBSTagger_XGB_mjj_absdeltaetajj_flavourMatching.root\");\n",
    "TMVA::Experimental::RBDT<> bdt_tagger_mjj_deltaetamjj_flavourmatching_clean_fixed(\"VBSTagger_XGB\", \"https://ttedesch.web.cern.ch/ttedesch/VBSTagger_XGB_mjj_absdeltaetajj_flavourMatching_clean_fixed.root\");\n",
    "TMVA::Experimental::RBDT<> bdt_tagger_mjj_deltaetamjj_flavourmatching_clean_fixed_central(\"VBSTagger_XGB\", \"https://ttedesch.web.cern.ch/ttedesch/VBSTagger_XGB_mjj_absdeltaetajj_flavourMatching_clean_fixed_central.root\");\n",
    "\n",
    "\n",
    "RVec<size_t> SelectVBSJets_tagger(rvec_f pt, rvec_f eta, rvec_f phi, rvec_f mass, rvec_f Jet_area, rvec_f Jet_chHEF, rvec_f Jet_muEF, rvec_f Jet_neEmEF, rvec_f Jet_neHEF, rvec_f Jet_jetId, rvec_f Jet_nConstituents, rvec_f Jet_nElectrons, rvec_f Jet_nMuons, rvec_i GoodJets_idx)\n",
    "{\n",
    "\n",
    "    RVec<size_t> idx;\n",
    "    // Find first lepton pair with invariant mass closest to Z mass\n",
    "    auto idx_cmb = Combinations(GoodJets_idx, 2);\n",
    "    float best_score = -1.;\n",
    "    size_t best_i1 = 0; size_t best_i2 = 0;\n",
    "    for (size_t i = 0; i < idx_cmb[0].size(); i++) {\n",
    "        const auto i1 = idx_cmb[0][i];\n",
    "        const auto i2 = idx_cmb[1][i];\n",
    "        //std::cout<<GoodJets_idx[i1]<<GoodJets_idx[i2]<<endl;\n",
    "        ROOT::Math::PtEtaPhiMVector p1(pt[GoodJets_idx[i1]], eta[GoodJets_idx[i1]], phi[GoodJets_idx[i1]], mass[GoodJets_idx[i1]]);\n",
    "        ROOT::Math::PtEtaPhiMVector p2(pt[GoodJets_idx[i2]], eta[GoodJets_idx[i2]], phi[GoodJets_idx[i2]], mass[GoodJets_idx[i2]]);\n",
    "        const auto this_mass = (p1 + p2).M();\n",
    "        if (abs(eta[GoodJets_idx[i1]] - eta[GoodJets_idx[i2]]) >= DELTAETA_JJ_CUT && (p1 + p2).M() > 500) {\n",
    "            auto y = bdt_tagger.Compute({Jet_area[GoodJets_idx[i1]], Jet_chHEF[GoodJets_idx[i1]], Jet_muEF[GoodJets_idx[i1]], Jet_neEmEF[GoodJets_idx[i1]], Jet_neHEF[GoodJets_idx[i1]], Jet_jetId[GoodJets_idx[i1]], Jet_nConstituents[GoodJets_idx[i1]], Jet_nElectrons[GoodJets_idx[i1]], Jet_nMuons[GoodJets_idx[i1]], Jet_area[GoodJets_idx[i2]], Jet_chHEF[GoodJets_idx[i2]], Jet_muEF[GoodJets_idx[i2]], Jet_neEmEF[GoodJets_idx[i2]], Jet_neHEF[GoodJets_idx[i2]], Jet_jetId[GoodJets_idx[i2]], Jet_nConstituents[GoodJets_idx[i2]], Jet_nElectrons[GoodJets_idx[i2]], Jet_nMuons[GoodJets_idx[i2]]});\n",
    "            float this_score = y[0];\n",
    "            //cout<<\"this score: \"<<this_score<<endl;\n",
    "            //cout<<\"best score: \"<<best_score<<endl;\n",
    "            //cout<<endl;\n",
    "            if (this_score > best_score) {\n",
    "                best_score = this_score;\n",
    "                best_i1 = GoodJets_idx[i1];\n",
    "                best_i2 = GoodJets_idx[i2];\n",
    "            }\n",
    "        }\n",
    "    } \n",
    "    //cout<<\"best score of the event: \"<<best_score<<endl;\n",
    "    //cout<<endl;\n",
    "    //cout<<endl;\n",
    "    idx.emplace_back(best_i1);\n",
    "    idx.emplace_back(best_i2);\n",
    "    return idx;\n",
    "}\n",
    "\n",
    "RVec<size_t> SelectVBSJets_tagger_mjj(rvec_f pt, rvec_f eta, rvec_f phi, rvec_f mass, rvec_f Jet_area, rvec_f Jet_chHEF, rvec_f Jet_muEF, rvec_f Jet_neEmEF, rvec_f Jet_neHEF, rvec_f Jet_jetId, rvec_f Jet_nConstituents, rvec_f Jet_nElectrons, rvec_f Jet_nMuons, rvec_i GoodJets_idx)\n",
    "{\n",
    "\n",
    "    RVec<size_t> idx;\n",
    "    // Find first lepton pair with invariant mass closest to Z mass\n",
    "    auto idx_cmb = Combinations(GoodJets_idx, 2);\n",
    "    float best_score = -1.;\n",
    "    size_t best_i1 = 0; size_t best_i2 = 0;\n",
    "    for (size_t i = 0; i < idx_cmb[0].size(); i++) {\n",
    "        const auto i1 = idx_cmb[0][i];\n",
    "        const auto i2 = idx_cmb[1][i];\n",
    "        //std::cout<<GoodJets_idx[i1]<<GoodJets_idx[i2]<<endl;\n",
    "        ROOT::Math::PtEtaPhiMVector p1(pt[GoodJets_idx[i1]], eta[GoodJets_idx[i1]], phi[GoodJets_idx[i1]], mass[GoodJets_idx[i1]]);\n",
    "        ROOT::Math::PtEtaPhiMVector p2(pt[GoodJets_idx[i2]], eta[GoodJets_idx[i2]], phi[GoodJets_idx[i2]], mass[GoodJets_idx[i2]]);\n",
    "        const float this_mass = (p1 + p2).M();\n",
    "        if (abs(eta[GoodJets_idx[i1]] - eta[GoodJets_idx[i2]]) >= DELTAETA_JJ_CUT && (p1 + p2).M() > 500) {\n",
    "            auto y = bdt_tagger_mjj.Compute({Jet_area[GoodJets_idx[i1]], Jet_chHEF[GoodJets_idx[i1]], Jet_muEF[GoodJets_idx[i1]], Jet_neEmEF[GoodJets_idx[i1]], Jet_neHEF[GoodJets_idx[i1]], Jet_jetId[GoodJets_idx[i1]], Jet_nConstituents[GoodJets_idx[i1]], Jet_nElectrons[GoodJets_idx[i1]], Jet_nMuons[GoodJets_idx[i1]], Jet_area[GoodJets_idx[i2]], Jet_chHEF[GoodJets_idx[i2]], Jet_muEF[GoodJets_idx[i2]], Jet_neEmEF[GoodJets_idx[i2]], Jet_neHEF[GoodJets_idx[i2]], Jet_jetId[GoodJets_idx[i2]], Jet_nConstituents[GoodJets_idx[i2]], Jet_nElectrons[GoodJets_idx[i2]], Jet_nMuons[GoodJets_idx[i2]], this_mass});\n",
    "            float this_score = y[0];\n",
    "            //cout<<\"this score: \"<<this_score<<endl;\n",
    "            //cout<<\"best score: \"<<best_score<<endl;\n",
    "            //cout<<endl;\n",
    "            if (this_score > best_score) {\n",
    "                best_score = this_score;\n",
    "                best_i1 = GoodJets_idx[i1];\n",
    "                best_i2 = GoodJets_idx[i2];\n",
    "            }\n",
    "        }\n",
    "    } \n",
    "    //cout<<\"best score of the event: \"<<best_score<<endl;\n",
    "    //cout<<endl;\n",
    "    //cout<<endl;\n",
    "    idx.emplace_back(best_i1);\n",
    "    idx.emplace_back(best_i2);\n",
    "    return idx;\n",
    "}\n",
    "\n",
    "RVec<size_t> SelectVBSJets_tagger_mjj_absdeltaetajj(rvec_f pt, rvec_f eta, rvec_f phi, rvec_f mass, rvec_f Jet_area, rvec_f Jet_chHEF, rvec_f Jet_muEF, rvec_f Jet_neEmEF, rvec_f Jet_neHEF, rvec_f Jet_jetId, rvec_f Jet_nConstituents, rvec_f Jet_nElectrons, rvec_f Jet_nMuons, rvec_i GoodJets_idx)\n",
    "{\n",
    "\n",
    "    RVec<size_t> idx;\n",
    "    // Find first lepton pair with invariant mass closest to Z mass\n",
    "    auto idx_cmb = Combinations(GoodJets_idx, 2);\n",
    "    float best_score = -1.;\n",
    "    size_t best_i1 = 0; size_t best_i2 = 0;\n",
    "    for (size_t i = 0; i < idx_cmb[0].size(); i++) {\n",
    "        const auto i1 = idx_cmb[0][i];\n",
    "        const auto i2 = idx_cmb[1][i];\n",
    "        //std::cout<<GoodJets_idx[i1]<<GoodJets_idx[i2]<<endl;\n",
    "        ROOT::Math::PtEtaPhiMVector p1(pt[GoodJets_idx[i1]], eta[GoodJets_idx[i1]], phi[GoodJets_idx[i1]], mass[GoodJets_idx[i1]]);\n",
    "        ROOT::Math::PtEtaPhiMVector p2(pt[GoodJets_idx[i2]], eta[GoodJets_idx[i2]], phi[GoodJets_idx[i2]], mass[GoodJets_idx[i2]]);\n",
    "        const float this_mass = (p1 + p2).M();\n",
    "        if (abs(eta[GoodJets_idx[i1]] - eta[GoodJets_idx[i2]]) >= DELTAETA_JJ_CUT && (p1 + p2).M() > 500) {\n",
    "            auto y = bdt_tagger_mjj_deltaetamjj.Compute({pt[GoodJets_idx[i1]], eta[GoodJets_idx[i1]], phi[GoodJets_idx[i1]], mass[GoodJets_idx[i1]], Jet_area[GoodJets_idx[i1]], Jet_chHEF[GoodJets_idx[i1]], Jet_muEF[GoodJets_idx[i1]], Jet_neEmEF[GoodJets_idx[i1]], Jet_neHEF[GoodJets_idx[i1]], Jet_jetId[GoodJets_idx[i1]], Jet_nConstituents[GoodJets_idx[i1]], Jet_nElectrons[GoodJets_idx[i1]], Jet_nMuons[GoodJets_idx[i1]], pt[GoodJets_idx[i2]], eta[GoodJets_idx[i2]], phi[GoodJets_idx[i2]], mass[GoodJets_idx[i2]], Jet_area[GoodJets_idx[i2]], Jet_chHEF[GoodJets_idx[i2]], Jet_muEF[GoodJets_idx[i2]], Jet_neEmEF[GoodJets_idx[i2]], Jet_neHEF[GoodJets_idx[i2]], Jet_jetId[GoodJets_idx[i2]], Jet_nConstituents[GoodJets_idx[i2]], Jet_nElectrons[GoodJets_idx[i2]], Jet_nMuons[GoodJets_idx[i2]], abs(eta[GoodJets_idx[i1]] - eta[GoodJets_idx[i2]]),  this_mass});\n",
    "            float this_score = y[0];\n",
    "            //cout<<\"this score: \"<<this_score<<endl;\n",
    "            //cout<<\"best score: \"<<best_score<<endl;\n",
    "            //cout<<endl;\n",
    "            if (this_score > best_score) {\n",
    "                best_score = this_score;\n",
    "                best_i1 = GoodJets_idx[i1];\n",
    "                best_i2 = GoodJets_idx[i2];\n",
    "            }\n",
    "        }\n",
    "    } \n",
    "    //cout<<\"best score of the event: \"<<best_score<<endl;\n",
    "    //cout<<endl;\n",
    "    //cout<<endl;\n",
    "    idx.emplace_back(best_i1);\n",
    "    idx.emplace_back(best_i2);\n",
    "    return idx;\n",
    "}\n",
    "\n",
    "RVec<size_t> SelectVBSJets_tagger_mjj_absdeltaetajj_new(rvec_f pt, rvec_f eta, rvec_f phi, rvec_f mass, rvec_f Jet_area, rvec_f Jet_chHEF, rvec_f Jet_muEF, rvec_f Jet_neEmEF, rvec_f Jet_neHEF, rvec_f Jet_jetId, rvec_f Jet_nConstituents, rvec_f Jet_nElectrons, rvec_f Jet_nMuons, rvec_i GoodJets_idx)\n",
    "{\n",
    "\n",
    "    RVec<size_t> idx;\n",
    "    // Find first lepton pair with invariant mass closest to Z mass\n",
    "    auto idx_cmb = Combinations(GoodJets_idx, 2);\n",
    "    float best_score = -1.;\n",
    "    size_t best_i1 = 0; size_t best_i2 = 0;\n",
    "    for (size_t i = 0; i < idx_cmb[0].size(); i++) {\n",
    "        const auto i1 = idx_cmb[0][i];\n",
    "        const auto i2 = idx_cmb[1][i];\n",
    "        //std::cout<<GoodJets_idx[i1]<<GoodJets_idx[i2]<<endl;\n",
    "        ROOT::Math::PtEtaPhiMVector p1(pt[GoodJets_idx[i1]], eta[GoodJets_idx[i1]], phi[GoodJets_idx[i1]], mass[GoodJets_idx[i1]]);\n",
    "        ROOT::Math::PtEtaPhiMVector p2(pt[GoodJets_idx[i2]], eta[GoodJets_idx[i2]], phi[GoodJets_idx[i2]], mass[GoodJets_idx[i2]]);\n",
    "        const float this_mass = (p1 + p2).M();\n",
    "        if (abs(eta[GoodJets_idx[i1]] - eta[GoodJets_idx[i2]]) >= DELTAETA_JJ_CUT && (p1 + p2).M() > 500) {\n",
    "            auto y = bdt_tagger_mjj_deltaetamjj_new.Compute({pt[GoodJets_idx[i1]], eta[GoodJets_idx[i1]], phi[GoodJets_idx[i1]], mass[GoodJets_idx[i1]], Jet_area[GoodJets_idx[i1]], Jet_chHEF[GoodJets_idx[i1]], Jet_muEF[GoodJets_idx[i1]], Jet_neEmEF[GoodJets_idx[i1]], Jet_neHEF[GoodJets_idx[i1]], Jet_jetId[GoodJets_idx[i1]], Jet_nConstituents[GoodJets_idx[i1]], Jet_nElectrons[GoodJets_idx[i1]], Jet_nMuons[GoodJets_idx[i1]], pt[GoodJets_idx[i2]], eta[GoodJets_idx[i2]], phi[GoodJets_idx[i2]], mass[GoodJets_idx[i2]], Jet_area[GoodJets_idx[i2]], Jet_chHEF[GoodJets_idx[i2]], Jet_muEF[GoodJets_idx[i2]], Jet_neEmEF[GoodJets_idx[i2]], Jet_neHEF[GoodJets_idx[i2]], Jet_jetId[GoodJets_idx[i2]], Jet_nConstituents[GoodJets_idx[i2]], Jet_nElectrons[GoodJets_idx[i2]], Jet_nMuons[GoodJets_idx[i2]], abs(eta[GoodJets_idx[i1]] - eta[GoodJets_idx[i2]]),  this_mass});\n",
    "            float this_score = y[0];\n",
    "            //cout<<\"this score: \"<<this_score<<endl;\n",
    "            //cout<<\"best score: \"<<best_score<<endl;\n",
    "            //cout<<endl;\n",
    "            if (this_score > best_score) {\n",
    "                best_score = this_score;\n",
    "                best_i1 = GoodJets_idx[i1];\n",
    "                best_i2 = GoodJets_idx[i2];\n",
    "            }\n",
    "        }\n",
    "    } \n",
    "    //cout<<\"best score of the event: \"<<best_score<<endl;\n",
    "    //cout<<endl;\n",
    "    //cout<<endl;\n",
    "    idx.emplace_back(best_i1);\n",
    "    idx.emplace_back(best_i2);\n",
    "    return idx;\n",
    "}\n",
    "\n",
    "RVec<size_t> SelectVBSJets_tagger_mjj_absdeltaetajj_flavourmatching(rvec_f pt, rvec_f eta, rvec_f phi, rvec_f mass, rvec_f Jet_area, rvec_f Jet_chHEF, rvec_f Jet_muEF, rvec_f Jet_neEmEF, rvec_f Jet_neHEF, rvec_f Jet_jetId, rvec_f Jet_nConstituents, rvec_f Jet_nElectrons, rvec_f Jet_nMuons, rvec_i GoodJets_idx)\n",
    "{\n",
    "\n",
    "    RVec<size_t> idx;\n",
    "    // Find first lepton pair with invariant mass closest to Z mass\n",
    "    auto idx_cmb = Combinations(GoodJets_idx, 2);\n",
    "    float best_score = -1.;\n",
    "    size_t best_i1 = 0; size_t best_i2 = 0;\n",
    "    for (size_t i = 0; i < idx_cmb[0].size(); i++) {\n",
    "        const auto i1 = idx_cmb[0][i];\n",
    "        const auto i2 = idx_cmb[1][i];\n",
    "        //std::cout<<GoodJets_idx[i1]<<GoodJets_idx[i2]<<endl;\n",
    "        ROOT::Math::PtEtaPhiMVector p1(pt[GoodJets_idx[i1]], eta[GoodJets_idx[i1]], phi[GoodJets_idx[i1]], mass[GoodJets_idx[i1]]);\n",
    "        ROOT::Math::PtEtaPhiMVector p2(pt[GoodJets_idx[i2]], eta[GoodJets_idx[i2]], phi[GoodJets_idx[i2]], mass[GoodJets_idx[i2]]);\n",
    "        const float this_mass = (p1 + p2).M();\n",
    "        if (abs(eta[GoodJets_idx[i1]] - eta[GoodJets_idx[i2]]) >= DELTAETA_JJ_CUT && (p1 + p2).M() > 500) {\n",
    "            auto y = bdt_tagger_mjj_deltaetamjj_flavourmatching.Compute({pt[GoodJets_idx[i1]], eta[GoodJets_idx[i1]], phi[GoodJets_idx[i1]], mass[GoodJets_idx[i1]], Jet_area[GoodJets_idx[i1]], Jet_chHEF[GoodJets_idx[i1]], Jet_muEF[GoodJets_idx[i1]], Jet_neEmEF[GoodJets_idx[i1]], Jet_neHEF[GoodJets_idx[i1]], Jet_jetId[GoodJets_idx[i1]], Jet_nConstituents[GoodJets_idx[i1]], Jet_nElectrons[GoodJets_idx[i1]], Jet_nMuons[GoodJets_idx[i1]], pt[GoodJets_idx[i2]], eta[GoodJets_idx[i2]], phi[GoodJets_idx[i2]], mass[GoodJets_idx[i2]], Jet_area[GoodJets_idx[i2]], Jet_chHEF[GoodJets_idx[i2]], Jet_muEF[GoodJets_idx[i2]], Jet_neEmEF[GoodJets_idx[i2]], Jet_neHEF[GoodJets_idx[i2]], Jet_jetId[GoodJets_idx[i2]], Jet_nConstituents[GoodJets_idx[i2]], Jet_nElectrons[GoodJets_idx[i2]], Jet_nMuons[GoodJets_idx[i2]], abs(eta[GoodJets_idx[i1]] - eta[GoodJets_idx[i2]]),  this_mass});\n",
    "            float this_score = y[0];\n",
    "            //cout<<\"this score: \"<<this_score<<endl;\n",
    "            //cout<<\"best score: \"<<best_score<<endl;\n",
    "            //cout<<endl;\n",
    "            if (this_score > best_score) {\n",
    "                best_score = this_score;\n",
    "                best_i1 = GoodJets_idx[i1];\n",
    "                best_i2 = GoodJets_idx[i2];\n",
    "            }\n",
    "        }\n",
    "    } \n",
    "    //cout<<\"best score of the event: \"<<best_score<<endl;\n",
    "    //cout<<endl;\n",
    "    //cout<<endl;\n",
    "    idx.emplace_back(best_i1);\n",
    "    idx.emplace_back(best_i2);\n",
    "    return idx;\n",
    "}\n",
    "\n",
    "RVec<size_t> SelectVBSJets_tagger_mjj_absdeltaetajj_flavourmatching_clean_fixed(rvec_f pt, rvec_f eta, rvec_f phi, rvec_f mass, rvec_f Jet_area, rvec_f Jet_chHEF, rvec_f Jet_muEF, rvec_f Jet_neEmEF, rvec_f Jet_neHEF, rvec_f Jet_jetId, rvec_f Jet_nConstituents, rvec_f Jet_nElectrons, rvec_f Jet_nMuons, rvec_i GoodJets_idx)\n",
    "{\n",
    "\n",
    "    RVec<size_t> idx;\n",
    "    // Find first lepton pair with invariant mass closest to Z mass\n",
    "    auto idx_cmb = Combinations(GoodJets_idx, 2);\n",
    "    float best_score = -1.;\n",
    "    size_t best_i1 = 0; size_t best_i2 = 0;\n",
    "    for (size_t i = 0; i < idx_cmb[0].size(); i++) {\n",
    "        const auto i1 = idx_cmb[0][i];\n",
    "        const auto i2 = idx_cmb[1][i];\n",
    "        //std::cout<<GoodJets_idx[i1]<<GoodJets_idx[i2]<<endl;\n",
    "        ROOT::Math::PtEtaPhiMVector p1(pt[GoodJets_idx[i1]], eta[GoodJets_idx[i1]], phi[GoodJets_idx[i1]], mass[GoodJets_idx[i1]]);\n",
    "        ROOT::Math::PtEtaPhiMVector p2(pt[GoodJets_idx[i2]], eta[GoodJets_idx[i2]], phi[GoodJets_idx[i2]], mass[GoodJets_idx[i2]]);\n",
    "        const float this_mass = (p1 + p2).M();\n",
    "        if (abs(eta[GoodJets_idx[i1]] - eta[GoodJets_idx[i2]]) >= DELTAETA_JJ_CUT && (p1 + p2).M() > 500) {\n",
    "            auto y = bdt_tagger_mjj_deltaetamjj_flavourmatching_clean_fixed.Compute({pt[GoodJets_idx[i1]], eta[GoodJets_idx[i1]], phi[GoodJets_idx[i1]], mass[GoodJets_idx[i1]], Jet_area[GoodJets_idx[i1]], Jet_chHEF[GoodJets_idx[i1]], Jet_muEF[GoodJets_idx[i1]], Jet_neEmEF[GoodJets_idx[i1]], Jet_neHEF[GoodJets_idx[i1]], Jet_jetId[GoodJets_idx[i1]], Jet_nConstituents[GoodJets_idx[i1]], Jet_nElectrons[GoodJets_idx[i1]], Jet_nMuons[GoodJets_idx[i1]], pt[GoodJets_idx[i2]], eta[GoodJets_idx[i2]], phi[GoodJets_idx[i2]], mass[GoodJets_idx[i2]], Jet_area[GoodJets_idx[i2]], Jet_chHEF[GoodJets_idx[i2]], Jet_muEF[GoodJets_idx[i2]], Jet_neEmEF[GoodJets_idx[i2]], Jet_neHEF[GoodJets_idx[i2]], Jet_jetId[GoodJets_idx[i2]], Jet_nConstituents[GoodJets_idx[i2]], Jet_nElectrons[GoodJets_idx[i2]], Jet_nMuons[GoodJets_idx[i2]], abs(eta[GoodJets_idx[i1]] - eta[GoodJets_idx[i2]]),  this_mass});\n",
    "            float this_score = y[0];\n",
    "            //cout<<\"this score: \"<<this_score<<endl;\n",
    "            //cout<<\"best score: \"<<best_score<<endl;\n",
    "            //cout<<endl;\n",
    "            if (this_score > best_score) {\n",
    "                best_score = this_score;\n",
    "                best_i1 = GoodJets_idx[i1];\n",
    "                best_i2 = GoodJets_idx[i2];\n",
    "            }\n",
    "        }\n",
    "    } \n",
    "    //cout<<\"best score of the event: \"<<best_score<<endl;\n",
    "    //cout<<endl;\n",
    "    //cout<<endl;\n",
    "    idx.emplace_back(best_i1);\n",
    "    idx.emplace_back(best_i2);\n",
    "    return idx;\n",
    "}\n",
    "\n",
    "\n",
    "/*\n",
    "R__LOAD_LIBRARY(/usr/local/lib/libtensorflow.so)\n",
    "#include \"cppflow/ops.h\"\n",
    "#include \"cppflow/model.h\"\n",
    "cppflow::model VBSTagger_DNN_model(\"./dnn_optimized_model_tagger_mjjabsdeltaetajj\");\n",
    "// C Library for dynamic linking\n",
    "#include  <dlfcn.h>\n",
    "// Define the type for generic machine learning functions\n",
    "typedef float *(*mlfunc)(float *, const float*);\n",
    "\n",
    "\n",
    "\n",
    "//float DNNinference(float x1, float x2, float x3, float x4, float x5, float x6, float x7, float x8, float x9, float x10, float x11, float x12, float x13, float x14, float x15, float x16, float x17, float x18, float x19, float x20, float x21, float x22, float x23, float x24, float x25, float x26, float x27, float x28){\n",
    "//    auto input = cppflow::fill({1, 28}, 1.0f);\n",
    "//    auto output = model(input);\n",
    "//    auto values = output.get_data<float>();\n",
    "//    return values[0];\n",
    "//}\n",
    "\n",
    "\n",
    "RVec<size_t> SelectVBSJets_tagger_mjj_absdeltaetajj_DNN(rvec_f pt, rvec_f eta, rvec_f phi, rvec_f mass, rvec_f Jet_area, rvec_f Jet_chHEF, rvec_f Jet_muEF, rvec_f Jet_neEmEF, rvec_f Jet_neHEF, rvec_f Jet_jetId, rvec_f Jet_nConstituents, rvec_f Jet_nElectrons, rvec_f Jet_nMuons, rvec_i GoodJets_idx)\n",
    "{\n",
    "\n",
    "    RVec<size_t> idx;\n",
    "    // Find first lepton pair with invariant mass closest to Z mass\n",
    "    auto idx_cmb = Combinations(GoodJets_idx, 2);\n",
    "    float best_score = -1.;\n",
    "    size_t best_i1 = 0; size_t best_i2 = 0;\n",
    "    for (size_t i = 0; i < idx_cmb[0].size(); i++) {\n",
    "        const auto i1 = idx_cmb[0][i];\n",
    "        const auto i2 = idx_cmb[1][i];\n",
    "        //std::cout<<GoodJets_idx[i1]<<GoodJets_idx[i2]<<endl;\n",
    "        ROOT::Math::PtEtaPhiMVector p1(pt[GoodJets_idx[i1]], eta[GoodJets_idx[i1]], phi[GoodJets_idx[i1]], mass[GoodJets_idx[i1]]);\n",
    "        ROOT::Math::PtEtaPhiMVector p2(pt[GoodJets_idx[i2]], eta[GoodJets_idx[i2]], phi[GoodJets_idx[i2]], mass[GoodJets_idx[i2]]);\n",
    "        const float this_mass = (p1 + p2).M();\n",
    "        if (abs(eta[GoodJets_idx[i1]] - eta[GoodJets_idx[i2]]) >= DELTAETA_JJ_CUT && (p1 + p2).M() > 500) {\n",
    "            void *handle = dlopen ( \"./deployed_scaler_tagger_mjjabsdeltaetajj.so\", RTLD_LAZY );\n",
    "            if (!handle) exit(1);\n",
    "            mlfunc minmax_ = mlfunc(dlsym (handle, \"MinMaxScaler_tagger_mjjabsdeltaetajj\")); \n",
    "            float input_not_scaled [] = {pt[GoodJets_idx[i1]], eta[GoodJets_idx[i1]], phi[GoodJets_idx[i1]], mass[GoodJets_idx[i1]], Jet_area[GoodJets_idx[i1]], Jet_chHEF[GoodJets_idx[i1]], Jet_muEF[GoodJets_idx[i1]], Jet_neEmEF[GoodJets_idx[i1]], Jet_neHEF[GoodJets_idx[i1]], Jet_jetId[GoodJets_idx[i1]], Jet_nConstituents[GoodJets_idx[i1]], Jet_nElectrons[GoodJets_idx[i1]], Jet_nMuons[GoodJets_idx[i1]], pt[GoodJets_idx[i2]], eta[GoodJets_idx[i2]], phi[GoodJets_idx[i2]], mass[GoodJets_idx[i2]], Jet_area[GoodJets_idx[i2]], Jet_chHEF[GoodJets_idx[i2]], Jet_muEF[GoodJets_idx[i2]], Jet_neEmEF[GoodJets_idx[i2]], Jet_neHEF[GoodJets_idx[i2]], Jet_jetId[GoodJets_idx[i2]], Jet_nConstituents[GoodJets_idx[i2]], Jet_nElectrons[GoodJets_idx[i2]], Jet_nMuons[GoodJets_idx[i2]], abs(eta[GoodJets_idx[i1]] - eta[GoodJets_idx[i2]]),  this_mass};\n",
    "            float input_scaled [28];\n",
    "            minmax_(input_scaled, input_not_scaled);            \n",
    "            auto input_scaled_list = {input_scaled[0],input_scaled[1],input_scaled[2],input_scaled[3],input_scaled[4],input_scaled[5],input_scaled[6],input_scaled[7],input_scaled[8],input_scaled[9],input_scaled[10],input_scaled[11],input_scaled[12],input_scaled[13],input_scaled[14],input_scaled[15],input_scaled[16],input_scaled[17],input_scaled[18],input_scaled[19],input_scaled[20],input_scaled[21],input_scaled[22],input_scaled[23],input_scaled[24],input_scaled[25], input_scaled[26],input_scaled[27]};\n",
    "            auto input = cppflow::tensor(input_scaled_list);\n",
    "            input = cppflow::expand_dims(input, 0);\n",
    "            auto output = VBSTagger_DNN_model(input);\n",
    "            auto values = output.get_data<float>();\n",
    "            float this_score = values[0];\n",
    "            //cout<<\"this score: \"<<this_score<<endl;\n",
    "            //cout<<\"best score: \"<<best_score<<endl;\n",
    "            //cout<<endl;\n",
    "            if (this_score > best_score) {\n",
    "                best_score = this_score;\n",
    "                best_i1 = GoodJets_idx[i1];\n",
    "                best_i2 = GoodJets_idx[i2];\n",
    "            }\n",
    "        }\n",
    "    } \n",
    "    //cout<<\"best score of the event: \"<<best_score<<endl;\n",
    "    //cout<<endl;\n",
    "    //cout<<endl;\n",
    "    idx.emplace_back(best_i1);\n",
    "    idx.emplace_back(best_i2);\n",
    "    return idx;\n",
    "}\n",
    "*/\n",
    "\n",
    "RVec<int> SelectVBSQGenJet_FlavourMatching(rvec_i GenPart_pdgId, rvec_i GenPart_genPartIdxMother, rvec_f GenPart_pt, rvec_f GenPart_eta, rvec_i GenJet_partonFlavour, rvec_f GenJet_pt, rvec_f GenJet_eta){\n",
    "\n",
    "    RVec<int> GenPart_idx;\n",
    "    \n",
    "    for (int i = 0; i < GenPart_pdgId.size(); i++) {\n",
    "        if(GenPart_genPartIdxMother[i]==0 && abs(GenPart_pdgId[i])>0 && abs(GenPart_pdgId[i])<10) GenPart_idx.emplace_back(i);\n",
    "    }\n",
    "    \n",
    "    RVec<int> dummy_idx;\n",
    "    dummy_idx.emplace_back(-9999);\n",
    "    dummy_idx.emplace_back(-9999);\n",
    "    \n",
    "    if (GenPart_idx.size() != 2) return dummy_idx;\n",
    "    \n",
    "    int GenPart_idx1 = GenPart_idx[0];\n",
    "    int GenPart_idx2 = GenPart_idx[1];\n",
    "    \n",
    "    if(GenPart_pt[GenPart_idx1] == GenPart_pt[GenPart_idx2] && GenPart_eta[GenPart_idx1] == GenPart_eta[GenPart_idx2]) return dummy_idx;\n",
    "    \n",
    "    int qflav1 = GenPart_pdgId[GenPart_idx1];\n",
    "    int qflav2 = GenPart_pdgId[GenPart_idx2];\n",
    "    \n",
    "    RVec<int> LightGenJet_idx;\n",
    "\n",
    "    for (int i = 0; i < GenJet_partonFlavour.size(); i++) {\n",
    "        if(abs(GenJet_partonFlavour[i])>0 && abs(GenJet_partonFlavour[i])<10 && (GenJet_partonFlavour[i]==qflav1 || GenJet_partonFlavour[i]==qflav2)) LightGenJet_idx.emplace_back(i);\n",
    "    }\n",
    "    \n",
    "    if(LightGenJet_idx.size() < 2) return dummy_idx;\n",
    "    \n",
    "    float discrim1 = 1000000.;\n",
    "    float discrim2 = 1000000.;\n",
    "    int idx_genjet1 = -1;\n",
    "    int idx_genjet2 = -1;\n",
    "    float tmpdiscr1;\n",
    "    float tmpdiscr2;\n",
    "           \n",
    "    for (int i = 0; i < LightGenJet_idx.size(); i++) {\n",
    "        tmpdiscr1 = abs(GenJet_eta[LightGenJet_idx[i]] -  GenPart_eta[GenPart_idx1]) + abs(GenJet_pt[LightGenJet_idx[i]] -  GenPart_pt[GenPart_idx1]);\n",
    "        tmpdiscr2 = abs(GenJet_eta[LightGenJet_idx[i]] -  GenPart_eta[GenPart_idx2]) + abs(GenJet_pt[LightGenJet_idx[i]] -  GenPart_pt[GenPart_idx2]);\n",
    "        if(tmpdiscr1 < discrim1 && GenJet_partonFlavour[LightGenJet_idx[i]]==qflav1){\n",
    "            discrim1 = tmpdiscr1;\n",
    "            idx_genjet1 = LightGenJet_idx[i];\n",
    "        }\n",
    "        if(tmpdiscr2 < discrim2 && GenJet_partonFlavour[LightGenJet_idx[i]]==qflav2){\n",
    "            discrim2 = tmpdiscr2;\n",
    "            idx_genjet2 = LightGenJet_idx[i];\n",
    "        }\n",
    "    }\n",
    "    \n",
    "    //cout<<idx_genjet1<<\": \"<<discrim1<<\", \"<<idx_genjet2<<\": \"<<discrim2<<endl;\n",
    "    \n",
    "    if((idx_genjet1 == -1 || idx_genjet2 == -1) || (idx_genjet1 == idx_genjet2)) return dummy_idx;\n",
    "    if(discrim1 > 10. || discrim2 > 10.) return dummy_idx;\n",
    "    \n",
    "    RVec<int> finalgenjets_idx(2);\n",
    "           \n",
    "    if(GenJet_pt[idx_genjet1] > GenJet_pt[idx_genjet2]){ \n",
    "           finalgenjets_idx[0] = idx_genjet1;\n",
    "           finalgenjets_idx[1] = idx_genjet2;\n",
    "    }\n",
    "    else{ \n",
    "           finalgenjets_idx[0] = idx_genjet2;\n",
    "           finalgenjets_idx[1] = idx_genjet1;\n",
    "    }\n",
    "    return finalgenjets_idx;\n",
    "}\n",
    "\n",
    "\n",
    "\n",
    "\"\"\")\n"
   ]
  },
  {
   "cell_type": "code",
   "execution_count": 3,
   "id": "3cb55d27-316a-4ccb-844a-d2a15e7384a4",
   "metadata": {},
   "outputs": [
    {
     "data": {
      "text/plain": [
       "True"
      ]
     },
     "execution_count": 3,
     "metadata": {},
     "output_type": "execute_result"
    }
   ],
   "source": [
    "ROOT.gInterpreter.Declare(\n",
    "\"\"\"\n",
    "bool isCentral(float obj_eta, float obj_phi, float j1_eta, float j1_phi, float j2_eta, float j2_phi){\n",
    "    float dRjj = deltaR(j1_eta, j1_phi, j2_eta, j2_phi);\n",
    "    float dRoj1 = deltaR(obj_eta, obj_phi, j1_eta, j1_phi);\n",
    "    float dRoj2 = deltaR(obj_eta, obj_phi, j2_eta, j2_phi);\n",
    "    if(dRoj1 < dRjj && dRoj2 < dRjj) return true;\n",
    "    else return false;\n",
    "}\n",
    "\n",
    "float centralActivity(rvec_f obj_pt_list, rvec_f obj_eta_list, rvec_f  obj_phi_list, float j1_eta, float j1_phi, float j2_eta, float j2_phi){\n",
    "    float total_pT = 0;\n",
    "    for(int i=0; i<obj_pt_list.size(); i++){\n",
    "        if (isCentral(obj_eta_list[i], obj_phi_list[i], j1_eta, j1_phi, j2_eta, j2_phi)==true) total_pT = total_pT + obj_pt_list[i];\n",
    "    }\n",
    "    return total_pT;\n",
    "}\n",
    "\n",
    "RVec<size_t> SelectVBSJets_tagger_mjj_absdeltaetajj_flavourmatching_clean_fixed_central(rvec_f pt, rvec_f eta, rvec_f phi, rvec_f mass, rvec_f Jet_area, rvec_f Jet_chHEF, rvec_f Jet_muEF, rvec_f Jet_neEmEF, rvec_f Jet_neHEF, rvec_f Jet_jetId, rvec_f Jet_nConstituents, rvec_f Jet_nElectrons, rvec_f Jet_nMuons, rvec_i GoodJets_idx,  rvec_f Electron_pt, rvec_f Electron_eta, rvec_f Electron_phi, rvec_f Muon_pt, rvec_f Muon_eta, rvec_f Muon_phi)\n",
    "{\n",
    "    RVec<size_t> idx;\n",
    "    // Find first lepton pair with invariant mass closest to Z mass\n",
    "    auto idx_cmb = Combinations(GoodJets_idx, 2);\n",
    "    float best_score = -1.;\n",
    "    size_t best_i1 = 0; size_t best_i2 = 0;\n",
    "    for (size_t i = 0; i < idx_cmb[0].size(); i++) {\n",
    "        const auto i1 = idx_cmb[0][i];\n",
    "        const auto i2 = idx_cmb[1][i];\n",
    "        //std::cout<<GoodJets_idx[i1]<<GoodJets_idx[i2]<<endl;\n",
    "        ROOT::Math::PtEtaPhiMVector p1(pt[GoodJets_idx[i1]], eta[GoodJets_idx[i1]], phi[GoodJets_idx[i1]], mass[GoodJets_idx[i1]]);\n",
    "        ROOT::Math::PtEtaPhiMVector p2(pt[GoodJets_idx[i2]], eta[GoodJets_idx[i2]], phi[GoodJets_idx[i2]], mass[GoodJets_idx[i2]]);\n",
    "        const float this_mass = (p1 + p2).M();\n",
    "        if (abs(eta[GoodJets_idx[i1]] - eta[GoodJets_idx[i2]]) >= DELTAETA_JJ_CUT && (p1 + p2).M() > 500) {\n",
    "            float centralHT = centralActivity(pt, eta, phi, eta[GoodJets_idx[i1]], phi[GoodJets_idx[i1]], eta[GoodJets_idx[i2]], phi[GoodJets_idx[i2]]);\n",
    "            float centralET = centralActivity(Electron_pt, Electron_eta, Electron_phi, eta[GoodJets_idx[i1]], phi[GoodJets_idx[i1]], eta[GoodJets_idx[i2]], phi[GoodJets_idx[i2]]);\n",
    "            float centralMuT = centralActivity(Muon_pt, Muon_eta, Muon_phi, eta[GoodJets_idx[i1]], phi[GoodJets_idx[i1]], eta[GoodJets_idx[i2]], phi[GoodJets_idx[i2]]);\n",
    "            auto y = bdt_tagger_mjj_deltaetamjj_flavourmatching_clean_fixed_central.Compute({pt[GoodJets_idx[i1]], eta[GoodJets_idx[i1]], phi[GoodJets_idx[i1]], mass[GoodJets_idx[i1]], Jet_area[GoodJets_idx[i1]], Jet_chHEF[GoodJets_idx[i1]], Jet_muEF[GoodJets_idx[i1]], Jet_neEmEF[GoodJets_idx[i1]], Jet_neHEF[GoodJets_idx[i1]], Jet_jetId[GoodJets_idx[i1]], Jet_nConstituents[GoodJets_idx[i1]], Jet_nElectrons[GoodJets_idx[i1]], Jet_nMuons[GoodJets_idx[i1]], pt[GoodJets_idx[i2]], eta[GoodJets_idx[i2]], phi[GoodJets_idx[i2]], mass[GoodJets_idx[i2]], Jet_area[GoodJets_idx[i2]], Jet_chHEF[GoodJets_idx[i2]], Jet_muEF[GoodJets_idx[i2]], Jet_neEmEF[GoodJets_idx[i2]], Jet_neHEF[GoodJets_idx[i2]], Jet_jetId[GoodJets_idx[i2]], Jet_nConstituents[GoodJets_idx[i2]], Jet_nElectrons[GoodJets_idx[i2]], Jet_nMuons[GoodJets_idx[i2]], abs(eta[GoodJets_idx[i1]] - eta[GoodJets_idx[i2]]),  this_mass, centralHT, centralET, centralMuT});\n",
    "            float this_score = y[0];\n",
    "            //cout<<\"this score: \"<<this_score<<endl;\n",
    "            //cout<<\"best score: \"<<best_score<<endl;\n",
    "            //cout<<endl;\n",
    "            if (this_score > best_score) {\n",
    "                best_score = this_score;\n",
    "                best_i1 = GoodJets_idx[i1];\n",
    "                best_i2 = GoodJets_idx[i2];\n",
    "            }\n",
    "        }\n",
    "    } \n",
    "    //cout<<\"best score of the event: \"<<best_score<<endl;\n",
    "    //cout<<endl;\n",
    "    //cout<<endl;\n",
    "    idx.emplace_back(best_i1);\n",
    "    idx.emplace_back(best_i2);\n",
    "    return idx;\n",
    "}\n",
    "\"\"\")"
   ]
  },
  {
   "cell_type": "code",
   "execution_count": 3,
   "id": "ad2cad36-af9d-47de-82aa-b3184a5a504d",
   "metadata": {},
   "outputs": [
    {
     "name": "stdout",
     "output_type": "stream",
     "text": [
      "[0B/0B][100%][==================================================][0B/s]  \n",
      "Run: [ERROR] Server responded with an error: [3018] file exists (destination)\n",
      "\n"
     ]
    }
   ],
   "source": [
    "#!xrdcp root://xrootd-cms.infn.it//store/user/apiccine/VBS/VBS_SSWW_TL_polarization_TuneCP5_13TeV-madgraph-pythia8/VBS_SSWW_TL_SM_2017/210420_124011/0000/tree_hadd_16.root ."
   ]
  },
  {
   "cell_type": "code",
   "execution_count": 4,
   "id": "ce66c5a0-2439-4830-ab8e-023d163d70b3",
   "metadata": {},
   "outputs": [
    {
     "name": "stdout",
     "output_type": "stream",
     "text": [
      "[421.6MB/421.6MB][100%][==================================================][4.133MB/s]  \n"
     ]
    }
   ],
   "source": [
    "#!xrdcp root://xrootd-cms.infn.it//store/user/apiccine/VBS/VBS_SSWW_TL_polarization_TuneCP5_13TeV-madgraph-pythia8/VBS_SSWW_TL_SM_2017/210420_124011/0000/tree_hadd_17.root ."
   ]
  },
  {
   "cell_type": "code",
   "execution_count": 5,
   "id": "7ecc6067-584e-4b42-8157-511c783f9a6e",
   "metadata": {},
   "outputs": [
    {
     "name": "stdout",
     "output_type": "stream",
     "text": [
      "[0B/0B][100%][==================================================][0B/s]  \n",
      "Run: [ERROR] Server responded with an error: [3018] file exists (destination)\n",
      "\n"
     ]
    }
   ],
   "source": [
    "#!xrdcp root://xrootd-cms.infn.it//store/user/apiccine/VBS/VBS_SSWW_TL_polarization_TuneCP5_13TeV-madgraph-pythia8/VBS_SSWW_TL_SM_2017/210420_124011/0000/tree_hadd_18.root ."
   ]
  },
  {
   "cell_type": "code",
   "execution_count": 6,
   "id": "690a3460-3507-4b60-b48d-f906439dc173",
   "metadata": {},
   "outputs": [
    {
     "name": "stdout",
     "output_type": "stream",
     "text": [
      "[84.35MB/84.35MB][100%][==================================================][12.05MB/s]  ^C\n"
     ]
    }
   ],
   "source": [
    "#!xrdcp root://xrootd-cms.infn.it//store/user/apiccine/VBS/VBS_SSWW_TT_polarization_TuneCP5_13TeV-madgraph-pythia8/VBS_SSWW_TT_SM_2017/210420_124141/0000/tree_hadd_9.root ."
   ]
  },
  {
   "cell_type": "code",
   "execution_count": 3,
   "id": "218553a1-bd33-4b69-bd44-2f8d63212d14",
   "metadata": {},
   "outputs": [],
   "source": [
    "#!xrdcp root://xrootd-cms.infn.it//store/user/apiccine/VBS/VBS_SSWW_TT_polarization_TuneCP5_13TeV-madgraph-pythia8/VBS_SSWW_TT_SM_2017/210420_124141/0000/tree_hadd_10.root ."
   ]
  },
  {
   "cell_type": "code",
   "execution_count": null,
   "id": "08a5319a-3ade-4bcb-a691-f0b5d5c510d3",
   "metadata": {},
   "outputs": [],
   "source": [
    "!xrdcp root://xrootd-cms.infn.it//store/user/apiccine/VBS/VBS_SSWW_TT_polarization_TuneCP5_13TeV-madgraph-pythia8/VBS_SSWW_TT_SM_2017/210420_124141/0000/tree_hadd_11.root ."
   ]
  },
  {
   "cell_type": "code",
   "execution_count": null,
   "id": "a029797f-b776-4893-a091-91d61f5a752e",
   "metadata": {},
   "outputs": [],
   "source": [
    "#!xrdcp root://xrootd-cms.infn.it//store/user/apiccine/VBS/VBS_SSWW_LL_polarization_TuneCP5_13TeV-madgraph-pythia8/VBS_SSWW_LL_SM_2017/210420_123836/0000/tree_hadd_1.root ."
   ]
  },
  {
   "cell_type": "code",
   "execution_count": null,
   "id": "b8912fc3-adf3-4ae0-aa16-f488ab068dbb",
   "metadata": {},
   "outputs": [],
   "source": []
  },
  {
   "cell_type": "code",
   "execution_count": null,
   "id": "c87585bd-bbbb-45b8-acf8-b7c4548196ae",
   "metadata": {},
   "outputs": [],
   "source": [
    "\n",
    "\n",
    "\n",
    "\n"
   ]
  },
  {
   "cell_type": "code",
   "execution_count": 4,
   "id": "b066e32c-a8f4-4bc4-b839-9acd9bb2cc96",
   "metadata": {},
   "outputs": [],
   "source": [
    "chain = [\"tree_hadd_16.root\", \"tree_hadd_18.root\",  \"tree_hadd_11.root\"] #\"tree_hadd_1.root\"]"
   ]
  },
  {
   "cell_type": "code",
   "execution_count": 12,
   "id": "63b94b3e-e0a2-462d-b290-5df0f38cf47a",
   "metadata": {},
   "outputs": [],
   "source": [
    "df = ROOT.RDataFrame(\"Events\",chain)\n",
    "#df = ROOT.RDataFrame(\"Events\", \"root://xrootd-cms.infn.it//store/user/ttedesch/VBS_PG/VBS_SSWW_LL_polarization_TuneCP5_13TeV-madgraph-pythia8/VBS_SSWW_LL_SM_2017/210908_151157/0000/tree_hadd_2.root\",)\n",
    "df_goodvertex = df.Filter(\"Flag_goodVertices && Flag_globalSuperTightHalo2016Filter && Flag_HBHENoiseFilter && Flag_HBHENoiseIsoFilter && Flag_EcalDeadCellTriggerPrimitiveFilter && Flag_BadPFMuonFilter && Flag_ecalBadCalibFilterV2\", \"Good vertex selection\")\n",
    "df_trigger = df_goodvertex.Filter(\"HLT_IsoMu27 || HLT_Mu50 || HLT_Ele35_WPTight_Gsf || HLT_Ele32_WPTight_Gsf_L1DoubleEG || HLT_Photon200\", \"Leptonic trigger\")\n",
    "df_atleast2Jets = df_trigger.Filter(\"nJet>=2\", \"At least two jets\")\n",
    "df_GenJets = df_atleast2Jets.Define(\"GenJet_idx\", \"SelectVBSQGenJet(GenPart_pdgId, GenPart_genPartIdxMother, GenPart_pt, GenPart_eta, GenJet_partonFlavour, GenJet_pt, GenJet_eta)\")\n",
    "df_GenJets_filtered = df_GenJets.Filter(\"GenJet_idx[0] != -9999\", \"Problem with genParts or GenJets\")\n",
    "df_atleast2GenJets = df_GenJets_filtered.Filter(\"atleast2Jets(GenJet_idx)\",\"At least 2 GenJets\")\n",
    "df_GoodJets = df_atleast2GenJets.Define(\"GoodJets_idx\", \"GoodJets(Jet_jetId, Jet_eta, Jet_pt, Jet_puId)\")\n",
    "df_atleast2GoodJets = df_GoodJets.Filter(\"atleast2GoodJets(GoodJets_idx)\", \"At least two good jets\")\n",
    "df_VBSjets = df_atleast2GoodJets.Define(\"VBSJet_idx\", \"SelectVBSJets_invmass(Jet_pt, Jet_eta, Jet_phi, Jet_mass, GoodJets_idx)\")\n",
    "df_2VBSjets = df_VBSjets.Filter(\"VBSJet_idx[0] != VBSJet_idx[1]\", \"2 VBS jets\").Define(\"mjj\", \"GetInvMass(Jet_pt, Jet_eta, Jet_phi, Jet_mass, VBSJet_idx)\").Filter(\"mjj>500\", \"Good invariant mass\").Define(\"Leadingjet_eta\", \"GetLeading(Jet_eta, VBSJet_idx)\").Define(\"SubLeadingjet_eta\", \"GetSubLeading(Jet_eta, VBSJet_idx)\").Filter(\"abs(Leadingjet_eta - SubLeadingjet_eta) > 2.5\", \"Good deltaEta\")\n",
    "df_defineGenMatching = df_2VBSjets.Define(\"leadjet_IsGenMatched\", \"IsGenMatched(GenJet_idx[0], Jet_genJetIdx[VBSJet_idx[0]])\")\\\n",
    "                                         .Define(\"subleadjet_IsGenMatched\", \"IsGenMatched(GenJet_idx[1], Jet_genJetIdx[VBSJet_idx[1]])\")\\\n",
    "                                         #.Filter(\"HLT_IsoMu27 || HLT_Mu50 || HLT_Ele35_WPTight_Gsf || HLT_Ele32_WPTight_Gsf_L1DoubleEG || HLT_Photon200\", \"Leptonic trigger\")\n",
    "df_Genmatched = df_defineGenMatching.Filter(\"leadjet_IsGenMatched == 1 && subleadjet_IsGenMatched == 1\", \"Genmatching\")"
   ]
  },
  {
   "cell_type": "code",
   "execution_count": 13,
   "id": "fe61cb5f-4be7-4aa7-9a52-1b66cf7998ac",
   "metadata": {},
   "outputs": [
    {
     "name": "stdout",
     "output_type": "stream",
     "text": [
      "Good vertex selection: pass=152169     all=152299     -- eff=99.91 % cumulative eff=99.91 %\n",
      "Leptonic trigger: pass=152169     all=152169     -- eff=100.00 % cumulative eff=99.91 %\n",
      "At least two jets: pass=152168     all=152169     -- eff=100.00 % cumulative eff=99.91 %\n",
      "Problem with genParts or GenJets: pass=130331     all=152168     -- eff=85.65 % cumulative eff=85.58 %\n",
      "At least 2 GenJets: pass=130331     all=130331     -- eff=100.00 % cumulative eff=85.58 %\n",
      "At least two good jets: pass=127012     all=130331     -- eff=97.45 % cumulative eff=83.40 %\n",
      "2 VBS jets: pass=102164     all=127012     -- eff=80.44 % cumulative eff=67.08 %\n",
      "Good invariant mass: pass=87368      all=102164     -- eff=85.52 % cumulative eff=57.37 %\n",
      "Good deltaEta: pass=87367      all=87368      -- eff=100.00 % cumulative eff=57.37 %\n",
      "Genmatching: pass=60667      all=87367      -- eff=69.44 % cumulative eff=39.83 %\n"
     ]
    }
   ],
   "source": [
    "allCutsReport = df.Report()\n",
    "allCutsReport.Print()"
   ]
  },
  {
   "cell_type": "code",
   "execution_count": 14,
   "id": "ee7f5fcb-f2c0-485d-bfd0-fdbbf4d29ffa",
   "metadata": {},
   "outputs": [],
   "source": [
    "#df = ROOT.RDataFrame(\"Events\", \"VBS_SSWW_LL/AA101ED1-3427-E44D-9D6E-82569A5A589C.root \")\n",
    "df = ROOT.RDataFrame(\"Events\",chain)\n",
    "#df = ROOT.RDataFrame(\"Events\", \"root://xrootd-cms.infn.it//store/user/ttedesch/VBS_PG/VBS_SSWW_LL_polarization_TuneCP5_13TeV-madgraph-pythia8/VBS_SSWW_LL_SM_2017/210908_151157/0000/tree_hadd_2.root\",)\n",
    "df_goodvertex = df.Filter(\"Flag_goodVertices && Flag_globalSuperTightHalo2016Filter && Flag_HBHENoiseFilter && Flag_HBHENoiseIsoFilter && Flag_EcalDeadCellTriggerPrimitiveFilter && Flag_BadPFMuonFilter && Flag_ecalBadCalibFilterV2\", \"Good vertex selection\")\n",
    "df_trigger = df_goodvertex.Filter(\"HLT_IsoMu27 || HLT_Mu50 || HLT_Ele35_WPTight_Gsf || HLT_Ele32_WPTight_Gsf_L1DoubleEG || HLT_Photon200\", \"Leptonic trigger\")\n",
    "df_atleast2Jets = df_trigger.Filter(\"nJet>=2\", \"At least two jets\")\n",
    "df_GenJets = df_atleast2Jets.Define(\"GenJet_idx\", \"SelectVBSQGenJet(GenPart_pdgId, GenPart_genPartIdxMother, GenPart_pt, GenPart_eta, GenJet_partonFlavour, GenJet_pt, GenJet_eta)\")\n",
    "df_GenJets_filtered = df_GenJets.Filter(\"GenJet_idx[0] != -9999\", \"Problem with genParts or GenJets\")\n",
    "df_atleast2GenJets = df_GenJets_filtered.Filter(\"atleast2Jets(GenJet_idx)\",\"At least 2 GenJets\")\n",
    "df_GoodJets = df_atleast2GenJets.Define(\"GoodJets_idx\", \"GoodJets(Jet_jetId, Jet_eta, Jet_pt, Jet_puId)\")\n",
    "df_atleast2GoodJets = df_GoodJets.Filter(\"atleast2GoodJets(GoodJets_idx)\", \"At least two good jets\")\n",
    "df_VBSjets = df_atleast2GoodJets.Define(\"VBSJet_idx\", \"SelectVBSJets_tagger(Jet_pt, Jet_eta, Jet_phi, Jet_mass, Jet_area, Jet_chHEF, Jet_muEF, Jet_neEmEF, Jet_neHEF, Jet_jetId, Jet_nConstituents, Jet_nElectrons, Jet_nMuons, GoodJets_idx)\")\n",
    "df_2VBSjets = df_VBSjets.Filter(\"VBSJet_idx[0] != VBSJet_idx[1]\", \"2 VBS jets\").Define(\"mjj\", \"GetInvMass(Jet_pt, Jet_eta, Jet_phi, Jet_mass, VBSJet_idx)\").Filter(\"mjj>500\", \"Good invariant mass\").Define(\"Leadingjet_eta\", \"GetLeading(Jet_eta, VBSJet_idx)\").Define(\"SubLeadingjet_eta\", \"GetSubLeading(Jet_eta, VBSJet_idx)\").Filter(\"abs(Leadingjet_eta - SubLeadingjet_eta) > 2.5\", \"Good deltaEta\")\n",
    "df_defineGenMatching = df_2VBSjets.Define(\"leadjet_IsGenMatched\", \"IsGenMatched(GenJet_idx[0], Jet_genJetIdx[VBSJet_idx[0]])\")\\\n",
    "                                         .Define(\"subleadjet_IsGenMatched\", \"IsGenMatched(GenJet_idx[1], Jet_genJetIdx[VBSJet_idx[1]])\")\\\n",
    "                                         #.Filter(\"HLT_IsoMu27 || HLT_Mu50 || HLT_Ele35_WPTight_Gsf || HLT_Ele32_WPTight_Gsf_L1DoubleEG || HLT_Photon200\", \"Leptonic trigger\")\n",
    "df_Genmatched = df_defineGenMatching.Filter(\"leadjet_IsGenMatched == 1 && subleadjet_IsGenMatched == 1\", \"Genmatching\")"
   ]
  },
  {
   "cell_type": "code",
   "execution_count": 15,
   "id": "4160bae4-c505-4768-9b6d-e9bf3a8b7314",
   "metadata": {},
   "outputs": [
    {
     "name": "stdout",
     "output_type": "stream",
     "text": [
      "Good vertex selection: pass=152169     all=152299     -- eff=99.91 % cumulative eff=99.91 %\n",
      "Leptonic trigger: pass=152169     all=152169     -- eff=100.00 % cumulative eff=99.91 %\n",
      "At least two jets: pass=152168     all=152169     -- eff=100.00 % cumulative eff=99.91 %\n",
      "Problem with genParts or GenJets: pass=130331     all=152168     -- eff=85.65 % cumulative eff=85.58 %\n",
      "At least 2 GenJets: pass=130331     all=130331     -- eff=100.00 % cumulative eff=85.58 %\n",
      "At least two good jets: pass=127012     all=130331     -- eff=97.45 % cumulative eff=83.40 %\n",
      "2 VBS jets: pass=87368      all=127012     -- eff=68.79 % cumulative eff=57.37 %\n",
      "Good invariant mass: pass=87368      all=87368      -- eff=100.00 % cumulative eff=57.37 %\n",
      "Good deltaEta: pass=87367      all=87368      -- eff=100.00 % cumulative eff=57.37 %\n",
      "Genmatching: pass=59657      all=87367      -- eff=68.28 % cumulative eff=39.17 %\n"
     ]
    }
   ],
   "source": [
    "allCutsReport = df.Report()\n",
    "allCutsReport.Print()"
   ]
  },
  {
   "cell_type": "code",
   "execution_count": 9,
   "id": "af7797f4-feec-4e7a-afe1-e46279e2266f",
   "metadata": {},
   "outputs": [],
   "source": [
    "#df = ROOT.RDataFrame(\"Events\", \"VBS_SSWW_LL/AA101ED1-3427-E44D-9D6E-82569A5A589C.root \")\n",
    "#df = ROOT.RDataFrame(\"Events\",[\"tree_hadd_17.root\"])\n",
    "df = ROOT.RDataFrame(\"Events\",chain)\n",
    "#df = ROOT.RDataFrame(\"Events\", \"root://xrootd-cms.infn.it//store/user/ttedesch/VBS_PG/VBS_SSWW_LL_polarization_TuneCP5_13TeV-madgraph-pythia8/VBS_SSWW_LL_SM_2017/210908_151157/0000/tree_hadd_2.root\",)\n",
    "df_goodvertex = df.Filter(\"Flag_goodVertices && Flag_globalSuperTightHalo2016Filter && Flag_HBHENoiseFilter && Flag_HBHENoiseIsoFilter && Flag_EcalDeadCellTriggerPrimitiveFilter && Flag_BadPFMuonFilter && Flag_ecalBadCalibFilterV2\", \"Good vertex selection\")\n",
    "df_trigger = df_goodvertex.Filter(\"HLT_IsoMu27 || HLT_Mu50 || HLT_Ele35_WPTight_Gsf || HLT_Ele32_WPTight_Gsf_L1DoubleEG || HLT_Photon200\", \"Leptonic trigger\")\n",
    "df_atleast2Jets = df_trigger.Filter(\"nJet>=2\", \"At least two jets\")\n",
    "df_GenJets = df_atleast2Jets.Define(\"GenJet_idx\", \"SelectVBSQGenJet(GenPart_pdgId, GenPart_genPartIdxMother, GenPart_pt, GenPart_eta, GenJet_partonFlavour, GenJet_pt, GenJet_eta)\")\n",
    "df_GenJets_filtered = df_GenJets.Filter(\"GenJet_idx[0] != -9999\", \"Problem with genParts or GenJets\")\n",
    "df_atleast2GenJets = df_GenJets_filtered.Filter(\"atleast2Jets(GenJet_idx)\",\"At least 2 GenJets\")\n",
    "df_GoodJets = df_atleast2GenJets.Define(\"GoodJets_idx\", \"GoodJets(Jet_jetId, Jet_eta, Jet_pt, Jet_puId)\")\n",
    "df_atleast2GoodJets = df_GoodJets.Filter(\"atleast2GoodJets(GoodJets_idx)\", \"At least two good jets\")\n",
    "df_VBSjets = df_atleast2GoodJets.Define(\"VBSJet_idx\", \"SelectVBSJets_tagger_mjj(Jet_pt, Jet_eta, Jet_phi, Jet_mass, Jet_area, Jet_chHEF, Jet_muEF, Jet_neEmEF, Jet_neHEF, Jet_jetId, Jet_nConstituents, Jet_nElectrons, Jet_nMuons, GoodJets_idx)\")\n",
    "df_2VBSjets = df_VBSjets.Filter(\"VBSJet_idx[0] != VBSJet_idx[1]\", \"2 VBS jets\").Define(\"mjj\", \"GetInvMass(Jet_pt, Jet_eta, Jet_phi, Jet_mass, VBSJet_idx)\").Filter(\"mjj>500\", \"Good invariant mass\").Define(\"Leadingjet_eta\", \"GetLeading(Jet_eta, VBSJet_idx)\").Define(\"SubLeadingjet_eta\", \"GetSubLeading(Jet_eta, VBSJet_idx)\").Filter(\"abs(Leadingjet_eta - SubLeadingjet_eta) > 2.5\", \"Good deltaEta\")\n",
    "df_defineGenMatching = df_2VBSjets.Define(\"leadjet_IsGenMatched\", \"IsGenMatched(GenJet_idx[0], Jet_genJetIdx[VBSJet_idx[0]])\")\\\n",
    "                                         .Define(\"subleadjet_IsGenMatched\", \"IsGenMatched(GenJet_idx[1], Jet_genJetIdx[VBSJet_idx[1]])\")\\\n",
    "                                         #.Filter(\"HLT_IsoMu27 || HLT_Mu50 || HLT_Ele35_WPTight_Gsf || HLT_Ele32_WPTight_Gsf_L1DoubleEG || HLT_Photon200\", \"Leptonic trigger\")\n",
    "df_Genmatched = df_defineGenMatching.Filter(\"leadjet_IsGenMatched == 1 && subleadjet_IsGenMatched == 1\", \"Genmatching\")"
   ]
  },
  {
   "cell_type": "code",
   "execution_count": 10,
   "id": "da5acd58-045a-4d0d-8f5d-b641a109e739",
   "metadata": {},
   "outputs": [
    {
     "name": "stdout",
     "output_type": "stream",
     "text": [
      "Good vertex selection: pass=152169     all=152299     -- eff=99.91 % cumulative eff=99.91 %\n",
      "Leptonic trigger: pass=152169     all=152169     -- eff=100.00 % cumulative eff=99.91 %\n",
      "At least two jets: pass=152168     all=152169     -- eff=100.00 % cumulative eff=99.91 %\n",
      "Problem with genParts or GenJets: pass=130331     all=152168     -- eff=85.65 % cumulative eff=85.58 %\n",
      "At least 2 GenJets: pass=130331     all=130331     -- eff=100.00 % cumulative eff=85.58 %\n",
      "At least two good jets: pass=127012     all=130331     -- eff=97.45 % cumulative eff=83.40 %\n",
      "2 VBS jets: pass=87368      all=127012     -- eff=68.79 % cumulative eff=57.37 %\n",
      "Good invariant mass: pass=87368      all=87368      -- eff=100.00 % cumulative eff=57.37 %\n",
      "Good deltaEta: pass=87367      all=87368      -- eff=100.00 % cumulative eff=57.37 %\n",
      "Genmatching: pass=62757      all=87367      -- eff=71.83 % cumulative eff=41.21 %\n"
     ]
    }
   ],
   "source": [
    "allCutsReport = df.Report()\n",
    "allCutsReport.Print()"
   ]
  },
  {
   "cell_type": "code",
   "execution_count": 7,
   "id": "f9a02e01-81d3-41ed-900e-5ba902de5393",
   "metadata": {},
   "outputs": [],
   "source": [
    "#df = ROOT.RDataFrame(\"Events\", \"VBS_SSWW_LL/AA101ED1-3427-E44D-9D6E-82569A5A589C.root \")\n",
    "#df = ROOT.RDataFrame(\"Events\",[\"tree_hadd_17.root\"])\n",
    "df = ROOT.RDataFrame(\"Events\",chain)\n",
    "#df = ROOT.RDataFrame(\"Events\", \"root://xrootd-cms.infn.it//store/user/ttedesch/VBS_PG/VBS_SSWW_LL_polarization_TuneCP5_13TeV-madgraph-pythia8/VBS_SSWW_LL_SM_2017/210908_151157/0000/tree_hadd_2.root\",)\n",
    "df_goodvertex = df.Filter(\"Flag_goodVertices && Flag_globalSuperTightHalo2016Filter && Flag_HBHENoiseFilter && Flag_HBHENoiseIsoFilter && Flag_EcalDeadCellTriggerPrimitiveFilter && Flag_BadPFMuonFilter && Flag_ecalBadCalibFilterV2\", \"Good vertex selection\")\n",
    "df_trigger = df_goodvertex.Filter(\"HLT_IsoMu27 || HLT_Mu50 || HLT_Ele35_WPTight_Gsf || HLT_Ele32_WPTight_Gsf_L1DoubleEG || HLT_Photon200\", \"Leptonic trigger\")\n",
    "df_atleast2Jets = df_trigger.Filter(\"nJet>=2\", \"At least two jets\")\n",
    "df_GenJets = df_atleast2Jets.Define(\"GenJet_idx\", \"SelectVBSQGenJet(GenPart_pdgId, GenPart_genPartIdxMother, GenPart_pt, GenPart_eta, GenJet_partonFlavour, GenJet_pt, GenJet_eta)\")\n",
    "df_GenJets_filtered = df_GenJets.Filter(\"GenJet_idx[0] != -9999\", \"Problem with genParts or GenJets\")\n",
    "df_atleast2GenJets = df_GenJets_filtered.Filter(\"atleast2Jets(GenJet_idx)\",\"At least 2 GenJets\")\n",
    "df_GoodJets = df_atleast2GenJets.Define(\"GoodJets_idx\", \"GoodJets(Jet_jetId, Jet_eta, Jet_pt, Jet_puId)\")\n",
    "df_atleast2GoodJets = df_GoodJets.Filter(\"atleast2GoodJets(GoodJets_idx)\", \"At least two good jets\")\n",
    "df_VBSjets = df_atleast2GoodJets.Define(\"VBSJet_idx\", \"SelectVBSJets_tagger_mjj_absdeltaetajj(Jet_pt, Jet_eta, Jet_phi, Jet_mass, Jet_area, Jet_chHEF, Jet_muEF, Jet_neEmEF, Jet_neHEF, Jet_jetId, Jet_nConstituents, Jet_nElectrons, Jet_nMuons, GoodJets_idx)\")\n",
    "df_2VBSjets = df_VBSjets.Filter(\"VBSJet_idx[0] != VBSJet_idx[1]\", \"2 VBS jets\").Define(\"mjj\", \"GetInvMass(Jet_pt, Jet_eta, Jet_phi, Jet_mass, VBSJet_idx)\").Filter(\"mjj>500\", \"Good invariant mass\").Define(\"Leadingjet_eta\", \"GetLeading(Jet_eta, VBSJet_idx)\").Define(\"SubLeadingjet_eta\", \"GetSubLeading(Jet_eta, VBSJet_idx)\").Filter(\"abs(Leadingjet_eta - SubLeadingjet_eta) > 2.5\", \"Good deltaEta\")\n",
    "df_defineGenMatching = df_2VBSjets.Define(\"leadjet_IsGenMatched\", \"IsGenMatched(GenJet_idx[0], Jet_genJetIdx[VBSJet_idx[0]])\")\\\n",
    "                                         .Define(\"subleadjet_IsGenMatched\", \"IsGenMatched(GenJet_idx[1], Jet_genJetIdx[VBSJet_idx[1]])\")\\\n",
    "                                         #.Filter(\"HLT_IsoMu27 || HLT_Mu50 || HLT_Ele35_WPTight_Gsf || HLT_Ele32_WPTight_Gsf_L1DoubleEG || HLT_Photon200\", \"Leptonic trigger\")\n",
    "df_Genmatched = df_defineGenMatching.Filter(\"leadjet_IsGenMatched == 1 && subleadjet_IsGenMatched == 1\", \"Genmatching\")"
   ]
  },
  {
   "cell_type": "code",
   "execution_count": 8,
   "id": "0d08e0af-4cb1-4f00-9866-51e4422eaa69",
   "metadata": {},
   "outputs": [
    {
     "name": "stdout",
     "output_type": "stream",
     "text": [
      "Good vertex selection: pass=152169     all=152299     -- eff=99.91 % cumulative eff=99.91 %\n",
      "Leptonic trigger: pass=152169     all=152169     -- eff=100.00 % cumulative eff=99.91 %\n",
      "At least two jets: pass=152168     all=152169     -- eff=100.00 % cumulative eff=99.91 %\n",
      "Problem with genParts or GenJets: pass=130331     all=152168     -- eff=85.65 % cumulative eff=85.58 %\n",
      "At least 2 GenJets: pass=130331     all=130331     -- eff=100.00 % cumulative eff=85.58 %\n",
      "At least two good jets: pass=127012     all=130331     -- eff=97.45 % cumulative eff=83.40 %\n",
      "2 VBS jets: pass=87368      all=127012     -- eff=68.79 % cumulative eff=57.37 %\n",
      "Good invariant mass: pass=87368      all=87368      -- eff=100.00 % cumulative eff=57.37 %\n",
      "Good deltaEta: pass=87367      all=87368      -- eff=100.00 % cumulative eff=57.37 %\n",
      "Genmatching: pass=62989      all=87367      -- eff=72.10 % cumulative eff=41.36 %\n"
     ]
    }
   ],
   "source": [
    "allCutsReport = df.Report()\n",
    "allCutsReport.Print()"
   ]
  },
  {
   "cell_type": "code",
   "execution_count": 5,
   "id": "ad02db28-6cbd-4489-9ecc-cf836f90a7a9",
   "metadata": {},
   "outputs": [
    {
     "name": "stderr",
     "output_type": "stream",
     "text": [
      "Warning in <TClass::Init>: no dictionary for class edm::Hash<1> is available\n",
      "Warning in <TClass::Init>: no dictionary for class edm::ProcessHistory is available\n",
      "Warning in <TClass::Init>: no dictionary for class edm::ProcessConfiguration is available\n",
      "Warning in <TClass::Init>: no dictionary for class edm::ParameterSetBlob is available\n",
      "Warning in <TClass::Init>: no dictionary for class pair<edm::Hash<1>,edm::ParameterSetBlob> is available\n"
     ]
    }
   ],
   "source": [
    "#df = ROOT.RDataFrame(\"Events\", \"VBS_SSWW_LL/AA101ED1-3427-E44D-9D6E-82569A5A589C.root \")\n",
    "#df = ROOT.RDataFrame(\"Events\",[\"tree_hadd_17.root\"])\n",
    "df = ROOT.RDataFrame(\"Events\",chain)\n",
    "#df = ROOT.RDataFrame(\"Events\", \"root://xrootd-cms.infn.it//store/user/ttedesch/VBS_PG/VBS_SSWW_LL_polarization_TuneCP5_13TeV-madgraph-pythia8/VBS_SSWW_LL_SM_2017/210908_151157/0000/tree_hadd_2.root\",)\n",
    "df_goodvertex = df.Filter(\"Flag_goodVertices && Flag_globalSuperTightHalo2016Filter && Flag_HBHENoiseFilter && Flag_HBHENoiseIsoFilter && Flag_EcalDeadCellTriggerPrimitiveFilter && Flag_BadPFMuonFilter && Flag_ecalBadCalibFilterV2\", \"Good vertex selection\")\n",
    "df_trigger = df_goodvertex.Filter(\"HLT_IsoMu27 || HLT_Mu50 || HLT_Ele35_WPTight_Gsf || HLT_Ele32_WPTight_Gsf_L1DoubleEG || HLT_Photon200\", \"Leptonic trigger\")\n",
    "df_atleast2Jets = df_trigger.Filter(\"nJet>=2\", \"At least two jets\")\n",
    "df_GenJets = df_atleast2Jets.Define(\"GenJet_idx\", \"SelectVBSQGenJet(GenPart_pdgId, GenPart_genPartIdxMother, GenPart_pt, GenPart_eta, GenJet_partonFlavour, GenJet_pt, GenJet_eta)\")\n",
    "df_GenJets_filtered = df_GenJets.Filter(\"GenJet_idx[0] != -9999\", \"Problem with genParts or GenJets\")\n",
    "df_atleast2GenJets = df_GenJets_filtered.Filter(\"atleast2Jets(GenJet_idx)\",\"At least 2 GenJets\")\n",
    "df_GoodJets = df_atleast2GenJets.Define(\"GoodJets_idx\", \"GoodJets(Jet_jetId, Jet_eta, Jet_pt, Jet_puId)\")\n",
    "df_atleast2GoodJets = df_GoodJets.Filter(\"atleast2GoodJets(GoodJets_idx)\", \"At least two good jets\")\n",
    "df_VBSjets = df_atleast2GoodJets.Define(\"VBSJet_idx\", \"SelectVBSJets_tagger_mjj_absdeltaetajj_DNN(Jet_pt, Jet_eta, Jet_phi, Jet_mass, Jet_area, Jet_chHEF, Jet_muEF, Jet_neEmEF, Jet_neHEF, Jet_jetId, Jet_nConstituents, Jet_nElectrons, Jet_nMuons, GoodJets_idx)\")\n",
    "df_2VBSjets = df_VBSjets.Filter(\"VBSJet_idx[0] != VBSJet_idx[1]\", \"2 VBS jets\").Define(\"mjj\", \"GetInvMass(Jet_pt, Jet_eta, Jet_phi, Jet_mass, VBSJet_idx)\").Filter(\"mjj>500\", \"Good invariant mass\").Define(\"Leadingjet_eta\", \"GetLeading(Jet_eta, VBSJet_idx)\").Define(\"SubLeadingjet_eta\", \"GetSubLeading(Jet_eta, VBSJet_idx)\").Filter(\"abs(Leadingjet_eta - SubLeadingjet_eta) > 2.5\", \"Good deltaEta\")\n",
    "df_defineGenMatching = df_2VBSjets.Define(\"leadjet_IsGenMatched\", \"IsGenMatched(GenJet_idx[0], Jet_genJetIdx[VBSJet_idx[0]])\")\\\n",
    "                                         .Define(\"subleadjet_IsGenMatched\", \"IsGenMatched(GenJet_idx[1], Jet_genJetIdx[VBSJet_idx[1]])\")\\\n",
    "                                         #.Filter(\"HLT_IsoMu27 || HLT_Mu50 || HLT_Ele35_WPTight_Gsf || HLT_Ele32_WPTight_Gsf_L1DoubleEG || HLT_Photon200\", \"Leptonic trigger\")\n",
    "df_Genmatched = df_defineGenMatching.Filter(\"leadjet_IsGenMatched == 1 && subleadjet_IsGenMatched == 1\", \"Genmatching\")"
   ]
  },
  {
   "cell_type": "code",
   "execution_count": 6,
   "id": "fd9e9e3a-47c9-457f-86ab-70e48d816540",
   "metadata": {},
   "outputs": [
    {
     "name": "stdout",
     "output_type": "stream",
     "text": [
      "Good vertex selection: pass=152169     all=152299     -- eff=99.91 % cumulative eff=99.91 %\n",
      "Leptonic trigger: pass=152169     all=152169     -- eff=100.00 % cumulative eff=99.91 %\n",
      "At least two jets: pass=152168     all=152169     -- eff=100.00 % cumulative eff=99.91 %\n",
      "Problem with genParts or GenJets: pass=130331     all=152168     -- eff=85.65 % cumulative eff=85.58 %\n",
      "At least 2 GenJets: pass=130331     all=130331     -- eff=100.00 % cumulative eff=85.58 %\n",
      "At least two good jets: pass=127012     all=130331     -- eff=97.45 % cumulative eff=83.40 %\n",
      "2 VBS jets: pass=87368      all=127012     -- eff=68.79 % cumulative eff=57.37 %\n",
      "Good invariant mass: pass=87368      all=87368      -- eff=100.00 % cumulative eff=57.37 %\n",
      "Good deltaEta: pass=87367      all=87368      -- eff=100.00 % cumulative eff=57.37 %\n",
      "Genmatching: pass=62534      all=87367      -- eff=71.58 % cumulative eff=41.06 %\n"
     ]
    }
   ],
   "source": [
    "allCutsReport = df.Report()\n",
    "allCutsReport.Print()"
   ]
  },
  {
   "cell_type": "code",
   "execution_count": 5,
   "id": "fdae3c8e-2532-4824-8f95-d6a2fa95bfad",
   "metadata": {},
   "outputs": [
    {
     "name": "stderr",
     "output_type": "stream",
     "text": [
      "Warning in <TClass::Init>: no dictionary for class edm::Hash<1> is available\n",
      "Warning in <TClass::Init>: no dictionary for class edm::ProcessHistory is available\n",
      "Warning in <TClass::Init>: no dictionary for class edm::ProcessConfiguration is available\n",
      "Warning in <TClass::Init>: no dictionary for class edm::ParameterSetBlob is available\n",
      "Warning in <TClass::Init>: no dictionary for class pair<edm::Hash<1>,edm::ParameterSetBlob> is available\n"
     ]
    }
   ],
   "source": [
    "#df = ROOT.RDataFrame(\"Events\", \"VBS_SSWW_LL/AA101ED1-3427-E44D-9D6E-82569A5A589C.root \")\n",
    "#df = ROOT.RDataFrame(\"Events\",[\"tree_hadd_17.root\"])\n",
    "df = ROOT.RDataFrame(\"Events\",chain)\n",
    "#df = ROOT.RDataFrame(\"Events\", \"root://xrootd-cms.infn.it//store/user/ttedesch/VBS_PG/VBS_SSWW_LL_polarization_TuneCP5_13TeV-madgraph-pythia8/VBS_SSWW_LL_SM_2017/210908_151157/0000/tree_hadd_2.root\",)\n",
    "df_goodvertex = df.Filter(\"Flag_goodVertices && Flag_globalSuperTightHalo2016Filter && Flag_HBHENoiseFilter && Flag_HBHENoiseIsoFilter && Flag_EcalDeadCellTriggerPrimitiveFilter && Flag_BadPFMuonFilter && Flag_ecalBadCalibFilterV2\", \"Good vertex selection\")\n",
    "df_trigger = df_goodvertex.Filter(\"HLT_IsoMu27 || HLT_Mu50 || HLT_Ele35_WPTight_Gsf || HLT_Ele32_WPTight_Gsf_L1DoubleEG || HLT_Photon200\", \"Leptonic trigger\")\n",
    "df_atleast2Jets = df_trigger.Filter(\"nJet>=2\", \"At least two jets\")\n",
    "df_GenJets = df_atleast2Jets.Define(\"GenJet_idx\", \"SelectVBSQGenJet(GenPart_pdgId, GenPart_genPartIdxMother, GenPart_pt, GenPart_eta, GenJet_partonFlavour, GenJet_pt, GenJet_eta)\")\n",
    "df_GenJets_filtered = df_GenJets.Filter(\"GenJet_idx[0] != -9999\", \"Problem with genParts or GenJets\")\n",
    "df_atleast2GenJets = df_GenJets_filtered.Filter(\"atleast2Jets(GenJet_idx)\",\"At least 2 GenJets\")\n",
    "df_GoodJets = df_atleast2GenJets.Define(\"GoodJets_idx\", \"GoodJets(Jet_jetId, Jet_eta, Jet_pt, Jet_puId)\")\n",
    "df_atleast2GoodJets = df_GoodJets.Filter(\"atleast2GoodJets(GoodJets_idx)\", \"At least two good jets\")\n",
    "df_VBSjets = df_atleast2GoodJets.Define(\"VBSJet_idx\", \"SelectVBSJets_tagger_mjj_absdeltaetajj_new(Jet_pt, Jet_eta, Jet_phi, Jet_mass, Jet_area, Jet_chHEF, Jet_muEF, Jet_neEmEF, Jet_neHEF, Jet_jetId, Jet_nConstituents, Jet_nElectrons, Jet_nMuons, GoodJets_idx)\")\n",
    "df_2VBSjets = df_VBSjets.Filter(\"VBSJet_idx[0] != VBSJet_idx[1]\", \"2 VBS jets\").Define(\"mjj\", \"GetInvMass(Jet_pt, Jet_eta, Jet_phi, Jet_mass, VBSJet_idx)\").Filter(\"mjj>500\", \"Good invariant mass\").Define(\"Leadingjet_eta\", \"GetLeading(Jet_eta, VBSJet_idx)\").Define(\"SubLeadingjet_eta\", \"GetSubLeading(Jet_eta, VBSJet_idx)\").Filter(\"abs(Leadingjet_eta - SubLeadingjet_eta) > 2.5\", \"Good deltaEta\")\n",
    "df_defineGenMatching = df_2VBSjets.Define(\"leadjet_IsGenMatched\", \"IsGenMatched(GenJet_idx[0], Jet_genJetIdx[VBSJet_idx[0]])\")\\\n",
    "                                         .Define(\"subleadjet_IsGenMatched\", \"IsGenMatched(GenJet_idx[1], Jet_genJetIdx[VBSJet_idx[1]])\")\\\n",
    "                                         #.Filter(\"HLT_IsoMu27 || HLT_Mu50 || HLT_Ele35_WPTight_Gsf || HLT_Ele32_WPTight_Gsf_L1DoubleEG || HLT_Photon200\", \"Leptonic trigger\")\n",
    "df_Genmatched = df_defineGenMatching.Filter(\"leadjet_IsGenMatched == 1 && subleadjet_IsGenMatched == 1\", \"Genmatching\")"
   ]
  },
  {
   "cell_type": "code",
   "execution_count": 6,
   "id": "09f01737-5184-4905-aa8b-d58721309c70",
   "metadata": {},
   "outputs": [
    {
     "name": "stdout",
     "output_type": "stream",
     "text": [
      "Good vertex selection: pass=152169     all=152299     -- eff=99.91 % cumulative eff=99.91 %\n",
      "Leptonic trigger: pass=152169     all=152169     -- eff=100.00 % cumulative eff=99.91 %\n",
      "At least two jets: pass=152168     all=152169     -- eff=100.00 % cumulative eff=99.91 %\n",
      "Problem with genParts or GenJets: pass=130331     all=152168     -- eff=85.65 % cumulative eff=85.58 %\n",
      "At least 2 GenJets: pass=130331     all=130331     -- eff=100.00 % cumulative eff=85.58 %\n",
      "At least two good jets: pass=127012     all=130331     -- eff=97.45 % cumulative eff=83.40 %\n",
      "2 VBS jets: pass=87368      all=127012     -- eff=68.79 % cumulative eff=57.37 %\n",
      "Good invariant mass: pass=87368      all=87368      -- eff=100.00 % cumulative eff=57.37 %\n",
      "Good deltaEta: pass=87367      all=87368      -- eff=100.00 % cumulative eff=57.37 %\n",
      "Genmatching: pass=63144      all=87367      -- eff=72.27 % cumulative eff=41.46 %\n"
     ]
    }
   ],
   "source": [
    "allCutsReport = df.Report()\n",
    "allCutsReport.Print()"
   ]
  },
  {
   "cell_type": "code",
   "execution_count": null,
   "id": "46d82314-c9be-4a36-893d-fddf9cee24d2",
   "metadata": {},
   "outputs": [],
   "source": []
  },
  {
   "cell_type": "code",
   "execution_count": null,
   "id": "5eed3c8d-5fcb-4748-a1a5-b410ec7a1b22",
   "metadata": {},
   "outputs": [],
   "source": []
  },
  {
   "cell_type": "code",
   "execution_count": null,
   "id": "e3dafccb-b9ee-43fe-ac96-41e5edf1c678",
   "metadata": {},
   "outputs": [],
   "source": []
  },
  {
   "cell_type": "code",
   "execution_count": null,
   "id": "7b90ff23-de8b-4f7b-84c1-61adfcf6d1be",
   "metadata": {},
   "outputs": [],
   "source": []
  },
  {
   "cell_type": "code",
   "execution_count": null,
   "id": "36af235b-8869-4ad3-a9ee-a5a72861e27d",
   "metadata": {},
   "outputs": [],
   "source": []
  },
  {
   "cell_type": "code",
   "execution_count": null,
   "id": "c03eafdb-876c-4ca4-b799-45641b87164f",
   "metadata": {},
   "outputs": [],
   "source": []
  },
  {
   "cell_type": "code",
   "execution_count": 18,
   "id": "f43f1caa-d636-4352-8a32-5862608da40e",
   "metadata": {},
   "outputs": [],
   "source": [
    "#df = ROOT.RDataFrame(\"Events\", \"VBS_SSWW_LL/AA101ED1-3427-E44D-9D6E-82569A5A589C.root \")\n",
    "df = ROOT.RDataFrame(\"Events\",chain)\n",
    "#df = ROOT.RDataFrame(\"Events\", \"root://cms-xrd-global.cern.ch//store/user/ttedesch/VBS_PG/VBS_SSWW_LL_polarization_TuneCP5_13TeV-madgraph-pythia8/VBS_SSWW_LL_SM_2017/210908_151157/0000/tree_hadd_2.root\",)\n",
    "df_goodvertex = df.Filter(\"Flag_goodVertices && Flag_globalSuperTightHalo2016Filter && Flag_HBHENoiseFilter && Flag_HBHENoiseIsoFilter && Flag_EcalDeadCellTriggerPrimitiveFilter && Flag_BadPFMuonFilter && Flag_ecalBadCalibFilterV2\", \"Good vertex selection\")\n",
    "df_trigger = df_goodvertex.Filter(\"HLT_IsoMu27 || HLT_Mu50 || HLT_Ele35_WPTight_Gsf || HLT_Ele32_WPTight_Gsf_L1DoubleEG || HLT_Photon200\", \"Leptonic trigger\")\n",
    "df_atleast2Jets = df_trigger.Filter(\"nJet>=2\", \"At least two jets\")\n",
    "df_GenJets = df_atleast2Jets.Define(\"GenJet_idx\", \"SelectVBSQGenJet_FlavourMatching(GenPart_pdgId, GenPart_genPartIdxMother, GenPart_pt, GenPart_eta, GenJet_partonFlavour, GenJet_pt, GenJet_eta)\")\n",
    "df_GenJets_filtered = df_GenJets.Filter(\"GenJet_idx[0] != -9999\", \"Problem with genParts or GenJets\")\n",
    "df_atleast2GenJets = df_GenJets_filtered.Filter(\"atleast2Jets(GenJet_idx)\",\"At least 2 GenJets\")\n",
    "df_GoodJets = df_atleast2GenJets.Define(\"GoodJets_idx\", \"GoodJets(Jet_jetId, Jet_eta, Jet_pt, Jet_puId)\")\n",
    "df_atleast2GoodJets = df_GoodJets.Filter(\"atleast2GoodJets(GoodJets_idx)\", \"At least two good jets\")\n",
    "df_VBSjets = df_atleast2GoodJets.Define(\"VBSJet_idx\", \"SelectVBSJets_invmass(Jet_pt, Jet_eta, Jet_phi, Jet_mass, GoodJets_idx)\")\n",
    "df_2VBSjets = df_VBSjets.Filter(\"VBSJet_idx[0] != VBSJet_idx[1]\", \"2 VBS jets\").Define(\"mjj\", \"GetInvMass(Jet_pt, Jet_eta, Jet_phi, Jet_mass, VBSJet_idx)\").Filter(\"mjj>500\", \"Good invariant mass\").Define(\"Leadingjet_eta\", \"GetLeading(Jet_eta, VBSJet_idx)\").Define(\"SubLeadingjet_eta\", \"GetSubLeading(Jet_eta, VBSJet_idx)\").Filter(\"abs(Leadingjet_eta - SubLeadingjet_eta) > 2.5\", \"Good deltaEta\")\n",
    "df_defineGenMatching = df_2VBSjets.Define(\"leadjet_IsGenMatched\", \"IsGenMatched(GenJet_idx[0], Jet_genJetIdx[VBSJet_idx[0]])\")\\\n",
    "                                         .Define(\"subleadjet_IsGenMatched\", \"IsGenMatched(GenJet_idx[1], Jet_genJetIdx[VBSJet_idx[1]])\")\\\n",
    "                                         #.Filter(\"HLT_IsoMu27 || HLT_Mu50 || HLT_Ele35_WPTight_Gsf || HLT_Ele32_WPTight_Gsf_L1DoubleEG || HLT_Photon200\", \"Leptonic trigger\")\n",
    "df_Genmatched = df_defineGenMatching.Filter(\"leadjet_IsGenMatched == 1 && subleadjet_IsGenMatched == 1\", \"Genmatching\")"
   ]
  },
  {
   "cell_type": "code",
   "execution_count": 19,
   "id": "a9f08514-de8a-45ea-a393-b284747d7f8b",
   "metadata": {},
   "outputs": [
    {
     "name": "stdout",
     "output_type": "stream",
     "text": [
      "Good vertex selection: pass=152169     all=152299     -- eff=99.91 % cumulative eff=99.91 %\n",
      "Leptonic trigger: pass=152169     all=152169     -- eff=100.00 % cumulative eff=99.91 %\n",
      "At least two jets: pass=152168     all=152169     -- eff=100.00 % cumulative eff=99.91 %\n",
      "Problem with genParts or GenJets: pass=56820      all=152168     -- eff=37.34 % cumulative eff=37.31 %\n",
      "At least 2 GenJets: pass=56820      all=56820      -- eff=100.00 % cumulative eff=37.31 %\n",
      "At least two good jets: pass=54805      all=56820      -- eff=96.45 % cumulative eff=35.99 %\n",
      "2 VBS jets: pass=42196      all=54805      -- eff=76.99 % cumulative eff=27.71 %\n",
      "Good invariant mass: pass=34754      all=42196      -- eff=82.36 % cumulative eff=22.82 %\n",
      "Good deltaEta: pass=34753      all=34754      -- eff=100.00 % cumulative eff=22.82 %\n",
      "Genmatching: pass=25253      all=34753      -- eff=72.66 % cumulative eff=16.58 %\n"
     ]
    }
   ],
   "source": [
    "allCutsReport = df.Report()\n",
    "allCutsReport.Print()"
   ]
  },
  {
   "cell_type": "code",
   "execution_count": 20,
   "id": "0c183897-2415-40de-a4eb-bcbc3bcc594f",
   "metadata": {},
   "outputs": [],
   "source": [
    "#df = ROOT.RDataFrame(\"Events\", \"VBS_SSWW_LL/AA101ED1-3427-E44D-9D6E-82569A5A589C.root \")\n",
    "df = ROOT.RDataFrame(\"Events\",chain)\n",
    "#df = ROOT.RDataFrame(\"Events\", \"root://cms-xrd-global.cern.ch//store/user/ttedesch/VBS_PG/VBS_SSWW_LL_polarization_TuneCP5_13TeV-madgraph-pythia8/VBS_SSWW_LL_SM_2017/210908_151157/0000/tree_hadd_2.root\",)\n",
    "df_goodvertex = df.Filter(\"Flag_goodVertices && Flag_globalSuperTightHalo2016Filter && Flag_HBHENoiseFilter && Flag_HBHENoiseIsoFilter && Flag_EcalDeadCellTriggerPrimitiveFilter && Flag_BadPFMuonFilter && Flag_ecalBadCalibFilterV2\", \"Good vertex selection\")\n",
    "df_trigger = df_goodvertex.Filter(\"HLT_IsoMu27 || HLT_Mu50 || HLT_Ele35_WPTight_Gsf || HLT_Ele32_WPTight_Gsf_L1DoubleEG || HLT_Photon200\", \"Leptonic trigger\")\n",
    "df_atleast2Jets = df_trigger.Filter(\"nJet>=2\", \"At least two jets\")\n",
    "df_GenJets = df_atleast2Jets.Define(\"GenJet_idx\", \"SelectVBSQGenJet_FlavourMatching(GenPart_pdgId, GenPart_genPartIdxMother, GenPart_pt, GenPart_eta, GenJet_partonFlavour, GenJet_pt, GenJet_eta)\")\n",
    "df_GenJets_filtered = df_GenJets.Filter(\"GenJet_idx[0] != -9999\", \"Problem with genParts or GenJets\")\n",
    "df_atleast2GenJets = df_GenJets_filtered.Filter(\"atleast2Jets(GenJet_idx)\",\"At least 2 GenJets\")\n",
    "df_GoodJets = df_atleast2GenJets.Define(\"GoodJets_idx\", \"GoodJets(Jet_jetId, Jet_eta, Jet_pt, Jet_puId)\")\n",
    "df_atleast2GoodJets = df_GoodJets.Filter(\"atleast2GoodJets(GoodJets_idx)\", \"At least two good jets\")\n",
    "df_VBSjets = df_atleast2GoodJets.Define(\"VBSJet_idx\", \"SelectVBSJets_tagger(Jet_pt, Jet_eta, Jet_phi, Jet_mass, Jet_area, Jet_chHEF, Jet_muEF, Jet_neEmEF, Jet_neHEF, Jet_jetId, Jet_nConstituents, Jet_nElectrons, Jet_nMuons, GoodJets_idx)\")\n",
    "df_2VBSjets = df_VBSjets.Filter(\"VBSJet_idx[0] != VBSJet_idx[1]\", \"2 VBS jets\").Define(\"mjj\", \"GetInvMass(Jet_pt, Jet_eta, Jet_phi, Jet_mass, VBSJet_idx)\").Filter(\"mjj>500\", \"Good invariant mass\").Define(\"Leadingjet_eta\", \"GetLeading(Jet_eta, VBSJet_idx)\").Define(\"SubLeadingjet_eta\", \"GetSubLeading(Jet_eta, VBSJet_idx)\").Filter(\"abs(Leadingjet_eta - SubLeadingjet_eta) > 2.5\", \"Good deltaEta\")\n",
    "df_defineGenMatching = df_2VBSjets.Define(\"leadjet_IsGenMatched\", \"IsGenMatched(GenJet_idx[0], Jet_genJetIdx[VBSJet_idx[0]])\")\\\n",
    "                                         .Define(\"subleadjet_IsGenMatched\", \"IsGenMatched(GenJet_idx[1], Jet_genJetIdx[VBSJet_idx[1]])\")\\\n",
    "                                         #.Filter(\"HLT_IsoMu27 || HLT_Mu50 || HLT_Ele35_WPTight_Gsf || HLT_Ele32_WPTight_Gsf_L1DoubleEG || HLT_Photon200\", \"Leptonic trigger\")\n",
    "df_Genmatched = df_defineGenMatching.Filter(\"leadjet_IsGenMatched == 1 && subleadjet_IsGenMatched == 1\", \"Genmatching\")"
   ]
  },
  {
   "cell_type": "code",
   "execution_count": 21,
   "id": "1089f63c-cd5f-4ac8-b8d0-cdab410df815",
   "metadata": {},
   "outputs": [
    {
     "name": "stdout",
     "output_type": "stream",
     "text": [
      "Good vertex selection: pass=152169     all=152299     -- eff=99.91 % cumulative eff=99.91 %\n",
      "Leptonic trigger: pass=152169     all=152169     -- eff=100.00 % cumulative eff=99.91 %\n",
      "At least two jets: pass=152168     all=152169     -- eff=100.00 % cumulative eff=99.91 %\n",
      "Problem with genParts or GenJets: pass=56820      all=152168     -- eff=37.34 % cumulative eff=37.31 %\n",
      "At least 2 GenJets: pass=56820      all=56820      -- eff=100.00 % cumulative eff=37.31 %\n",
      "At least two good jets: pass=54805      all=56820      -- eff=96.45 % cumulative eff=35.99 %\n",
      "2 VBS jets: pass=34754      all=54805      -- eff=63.41 % cumulative eff=22.82 %\n",
      "Good invariant mass: pass=34754      all=34754      -- eff=100.00 % cumulative eff=22.82 %\n",
      "Good deltaEta: pass=34753      all=34754      -- eff=100.00 % cumulative eff=22.82 %\n",
      "Genmatching: pass=25923      all=34753      -- eff=74.59 % cumulative eff=17.02 %\n"
     ]
    }
   ],
   "source": [
    "allCutsReport = df.Report()\n",
    "allCutsReport.Print()"
   ]
  },
  {
   "cell_type": "code",
   "execution_count": 22,
   "id": "fdfd0615-818b-4432-a0ab-73aad2fde625",
   "metadata": {},
   "outputs": [],
   "source": [
    "#df = ROOT.RDataFrame(\"Events\", \"VBS_SSWW_LL/AA101ED1-3427-E44D-9D6E-82569A5A589C.root \")\n",
    "df = ROOT.RDataFrame(\"Events\",chain)\n",
    "#df = ROOT.RDataFrame(\"Events\", \"root://cms-xrd-global.cern.ch//store/user/ttedesch/VBS_PG/VBS_SSWW_LL_polarization_TuneCP5_13TeV-madgraph-pythia8/VBS_SSWW_LL_SM_2017/210908_151157/0000/tree_hadd_2.root\",)\n",
    "df_goodvertex = df.Filter(\"Flag_goodVertices && Flag_globalSuperTightHalo2016Filter && Flag_HBHENoiseFilter && Flag_HBHENoiseIsoFilter && Flag_EcalDeadCellTriggerPrimitiveFilter && Flag_BadPFMuonFilter && Flag_ecalBadCalibFilterV2\", \"Good vertex selection\")\n",
    "df_trigger = df_goodvertex.Filter(\"HLT_IsoMu27 || HLT_Mu50 || HLT_Ele35_WPTight_Gsf || HLT_Ele32_WPTight_Gsf_L1DoubleEG || HLT_Photon200\", \"Leptonic trigger\")\n",
    "df_atleast2Jets = df_trigger.Filter(\"nJet>=2\", \"At least two jets\")\n",
    "df_GenJets = df_atleast2Jets.Define(\"GenJet_idx\", \"SelectVBSQGenJet_FlavourMatching(GenPart_pdgId, GenPart_genPartIdxMother, GenPart_pt, GenPart_eta, GenJet_partonFlavour, GenJet_pt, GenJet_eta)\")\n",
    "df_GenJets_filtered = df_GenJets.Filter(\"GenJet_idx[0] != -9999\", \"Problem with genParts or GenJets\")\n",
    "df_atleast2GenJets = df_GenJets_filtered.Filter(\"atleast2Jets(GenJet_idx)\",\"At least 2 GenJets\")\n",
    "df_GoodJets = df_atleast2GenJets.Define(\"GoodJets_idx\", \"GoodJets(Jet_jetId, Jet_eta, Jet_pt, Jet_puId)\")\n",
    "df_atleast2GoodJets = df_GoodJets.Filter(\"atleast2GoodJets(GoodJets_idx)\", \"At least two good jets\")\n",
    "df_VBSjets = df_atleast2GoodJets.Define(\"VBSJet_idx\", \"SelectVBSJets_tagger_mjj(Jet_pt, Jet_eta, Jet_phi, Jet_mass, Jet_area, Jet_chHEF, Jet_muEF, Jet_neEmEF, Jet_neHEF, Jet_jetId, Jet_nConstituents, Jet_nElectrons, Jet_nMuons, GoodJets_idx)\")\n",
    "df_2VBSjets = df_VBSjets.Filter(\"VBSJet_idx[0] != VBSJet_idx[1]\", \"2 VBS jets\").Define(\"mjj\", \"GetInvMass(Jet_pt, Jet_eta, Jet_phi, Jet_mass, VBSJet_idx)\").Filter(\"mjj>500\", \"Good invariant mass\").Define(\"Leadingjet_eta\", \"GetLeading(Jet_eta, VBSJet_idx)\").Define(\"SubLeadingjet_eta\", \"GetSubLeading(Jet_eta, VBSJet_idx)\").Filter(\"abs(Leadingjet_eta - SubLeadingjet_eta) > 2.5\", \"Good deltaEta\")\n",
    "df_defineGenMatching = df_2VBSjets.Define(\"leadjet_IsGenMatched\", \"IsGenMatched(GenJet_idx[0], Jet_genJetIdx[VBSJet_idx[0]])\")\\\n",
    "                                         .Define(\"subleadjet_IsGenMatched\", \"IsGenMatched(GenJet_idx[1], Jet_genJetIdx[VBSJet_idx[1]])\")\\\n",
    "                                         #.Filter(\"HLT_IsoMu27 || HLT_Mu50 || HLT_Ele35_WPTight_Gsf || HLT_Ele32_WPTight_Gsf_L1DoubleEG || HLT_Photon200\", \"Leptonic trigger\")\n",
    "df_Genmatched = df_defineGenMatching.Filter(\"leadjet_IsGenMatched == 1 && subleadjet_IsGenMatched == 1\", \"Genmatching\")"
   ]
  },
  {
   "cell_type": "code",
   "execution_count": 23,
   "id": "a9286a50-b3d3-4158-b089-dc23e05affe5",
   "metadata": {},
   "outputs": [
    {
     "name": "stdout",
     "output_type": "stream",
     "text": [
      "Good vertex selection: pass=152169     all=152299     -- eff=99.91 % cumulative eff=99.91 %\n",
      "Leptonic trigger: pass=152169     all=152169     -- eff=100.00 % cumulative eff=99.91 %\n",
      "At least two jets: pass=152168     all=152169     -- eff=100.00 % cumulative eff=99.91 %\n",
      "Problem with genParts or GenJets: pass=56820      all=152168     -- eff=37.34 % cumulative eff=37.31 %\n",
      "At least 2 GenJets: pass=56820      all=56820      -- eff=100.00 % cumulative eff=37.31 %\n",
      "At least two good jets: pass=54805      all=56820      -- eff=96.45 % cumulative eff=35.99 %\n",
      "2 VBS jets: pass=34754      all=54805      -- eff=63.41 % cumulative eff=22.82 %\n",
      "Good invariant mass: pass=34754      all=34754      -- eff=100.00 % cumulative eff=22.82 %\n",
      "Good deltaEta: pass=34753      all=34754      -- eff=100.00 % cumulative eff=22.82 %\n",
      "Genmatching: pass=26542      all=34753      -- eff=76.37 % cumulative eff=17.43 %\n"
     ]
    }
   ],
   "source": [
    "allCutsReport = df.Report()\n",
    "allCutsReport.Print()"
   ]
  },
  {
   "cell_type": "code",
   "execution_count": 4,
   "id": "fdebc9b2-8929-43e4-80bb-9afd79882234",
   "metadata": {},
   "outputs": [
    {
     "name": "stderr",
     "output_type": "stream",
     "text": [
      "Warning in <TClass::Init>: no dictionary for class edm::Hash<1> is available\n",
      "Warning in <TClass::Init>: no dictionary for class edm::ProcessHistory is available\n",
      "Warning in <TClass::Init>: no dictionary for class edm::ProcessConfiguration is available\n",
      "Warning in <TClass::Init>: no dictionary for class edm::ParameterSetBlob is available\n",
      "Warning in <TClass::Init>: no dictionary for class pair<edm::Hash<1>,edm::ParameterSetBlob> is available\n"
     ]
    }
   ],
   "source": [
    "#df = ROOT.RDataFrame(\"Events\", \"VBS_SSWW_LL/AA101ED1-3427-E44D-9D6E-82569A5A589C.root \")\n",
    "df = ROOT.RDataFrame(\"Events\",chain)\n",
    "#df = ROOT.RDataFrame(\"Events\", \"root://cms-xrd-global.cern.ch//store/user/ttedesch/VBS_PG/VBS_SSWW_LL_polarization_TuneCP5_13TeV-madgraph-pythia8/VBS_SSWW_LL_SM_2017/210908_151157/0000/tree_hadd_2.root\",)\n",
    "df_goodvertex = df.Filter(\"Flag_goodVertices && Flag_globalSuperTightHalo2016Filter && Flag_HBHENoiseFilter && Flag_HBHENoiseIsoFilter && Flag_EcalDeadCellTriggerPrimitiveFilter && Flag_BadPFMuonFilter && Flag_ecalBadCalibFilterV2\", \"Good vertex selection\")\n",
    "df_trigger = df_goodvertex.Filter(\"HLT_IsoMu27 || HLT_Mu50 || HLT_Ele35_WPTight_Gsf || HLT_Ele32_WPTight_Gsf_L1DoubleEG || HLT_Photon200\", \"Leptonic trigger\")\n",
    "df_atleast2Jets = df_trigger.Filter(\"nJet>=2\", \"At least two jets\")\n",
    "df_GenJets = df_atleast2Jets.Define(\"GenJet_idx\", \"SelectVBSQGenJet_FlavourMatching(GenPart_pdgId, GenPart_genPartIdxMother, GenPart_pt, GenPart_eta, GenJet_partonFlavour, GenJet_pt, GenJet_eta)\")\n",
    "df_GenJets_filtered = df_GenJets.Filter(\"GenJet_idx[0] != -9999\", \"Problem with genParts or GenJets\")\n",
    "df_atleast2GenJets = df_GenJets_filtered.Filter(\"atleast2Jets(GenJet_idx)\",\"At least 2 GenJets\")\n",
    "df_GoodJets = df_atleast2GenJets.Define(\"GoodJets_idx\", \"GoodJets(Jet_jetId, Jet_eta, Jet_pt, Jet_puId)\")\n",
    "df_atleast2GoodJets = df_GoodJets.Filter(\"atleast2GoodJets(GoodJets_idx)\", \"At least two good jets\")\n",
    "df_VBSjets = df_atleast2GoodJets.Define(\"VBSJet_idx\", \"SelectVBSJets_tagger_mjj_absdeltaetajj_flavourmatching(Jet_pt, Jet_eta, Jet_phi, Jet_mass, Jet_area, Jet_chHEF, Jet_muEF, Jet_neEmEF, Jet_neHEF, Jet_jetId, Jet_nConstituents, Jet_nElectrons, Jet_nMuons, GoodJets_idx)\")\n",
    "df_2VBSjets = df_VBSjets.Filter(\"VBSJet_idx[0] != VBSJet_idx[1]\", \"2 VBS jets\").Define(\"mjj\", \"GetInvMass(Jet_pt, Jet_eta, Jet_phi, Jet_mass, VBSJet_idx)\").Filter(\"mjj>500\", \"Good invariant mass\").Define(\"Leadingjet_eta\", \"GetLeading(Jet_eta, VBSJet_idx)\").Define(\"SubLeadingjet_eta\", \"GetSubLeading(Jet_eta, VBSJet_idx)\").Filter(\"abs(Leadingjet_eta - SubLeadingjet_eta) > 2.5\", \"Good deltaEta\")\n",
    "df_defineGenMatching = df_2VBSjets.Define(\"leadjet_IsGenMatched\", \"IsGenMatched(GenJet_idx[0], Jet_genJetIdx[VBSJet_idx[0]])\")\\\n",
    "                                         .Define(\"subleadjet_IsGenMatched\", \"IsGenMatched(GenJet_idx[1], Jet_genJetIdx[VBSJet_idx[1]])\")\\\n",
    "                                         #.Filter(\"HLT_IsoMu27 || HLT_Mu50 || HLT_Ele35_WPTight_Gsf || HLT_Ele32_WPTight_Gsf_L1DoubleEG || HLT_Photon200\", \"Leptonic trigger\")\n",
    "df_Genmatched = df_defineGenMatching.Filter(\"leadjet_IsGenMatched == 1 && subleadjet_IsGenMatched == 1\", \"Genmatching\")"
   ]
  },
  {
   "cell_type": "code",
   "execution_count": 5,
   "id": "5d86cf25-c5ba-45a8-956f-d2f59e5bafe4",
   "metadata": {},
   "outputs": [
    {
     "name": "stdout",
     "output_type": "stream",
     "text": [
      "Good vertex selection: pass=152169     all=152299     -- eff=99.91 % cumulative eff=99.91 %\n",
      "Leptonic trigger: pass=152169     all=152169     -- eff=100.00 % cumulative eff=99.91 %\n",
      "At least two jets: pass=152168     all=152169     -- eff=100.00 % cumulative eff=99.91 %\n",
      "Problem with genParts or GenJets: pass=56820      all=152168     -- eff=37.34 % cumulative eff=37.31 %\n",
      "At least 2 GenJets: pass=56820      all=56820      -- eff=100.00 % cumulative eff=37.31 %\n",
      "At least two good jets: pass=54805      all=56820      -- eff=96.45 % cumulative eff=35.99 %\n",
      "2 VBS jets: pass=34754      all=54805      -- eff=63.41 % cumulative eff=22.82 %\n",
      "Good invariant mass: pass=34754      all=34754      -- eff=100.00 % cumulative eff=22.82 %\n",
      "Good deltaEta: pass=34753      all=34754      -- eff=100.00 % cumulative eff=22.82 %\n",
      "Genmatching: pass=26767      all=34753      -- eff=77.02 % cumulative eff=17.58 %\n"
     ]
    }
   ],
   "source": [
    "allCutsReport = df.Report()\n",
    "allCutsReport.Print()"
   ]
  },
  {
   "cell_type": "code",
   "execution_count": 4,
   "id": "381c90be-7567-4695-98b1-39afec11d28a",
   "metadata": {},
   "outputs": [
    {
     "name": "stderr",
     "output_type": "stream",
     "text": [
      "Warning in <TClass::Init>: no dictionary for class edm::Hash<1> is available\n",
      "Warning in <TClass::Init>: no dictionary for class edm::ProcessHistory is available\n",
      "Warning in <TClass::Init>: no dictionary for class edm::ProcessConfiguration is available\n",
      "Warning in <TClass::Init>: no dictionary for class edm::ParameterSetBlob is available\n",
      "Warning in <TClass::Init>: no dictionary for class pair<edm::Hash<1>,edm::ParameterSetBlob> is available\n"
     ]
    }
   ],
   "source": [
    "#df = ROOT.RDataFrame(\"Events\", \"VBS_SSWW_LL/AA101ED1-3427-E44D-9D6E-82569A5A589C.root \")\n",
    "df = ROOT.RDataFrame(\"Events\",chain)\n",
    "#df = ROOT.RDataFrame(\"Events\", \"root://cms-xrd-global.cern.ch//store/user/ttedesch/VBS_PG/VBS_SSWW_LL_polarization_TuneCP5_13TeV-madgraph-pythia8/VBS_SSWW_LL_SM_2017/210908_151157/0000/tree_hadd_2.root\",)\n",
    "df_goodvertex = df.Filter(\"Flag_goodVertices && Flag_globalSuperTightHalo2016Filter && Flag_HBHENoiseFilter && Flag_HBHENoiseIsoFilter && Flag_EcalDeadCellTriggerPrimitiveFilter && Flag_BadPFMuonFilter && Flag_ecalBadCalibFilterV2\", \"Good vertex selection\")\n",
    "df_trigger = df_goodvertex.Filter(\"HLT_IsoMu27 || HLT_Mu50 || HLT_Ele35_WPTight_Gsf || HLT_Ele32_WPTight_Gsf_L1DoubleEG || HLT_Photon200\", \"Leptonic trigger\")\n",
    "df_atleast2Jets = df_trigger.Filter(\"nJet>=2\", \"At least two jets\")\n",
    "df_GenJets = df_atleast2Jets.Define(\"GenJet_idx\", \"SelectVBSQGenJet_FlavourMatching(GenPart_pdgId, GenPart_genPartIdxMother, GenPart_pt, GenPart_eta, GenJet_partonFlavour, GenJet_pt, GenJet_eta)\")\n",
    "df_GenJets_filtered = df_GenJets.Filter(\"GenJet_idx[0] != -9999\", \"Problem with genParts or GenJets\")\n",
    "df_atleast2GenJets = df_GenJets_filtered.Filter(\"atleast2Jets(GenJet_idx)\",\"At least 2 GenJets\")\n",
    "df_GoodJets = df_atleast2GenJets.Define(\"GoodJets_idx\", \"GoodJets(Jet_jetId, Jet_eta, Jet_pt, Jet_puId)\")\n",
    "df_atleast2GoodJets = df_GoodJets.Filter(\"atleast2GoodJets(GoodJets_idx)\", \"At least two good jets\")\n",
    "df_VBSjets = df_atleast2GoodJets.Define(\"VBSJet_idx\", \"SelectVBSJets_tagger_mjj_absdeltaetajj_flavourmatching_clean_fixed(Jet_pt, Jet_eta, Jet_phi, Jet_mass, Jet_area, Jet_chHEF, Jet_muEF, Jet_neEmEF, Jet_neHEF, Jet_jetId, Jet_nConstituents, Jet_nElectrons, Jet_nMuons, GoodJets_idx)\")\n",
    "df_2VBSjets = df_VBSjets.Filter(\"VBSJet_idx[0] != VBSJet_idx[1]\", \"2 VBS jets\").Define(\"mjj\", \"GetInvMass(Jet_pt, Jet_eta, Jet_phi, Jet_mass, VBSJet_idx)\").Filter(\"mjj>500\", \"Good invariant mass\").Define(\"Leadingjet_eta\", \"GetLeading(Jet_eta, VBSJet_idx)\").Define(\"SubLeadingjet_eta\", \"GetSubLeading(Jet_eta, VBSJet_idx)\").Filter(\"abs(Leadingjet_eta - SubLeadingjet_eta) > 2.5\", \"Good deltaEta\")\n",
    "df_defineGenMatching = df_2VBSjets.Define(\"leadjet_IsGenMatched\", \"IsGenMatched(GenJet_idx[0], Jet_genJetIdx[VBSJet_idx[0]])\")\\\n",
    "                                         .Define(\"subleadjet_IsGenMatched\", \"IsGenMatched(GenJet_idx[1], Jet_genJetIdx[VBSJet_idx[1]])\")\\\n",
    "                                         #.Filter(\"HLT_IsoMu27 || HLT_Mu50 || HLT_Ele35_WPTight_Gsf || HLT_Ele32_WPTight_Gsf_L1DoubleEG || HLT_Photon200\", \"Leptonic trigger\")\n",
    "df_Genmatched = df_defineGenMatching.Filter(\"leadjet_IsGenMatched == 1 && subleadjet_IsGenMatched == 1\", \"Genmatching\")"
   ]
  },
  {
   "cell_type": "code",
   "execution_count": 5,
   "id": "f666fb85-2df4-4908-9983-5e9616882cdf",
   "metadata": {},
   "outputs": [
    {
     "name": "stdout",
     "output_type": "stream",
     "text": [
      "Good vertex selection: pass=152169     all=152299     -- eff=99.91 % cumulative eff=99.91 %\n",
      "Leptonic trigger: pass=152169     all=152169     -- eff=100.00 % cumulative eff=99.91 %\n",
      "At least two jets: pass=152168     all=152169     -- eff=100.00 % cumulative eff=99.91 %\n",
      "Problem with genParts or GenJets: pass=56820      all=152168     -- eff=37.34 % cumulative eff=37.31 %\n",
      "At least 2 GenJets: pass=56820      all=56820      -- eff=100.00 % cumulative eff=37.31 %\n",
      "At least two good jets: pass=54805      all=56820      -- eff=96.45 % cumulative eff=35.99 %\n",
      "2 VBS jets: pass=34754      all=54805      -- eff=63.41 % cumulative eff=22.82 %\n",
      "Good invariant mass: pass=34754      all=34754      -- eff=100.00 % cumulative eff=22.82 %\n",
      "Good deltaEta: pass=34753      all=34754      -- eff=100.00 % cumulative eff=22.82 %\n",
      "Genmatching: pass=26751      all=34753      -- eff=76.97 % cumulative eff=17.56 %\n"
     ]
    }
   ],
   "source": [
    "allCutsReport = df.Report()\n",
    "allCutsReport.Print()"
   ]
  },
  {
   "cell_type": "code",
   "execution_count": 5,
   "id": "6ca1874e-fef6-445e-9d41-9315cc932547",
   "metadata": {},
   "outputs": [
    {
     "name": "stderr",
     "output_type": "stream",
     "text": [
      "Warning in <TClass::Init>: no dictionary for class edm::Hash<1> is available\n",
      "Warning in <TClass::Init>: no dictionary for class edm::ProcessHistory is available\n",
      "Warning in <TClass::Init>: no dictionary for class edm::ProcessConfiguration is available\n",
      "Warning in <TClass::Init>: no dictionary for class edm::ParameterSetBlob is available\n",
      "Warning in <TClass::Init>: no dictionary for class pair<edm::Hash<1>,edm::ParameterSetBlob> is available\n"
     ]
    }
   ],
   "source": [
    "#df = ROOT.RDataFrame(\"Events\", \"VBS_SSWW_LL/AA101ED1-3427-E44D-9D6E-82569A5A589C.root \")\n",
    "df = ROOT.RDataFrame(\"Events\",chain)\n",
    "#df = ROOT.RDataFrame(\"Events\", \"root://cms-xrd-global.cern.ch//store/user/ttedesch/VBS_PG/VBS_SSWW_LL_polarization_TuneCP5_13TeV-madgraph-pythia8/VBS_SSWW_LL_SM_2017/210908_151157/0000/tree_hadd_2.root\",)\n",
    "df_goodvertex = df.Filter(\"Flag_goodVertices && Flag_globalSuperTightHalo2016Filter && Flag_HBHENoiseFilter && Flag_HBHENoiseIsoFilter && Flag_EcalDeadCellTriggerPrimitiveFilter && Flag_BadPFMuonFilter && Flag_ecalBadCalibFilterV2\", \"Good vertex selection\")\n",
    "df_trigger = df_goodvertex.Filter(\"HLT_IsoMu27 || HLT_Mu50 || HLT_Ele35_WPTight_Gsf || HLT_Ele32_WPTight_Gsf_L1DoubleEG || HLT_Photon200\", \"Leptonic trigger\")\n",
    "df_atleast2Jets = df_trigger.Filter(\"nJet>=2\", \"At least two jets\")\n",
    "df_GenJets = df_atleast2Jets.Define(\"GenJet_idx\", \"SelectVBSQGenJet_FlavourMatching(GenPart_pdgId, GenPart_genPartIdxMother, GenPart_pt, GenPart_eta, GenJet_partonFlavour, GenJet_pt, GenJet_eta)\")\n",
    "df_GenJets_filtered = df_GenJets.Filter(\"GenJet_idx[0] != -9999\", \"Problem with genParts or GenJets\")\n",
    "df_atleast2GenJets = df_GenJets_filtered.Filter(\"atleast2Jets(GenJet_idx)\",\"At least 2 GenJets\")\n",
    "df_GoodJets = df_atleast2GenJets.Define(\"GoodJets_idx\", \"GoodJets(Jet_jetId, Jet_eta, Jet_pt, Jet_puId)\")\n",
    "df_atleast2GoodJets = df_GoodJets.Filter(\"atleast2GoodJets(GoodJets_idx)\", \"At least two good jets\")\n",
    "df_VBSjets = df_atleast2GoodJets.Define(\"VBSJet_idx\", \"SelectVBSJets_tagger_mjj_absdeltaetajj_flavourmatching_clean_fixed_central(Jet_pt, Jet_eta, Jet_phi, Jet_mass, Jet_area, Jet_chHEF, Jet_muEF, Jet_neEmEF, Jet_neHEF, Jet_jetId, Jet_nConstituents, Jet_nElectrons, Jet_nMuons, GoodJets_idx, Electron_pt, Electron_eta, Electron_phi, Muon_pt, Muon_eta, Muon_phi)\")\n",
    "df_2VBSjets = df_VBSjets.Filter(\"VBSJet_idx[0] != VBSJet_idx[1]\", \"2 VBS jets\").Define(\"mjj\", \"GetInvMass(Jet_pt, Jet_eta, Jet_phi, Jet_mass, VBSJet_idx)\").Filter(\"mjj>500\", \"Good invariant mass\").Define(\"Leadingjet_eta\", \"GetLeading(Jet_eta, VBSJet_idx)\").Define(\"SubLeadingjet_eta\", \"GetSubLeading(Jet_eta, VBSJet_idx)\").Filter(\"abs(Leadingjet_eta - SubLeadingjet_eta) > 2.5\", \"Good deltaEta\")\n",
    "df_defineGenMatching = df_2VBSjets.Define(\"leadjet_IsGenMatched\", \"IsGenMatched(GenJet_idx[0], Jet_genJetIdx[VBSJet_idx[0]])\")\\\n",
    "                                         .Define(\"subleadjet_IsGenMatched\", \"IsGenMatched(GenJet_idx[1], Jet_genJetIdx[VBSJet_idx[1]])\")\\\n",
    "                                         #.Filter(\"HLT_IsoMu27 || HLT_Mu50 || HLT_Ele35_WPTight_Gsf || HLT_Ele32_WPTight_Gsf_L1DoubleEG || HLT_Photon200\", \"Leptonic trigger\")\n",
    "df_Genmatched = df_defineGenMatching.Filter(\"leadjet_IsGenMatched == 1 && subleadjet_IsGenMatched == 1\", \"Genmatching\")"
   ]
  },
  {
   "cell_type": "code",
   "execution_count": 6,
   "id": "42e0c05f-9ed8-4941-95ee-2eae9e7bc108",
   "metadata": {},
   "outputs": [
    {
     "name": "stdout",
     "output_type": "stream",
     "text": [
      "Good vertex selection: pass=152169     all=152299     -- eff=99.91 % cumulative eff=99.91 %\n",
      "Leptonic trigger: pass=152169     all=152169     -- eff=100.00 % cumulative eff=99.91 %\n",
      "At least two jets: pass=152168     all=152169     -- eff=100.00 % cumulative eff=99.91 %\n",
      "Problem with genParts or GenJets: pass=56820      all=152168     -- eff=37.34 % cumulative eff=37.31 %\n",
      "At least 2 GenJets: pass=56820      all=56820      -- eff=100.00 % cumulative eff=37.31 %\n",
      "At least two good jets: pass=54805      all=56820      -- eff=96.45 % cumulative eff=35.99 %\n",
      "2 VBS jets: pass=34754      all=54805      -- eff=63.41 % cumulative eff=22.82 %\n",
      "Good invariant mass: pass=34754      all=34754      -- eff=100.00 % cumulative eff=22.82 %\n",
      "Good deltaEta: pass=34753      all=34754      -- eff=100.00 % cumulative eff=22.82 %\n",
      "Genmatching: pass=26803      all=34753      -- eff=77.12 % cumulative eff=17.60 %\n"
     ]
    }
   ],
   "source": [
    "allCutsReport = df.Report()\n",
    "allCutsReport.Print()"
   ]
  },
  {
   "cell_type": "code",
   "execution_count": null,
   "id": "0a7e6832-5498-43bb-a820-061c0391e54c",
   "metadata": {},
   "outputs": [],
   "source": []
  }
 ],
 "metadata": {
  "kernelspec": {
   "display_name": "Python 3 (ipykernel)",
   "language": "python",
   "name": "python3"
  },
  "language_info": {
   "codemirror_mode": {
    "name": "ipython",
    "version": 3
   },
   "file_extension": ".py",
   "mimetype": "text/x-python",
   "name": "python",
   "nbconvert_exporter": "python",
   "pygments_lexer": "ipython3",
   "version": "3.9.7"
  }
 },
 "nbformat": 4,
 "nbformat_minor": 5
}
