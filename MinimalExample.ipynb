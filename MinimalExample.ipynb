{
 "cells": [
  {
   "cell_type": "markdown",
   "id": "cc67a159-90e3-48fe-b8a5-ffa680763e3f",
   "metadata": {},
   "source": [
    "## Deploy Dask cluster on HTCondor"
   ]
  },
  {
   "cell_type": "code",
   "execution_count": 1,
   "id": "0c83e0f2-4d0b-4fce-aa78-9e5141a4ca64",
   "metadata": {},
   "outputs": [],
   "source": [
    "from dask_remote_jobqueue import RemoteHTCondor\n",
    "cluster = RemoteHTCondor()"
   ]
  },
  {
   "cell_type": "markdown",
   "id": "7c4b02aa-67f9-4696-b61c-a2f8adc915c5",
   "metadata": {},
   "source": [
    "## Initialize the Dask client"
   ]
  },
  {
   "cell_type": "code",
   "execution_count": 2,
   "id": "3000f0b0-9924-4118-8026-7336b5166e44",
   "metadata": {},
   "outputs": [],
   "source": [
    "from dask.distributed import Client\n",
    "client = Client(address=\"tcp://127.0.0.1:\"+str(cluster.sched_port))"
   ]
  },
  {
   "cell_type": "markdown",
   "id": "15846523-918f-4a29-a2f5-6f28f34f0cfa",
   "metadata": {},
   "source": [
    "## Declare your custom functions inside an initialization function"
   ]
  },
  {
   "cell_type": "code",
   "execution_count": 3,
   "id": "96416631-f907-4157-acc5-95d667635f82",
   "metadata": {},
   "outputs": [
    {
     "name": "stdout",
     "output_type": "stream",
     "text": [
      "Welcome to JupyROOT 6.25/01\n"
     ]
    }
   ],
   "source": [
    "import ROOT\n",
    "\n",
    "def my_initialization_function():\n",
    "  ROOT.gInterpreter.Declare(\"\"\"\n",
    "  #include \"ROOT/RVec.hxx\"\n",
    "  using namespace ROOT::VecOps;\n",
    "  \n",
    "  size_t SelectGoodMuons(const RVec<float> &pt){\n",
    "    size_t n = 0;\n",
    "    for (size_t i = 0; i < pt.size(); i++) {\n",
    "        if (pt[i] > 50) n++;\n",
    "    }\n",
    "    return n;\n",
    "  }\n",
    "  \"\"\")\n",
    "\n",
    "#### you can also declare functions inside a myfunctions.h file like this: #####\n",
    "# text_file = open(\"myfunctions.h\", \"r\")\n",
    "# data = text_file.read()\n",
    "# def my_initialization_function():\n",
    "#    ROOT.gInterpreter.Declare('{}'.format(data))\n",
    "\n",
    "ROOT.RDF.Experimental.Distributed.initialize(my_initialization_function)"
   ]
  },
  {
   "cell_type": "markdown",
   "id": "30bf639e-8aa1-4faf-b3ed-13442243ffdf",
   "metadata": {},
   "source": [
    "## Create DataFrame and book actions and transformations"
   ]
  },
  {
   "cell_type": "code",
   "execution_count": 4,
   "id": "eb9be544-abac-4741-85a1-4ac9e4a5d01a",
   "metadata": {},
   "outputs": [],
   "source": [
    "import ROOT \n",
    " \n",
    "# Create dataframe from NanoAOD files\n",
    "df = ROOT.RDF.Experimental.Distributed.Dask.RDataFrame(\"Events\", \"https://ttedesch.web.cern.ch/ttedesch/cms_opendata_2012_nanoaod_skimmed/Run2012C_DoubleMuParked.root\", npartitions=1, daskclient=client)\n",
    "df_defined = df.Define(\"nMuons_over50\", \"SelectGoodMuons(Muon_pt)\")\n",
    "df_filtered = df_defined.Filter(\"nMuons_over50 > 0\", \"Filter events with at least 1 muon with pt>50 GeV\")\n",
    "h = df_filtered.Histo1D((\"nMuons_over50\",\"nMuons_over50; nMuons_over50 ;N_{Events}\",5,0,5),\"nMuons_over50\")"
   ]
  },
  {
   "cell_type": "markdown",
   "id": "20427df0-e93c-4c16-a3da-1b865c65dbee",
   "metadata": {},
   "source": [
    "## Draw histo (the event loop is triggered here)"
   ]
  },
  {
   "cell_type": "code",
   "execution_count": 5,
   "id": "35b8075c-89d5-4407-953d-7b10180dcbda",
   "metadata": {},
   "outputs": [
    {
     "data": {
      "image/png": "[encoded data removed]",
      "text/plain": [
       "<IPython.core.display.Image object>"
      ]
     },
     "metadata": {},
     "output_type": "display_data"
    }
   ],
   "source": [
    "ROOT.gStyle.SetOptStat(0); ROOT.gStyle.SetTextFont(42)\n",
    "c = ROOT.TCanvas(\"c\", \"\", 800, 700)\n",
    "h.SetTitle(\"\")\n",
    "h.GetXaxis().SetTitleSize(0.04)\n",
    "h.GetYaxis().SetTitleSize(0.04)\n",
    "h.Draw()\n",
    "c.Draw()"
   ]
  }
 ],
 "metadata": {
  "kernelspec": {
   "display_name": "Python 3",
   "language": "python",
   "name": "python3"
  },
  "language_info": {
   "codemirror_mode": {
    "name": "ipython",
    "version": 3
   },
   "file_extension": ".py",
   "mimetype": "text/x-python",
   "name": "python",
   "nbconvert_exporter": "python",
   "pygments_lexer": "ipython3",
   "version": "3.6.8"
  }
 },
 "nbformat": 4,
 "nbformat_minor": 5
}
